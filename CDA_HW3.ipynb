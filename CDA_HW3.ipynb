{
 "cells": [
  {
   "cell_type": "markdown",
   "id": "d8f72b74",
   "metadata": {},
   "source": [
    "# Categorical Data Analysis\n",
    "\n",
    "## Homework 3"
   ]
  },
  {
   "cell_type": "code",
   "execution_count": null,
   "id": "a55aede7",
   "metadata": {},
   "outputs": [],
   "source": [
    "from datascience import *\n",
    "import numpy as np\n",
    "\n",
    "%matplotlib inline\n",
    "import matplotlib.pyplot as plots\n",
    "plots.style.use('fivethirtyeight')\n",
    "\n",
    "import scipy.stats as stats\n",
    "\n",
    "import warnings\n",
    "warnings.simplefilter(action=\"ignore\", category=FutureWarning)\n",
    "warnings.simplefilter(action=\"ignore\", category=np.VisibleDeprecationWarning)\n",
    "\n",
    "mushrooms =Table.read_table(\"mushrooms.csv\")\n",
    "\n",
    "mushrooms"
   ]
  },
  {
   "cell_type": "markdown",
   "id": "50f0e603",
   "metadata": {},
   "source": [
    "### Section 1:  Mushrooms and Chi-Squared Test\n",
    "\n",
    "Suppose someone was convinced that you can tell if a mushroom is poisonous just by looking at the gills.  If the gills are \"f\" then we'll consider the mushroom edible or \"e\".  This [mushroom](https://archive.ics.uci.edu/dataset/73/mushroom) data set came from the UCI Machine Learning Repository.  In homework 2, we already established that this is not a reliable way to identify edible mushrooms.  Is there *at least a relationship* between gills and edibility with mushrooms.  "
   ]
  },
  {
   "cell_type": "code",
   "execution_count": null,
   "id": "be638c51",
   "metadata": {},
   "outputs": [],
   "source": [
    "mushrooms.pivot(\"Poisonous\", \"GillAttachment\")"
   ]
  },
  {
   "cell_type": "markdown",
   "id": "cf088bc1",
   "metadata": {},
   "source": [
    "**Question 1.1** It would be great if `chi2_contingency` would accept the output of `.pivot`, but it doesn't.  It's a data type issue, it's best to be pragmatic about these thing; don't fret about why they don't work and just figure out the work-around.  In this case, the work-around is to put this table into an array.  \n",
    "\n",
    "Use `np.array` to create the expected table you need to run a $\\chi^2$-test for independence.  Call it **mush_gill_obs**.     \n"
   ]
  },
  {
   "cell_type": "code",
   "execution_count": null,
   "id": "1f8cb233",
   "metadata": {},
   "outputs": [],
   "source": [
    "mush_gill_obs = ...\n",
    "mush_gill_obs"
   ]
  },
  {
   "cell_type": "markdown",
   "id": "b7916660",
   "metadata": {},
   "source": [
    "**Question 1.2** Run the $\\chi^2$ test to see if there is at least a relationship between gill attachment and edibility."
   ]
  },
  {
   "cell_type": "code",
   "execution_count": null,
   "id": "41798302",
   "metadata": {},
   "outputs": [],
   "source": [
    "..."
   ]
  },
  {
   "cell_type": "markdown",
   "id": "bcc0a94a",
   "metadata": {},
   "source": [
    "**Question 1.3** Which of these is the best report of the conclusions of the test you just ran?\n",
    "\n",
    "1. There is a relationship between the gill attachment and edibility of mushrooms, ($\\chi^2 = 133.99$, $p = 0.000$).\n",
    "\n",
    "2. There is no relationship between the gill attachment and edibility of mushrooms, ($\\chi^2 = 133.99$, $p = 0.000$).\n",
    "\n",
    "3. There is a relationship between the gill attachment and edibility of mushrooms, ($\\chi^2 = 133.99$, $p = 5.502$).\n",
    "\n",
    "4. There is no relationship between the gill attachment and edibility of mushrooms, ($\\chi^2 = 133.99$, $p = 5.502$).\n",
    "\n",
    "\n",
    "Enter your choice as *best_report_num* below.  "
   ]
  },
  {
   "cell_type": "code",
   "execution_count": null,
   "id": "78c5d702",
   "metadata": {},
   "outputs": [],
   "source": [
    "best_report_num = ..."
   ]
  },
  {
   "cell_type": "markdown",
   "id": "71ac70b0",
   "metadata": {},
   "source": [
    "**Question 1.4** In the cell below we calculate the Pearson residuals for the *mush_gill_obs* table.  Positive residuals mean that there are more than independence would predict, large positive residuals means there are a lot more than independence would predict.  Negative residuals indicate less than predicted occured in the real data.  "
   ]
  },
  {
   "cell_type": "code",
   "execution_count": null,
   "id": "64656330",
   "metadata": {},
   "outputs": [],
   "source": [
    "import statsmodels.api as sm                                                                         \n",
    "\n",
    "table = sm.stats.Table(mush_gill_obs)                                                                            \n",
    "\n",
    "table.resid_pearson "
   ]
  },
  {
   "cell_type": "markdown",
   "id": "9449b2c0",
   "metadata": {},
   "source": [
    "Which pair has a lot less than expected in the original data?\n",
    "\n",
    "1. The poisonous mushrooms with attached gills.\n",
    "\n",
    "2. The poisonous mushrooms without attached gills.\n",
    "\n",
    "3. The edible mushrooms with attached gills.\n",
    "\n",
    "4. The edible mushrooms without attached gills.\n",
    "\n",
    "This is another multiple choice answer, record your answer below."
   ]
  },
  {
   "cell_type": "code",
   "execution_count": null,
   "id": "ce5b7818",
   "metadata": {},
   "outputs": [],
   "source": [
    "residual_ans = ..."
   ]
  },
  {
   "cell_type": "markdown",
   "id": "c8c49b08",
   "metadata": {},
   "source": [
    "**Question 1.4**  Keep in mind the \"a\" under GillAttachment means that the gills are attached, and \"e\" under Poisonous means that the mushroom is edible (or not poisonous).  Would you agree with this statement?\n",
    "\n",
    "\"While attached gills are rare in general among mushrooms, attached gills are even more rare among poisonous mushrooms.\""
   ]
  },
  {
   "cell_type": "code",
   "execution_count": null,
   "id": "c5479aa1",
   "metadata": {},
   "outputs": [],
   "source": [
    "## Set this equal to either True or False, depending whether you agree with the statement above.  \n",
    "\n",
    "true_false_statement = ...\n"
   ]
  },
  {
   "cell_type": "markdown",
   "id": "5070db4a",
   "metadata": {},
   "source": [
    "### Section 2: Sex and Heart with Chi-square\n",
    "\n",
    "In the cell below, we use `.pivot` to create what is known as a two-way table.  There are obviously other ways of creating two-way tables, including going through the data \"manually\" and counting the responses, and other automated methods too, but `.pivot` is particularly nice for us.  \n",
    "\n",
    "\n"
   ]
  },
  {
   "cell_type": "code",
   "execution_count": null,
   "id": "83a14c52",
   "metadata": {},
   "outputs": [],
   "source": []
  },
  {
   "cell_type": "markdown",
   "id": "0cff64d8",
   "metadata": {},
   "source": [
    "**Question 2.1** Use Table.read_table to read in *Heart2019.csv* and call it `heart19`"
   ]
  },
  {
   "cell_type": "code",
   "execution_count": null,
   "id": "01c2d045",
   "metadata": {},
   "outputs": [],
   "source": [
    "heart19 = ...\n",
    "heart19"
   ]
  },
  {
   "cell_type": "markdown",
   "id": "9f57f7ea",
   "metadata": {},
   "source": [
    "**Question 2.2** Use `.pivot` to create a two-way table showing Sex and Heart.  Call it `heart_sex19`.  "
   ]
  },
  {
   "cell_type": "code",
   "execution_count": null,
   "id": "4c28c82c",
   "metadata": {},
   "outputs": [],
   "source": [
    "heart_sex19 = ...\n",
    "heart_sex19"
   ]
  },
  {
   "cell_type": "markdown",
   "id": "29e548f8",
   "metadata": {},
   "source": [
    "This two-way table shows the counts for these two categorical variables cross-tabulated.  \n",
    "\n",
    "**Question 2.3** Run the $\\chi^2$ test for independence using the data from the table you just made.  Remember, you'll have to recreate the table in a different format.  "
   ]
  },
  {
   "cell_type": "code",
   "execution_count": null,
   "id": "2c7238b7",
   "metadata": {},
   "outputs": [],
   "source": [
    "## Run chi2 test here\n",
    "\n",
    "..."
   ]
  },
  {
   "cell_type": "markdown",
   "id": "2c83cceb",
   "metadata": {},
   "source": [
    "**Question 2.4** Find the Pearson residuals in the cell below.  "
   ]
  },
  {
   "cell_type": "code",
   "execution_count": null,
   "id": "18fd37a3",
   "metadata": {},
   "outputs": [],
   "source": [
    "## Use this cell to compute the Pearson residuals.\n",
    "\n",
    "...\n",
    "\n"
   ]
  },
  {
   "cell_type": "markdown",
   "id": "06eba4ab",
   "metadata": {},
   "source": [
    "**Question 2.5** Where is the highest residual?  This is a multiple choice question.\n",
    "\n",
    "1. Women who did not die of heart related issues.\n",
    "\n",
    "2. Women who died of heart related issues.\n",
    "\n",
    "3. Men who did not die of heart related issues.\n",
    "\n",
    "4. Men who died of heart related issues.\n"
   ]
  },
  {
   "cell_type": "code",
   "execution_count": null,
   "id": "626bb571",
   "metadata": {},
   "outputs": [],
   "source": [
    "heart_high_resid = ...\n",
    "\n",
    "heart_high_resid"
   ]
  },
  {
   "cell_type": "markdown",
   "id": "5e65c181",
   "metadata": {},
   "source": [
    "**Question 2.6** Pick the best interpretation of these results from the options below.  \n",
    "\n",
    "1. There is a relationship between sex and dying of heart related issues, ($\\chi^2 = 33.35$, $p = 0.000$); analyzing the residuals shows that WOMEN are more likely than expected to die from heart related issues. \n",
    "\n",
    "2. There is a NO relationship between sex and dying of heart related issues, ($\\chi^2 = 33.35$, $p = 0.000$); analyzing the residuals shows that men and women are equally likely to die from heart related issues. \n",
    "\n",
    "3.  There is a relationship between sex and dying of heart related issues, ($\\chi^2 = 33.35$, $p = 0.000$); analyzing the residuals shows that MEN are more likely than expected to die from heart related issues. \n",
    "\n",
    "Put the number for your selection in for the answer below. "
   ]
  },
  {
   "cell_type": "code",
   "execution_count": null,
   "id": "e776763d",
   "metadata": {},
   "outputs": [],
   "source": [
    "heart_interp = ...\n",
    "\n",
    "heart_interp "
   ]
  },
  {
   "cell_type": "markdown",
   "id": "9a746e3d",
   "metadata": {},
   "source": [
    "## Section 3: UFO's and Chi-squared\n",
    "\n",
    "**Question 3.1** Use `Table.read_table` to read in *\"ufo_shape_place.csv\"*. \n",
    "\n",
    "This is a selected subset of the ufo data that we have looked at before.  \n",
    "\n",
    "Call it **ufo**. \n"
   ]
  },
  {
   "cell_type": "code",
   "execution_count": null,
   "id": "3620e4b0",
   "metadata": {},
   "outputs": [],
   "source": [
    "ufo = ...\n",
    "\n",
    "ufo"
   ]
  },
  {
   "cell_type": "markdown",
   "id": "d9e5977d",
   "metadata": {},
   "source": [
    "**Question 3.2** Create a two-way table in the appropriate format for the `chi2_contingency` test. Call it **ufo_obs**."
   ]
  },
  {
   "cell_type": "code",
   "execution_count": null,
   "id": "1f67c307",
   "metadata": {},
   "outputs": [],
   "source": [
    "ufo_obs = ...\n",
    "\n",
    "ufo_obs"
   ]
  },
  {
   "cell_type": "markdown",
   "id": "232a3dc9",
   "metadata": {},
   "source": [
    "**Question 3.3**  Use the table you just created to run a $\\chi^2$-test for independence.  "
   ]
  },
  {
   "cell_type": "code",
   "execution_count": null,
   "id": "39868c2a",
   "metadata": {},
   "outputs": [],
   "source": [
    "...\n",
    "\n"
   ]
  },
  {
   "cell_type": "markdown",
   "id": "cb8836e9",
   "metadata": {},
   "source": [
    "**Question 3.4** Find the standardized residuals from the test you just ran.  "
   ]
  },
  {
   "cell_type": "code",
   "execution_count": null,
   "id": "c80385ff",
   "metadata": {},
   "outputs": [],
   "source": [
    "...\n",
    "\n"
   ]
  },
  {
   "cell_type": "markdown",
   "id": "6efba264",
   "metadata": {},
   "source": [
    "**Question 3.5** Interpret these results the cell below.  Use the information you have from the residuals and the output from the $\\chi^2$ test.  "
   ]
  },
  {
   "cell_type": "markdown",
   "id": "79c4b302",
   "metadata": {},
   "source": [
    "*Type your answer to the UFO question, 3.5, in this cell.*\n",
    "\n",
    "\n",
    "\n"
   ]
  },
  {
   "cell_type": "markdown",
   "id": "95f4df32",
   "metadata": {},
   "source": [
    "### Section 4: Summary\n",
    "\n",
    "Just run the next cell, it will pull all your answers from above and summarize them nicely."
   ]
  },
  {
   "cell_type": "code",
   "execution_count": null,
   "id": "979f883d",
   "metadata": {},
   "outputs": [],
   "source": [
    "alist = [\"There is a relationship between the gill attachment and edibility of mushrooms, (chi2 = 133.99, p = 0.000).\\n\", \n",
    "          \"There is no relationship between the gill attachment and edibility of mushrooms, (chi2 = 133.99, p = 0.000).\\n\",\n",
    "          \"There is a relationship between the gill attachment and edibility of mushrooms, (chi2 = 133.99, p = 5.502).\\n\", \n",
    "          \"There is no relationship between the gill attachment and edibility of mushrooms, (chi2 = 133.99, p = 5.502).\\n\"]\n",
    "\n",
    "\n",
    "blist = [\"the poisonous mushrooms with attached gills\",\n",
    "         \"the poisonous mushrooms without attached gills\",\n",
    "         \"the edible mushrooms with attached gills\",\n",
    "         \"the edible mushrooms without attached gills\"]\n",
    "\n",
    "clist = [\"There is a relationship between sex and dying of heart related issues, (chi2 = 33.35, p = 0.000); analyzing the residuals shows that WOMEN are more likely than expected to die from heart related issues.\",\n",
    "      \"There is a NO relationship between sex and dying of heart related issues, (chi2 = 33.35, p = 0.000); analyzing the residuals shows that men and women are equally likely to die from heart related issues.\",\n",
    "      \"There is a relationship between sex and dying of heart related issues, (chi2 = 33.35, p = 0.000); analyzing the residuals shows that MEN are more likely than expected to die from heart related issues.\"] \n",
    "\n",
    "print(f\"{alist[best_report_num - 1]}In fact, if these factors were independent of each other, then we see fewer than expected of {blist[residual_ans - 1]}.\\n \")\n",
    "\n",
    "if true_false_statement:\n",
    "    print(\"While attached gills are rare in general among mushrooms, attached gills are even more rare among poisonous mushrooms.\\n \")\n",
    "else:\n",
    "    print(\"While attached gills are rare in general among mushrooms, it is not the case that attached gills are even more rare among poisonous mushrooms.\\n \")\n",
    "    \n",
    "    \n",
    "print(f\"{clist[heart_interp - 1]}\")\n",
    "\n",
    "\n"
   ]
  },
  {
   "cell_type": "markdown",
   "id": "4f4ccf16",
   "metadata": {},
   "source": [
    "# Congratulations. You're done with the third homework for this semester!\n",
    "\n",
    "+ Make sure you run every cell, without an error message\n",
    "\n",
    "+ Save it (unless it autosaved already) then download it as HTML\n",
    "\n",
    "+ Submit that HTML file to **D2L** in the appropriate Assignment folder.  "
   ]
  }
 ],
 "metadata": {
  "kernelspec": {
   "display_name": "Python 3 (ipykernel)",
   "language": "python",
   "name": "python3"
  },
  "language_info": {
   "codemirror_mode": {
    "name": "ipython",
    "version": 3
   },
   "file_extension": ".py",
   "mimetype": "text/x-python",
   "name": "python",
   "nbconvert_exporter": "python",
   "pygments_lexer": "ipython3",
   "version": "3.9.13"
  }
 },
 "nbformat": 4,
 "nbformat_minor": 5
}
