{
 "cells": [
  {
   "cell_type": "markdown",
   "id": "4f4f424e",
   "metadata": {},
   "source": [
    "# G-squared and Fisher's Exact Tests\n",
    "\n",
    "These tests are somewhat similar to the Chi-square test.  \n",
    "\n"
   ]
  },
  {
   "cell_type": "code",
   "execution_count": 2,
   "id": "d25e2806",
   "metadata": {},
   "outputs": [],
   "source": [
    "# Here's some code that will likely appear near the top of every homework or lecture this semester.\n",
    "\n",
    "from datascience import *\n",
    "import numpy as np\n",
    "\n",
    "%matplotlib inline\n",
    "import matplotlib.pyplot as plots\n",
    "plots.style.use('fivethirtyeight')\n",
    "\n",
    "import scipy.stats as stats\n",
    "\n",
    "import scipy\n",
    "\n",
    "import warnings\n",
    "warnings.simplefilter(action=\"ignore\", category=FutureWarning)\n",
    "warnings.simplefilter(action=\"ignore\", category=np.VisibleDeprecationWarning)\n",
    "\n",
    "# To add text, referred to as comments to a code cell\n",
    "# just put a hashtag a the beginning of the comment\n",
    "# Comments are ignored by the computer when executing the code\n",
    "\n",
    "mort22 = Table.read_table(\"SmallMort2022.csv\")"
   ]
  },
  {
   "cell_type": "markdown",
   "id": "b4303439",
   "metadata": {},
   "source": [
    "## G-squared test or log-likelihood test\n",
    "\n",
    "Using the code that we already know, we can run a log-likelihood test by activating a feature inside the `chi2_contingency` function.  \n",
    "\n",
    "\n",
    "Recall this Pew Research Center data:\n",
    "\n",
    "\n",
    "|     |Right/Leans Right  |  Left/Leans Left  |\n",
    "|:-:  |  :-:              |  :-:              |\n",
    "|Men  |2343|2073|\n",
    "|Women|2444|2833|\n",
    "\n",
    "How is this test different from $\\chi^2$, recall that $\\displaystyle \\chi^2 = \\sum_{All\\ i,\\ j} \\frac{\\left(O_{ij}-E_{ij}\\right)^2}{E_{ij}}$\n",
    "\n",
    "\n",
    "Now, $\\displaystyle G^2 = 2 \\sum o_{ij} \\log\\left(\\frac{o_{ij}}{e_{ij}}\\right)$\n",
    "\n"
   ]
  },
  {
   "cell_type": "code",
   "execution_count": 3,
   "id": "b8fea991",
   "metadata": {},
   "outputs": [
    {
     "data": {
      "text/plain": [
       "array([[2343, 2073],\n",
       "       [2444, 2833]])"
      ]
     },
     "execution_count": 3,
     "metadata": {},
     "output_type": "execute_result"
    }
   ],
   "source": [
    "pew_table = np.array([[2343, 2073],[2444,2833]])\n",
    "\n",
    "pew_table"
   ]
  },
  {
   "cell_type": "code",
   "execution_count": 4,
   "id": "e011f865",
   "metadata": {},
   "outputs": [
    {
     "data": {
      "text/plain": [
       "(43.489347989545195,\n",
       " 4.262734591470558e-11,\n",
       " 1,\n",
       " array([[ 2180.89260291,  2235.10739709],\n",
       "        [ 2606.10739709,  2670.89260291]]))"
      ]
     },
     "execution_count": 4,
     "metadata": {},
     "output_type": "execute_result"
    }
   ],
   "source": [
    "scipy.stats.chi2_contingency(pew_table, lambda_ = \"log-likelihood\")"
   ]
  },
  {
   "cell_type": "markdown",
   "id": "a44384fd",
   "metadata": {},
   "source": [
    "The second number in the output is the p-value, $4.3 \\times 10^{-11}$, which is essentially 0.  Would we get the same if we'd just run a $\\chi^2$ test?\n",
    "\n",
    "Essentially, but not exactly.  "
   ]
  },
  {
   "cell_type": "code",
   "execution_count": 91,
   "id": "6d499f38",
   "metadata": {},
   "outputs": [
    {
     "data": {
      "text/plain": [
       "(43.460025698201854,\n",
       " 4.3270900686034906e-11,\n",
       " 1,\n",
       " array([[ 2180.89260291,  2235.10739709],\n",
       "        [ 2606.10739709,  2670.89260291]]))"
      ]
     },
     "execution_count": 91,
     "metadata": {},
     "output_type": "execute_result"
    }
   ],
   "source": [
    "scipy.stats.chi2_contingency(pew_table)"
   ]
  },
  {
   "cell_type": "markdown",
   "id": "371d1772",
   "metadata": {},
   "source": [
    "### Small data sets\n",
    "\n",
    "For medium sized data sets, the log-likelihood test may be slightly more conservative than the $\\chi^2$-test.  \n",
    "\n",
    "Consider this fictional data."
   ]
  },
  {
   "cell_type": "code",
   "execution_count": 88,
   "id": "234e9ac4",
   "metadata": {},
   "outputs": [
    {
     "data": {
      "text/plain": [
       "array([[13, 34],\n",
       "       [14, 12]])"
      ]
     },
     "execution_count": 88,
     "metadata": {},
     "output_type": "execute_result"
    }
   ],
   "source": [
    "example_table = np.array([[13,34], [14,12]])\n",
    "\n",
    "example_table"
   ]
  },
  {
   "cell_type": "code",
   "execution_count": 89,
   "id": "a17c29f2",
   "metadata": {},
   "outputs": [
    {
     "data": {
      "text/plain": [
       "(3.8657715434426807,\n",
       " 0.04928053082953246,\n",
       " 1,\n",
       " array([[ 17.38356164,  29.61643836],\n",
       "        [  9.61643836,  16.38356164]]))"
      ]
     },
     "execution_count": 89,
     "metadata": {},
     "output_type": "execute_result"
    }
   ],
   "source": [
    "scipy.stats.chi2_contingency(example_table)"
   ]
  },
  {
   "cell_type": "code",
   "execution_count": 90,
   "id": "ec7e688b",
   "metadata": {},
   "outputs": [
    {
     "data": {
      "text/plain": [
       "(3.8239881519535244,\n",
       " 0.050523845121755243,\n",
       " 1,\n",
       " array([[ 17.38356164,  29.61643836],\n",
       "        [  9.61643836,  16.38356164]]))"
      ]
     },
     "execution_count": 90,
     "metadata": {},
     "output_type": "execute_result"
    }
   ],
   "source": [
    "scipy.stats.chi2_contingency(example_table, lambda_=\"log-likelihood\")"
   ]
  },
  {
   "cell_type": "markdown",
   "id": "6af15f25",
   "metadata": {},
   "source": [
    "Strictly applying a 5% level of significance, we see that on this data, the $\\chi^2$ test is significant but the log-likelihood test is not.  How do you know which one to run?  This is the type of decision that would either be left up to you as the data person on any given project, OR it's possible that your industry will have a standard procedure that *everyone* uses.  "
   ]
  },
  {
   "cell_type": "code",
   "execution_count": 17,
   "id": "59fd9044",
   "metadata": {},
   "outputs": [
    {
     "data": {
      "text/html": [
       "<table border=\"1\" class=\"dataframe\">\n",
       "    <thead>\n",
       "        <tr>\n",
       "            <th>race</th> <th>azt</th> <th>yes</th> <th>no</th>\n",
       "        </tr>\n",
       "    </thead>\n",
       "    <tbody>\n",
       "        <tr>\n",
       "            <td>white</td> <td>yes </td> <td>14  </td> <td>93  </td>\n",
       "        </tr>\n",
       "        <tr>\n",
       "            <td>white</td> <td>no  </td> <td>32  </td> <td>81  </td>\n",
       "        </tr>\n",
       "        <tr>\n",
       "            <td>black</td> <td>yes </td> <td>11  </td> <td>52  </td>\n",
       "        </tr>\n",
       "        <tr>\n",
       "            <td>black</td> <td>no  </td> <td>12  </td> <td>43  </td>\n",
       "        </tr>\n",
       "    </tbody>\n",
       "</table>"
      ],
      "text/plain": [
       "race  | azt  | yes  | no\n",
       "white | yes  | 14   | 93\n",
       "white | no   | 32   | 81\n",
       "black | yes  | 11   | 52\n",
       "black | no   | 12   | 43"
      ]
     },
     "execution_count": 17,
     "metadata": {},
     "output_type": "execute_result"
    }
   ],
   "source": [
    "azt = Table.read_table(\"aids.csv\")"
   ]
  },
  {
   "cell_type": "markdown",
   "id": "04db2af7",
   "metadata": {},
   "source": [
    "## Really small data sets\n",
    "\n",
    "The assumptions of the $\\chi^2$ test include that there are no 0 cells in the expected table AND that no more than 20% of the cells in the expected table have a value below 5.  \n",
    "\n",
    "What can we do if that assumption is violated?  Really small data sets are especially prone to these issues.  \n",
    "\n",
    "If the table is a nice 2x2 two-way table, we can use the Fisher's Exact test.  It operates on the odds ratio from the table.  \n",
    "\n",
    "$H_o: OR = 1$\n",
    "\n",
    "This test permits use to set an alternative.\n",
    "\n",
    "We can use the default, which is:\n",
    "\n",
    "$H_a: OR \\not= 1$\n",
    "\n",
    "or we can set a directed alternative, that is one of:\n",
    "\n",
    "$H_a: OR > 1$\n",
    " \n",
    "$H_a: OR < 1$\n",
    "\n"
   ]
  },
  {
   "cell_type": "code",
   "execution_count": 95,
   "id": "0fd35ea5",
   "metadata": {},
   "outputs": [
    {
     "data": {
      "text/plain": [
       "(0.32773109243697479, 0.042051852515520002)"
      ]
     },
     "execution_count": 95,
     "metadata": {},
     "output_type": "execute_result"
    }
   ],
   "source": [
    "scipy.stats.fisher_exact(example_table)"
   ]
  },
  {
   "cell_type": "markdown",
   "id": "0755bebd",
   "metadata": {},
   "source": [
    "The second number in the output is the p-value, but the first number is our old friend the Odds Ratio.  "
   ]
  },
  {
   "cell_type": "code",
   "execution_count": null,
   "id": "fb7ea7b7",
   "metadata": {},
   "outputs": [],
   "source": []
  },
  {
   "cell_type": "code",
   "execution_count": null,
   "id": "6e786d16",
   "metadata": {},
   "outputs": [],
   "source": []
  },
  {
   "cell_type": "code",
   "execution_count": null,
   "id": "4a97e8de",
   "metadata": {},
   "outputs": [],
   "source": []
  },
  {
   "cell_type": "code",
   "execution_count": null,
   "id": "2b55500c",
   "metadata": {},
   "outputs": [],
   "source": []
  }
 ],
 "metadata": {
  "kernelspec": {
   "display_name": "Python 3 (ipykernel)",
   "language": "python",
   "name": "python3"
  },
  "language_info": {
   "codemirror_mode": {
    "name": "ipython",
    "version": 3
   },
   "file_extension": ".py",
   "mimetype": "text/x-python",
   "name": "python",
   "nbconvert_exporter": "python",
   "pygments_lexer": "ipython3",
   "version": "3.9.13"
  }
 },
 "nbformat": 4,
 "nbformat_minor": 5
}
