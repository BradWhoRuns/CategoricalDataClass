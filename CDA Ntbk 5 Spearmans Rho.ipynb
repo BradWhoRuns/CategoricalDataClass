{
 "cells": [
  {
   "cell_type": "markdown",
   "id": "9e4226e2",
   "metadata": {},
   "source": [
    "# Spearman's Rho\n",
    "\n",
    "\n",
    "Spearman's $\\rho$ is non-parametric correlation coefficient.  It is also known as the rank-correlation, we'll say more about that later.  \n",
    "\n",
    "You say, \"But! This is a categorical data class and correlation measures the relationship between two quantitative variables!\"\n",
    "\n",
    "You're right. However, Spearman's $\\rho$ can be used to measure the correlation between two ordinal categorical variables.  Let's see how it works by using a couple of examples from this data set from Kaggle on [Salaries in Data Science](https://www.kaggle.com/datasets/arnabchaki/data-science-salaries-2023/data).  \n",
    "\n",
    "Once we get the data loaded, the first thing we'll do is cut it down to just one group of data scientists.  We'll save the other groups for the homework.  "
   ]
  },
  {
   "cell_type": "code",
   "execution_count": 2,
   "id": "768e43a9",
   "metadata": {},
   "outputs": [
    {
     "data": {
      "text/html": [
       "<table border=\"1\" class=\"dataframe\">\n",
       "    <thead>\n",
       "        <tr>\n",
       "            <th>work_year</th> <th>experience_level</th> <th>employment_type</th> <th>job_title</th> <th>salary</th> <th>salary_currency</th> <th>salary_in_usd</th> <th>employee_residence</th> <th>remote_ratio</th> <th>company_location</th> <th>company_size</th>\n",
       "        </tr>\n",
       "    </thead>\n",
       "    <tbody>\n",
       "        <tr>\n",
       "            <td>2023     </td> <td>SE              </td> <td>FT             </td> <td>Principal Data Scientist</td> <td>80000 </td> <td>EUR            </td> <td>85847        </td> <td>ES                </td> <td>100         </td> <td>ES              </td> <td>L           </td>\n",
       "        </tr>\n",
       "        <tr>\n",
       "            <td>2023     </td> <td>MI              </td> <td>CT             </td> <td>ML Engineer             </td> <td>30000 </td> <td>USD            </td> <td>30000        </td> <td>US                </td> <td>100         </td> <td>US              </td> <td>S           </td>\n",
       "        </tr>\n",
       "        <tr>\n",
       "            <td>2023     </td> <td>MI              </td> <td>CT             </td> <td>ML Engineer             </td> <td>25500 </td> <td>USD            </td> <td>25500        </td> <td>US                </td> <td>100         </td> <td>US              </td> <td>S           </td>\n",
       "        </tr>\n",
       "        <tr>\n",
       "            <td>2023     </td> <td>SE              </td> <td>FT             </td> <td>Data Scientist          </td> <td>175000</td> <td>USD            </td> <td>175000       </td> <td>CA                </td> <td>100         </td> <td>CA              </td> <td>M           </td>\n",
       "        </tr>\n",
       "        <tr>\n",
       "            <td>2023     </td> <td>SE              </td> <td>FT             </td> <td>Data Scientist          </td> <td>120000</td> <td>USD            </td> <td>120000       </td> <td>CA                </td> <td>100         </td> <td>CA              </td> <td>M           </td>\n",
       "        </tr>\n",
       "        <tr>\n",
       "            <td>2023     </td> <td>SE              </td> <td>FT             </td> <td>Applied Scientist       </td> <td>222200</td> <td>USD            </td> <td>222200       </td> <td>US                </td> <td>0           </td> <td>US              </td> <td>L           </td>\n",
       "        </tr>\n",
       "        <tr>\n",
       "            <td>2023     </td> <td>SE              </td> <td>FT             </td> <td>Applied Scientist       </td> <td>136000</td> <td>USD            </td> <td>136000       </td> <td>US                </td> <td>0           </td> <td>US              </td> <td>L           </td>\n",
       "        </tr>\n",
       "        <tr>\n",
       "            <td>2023     </td> <td>SE              </td> <td>FT             </td> <td>Data Scientist          </td> <td>219000</td> <td>USD            </td> <td>219000       </td> <td>CA                </td> <td>0           </td> <td>CA              </td> <td>M           </td>\n",
       "        </tr>\n",
       "        <tr>\n",
       "            <td>2023     </td> <td>SE              </td> <td>FT             </td> <td>Data Scientist          </td> <td>141000</td> <td>USD            </td> <td>141000       </td> <td>CA                </td> <td>0           </td> <td>CA              </td> <td>M           </td>\n",
       "        </tr>\n",
       "        <tr>\n",
       "            <td>2023     </td> <td>SE              </td> <td>FT             </td> <td>Data Scientist          </td> <td>147100</td> <td>USD            </td> <td>147100       </td> <td>US                </td> <td>0           </td> <td>US              </td> <td>M           </td>\n",
       "        </tr>\n",
       "    </tbody>\n",
       "</table>\n",
       "<p>... (3745 rows omitted)</p>"
      ],
      "text/plain": [
       "work_year | experience_level | employment_type | job_title                | salary | salary_currency | salary_in_usd | employee_residence | remote_ratio | company_location | company_size\n",
       "2023      | SE               | FT              | Principal Data Scientist | 80000  | EUR             | 85847         | ES                 | 100          | ES               | L\n",
       "2023      | MI               | CT              | ML Engineer              | 30000  | USD             | 30000         | US                 | 100          | US               | S\n",
       "2023      | MI               | CT              | ML Engineer              | 25500  | USD             | 25500         | US                 | 100          | US               | S\n",
       "2023      | SE               | FT              | Data Scientist           | 175000 | USD             | 175000        | CA                 | 100          | CA               | M\n",
       "2023      | SE               | FT              | Data Scientist           | 120000 | USD             | 120000        | CA                 | 100          | CA               | M\n",
       "2023      | SE               | FT              | Applied Scientist        | 222200 | USD             | 222200        | US                 | 0            | US               | L\n",
       "2023      | SE               | FT              | Applied Scientist        | 136000 | USD             | 136000        | US                 | 0            | US               | L\n",
       "2023      | SE               | FT              | Data Scientist           | 219000 | USD             | 219000        | CA                 | 0            | CA               | M\n",
       "2023      | SE               | FT              | Data Scientist           | 141000 | USD             | 141000        | CA                 | 0            | CA               | M\n",
       "2023      | SE               | FT              | Data Scientist           | 147100 | USD             | 147100        | US                 | 0            | US               | M\n",
       "... (3745 rows omitted)"
      ]
     },
     "execution_count": 2,
     "metadata": {},
     "output_type": "execute_result"
    }
   ],
   "source": [
    "from datascience import *\n",
    "import numpy as np\n",
    "\n",
    "%matplotlib inline\n",
    "import matplotlib.pyplot as plots\n",
    "plots.style.use('fivethirtyeight')\n",
    "\n",
    "import scipy.stats as stats\n",
    "\n",
    "import warnings\n",
    "warnings.simplefilter(action=\"ignore\", category=FutureWarning)\n",
    "warnings.simplefilter(action=\"ignore\", category=np.VisibleDeprecationWarning)\n",
    "\n",
    "salary = Table.read_table(\"ds_salaries.csv\")\n",
    "\n",
    "salary"
   ]
  },
  {
   "cell_type": "code",
   "execution_count": 3,
   "id": "d278e18b",
   "metadata": {},
   "outputs": [
    {
     "data": {
      "text/html": [
       "<table border=\"1\" class=\"dataframe\">\n",
       "    <thead>\n",
       "        <tr>\n",
       "            <th>work_year</th> <th>experience_level</th> <th>employment_type</th> <th>job_title</th> <th>salary</th> <th>salary_currency</th> <th>salary_in_usd</th> <th>employee_residence</th> <th>remote_ratio</th> <th>company_location</th> <th>company_size</th>\n",
       "        </tr>\n",
       "    </thead>\n",
       "    <tbody>\n",
       "        <tr>\n",
       "            <td>2023     </td> <td>SE              </td> <td>FT             </td> <td>Data Scientist</td> <td>175000</td> <td>USD            </td> <td>175000       </td> <td>CA                </td> <td>100         </td> <td>CA              </td> <td>M           </td>\n",
       "        </tr>\n",
       "        <tr>\n",
       "            <td>2023     </td> <td>SE              </td> <td>FT             </td> <td>Data Scientist</td> <td>120000</td> <td>USD            </td> <td>120000       </td> <td>CA                </td> <td>100         </td> <td>CA              </td> <td>M           </td>\n",
       "        </tr>\n",
       "        <tr>\n",
       "            <td>2023     </td> <td>SE              </td> <td>FT             </td> <td>Data Scientist</td> <td>219000</td> <td>USD            </td> <td>219000       </td> <td>CA                </td> <td>0           </td> <td>CA              </td> <td>M           </td>\n",
       "        </tr>\n",
       "        <tr>\n",
       "            <td>2023     </td> <td>SE              </td> <td>FT             </td> <td>Data Scientist</td> <td>141000</td> <td>USD            </td> <td>141000       </td> <td>CA                </td> <td>0           </td> <td>CA              </td> <td>M           </td>\n",
       "        </tr>\n",
       "        <tr>\n",
       "            <td>2023     </td> <td>SE              </td> <td>FT             </td> <td>Data Scientist</td> <td>147100</td> <td>USD            </td> <td>147100       </td> <td>US                </td> <td>0           </td> <td>US              </td> <td>M           </td>\n",
       "        </tr>\n",
       "        <tr>\n",
       "            <td>2023     </td> <td>SE              </td> <td>FT             </td> <td>Data Scientist</td> <td>90700 </td> <td>USD            </td> <td>90700        </td> <td>US                </td> <td>0           </td> <td>US              </td> <td>M           </td>\n",
       "        </tr>\n",
       "        <tr>\n",
       "            <td>2023     </td> <td>SE              </td> <td>FT             </td> <td>Data Scientist</td> <td>170000</td> <td>USD            </td> <td>170000       </td> <td>US                </td> <td>0           </td> <td>US              </td> <td>M           </td>\n",
       "        </tr>\n",
       "        <tr>\n",
       "            <td>2023     </td> <td>SE              </td> <td>FT             </td> <td>Data Scientist</td> <td>150000</td> <td>USD            </td> <td>150000       </td> <td>US                </td> <td>0           </td> <td>US              </td> <td>M           </td>\n",
       "        </tr>\n",
       "        <tr>\n",
       "            <td>2023     </td> <td>SE              </td> <td>FT             </td> <td>Data Scientist</td> <td>212750</td> <td>USD            </td> <td>212750       </td> <td>US                </td> <td>100         </td> <td>US              </td> <td>M           </td>\n",
       "        </tr>\n",
       "        <tr>\n",
       "            <td>2023     </td> <td>SE              </td> <td>FT             </td> <td>Data Scientist</td> <td>185000</td> <td>USD            </td> <td>185000       </td> <td>US                </td> <td>100         </td> <td>US              </td> <td>M           </td>\n",
       "        </tr>\n",
       "    </tbody>\n",
       "</table>\n",
       "<p>... (830 rows omitted)</p>"
      ],
      "text/plain": [
       "work_year | experience_level | employment_type | job_title      | salary | salary_currency | salary_in_usd | employee_residence | remote_ratio | company_location | company_size\n",
       "2023      | SE               | FT              | Data Scientist | 175000 | USD             | 175000        | CA                 | 100          | CA               | M\n",
       "2023      | SE               | FT              | Data Scientist | 120000 | USD             | 120000        | CA                 | 100          | CA               | M\n",
       "2023      | SE               | FT              | Data Scientist | 219000 | USD             | 219000        | CA                 | 0            | CA               | M\n",
       "2023      | SE               | FT              | Data Scientist | 141000 | USD             | 141000        | CA                 | 0            | CA               | M\n",
       "2023      | SE               | FT              | Data Scientist | 147100 | USD             | 147100        | US                 | 0            | US               | M\n",
       "2023      | SE               | FT              | Data Scientist | 90700  | USD             | 90700         | US                 | 0            | US               | M\n",
       "2023      | SE               | FT              | Data Scientist | 170000 | USD             | 170000        | US                 | 0            | US               | M\n",
       "2023      | SE               | FT              | Data Scientist | 150000 | USD             | 150000        | US                 | 0            | US               | M\n",
       "2023      | SE               | FT              | Data Scientist | 212750 | USD             | 212750        | US                 | 100          | US               | M\n",
       "2023      | SE               | FT              | Data Scientist | 185000 | USD             | 185000        | US                 | 100          | US               | M\n",
       "... (830 rows omitted)"
      ]
     },
     "execution_count": 3,
     "metadata": {},
     "output_type": "execute_result"
    }
   ],
   "source": [
    "datascientist = salary.where(\"job_title\", \"Data Scientist\")\n",
    "\n",
    "datascientist"
   ]
  },
  {
   "cell_type": "code",
   "execution_count": 19,
   "id": "ebf1f544",
   "metadata": {},
   "outputs": [
    {
     "data": {
      "text/plain": [
       "array([2, 2, 2, 2, 2, 2, 2, 2, 2, 2, 2, 2, 2, 2, 2, 2, 2, 2, 2, 2, 2, 2, 3,\n",
       "       2, 2, 2, 2, 2, 2, 2, 2, 2, 2, 2, 2, 2, 2, 2, 2, 2, 2, 2, 2, 2, 2, 3,\n",
       "       3, 2, 2, 3, 2, 2, 2, 2, 2, 2, 2, 2, 2, 2, 2, 2, 2, 2, 2, 2, 2, 2, 2,\n",
       "       2, 3, 2, 2, 2, 2, 2, 2, 2, 2, 2, 2, 2, 2, 2, 2, 2, 2, 2, 2, 2, 2, 2,\n",
       "       2, 2, 2, 2, 2, 2, 2, 2, 2, 2, 2, 2, 2, 2, 2, 2, 2, 2, 2, 2, 2, 2, 2,\n",
       "       2, 2, 2, 2, 2, 2, 2, 2, 2, 2, 2, 2, 2, 2, 2, 2, 2, 2, 2, 2, 2, 2, 2,\n",
       "       2, 3, 2, 2, 2, 2, 2, 2, 2, 2, 2, 2, 2, 2, 2, 2, 2, 2, 2, 2, 2, 2, 2,\n",
       "       2, 2, 2, 2, 2, 2, 2, 2, 2, 3, 2, 2, 2, 2, 2, 2, 2, 2, 2, 2, 2, 2, 2,\n",
       "       2, 2, 2, 2, 2, 2, 2, 2, 2, 2, 2, 2, 2, 2, 2, 2, 2, 2, 2, 2, 2, 2, 2,\n",
       "       2, 2, 2, 2, 2, 2, 2, 3, 2, 2, 2, 2, 2, 2, 2, 2, 2, 2, 2, 2, 2, 2, 2,\n",
       "       2, 2, 2, 2, 3, 2, 2, 2, 2, 2, 2, 2, 2, 2, 3, 2, 2, 2, 2, 2, 2, 2, 2,\n",
       "       2, 2, 2, 2, 2, 2, 1, 2, 2, 3, 2, 2, 2, 2, 2, 2, 2, 2, 2, 2, 2, 2, 2,\n",
       "       2, 2, 2, 2, 2, 2, 2, 2, 3, 3, 2, 2, 2, 2, 2, 2, 2, 2, 2, 2, 2, 2, 2,\n",
       "       2, 1, 2, 2, 2, 2, 2, 2, 2, 2, 2, 2, 2, 2, 3, 2, 2, 2, 2, 2, 2, 2, 2,\n",
       "       2, 2, 3, 2, 2, 2, 2, 3, 2, 2, 2, 2, 2, 2, 2, 2, 2, 2, 2, 2, 2, 2, 2,\n",
       "       2, 2, 2, 2, 2, 2, 2, 2, 2, 2, 2, 2, 2, 2, 3, 2, 2, 2, 2, 2, 2, 2, 2,\n",
       "       2, 2, 2, 2, 2, 2, 2, 2, 2, 2, 3, 2, 2, 2, 2, 2, 2, 2, 2, 2, 2, 2, 2,\n",
       "       2, 2, 2, 2, 2, 2, 2, 2, 2, 2, 2, 2, 2, 2, 2, 2, 2, 2, 2, 2, 2, 2, 2,\n",
       "       2, 2, 2, 2, 2, 2, 2, 2, 2, 2, 2, 2, 2, 2, 2, 2, 2, 2, 2, 2, 2, 2, 2,\n",
       "       2, 2, 2, 2, 2, 2, 2, 2, 2, 2, 2, 2, 2, 2, 2, 2, 2, 2, 2, 2, 2, 2, 2,\n",
       "       2, 2, 2, 2, 2, 2, 2, 2, 2, 2, 2, 2, 2, 2, 2, 2, 2, 2, 2, 2, 2, 2, 2,\n",
       "       2, 2, 2, 2, 2, 2, 2, 2, 2, 2, 2, 2, 2, 2, 2, 2, 2, 2, 2, 2, 2, 2, 2,\n",
       "       2, 2, 2, 3, 3, 2, 2, 2, 3, 2, 2, 2, 2, 2, 2, 2, 2, 2, 2, 3, 3, 2, 2,\n",
       "       3, 2, 2, 3, 3, 3, 2, 2, 2, 2, 2, 2, 2, 2, 2, 2, 2, 2, 2, 2, 2, 2, 2,\n",
       "       2, 2, 2, 1, 1, 2, 2, 2, 2, 2, 2, 2, 2, 2, 2, 2, 2, 2, 2, 3, 3, 2, 2,\n",
       "       1, 3, 3, 2, 3, 3, 3, 3, 2, 2, 2, 2, 2, 2, 2, 2, 2, 2, 2, 2, 2, 2, 2,\n",
       "       2, 2, 2, 2, 2, 2, 2, 2, 2, 2, 2, 2, 2, 3, 3, 2, 2, 2, 2, 2, 2, 2, 2,\n",
       "       2, 2, 2, 2, 3, 2, 2, 2, 2, 2, 2, 2, 2, 2, 2, 2, 2, 2, 2, 2, 2, 2, 2,\n",
       "       2, 2, 2, 2, 2, 2, 2, 2, 2, 2, 2, 2, 2, 2, 2, 2, 2, 2, 3, 3, 2, 2, 1,\n",
       "       3, 2, 2, 2, 2, 2, 2, 2, 2, 2, 2, 2, 3, 3, 3, 3, 2, 1, 3, 3, 1, 2, 3,\n",
       "       3, 3, 3, 2, 3, 3, 3, 2, 2, 1, 3, 3, 2, 2, 3, 3, 2, 2, 2, 2, 2, 2, 2,\n",
       "       2, 2, 2, 3, 3, 2, 2, 2, 2, 2, 2, 2, 2, 2, 2, 2, 2, 2, 2, 3, 3, 2, 2,\n",
       "       2, 2, 2, 2, 2, 2, 2, 2, 2, 2, 2, 2, 2, 2, 2, 2, 2, 2, 2, 2, 2, 2, 2,\n",
       "       2, 2, 2, 3, 2, 3, 2, 3, 2, 3, 2, 2, 2, 3, 3, 2, 3, 1, 2, 1, 2, 1, 2,\n",
       "       1, 3, 3, 3, 2, 3, 1, 3, 1, 3, 3, 2, 1, 3, 3, 3, 3, 3, 3, 2, 2, 1, 1,\n",
       "       3, 3, 3, 1, 3, 2, 3, 1, 3, 2, 3, 3, 2, 3, 3, 3, 1, 1, 1, 3, 1, 3, 1,\n",
       "       3, 2, 2, 1, 1, 3, 3, 2, 2, 2, 3, 1])"
      ]
     },
     "execution_count": 19,
     "metadata": {},
     "output_type": "execute_result"
    }
   ],
   "source": [
    "comp_size = datascientist.column(\"company_size\")\n",
    "\n",
    "size = (comp_size == 'S') + 2*(comp_size == \"M\") + 3*(comp_size == \"L\")\n",
    "\n",
    "size"
   ]
  },
  {
   "cell_type": "code",
   "execution_count": 20,
   "id": "0d15bf62",
   "metadata": {},
   "outputs": [
    {
     "data": {
      "text/plain": [
       "SpearmanrResult(correlation=-0.071677313936961917, pvalue=0.037802999364247865)"
      ]
     },
     "execution_count": 20,
     "metadata": {},
     "output_type": "execute_result"
    }
   ],
   "source": [
    "stats.spearmanr(size, datascientist.column(\"salary_in_usd\"))"
   ]
  },
  {
   "cell_type": "code",
   "execution_count": 21,
   "id": "d034d994",
   "metadata": {},
   "outputs": [
    {
     "data": {
      "text/plain": [
       "array([ 20,  20,  20,  20,  20,  20,  20,  20,  20,  20,  20,  20,  20,\n",
       "        20,  20,  20,  20,  20,  20,  20,  20,  20, 300,  20,  20,  20,\n",
       "        20,  20,  20,  20,  20,  20,  20,  20,  20,  20,  20,  20,  20,\n",
       "        20,  20,  20,  20,  20,  20, 300, 300,  20,  20, 300,  20,  20,\n",
       "        20,  20,  20,  20,  20,  20,  20,  20,  20,  20,  20,  20,  20,\n",
       "        20,  20,  20,  20,  20, 300,  20,  20,  20,  20,  20,  20,  20,\n",
       "        20,  20,  20,  20,  20,  20,  20,  20,  20,  20,  20,  20,  20,\n",
       "        20,  20,  20,  20,  20,  20,  20,  20,  20,  20,  20,  20,  20,\n",
       "        20,  20,  20,  20,  20,  20,  20,  20,  20,  20,  20,  20,  20,\n",
       "        20,  20,  20,  20,  20,  20,  20,  20,  20,  20,  20,  20,  20,\n",
       "        20,  20,  20,  20,  20,  20,  20,  20,  20, 300,  20,  20,  20,\n",
       "        20,  20,  20,  20,  20,  20,  20,  20,  20,  20,  20,  20,  20,\n",
       "        20,  20,  20,  20,  20,  20,  20,  20,  20,  20,  20,  20,  20,\n",
       "        20, 300,  20,  20,  20,  20,  20,  20,  20,  20,  20,  20,  20,\n",
       "        20,  20,  20,  20,  20,  20,  20,  20,  20,  20,  20,  20,  20,\n",
       "        20,  20,  20,  20,  20,  20,  20,  20,  20,  20,  20,  20,  20,\n",
       "        20,  20,  20,  20,  20,  20, 300,  20,  20,  20,  20,  20,  20,\n",
       "        20,  20,  20,  20,  20,  20,  20,  20,  20,  20,  20,  20,  20,\n",
       "       300,  20,  20,  20,  20,  20,  20,  20,  20,  20, 300,  20,  20,\n",
       "        20,  20,  20,  20,  20,  20,  20,  20,  20,  20,  20,  20,   1,\n",
       "        20,  20, 300,  20,  20,  20,  20,  20,  20,  20,  20,  20,  20,\n",
       "        20,  20,  20,  20,  20,  20,  20,  20,  20,  20,  20, 300, 300,\n",
       "        20,  20,  20,  20,  20,  20,  20,  20,  20,  20,  20,  20,  20,\n",
       "        20,   1,  20,  20,  20,  20,  20,  20,  20,  20,  20,  20,  20,\n",
       "        20, 300,  20,  20,  20,  20,  20,  20,  20,  20,  20,  20, 300,\n",
       "        20,  20,  20,  20, 300,  20,  20,  20,  20,  20,  20,  20,  20,\n",
       "        20,  20,  20,  20,  20,  20,  20,  20,  20,  20,  20,  20,  20,\n",
       "        20,  20,  20,  20,  20,  20,  20,  20, 300,  20,  20,  20,  20,\n",
       "        20,  20,  20,  20,  20,  20,  20,  20,  20,  20,  20,  20,  20,\n",
       "        20, 300,  20,  20,  20,  20,  20,  20,  20,  20,  20,  20,  20,\n",
       "        20,  20,  20,  20,  20,  20,  20,  20,  20,  20,  20,  20,  20,\n",
       "        20,  20,  20,  20,  20,  20,  20,  20,  20,  20,  20,  20,  20,\n",
       "        20,  20,  20,  20,  20,  20,  20,  20,  20,  20,  20,  20,  20,\n",
       "        20,  20,  20,  20,  20,  20,  20,  20,  20,  20,  20,  20,  20,\n",
       "        20,  20,  20,  20,  20,  20,  20,  20,  20,  20,  20,  20,  20,\n",
       "        20,  20,  20,  20,  20,  20,  20,  20,  20,  20,  20,  20,  20,\n",
       "        20,  20,  20,  20,  20,  20,  20,  20,  20,  20,  20,  20,  20,\n",
       "        20,  20,  20,  20,  20,  20,  20,  20,  20,  20,  20,  20,  20,\n",
       "        20,  20,  20,  20,  20,  20,  20,  20,  20,  20,  20,  20,  20,\n",
       "        20,  20, 300, 300,  20,  20,  20, 300,  20,  20,  20,  20,  20,\n",
       "        20,  20,  20,  20,  20, 300, 300,  20,  20, 300,  20,  20, 300,\n",
       "       300, 300,  20,  20,  20,  20,  20,  20,  20,  20,  20,  20,  20,\n",
       "        20,  20,  20,  20,  20,  20,  20,  20,  20,   1,   1,  20,  20,\n",
       "        20,  20,  20,  20,  20,  20,  20,  20,  20,  20,  20,  20, 300,\n",
       "       300,  20,  20,   1, 300, 300,  20, 300, 300, 300, 300,  20,  20,\n",
       "        20,  20,  20,  20,  20,  20,  20,  20,  20,  20,  20,  20,  20,\n",
       "        20,  20,  20,  20,  20,  20,  20,  20,  20,  20,  20,  20,  20,\n",
       "       300, 300,  20,  20,  20,  20,  20,  20,  20,  20,  20,  20,  20,\n",
       "        20, 300,  20,  20,  20,  20,  20,  20,  20,  20,  20,  20,  20,\n",
       "        20,  20,  20,  20,  20,  20,  20,  20,  20,  20,  20,  20,  20,\n",
       "        20,  20,  20,  20,  20,  20,  20,  20,  20,  20,  20,  20, 300,\n",
       "       300,  20,  20,   1, 300,  20,  20,  20,  20,  20,  20,  20,  20,\n",
       "        20,  20,  20, 300, 300, 300, 300,  20,   1, 300, 300,   1,  20,\n",
       "       300, 300, 300, 300,  20, 300, 300, 300,  20,  20,   1, 300, 300,\n",
       "        20,  20, 300, 300,  20,  20,  20,  20,  20,  20,  20,  20,  20,\n",
       "        20, 300, 300,  20,  20,  20,  20,  20,  20,  20,  20,  20,  20,\n",
       "        20,  20,  20,  20, 300, 300,  20,  20,  20,  20,  20,  20,  20,\n",
       "        20,  20,  20,  20,  20,  20,  20,  20,  20,  20,  20,  20,  20,\n",
       "        20,  20,  20,  20,  20,  20,  20,  20, 300,  20, 300,  20, 300,\n",
       "        20, 300,  20,  20,  20, 300, 300,  20, 300,   1,  20,   1,  20,\n",
       "         1,  20,   1, 300, 300, 300,  20, 300,   1, 300,   1, 300, 300,\n",
       "        20,   1, 300, 300, 300, 300, 300, 300,  20,  20,   1,   1, 300,\n",
       "       300, 300,   1, 300,  20, 300,   1, 300,  20, 300, 300,  20, 300,\n",
       "       300, 300,   1,   1,   1, 300,   1, 300,   1, 300,  20,  20,   1,\n",
       "         1, 300, 300,  20,  20,  20, 300,   1])"
      ]
     },
     "execution_count": 21,
     "metadata": {},
     "output_type": "execute_result"
    }
   ],
   "source": [
    "size2 = (comp_size == 'S') + 20*(comp_size == \"M\") + 300*(comp_size == \"L\")\n",
    "\n",
    "size2"
   ]
  },
  {
   "cell_type": "code",
   "execution_count": 18,
   "id": "ab342a5e",
   "metadata": {},
   "outputs": [
    {
     "data": {
      "text/plain": [
       "SpearmanrResult(correlation=-0.071677313936961917, pvalue=0.037802999364247865)"
      ]
     },
     "execution_count": 18,
     "metadata": {},
     "output_type": "execute_result"
    }
   ],
   "source": [
    "stats.spearmanr(size2, datascientist.column(\"salary_in_usd\"))"
   ]
  },
  {
   "cell_type": "markdown",
   "id": "dd788c2a",
   "metadata": {},
   "source": [
    "## Why we don't use Pearson's \n",
    "\n",
    "Pearson's $r$, the traditional correlation coefficient, is NOT appropriate to use with ordinal data.  It changes based on how you label the levels.  "
   ]
  },
  {
   "cell_type": "code",
   "execution_count": 22,
   "id": "4e8f30ad",
   "metadata": {},
   "outputs": [
    {
     "data": {
      "text/plain": [
       "PearsonRResult(statistic=-0.055957945304209507, pvalue=0.10508837727300396)"
      ]
     },
     "execution_count": 22,
     "metadata": {},
     "output_type": "execute_result"
    }
   ],
   "source": [
    "stats.pearsonr(size, datascientist.column(\"salary_in_usd\"))"
   ]
  },
  {
   "cell_type": "code",
   "execution_count": 23,
   "id": "f3e9c9d9",
   "metadata": {},
   "outputs": [
    {
     "data": {
      "text/plain": [
       "PearsonRResult(statistic=-0.19662140656245025, pvalue=9.120274844091658e-09)"
      ]
     },
     "execution_count": 23,
     "metadata": {},
     "output_type": "execute_result"
    }
   ],
   "source": [
    "stats.pearsonr(size2, datascientist.column(\"salary_in_usd\"))"
   ]
  },
  {
   "cell_type": "code",
   "execution_count": 24,
   "id": "b09b2373",
   "metadata": {},
   "outputs": [
    {
     "data": {
      "text/plain": [
       "array(['SE', 'MI', 'MI', ..., 'EN', 'EN', 'SE'],\n",
       "      dtype='<U2')"
      ]
     },
     "execution_count": 24,
     "metadata": {},
     "output_type": "execute_result"
    }
   ],
   "source": [
    "salary.column(\"experience_level\")"
   ]
  },
  {
   "cell_type": "code",
   "execution_count": 25,
   "id": "0920a25b",
   "metadata": {},
   "outputs": [
    {
     "data": {
      "text/html": [
       "<table border=\"1\" class=\"dataframe\">\n",
       "    <thead>\n",
       "        <tr>\n",
       "            <th>experience_level</th> <th>count</th>\n",
       "        </tr>\n",
       "    </thead>\n",
       "    <tbody>\n",
       "        <tr>\n",
       "            <td>EN              </td> <td>320  </td>\n",
       "        </tr>\n",
       "        <tr>\n",
       "            <td>EX              </td> <td>114  </td>\n",
       "        </tr>\n",
       "        <tr>\n",
       "            <td>MI              </td> <td>805  </td>\n",
       "        </tr>\n",
       "        <tr>\n",
       "            <td>SE              </td> <td>2516 </td>\n",
       "        </tr>\n",
       "    </tbody>\n",
       "</table>"
      ],
      "text/plain": [
       "experience_level | count\n",
       "EN               | 320\n",
       "EX               | 114\n",
       "MI               | 805\n",
       "SE               | 2516"
      ]
     },
     "execution_count": 25,
     "metadata": {},
     "output_type": "execute_result"
    }
   ],
   "source": [
    "salary.group(\"experience_level\")"
   ]
  },
  {
   "cell_type": "markdown",
   "id": "7d917578",
   "metadata": {},
   "source": [
    "# Work experience in data science\n",
    "\n",
    "There is a variable in this data set called experience_level.  I believe the codes work like this\n",
    "\n",
    "+ EN means entry level\n",
    "+ MI mid level\n",
    "+ SE senior level\n",
    "+ EX expert level\n",
    "\n",
    "Assuming I'm right about that, let's treat this as an ordinal variable, with the levels in that order. "
   ]
  },
  {
   "cell_type": "code",
   "execution_count": 30,
   "id": "d59a898f",
   "metadata": {},
   "outputs": [],
   "source": [
    "level = 1*(datascientist.column(\"experience_level\") == \"EN\") + 2*(datascientist.column(\"experience_level\") == \"MI\") + 3*(datascientist.column(\"experience_level\") == \"SE\") + 4*(datascientist.column(\"experience_level\") == \"EX\") "
   ]
  },
  {
   "cell_type": "code",
   "execution_count": 32,
   "id": "c8d975ac",
   "metadata": {},
   "outputs": [
    {
     "data": {
      "image/png": "[encoded data removed]",
      "text/plain": [
       "<Figure size 500x500 with 1 Axes>"
      ]
     },
     "metadata": {},
     "output_type": "display_data"
    }
   ],
   "source": [
    "Table().with_columns(\"Level\", level, \"Salary\", datascientist.column(\"salary_in_usd\")).scatter(\"Level\", fit_line = True)"
   ]
  },
  {
   "cell_type": "code",
   "execution_count": 40,
   "id": "4f8f4f55",
   "metadata": {},
   "outputs": [
    {
     "data": {
      "image/png": "[encoded data removed]",
      "text/plain": [
       "<Figure size 500x500 with 1 Axes>"
      ]
     },
     "metadata": {},
     "output_type": "display_data"
    }
   ],
   "source": [
    "Table().with_columns(\"Size\", size, \"Level\", level).scatter(\"Size\", fit_line=True)"
   ]
  },
  {
   "cell_type": "code",
   "execution_count": 33,
   "id": "12728056",
   "metadata": {},
   "outputs": [
    {
     "data": {
      "text/plain": [
       "SpearmanrResult(correlation=-0.09398892841635513, pvalue=0.006409960012028963)"
      ]
     },
     "execution_count": 33,
     "metadata": {},
     "output_type": "execute_result"
    }
   ],
   "source": [
    "stats.spearmanr(level, size)"
   ]
  },
  {
   "cell_type": "markdown",
   "id": "c47869e7",
   "metadata": {},
   "source": [
    "### Check this out\n",
    "\n",
    "Look what happens when we compute the rank for each element and then compute the Pearson $r$ for those arrays.  "
   ]
  },
  {
   "cell_type": "code",
   "execution_count": 37,
   "id": "cdc2a91a",
   "metadata": {},
   "outputs": [
    {
     "data": {
      "text/plain": [
       "array([ 524.5,  524.5,  524.5,  524.5,  524.5,  524.5,  524.5,  524.5,\n",
       "        524.5,  524.5,  524.5,  524.5,  524.5,  524.5,  524.5,  524.5,\n",
       "        834.5,  834.5,  524.5,  524.5,  524.5,  524.5,  140. ,  524.5,\n",
       "        524.5,  524.5,  524.5,  524.5,  524.5,  524.5,  524.5,  524.5,\n",
       "        524.5,  140. ,  140. ,  524.5,  524.5,  524.5,  524.5,  524.5,\n",
       "        524.5,  524.5,  524.5,  524.5,  524.5,  524.5,  524.5,  524.5,\n",
       "        524.5,  524.5,  524.5,  524.5,  524.5,  524.5,  524.5,  524.5,\n",
       "        524.5,  524.5,  524.5,  524.5,  524.5,  524.5,  524.5,  524.5,\n",
       "        524.5,  524.5,  524.5,  524.5,  524.5,  524.5,   30. ,   30. ,\n",
       "         30. ,  140. ,  140. ,  524.5,  524.5,  524.5,  524.5,  524.5,\n",
       "        524.5,  524.5,  524.5,  524.5,  524.5,  140. ,  140. ,  834.5,\n",
       "        834.5,  524.5,  524.5,  524.5,  524.5,  524.5,  524.5,  524.5,\n",
       "        524.5,  524.5,  524.5,  524.5,  524.5,  524.5,  524.5,  524.5,\n",
       "        524.5,  524.5,  524.5,  524.5,  524.5,  524.5,  524.5,  524.5,\n",
       "        524.5,  524.5,  524.5,  524.5,  524.5,  524.5,  524.5,  524.5,\n",
       "        524.5,  524.5,  524.5,  524.5,  524.5,  834.5,  834.5,  140. ,\n",
       "        140. ,  524.5,  524.5,  140. ,  140. ,   30. ,   30. ,  140. ,\n",
       "        140. ,  140. ,  140. ,   30. ,  140. ,  140. ,  524.5,  524.5,\n",
       "        524.5,  524.5,  524.5,  524.5,  524.5,  524.5,  524.5,  524.5,\n",
       "        524.5,  524.5,  524.5,  524.5,  524.5,  524.5,  140. ,  140. ,\n",
       "        524.5,  524.5,  140. ,  140. ,  834.5,  834.5,  524.5,  524.5,\n",
       "        524.5,  524.5,  140. ,  524.5,  524.5,  140. ,  140. ,  524.5,\n",
       "        524.5,  140. ,  140. ,  524.5,  524.5,  140. ,  140. ,  524.5,\n",
       "        524.5,  524.5,  524.5,  140. ,  524.5,  524.5,  140. ,  140. ,\n",
       "        524.5,  524.5,  140. ,  140. ,  524.5,  524.5,  524.5,  524.5,\n",
       "        524.5,  524.5,  524.5,  524.5,  524.5,  524.5,  524.5,  524.5,\n",
       "        524.5,  524.5,  524.5,  524.5,  524.5,  524.5,  140. ,  524.5,\n",
       "        524.5,  524.5,  524.5,  524.5,  524.5,   30. ,  524.5,  524.5,\n",
       "        524.5,  524.5,  524.5,  524.5,  524.5,  524.5,  524.5,  524.5,\n",
       "        524.5,  524.5,   30. ,  524.5,  524.5,  524.5,  524.5,  524.5,\n",
       "        524.5,  524.5,  524.5,   30. ,   30. ,  140. ,  140. ,  524.5,\n",
       "        524.5,  524.5,  524.5,  524.5,  524.5,  524.5,  524.5,  524.5,\n",
       "        524.5,  524.5,  524.5,   30. ,  140. ,  140. ,   30. ,  524.5,\n",
       "        524.5,  524.5,  524.5,   30. ,  524.5,  524.5,  524.5,  524.5,\n",
       "        524.5,  524.5,  524.5,  524.5,  524.5,  524.5,  524.5,  524.5,\n",
       "        524.5,  524.5,  524.5,  524.5,  140. ,  524.5,  524.5,  524.5,\n",
       "        524.5,  524.5,  524.5,  524.5,   30. ,   30. ,  524.5,  524.5,\n",
       "        524.5,  524.5,  524.5,  524.5,   30. ,  524.5,  524.5,  524.5,\n",
       "        524.5,  524.5,  524.5,  524.5,  524.5,  524.5,  524.5,  524.5,\n",
       "        524.5,  140. ,  524.5,  524.5,  524.5,  524.5,  140. ,  140. ,\n",
       "        524.5,  524.5,  524.5,  524.5,  140. ,  524.5,  524.5,  834.5,\n",
       "        834.5,  140. ,  524.5,  524.5,  524.5,  524.5,  524.5,  524.5,\n",
       "        524.5,  524.5,  524.5,  524.5,   30. ,  524.5,  524.5,  524.5,\n",
       "        524.5,  524.5,  524.5,  524.5,  524.5,  524.5,  524.5,  524.5,\n",
       "        524.5,  140. ,  140. ,  524.5,  524.5,  524.5,  524.5,  524.5,\n",
       "         30. ,  524.5,  524.5,  524.5,  524.5,  140. ,  140. ,  524.5,\n",
       "        524.5,  524.5,  524.5,  524.5,  524.5,  524.5,  524.5,  524.5,\n",
       "        524.5,   30. ,  140. ,  140. ,  140. ,  524.5,  524.5,  140. ,\n",
       "        140. ,  524.5,  524.5,  524.5,  524.5,  140. ,  140. ,  524.5,\n",
       "        524.5,  524.5,  524.5,  140. ,  140. ,  524.5,  524.5,  140. ,\n",
       "        140. ,  140. ,  140. ,  140. ,  524.5,  524.5,  524.5,  524.5,\n",
       "        524.5,  524.5,  524.5,  524.5,  524.5,  524.5,  524.5,  524.5,\n",
       "        524.5,  524.5,  834.5,  834.5,   30. ,   30. ,  524.5,  524.5,\n",
       "        524.5,  524.5,  524.5,  524.5,  524.5,  524.5,  140. ,  140. ,\n",
       "        140. ,  140. ,  524.5,  524.5,  524.5,  524.5,  140. ,  524.5,\n",
       "        524.5,  524.5,  524.5,  524.5,  524.5,  524.5,  524.5,  140. ,\n",
       "        140. ,  140. ,  140. ,  524.5,  524.5,  140. ,  140. ,  524.5,\n",
       "        524.5,  524.5,  524.5,  524.5,  524.5,  524.5,  524.5,  524.5,\n",
       "        524.5,  524.5,  524.5,  524.5,  524.5,  524.5,  524.5,   30. ,\n",
       "        524.5,  524.5,  524.5,  524.5,  524.5,  524.5,  524.5,  524.5,\n",
       "        524.5,  524.5,   30. ,  524.5,  524.5,  524.5,  524.5,  524.5,\n",
       "        524.5,  524.5,  524.5,  524.5,  524.5,  524.5,  524.5,  524.5,\n",
       "        524.5,  524.5,  524.5,  140. ,  140. ,  140. ,  140. ,  524.5,\n",
       "        524.5,  524.5,  524.5,  524.5,  524.5,  524.5,  524.5,  524.5,\n",
       "        524.5,  140. ,   30. ,  524.5,  524.5,  524.5,  524.5,  524.5,\n",
       "        524.5,   30. ,   30. ,  524.5,  524.5,  524.5,  524.5,  524.5,\n",
       "        524.5,  140. ,  140. ,  140. ,   30. ,   30. ,   30. ,  524.5,\n",
       "        524.5,  524.5,  524.5,  524.5,  524.5,  524.5,  524.5,  524.5,\n",
       "        524.5,  524.5,  524.5,  524.5,  524.5,  524.5,  524.5,  524.5,\n",
       "        524.5,  524.5,  524.5,  524.5,  524.5,  524.5,  524.5,  524.5,\n",
       "        524.5,  524.5,  524.5,  524.5,  524.5,  524.5,  524.5,  524.5,\n",
       "        524.5,  140. ,  140. ,  140. ,  140. ,  524.5,  524.5,  140. ,\n",
       "        524.5,  524.5,  140. ,  524.5,  524.5,  524.5,  524.5,  524.5,\n",
       "        524.5,  524.5,  524.5,  524.5,  524.5,  524.5,  524.5,  524.5,\n",
       "        524.5,  524.5,  524.5,  524.5,  524.5,  524.5,  524.5,  524.5,\n",
       "        524.5,  524.5,  524.5,  524.5,  524.5,  524.5,  524.5,  524.5,\n",
       "        524.5,  140. ,   30. ,  524.5,  524.5,  524.5,  524.5,   30. ,\n",
       "         30. ,  524.5,  524.5,  524.5,  524.5,  524.5,  524.5,  524.5,\n",
       "        524.5,  140. ,   30. ,  524.5,  524.5,  524.5,  524.5,  524.5,\n",
       "        524.5,  524.5,  524.5,  524.5,  524.5,  524.5,  524.5,  524.5,\n",
       "        524.5,  524.5,  524.5,  524.5,  524.5,  524.5,  524.5,   30. ,\n",
       "        524.5,  524.5,  140. ,  140. ,  524.5,  524.5,  524.5,  524.5,\n",
       "        524.5,  524.5,  524.5,  524.5,  524.5,  524.5,  524.5,  524.5,\n",
       "        140. ,  140. ,  140. ,   30. ,   30. ,  524.5,  524.5,  524.5,\n",
       "        524.5,  140. ,  140. ,  524.5,  524.5,  524.5,  524.5,   30. ,\n",
       "        524.5,  524.5,  140. ,  140. ,   30. ,  524.5,  524.5,  140. ,\n",
       "        140. ,  524.5,  524.5,  524.5,  524.5,  140. ,  140. ,  524.5,\n",
       "        524.5,  524.5,  524.5,   30. ,  524.5,  524.5,  524.5,  524.5,\n",
       "        524.5,  524.5,  524.5,  524.5,  140. ,  140. ,  524.5,  524.5,\n",
       "        140. ,  140. ,  524.5,  524.5,  524.5,  524.5,  140. ,  140. ,\n",
       "        524.5,  524.5,  524.5,  524.5,  524.5,  524.5,  524.5,  524.5,\n",
       "        524.5,  524.5,  524.5,  524.5,  524.5,  524.5,  524.5,  524.5,\n",
       "        524.5,  524.5,  140. ,  140. ,  524.5,  524.5,  140. ,  140. ,\n",
       "        524.5,  524.5,  524.5,  524.5,  524.5,  524.5,  524.5,  524.5,\n",
       "        524.5,  524.5,  524.5,  524.5,  140. ,  140. ,  140. ,  140. ,\n",
       "        524.5,  524.5,  140. ,   30. ,  140. ,  140. ,   30. ,  140. ,\n",
       "         30. ,   30. ,  524.5,  524.5,  140. ,  140. ,   30. ,  140. ,\n",
       "        140. ,  140. ,   30. ,   30. ,  140. ,   30. ,  140. ,  524.5,\n",
       "         30. ,  140. ,  140. ,  140. ,  140. ,  524.5,  140. ,   30. ,\n",
       "        140. ,   30. ,   30. ,   30. ,  524.5,  524.5,  140. ,  524.5,\n",
       "         30. ,   30. ,  524.5,  140. ,  140. ,  140. ,  524.5,  140. ,\n",
       "         30. ,  140. ,   30. ,  140. ,  140. ,  140. ,  140. ,  140. ,\n",
       "        140. ,  140. ,  140. ,  140. ,  140. ,  140. ,  140. ,   30. ,\n",
       "        140. ,   30. ,  524.5,  524.5,  140. ,  140. ,  140. ,  524.5,\n",
       "        140. ,  140. ,  140. ,  140. ,  140. ,  140. ,  524.5,   30. ])"
      ]
     },
     "execution_count": 37,
     "metadata": {},
     "output_type": "execute_result"
    }
   ],
   "source": [
    "stats.rankdata(level)"
   ]
  },
  {
   "cell_type": "code",
   "execution_count": 38,
   "id": "b9253552",
   "metadata": {},
   "outputs": [
    {
     "data": {
      "text/plain": [
       "array([ 385. ,  385. ,  385. ,  385. ,  385. ,  385. ,  385. ,  385. ,\n",
       "        385. ,  385. ,  385. ,  385. ,  385. ,  385. ,  385. ,  385. ,\n",
       "        385. ,  385. ,  385. ,  385. ,  385. ,  385. ,  791. ,  385. ,\n",
       "        385. ,  385. ,  385. ,  385. ,  385. ,  385. ,  385. ,  385. ,\n",
       "        385. ,  385. ,  385. ,  385. ,  385. ,  385. ,  385. ,  385. ,\n",
       "        385. ,  385. ,  385. ,  385. ,  385. ,  791. ,  791. ,  385. ,\n",
       "        385. ,  791. ,  385. ,  385. ,  385. ,  385. ,  385. ,  385. ,\n",
       "        385. ,  385. ,  385. ,  385. ,  385. ,  385. ,  385. ,  385. ,\n",
       "        385. ,  385. ,  385. ,  385. ,  385. ,  385. ,  791. ,  385. ,\n",
       "        385. ,  385. ,  385. ,  385. ,  385. ,  385. ,  385. ,  385. ,\n",
       "        385. ,  385. ,  385. ,  385. ,  385. ,  385. ,  385. ,  385. ,\n",
       "        385. ,  385. ,  385. ,  385. ,  385. ,  385. ,  385. ,  385. ,\n",
       "        385. ,  385. ,  385. ,  385. ,  385. ,  385. ,  385. ,  385. ,\n",
       "        385. ,  385. ,  385. ,  385. ,  385. ,  385. ,  385. ,  385. ,\n",
       "        385. ,  385. ,  385. ,  385. ,  385. ,  385. ,  385. ,  385. ,\n",
       "        385. ,  385. ,  385. ,  385. ,  385. ,  385. ,  385. ,  385. ,\n",
       "        385. ,  385. ,  385. ,  385. ,  385. ,  385. ,  385. ,  385. ,\n",
       "        385. ,  385. ,  385. ,  791. ,  385. ,  385. ,  385. ,  385. ,\n",
       "        385. ,  385. ,  385. ,  385. ,  385. ,  385. ,  385. ,  385. ,\n",
       "        385. ,  385. ,  385. ,  385. ,  385. ,  385. ,  385. ,  385. ,\n",
       "        385. ,  385. ,  385. ,  385. ,  385. ,  385. ,  385. ,  385. ,\n",
       "        385. ,  385. ,  791. ,  385. ,  385. ,  385. ,  385. ,  385. ,\n",
       "        385. ,  385. ,  385. ,  385. ,  385. ,  385. ,  385. ,  385. ,\n",
       "        385. ,  385. ,  385. ,  385. ,  385. ,  385. ,  385. ,  385. ,\n",
       "        385. ,  385. ,  385. ,  385. ,  385. ,  385. ,  385. ,  385. ,\n",
       "        385. ,  385. ,  385. ,  385. ,  385. ,  385. ,  385. ,  385. ,\n",
       "        385. ,  385. ,  385. ,  385. ,  385. ,  385. ,  791. ,  385. ,\n",
       "        385. ,  385. ,  385. ,  385. ,  385. ,  385. ,  385. ,  385. ,\n",
       "        385. ,  385. ,  385. ,  385. ,  385. ,  385. ,  385. ,  385. ,\n",
       "        385. ,  385. ,  791. ,  385. ,  385. ,  385. ,  385. ,  385. ,\n",
       "        385. ,  385. ,  385. ,  385. ,  791. ,  385. ,  385. ,  385. ,\n",
       "        385. ,  385. ,  385. ,  385. ,  385. ,  385. ,  385. ,  385. ,\n",
       "        385. ,  385. ,  385. ,   14.5,  385. ,  385. ,  791. ,  385. ,\n",
       "        385. ,  385. ,  385. ,  385. ,  385. ,  385. ,  385. ,  385. ,\n",
       "        385. ,  385. ,  385. ,  385. ,  385. ,  385. ,  385. ,  385. ,\n",
       "        385. ,  385. ,  385. ,  385. ,  791. ,  791. ,  385. ,  385. ,\n",
       "        385. ,  385. ,  385. ,  385. ,  385. ,  385. ,  385. ,  385. ,\n",
       "        385. ,  385. ,  385. ,  385. ,   14.5,  385. ,  385. ,  385. ,\n",
       "        385. ,  385. ,  385. ,  385. ,  385. ,  385. ,  385. ,  385. ,\n",
       "        385. ,  791. ,  385. ,  385. ,  385. ,  385. ,  385. ,  385. ,\n",
       "        385. ,  385. ,  385. ,  385. ,  791. ,  385. ,  385. ,  385. ,\n",
       "        385. ,  791. ,  385. ,  385. ,  385. ,  385. ,  385. ,  385. ,\n",
       "        385. ,  385. ,  385. ,  385. ,  385. ,  385. ,  385. ,  385. ,\n",
       "        385. ,  385. ,  385. ,  385. ,  385. ,  385. ,  385. ,  385. ,\n",
       "        385. ,  385. ,  385. ,  385. ,  385. ,  385. ,  385. ,  791. ,\n",
       "        385. ,  385. ,  385. ,  385. ,  385. ,  385. ,  385. ,  385. ,\n",
       "        385. ,  385. ,  385. ,  385. ,  385. ,  385. ,  385. ,  385. ,\n",
       "        385. ,  385. ,  791. ,  385. ,  385. ,  385. ,  385. ,  385. ,\n",
       "        385. ,  385. ,  385. ,  385. ,  385. ,  385. ,  385. ,  385. ,\n",
       "        385. ,  385. ,  385. ,  385. ,  385. ,  385. ,  385. ,  385. ,\n",
       "        385. ,  385. ,  385. ,  385. ,  385. ,  385. ,  385. ,  385. ,\n",
       "        385. ,  385. ,  385. ,  385. ,  385. ,  385. ,  385. ,  385. ,\n",
       "        385. ,  385. ,  385. ,  385. ,  385. ,  385. ,  385. ,  385. ,\n",
       "        385. ,  385. ,  385. ,  385. ,  385. ,  385. ,  385. ,  385. ,\n",
       "        385. ,  385. ,  385. ,  385. ,  385. ,  385. ,  385. ,  385. ,\n",
       "        385. ,  385. ,  385. ,  385. ,  385. ,  385. ,  385. ,  385. ,\n",
       "        385. ,  385. ,  385. ,  385. ,  385. ,  385. ,  385. ,  385. ,\n",
       "        385. ,  385. ,  385. ,  385. ,  385. ,  385. ,  385. ,  385. ,\n",
       "        385. ,  385. ,  385. ,  385. ,  385. ,  385. ,  385. ,  385. ,\n",
       "        385. ,  385. ,  385. ,  385. ,  385. ,  385. ,  385. ,  385. ,\n",
       "        385. ,  385. ,  385. ,  385. ,  385. ,  385. ,  385. ,  385. ,\n",
       "        385. ,  385. ,  385. ,  385. ,  385. ,  385. ,  385. ,  385. ,\n",
       "        385. ,  385. ,  385. ,  385. ,  385. ,  385. ,  385. ,  385. ,\n",
       "        385. ,  385. ,  385. ,  385. ,  385. ,  791. ,  791. ,  385. ,\n",
       "        385. ,  385. ,  791. ,  385. ,  385. ,  385. ,  385. ,  385. ,\n",
       "        385. ,  385. ,  385. ,  385. ,  385. ,  791. ,  791. ,  385. ,\n",
       "        385. ,  791. ,  385. ,  385. ,  791. ,  791. ,  791. ,  385. ,\n",
       "        385. ,  385. ,  385. ,  385. ,  385. ,  385. ,  385. ,  385. ,\n",
       "        385. ,  385. ,  385. ,  385. ,  385. ,  385. ,  385. ,  385. ,\n",
       "        385. ,  385. ,  385. ,   14.5,   14.5,  385. ,  385. ,  385. ,\n",
       "        385. ,  385. ,  385. ,  385. ,  385. ,  385. ,  385. ,  385. ,\n",
       "        385. ,  385. ,  385. ,  791. ,  791. ,  385. ,  385. ,   14.5,\n",
       "        791. ,  791. ,  385. ,  791. ,  791. ,  791. ,  791. ,  385. ,\n",
       "        385. ,  385. ,  385. ,  385. ,  385. ,  385. ,  385. ,  385. ,\n",
       "        385. ,  385. ,  385. ,  385. ,  385. ,  385. ,  385. ,  385. ,\n",
       "        385. ,  385. ,  385. ,  385. ,  385. ,  385. ,  385. ,  385. ,\n",
       "        385. ,  385. ,  385. ,  791. ,  791. ,  385. ,  385. ,  385. ,\n",
       "        385. ,  385. ,  385. ,  385. ,  385. ,  385. ,  385. ,  385. ,\n",
       "        385. ,  791. ,  385. ,  385. ,  385. ,  385. ,  385. ,  385. ,\n",
       "        385. ,  385. ,  385. ,  385. ,  385. ,  385. ,  385. ,  385. ,\n",
       "        385. ,  385. ,  385. ,  385. ,  385. ,  385. ,  385. ,  385. ,\n",
       "        385. ,  385. ,  385. ,  385. ,  385. ,  385. ,  385. ,  385. ,\n",
       "        385. ,  385. ,  385. ,  385. ,  385. ,  385. ,  791. ,  791. ,\n",
       "        385. ,  385. ,   14.5,  791. ,  385. ,  385. ,  385. ,  385. ,\n",
       "        385. ,  385. ,  385. ,  385. ,  385. ,  385. ,  385. ,  791. ,\n",
       "        791. ,  791. ,  791. ,  385. ,   14.5,  791. ,  791. ,   14.5,\n",
       "        385. ,  791. ,  791. ,  791. ,  791. ,  385. ,  791. ,  791. ,\n",
       "        791. ,  385. ,  385. ,   14.5,  791. ,  791. ,  385. ,  385. ,\n",
       "        791. ,  791. ,  385. ,  385. ,  385. ,  385. ,  385. ,  385. ,\n",
       "        385. ,  385. ,  385. ,  385. ,  791. ,  791. ,  385. ,  385. ,\n",
       "        385. ,  385. ,  385. ,  385. ,  385. ,  385. ,  385. ,  385. ,\n",
       "        385. ,  385. ,  385. ,  385. ,  791. ,  791. ,  385. ,  385. ,\n",
       "        385. ,  385. ,  385. ,  385. ,  385. ,  385. ,  385. ,  385. ,\n",
       "        385. ,  385. ,  385. ,  385. ,  385. ,  385. ,  385. ,  385. ,\n",
       "        385. ,  385. ,  385. ,  385. ,  385. ,  385. ,  385. ,  385. ,\n",
       "        385. ,  385. ,  791. ,  385. ,  791. ,  385. ,  791. ,  385. ,\n",
       "        791. ,  385. ,  385. ,  385. ,  791. ,  791. ,  385. ,  791. ,\n",
       "         14.5,  385. ,   14.5,  385. ,   14.5,  385. ,   14.5,  791. ,\n",
       "        791. ,  791. ,  385. ,  791. ,   14.5,  791. ,   14.5,  791. ,\n",
       "        791. ,  385. ,   14.5,  791. ,  791. ,  791. ,  791. ,  791. ,\n",
       "        791. ,  385. ,  385. ,   14.5,   14.5,  791. ,  791. ,  791. ,\n",
       "         14.5,  791. ,  385. ,  791. ,   14.5,  791. ,  385. ,  791. ,\n",
       "        791. ,  385. ,  791. ,  791. ,  791. ,   14.5,   14.5,   14.5,\n",
       "        791. ,   14.5,  791. ,   14.5,  791. ,  385. ,  385. ,   14.5,\n",
       "         14.5,  791. ,  791. ,  385. ,  385. ,  385. ,  791. ,   14.5])"
      ]
     },
     "execution_count": 38,
     "metadata": {},
     "output_type": "execute_result"
    }
   ],
   "source": [
    "stats.rankdata(size)"
   ]
  },
  {
   "cell_type": "code",
   "execution_count": 39,
   "id": "85a0757c",
   "metadata": {},
   "outputs": [
    {
     "data": {
      "text/plain": [
       "PearsonRResult(statistic=-0.093988928416355116, pvalue=0.0064099600120338159)"
      ]
     },
     "execution_count": 39,
     "metadata": {},
     "output_type": "execute_result"
    }
   ],
   "source": [
    "stats.pearsonr(stats.rankdata(level), stats.rankdata(size))"
   ]
  },
  {
   "cell_type": "markdown",
   "id": "4fbd938d",
   "metadata": {},
   "source": [
    "You know that in addition to showing you the Python code necessary to compute these statistics, I usually show you the mathematical formula for them too.  \n",
    "\n",
    "Spearman's $\\rho$, Spearman's rank-correlation, is what you get if you put **rank** the data sets and then compute the Pearson's $r$ for those ranks.  \n",
    "\n",
    "Rank is very similar to order, but not quite.  Consider the following array:"
   ]
  },
  {
   "cell_type": "code",
   "execution_count": null,
   "id": "09a230cf",
   "metadata": {},
   "outputs": [],
   "source": [
    "np.array([1, 2, 2, 5])"
   ]
  },
  {
   "cell_type": "markdown",
   "id": "770eed49",
   "metadata": {},
   "source": [
    "The ranks of this data would be np.array([1, 2.5, 2.5, 4]).  The lowest ranked item gets a 1, of course.  Likewise, the highest rank item get the $n$ value where $n$ is the number of items in the set.  **When there are ties**, the same number repeated, that is, the repeated numbers are given the same rank--and that same rank is the average of the \"raw ranks\" those repeated numbers would have received it they had been slightly different.  \n",
    "\n",
    "See, the two 2's would have been assigned 2 and 3.  So, they both get the average of 2 and 3, which is 2.5.  \n",
    "\n",
    "If the array had been np.array([10, 20, 20, 50]), the set of ranks would be the same.  "
   ]
  },
  {
   "cell_type": "code",
   "execution_count": 41,
   "id": "25273249",
   "metadata": {},
   "outputs": [
    {
     "data": {
      "text/plain": [
       "array([ 1. ,  2.5,  2.5,  4. ])"
      ]
     },
     "execution_count": 41,
     "metadata": {},
     "output_type": "execute_result"
    }
   ],
   "source": [
    "stats.rankdata(np.array([1,2,2,5]))"
   ]
  },
  {
   "cell_type": "code",
   "execution_count": 43,
   "id": "fee87e15",
   "metadata": {},
   "outputs": [
    {
     "data": {
      "text/plain": [
       "array([ 1. ,  2.5,  2.5,  4. ])"
      ]
     },
     "execution_count": 43,
     "metadata": {},
     "output_type": "execute_result"
    }
   ],
   "source": [
    "stats.rankdata(np.array([10, 20, 20, 50]))"
   ]
  },
  {
   "cell_type": "code",
   "execution_count": 45,
   "id": "7ee4bed0",
   "metadata": {},
   "outputs": [
    {
     "data": {
      "text/plain": [
       "array([ 1. ,  3. ,  3. ,  3. ,  5.5,  5.5])"
      ]
     },
     "execution_count": 45,
     "metadata": {},
     "output_type": "execute_result"
    }
   ],
   "source": [
    "stats.rankdata(np.array([12.2, 13,13,13, 45,45]))"
   ]
  },
  {
   "cell_type": "markdown",
   "id": "20f46ad4",
   "metadata": {},
   "source": [
    "The traditional Pearson's $r$ can be computed this way:\n",
    "\n",
    "\n",
    "$$ r = \\sqrt{\\frac{1}{n-1}\\sum_{i=1}^{n} \\left(\\frac{x_i - \\overline{x}}{S_x}\\right)\\left(\\frac{y_i - \\overline{y}}{S_y}\\right)}$$\n",
    "\n",
    "So Spearman's $\\rho$ is ultimately computed the same way, AFTER converting the raw data into ranks.  Which is why the $\\rho$ does not change is we change the labels from 1, 2 and 3 to 10, 20 and 30.  \n",
    "\n",
    "\n",
    "### The Included Hypothesis Test\n",
    "\n",
    "This output of `scipy.stats.spearmanr` includes a p-value.  What test is being run?\n",
    "\n",
    "$H_o: \\rho = 0$\n",
    "\n",
    "$H_a: \\rho \\not= 0$\n",
    "\n",
    "$\\displaystyle t = \\frac{\\rho \\sqrt{n-2}}{\\sqrt{1-\\rho^2}}$ and then the p-value is determined using the Student's $t$-distribution with $n-2$ degrees of freedom.  \n"
   ]
  },
  {
   "cell_type": "code",
   "execution_count": null,
   "id": "f1063695",
   "metadata": {},
   "outputs": [],
   "source": []
  },
  {
   "cell_type": "code",
   "execution_count": null,
   "id": "c75a3f77",
   "metadata": {},
   "outputs": [],
   "source": []
  },
  {
   "cell_type": "code",
   "execution_count": null,
   "id": "721f95bf",
   "metadata": {},
   "outputs": [],
   "source": []
  },
  {
   "cell_type": "code",
   "execution_count": null,
   "id": "ffcb9555",
   "metadata": {},
   "outputs": [],
   "source": []
  }
 ],
 "metadata": {
  "kernelspec": {
   "display_name": "Python 3 (ipykernel)",
   "language": "python",
   "name": "python3"
  },
  "language_info": {
   "codemirror_mode": {
    "name": "ipython",
    "version": 3
   },
   "file_extension": ".py",
   "mimetype": "text/x-python",
   "name": "python",
   "nbconvert_exporter": "python",
   "pygments_lexer": "ipython3",
   "version": "3.9.13"
  }
 },
 "nbformat": 4,
 "nbformat_minor": 5
}
