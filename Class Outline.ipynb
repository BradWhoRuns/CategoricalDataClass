{
 "cells": [
  {
   "cell_type": "markdown",
   "id": "7c1ffcd9",
   "metadata": {},
   "source": [
    "<span style=\"text-align: center;\">\n",
    "    \n",
    "# Categorical Data Analysis #\n",
    "\n",
    "    \n",
    "## Class Outline ##   \n",
    "</span>\n",
    "\n",
    "\n",
    "\n",
    "\n",
    "\n",
    "\n",
    "\n",
    "\n",
    "|Week|  Topic                             |  Lecture Notebook     | Homework  |  Quiz/Test  |\n",
    "|:-:|:-:|:-:|--:|:-:|\n",
    "| 1  | Types of Variables                  |  [Introduction](https://datahub.ung.edu/hub/user-redirect/git-pull?repo=https%3A%2F%2Fgithub.com%2FBradWhoRuns%2FCategoricalDataClass&urlpath=tree%2FCategoricalDataClass%2FCDA%2520Ntbk%25201%2520Introduction.ipynb&branch=main) | [HW1](https://datahub.ung.edu/hub/user-redirect/git-pull?repo=https%3A%2F%2Fgithub.com%2FBradWhoRuns%2FCategoricalDataClass&urlpath=tree%2FCategoricalDataClass%2FCDA_HW1.ipynb&branch=main) due | Quiz 1  |\n",
    "| 2  | Sensitivity, etc from Two-way tables| [Sen/Spec from Two-Ways](https://datahub.ung.edu/hub/user-redirect/git-pull?repo=https%3A%2F%2Fgithub.com%2FBradWhoRuns%2FCategoricalDataClass&urlpath=tree%2FCategoricalDataClass%2FCDA%2520Ntbk%25202%2520Sensitivity%2520and%2520Specificity%2520from%2520Two-Way%2520Tables.ipynb&branch=main)| [HW2](https://datahub.ung.edu/hub/user-redirect/git-pull?repo=https%3A%2F%2Fgithub.com%2FBradWhoRuns%2FCategoricalDataClass&urlpath=tree%2FCategoricalDataClass%2FCDA_HW2.ipynb&branch=main)  | Quiz 2  |\n",
    "| 3  | $\\chi^2$ Tests                      | [Chi-square Tests](https://datahub.ung.edu/hub/user-redirect/git-pull?repo=https%3A%2F%2Fgithub.com%2FBradWhoRuns%2FCategoricalDataClass&urlpath=tree%2FCategoricalDataClass%2FCDA%2520Ntbk%25203%2520Chi-square.ipynb&branch=main)              | HW2 Due  | Quiz 3  |\n",
    "| 4  | Odds Ratios, Confidence Intervals   | [Odds Ratio](https://datahub.ung.edu/hub/user-redirect/git-pull?repo=https%3A%2F%2Fgithub.com%2FBradWhoRuns%2FCategoricalDataClass&urlpath=tree%2FCategoricalDataClass%2FCDA%2520Ntbk%25204%2520Odds%2520Ratio%2520Conf%2520Int.ipynb&branch=main)| [HW3](https://datahub.ung.edu/hub/user-redirect/git-pull?repo=https%3A%2F%2Fgithub.com%2FBradWhoRuns%2FCategoricalDataClass&branch=main&urlpath=tree%2FCategoricalDataClass%2FCDA_HW3.ipynb) | Quiz 4  |\n",
    "| 5  | Spearman $\\rho$                     | [Spearman Rho](https://datahub.ung.edu/hub/user-redirect/git-pull?repo=https%3A%2F%2Fgithub.com%2FBradWhoRuns%2FCategoricalDataClass&urlpath=tree%2FCategoricalDataClass%2FCDA%2520Ntbk%25205%2520Spearmans%2520Rho.ipynb&branch=main) | HW3 Due   | Quiz 5  |\n",
    "| 6  | **Midterm EXAM**                    |    | | Midterm |\n",
    "| 7  | $M^2$-Test                          | [M2 Tests](https://datahub.ung.edu/hub/user-redirect/git-pull?repo=https%3A%2F%2Fgithub.com%2FBradWhoRuns%2FCategoricalDataClass&urlpath=tree%2FCategoricalDataClass%2FCDA%2520Ntbk%25206%2520M2%2520Tests.ipynb&branch=main)  | [HW4](https://datahub.ung.edu/hub/user-redirect/git-pull?repo=https%3A%2F%2Fgithub.com%2FBradWhoRuns%2FCategoricalDataClass&branch=main&urlpath=tree%2FCategoricalDataClass%2FCDA_HW4.ipynb)  |         |\n",
    "| 8  | Z-test for proportions and Binomial Tests | [Z-tests](https://datahub.ung.edu/hub/user-redirect/git-pull?repo=https%3A%2F%2Fgithub.com%2FBradWhoRuns%2FCategoricalDataClass&urlpath=tree%2FCategoricalDataClass%2FCDA%2520Ntbk%25207%2520Binomial%2520and%2520Z-Tests.ipynb&branch=main)              | HW4 Due  | Quiz 7  |\n",
    "| 9  | $G^2$   & Fisher's Exact tests     | [G2/Fishers](https://datahub.ung.edu/hub/user-redirect/git-pull?repo=https%3A%2F%2Fgithub.com%2FBradWhoRuns%2FCategoricalDataClass&urlpath=tree%2FCategoricalDataClass%2FCDA%2520Ntbk%25208%2520G%2520and%2520Fishers%2520.ipynb&branch=main) | [HW5](https://datahub.ung.edu/hub/user-redirect/git-pull?repo=https%3A%2F%2Fgithub.com%2FBradWhoRuns%2FCategoricalDataClass&branch=main&urlpath=tree%2FCategoricalDataClass%2FCDA_HW5.ipynb)  | Quiz 8  |\n",
    "| 10 | Train-Test Split                    | [Train-Test](https://datahub.ung.edu/hub/user-redirect/git-pull?repo=https%3A%2F%2Fgithub.com%2FBradWhoRuns%2FCategoricalDataClass&urlpath=tree%2FCategoricalDataClass%2FCDA%2520Ntbk%25209%2520Train%2520Test%2520Datasets.ipynb&branch=main)  | HW5 Due  |         |\n",
    "| 10 | Logistic Regression                 | [Logistic Regression](https://datahub.ung.edu/hub/user-redirect/git-pull?repo=https%3A%2F%2Fgithub.com%2FBradWhoRuns%2FCategoricalDataClass&urlpath=tree%2FCategoricalDataClass%2FCDA%2520Ntbk%252010%2520LogisticRegression.ipynb&branch=main)     | [HW6](https://datahub.ung.edu/hub/user-redirect/git-pull?repo=https%3A%2F%2Fgithub.com%2FBradWhoRuns%2FCategoricalDataClass&branch=main&urlpath=tree%2FCategoricalDataClass%2FCDA_HW6.ipynb)  | Quiz 9  |\n",
    "| 11 | Confusion Matrix and metrics        | [Confusion Matrix](https://datahub.ung.edu/hub/user-redirect/git-pull?repo=https%3A%2F%2Fgithub.com%2FBradWhoRuns%2FCategoricalDataClass&urlpath=tree%2FCategoricalDataClass%2FCDA%2520Ntbk%252011%2520Confusion%2520Matrix.ipynb&branch=main)   | HW6 Due  | Quiz 10 |\n",
    "| 12 | Decision Trees                      | [Decision Trees](https://datahub.ung.edu/hub/user-redirect/git-pull?repo=https%3A%2F%2Fgithub.com%2FBradWhoRuns%2FCategoricalDataClass&urlpath=tree%2FCategoricalDataClass%2FCDA%2520Ntbk%252012%2520Decision%2520Trees.ipynb&branch=main)     | [HW7](https://datahub.ung.edu/hub/user-redirect/git-pull?repo=https%3A%2F%2Fgithub.com%2FBradWhoRuns%2FCategoricalDataClass&branch=main&urlpath=tree%2FCategoricalDataClass%2FCDA_HW7.ipynb)  | Quiz 11 |\n",
    "| 13 | Work on End of Semester Project       |               | HW7 Due   | Quiz 12 |\n",
    "| 14 | Word Clouds (Maybe)                 | [Word Cloud](https://datahub.ung.edu/hub/user-redirect/git-pull?repo=https%3A%2F%2Fgithub.com%2FBradWhoRuns%2FCategoricalDataClass&urlpath=tree%2FCategoricalDataClass%2FCDA%2520Ntbk%252013%2520Word%2520Cloud.ipynb&branch=main)         |  |         |\n",
    "| 15 | Semester Wrap Up/Finish Project     |               |  | Final   |\n",
    "\n",
    "\n",
    "<span style=\"text-align: center;\">\n",
    "\n",
    "    \n",
    "    The usual disclaimer: \"This calendar is subject to change at any time, at the instructor's discretion.\"  \n",
    "\n",
    "</span>\n",
    "\n",
    "These notebooks are *very* long.  I do not intend for them to be covered in a single day of class.  I also do not intend for you to go over them alone, I'll be opening them and explaining their contents in class.  \n",
    "\n",
    "\n",
    "\n",
    "\n"
   ]
  },
  {
   "cell_type": "code",
   "execution_count": null,
   "id": "3497e533",
   "metadata": {},
   "outputs": [],
   "source": []
  }
 ],
 "metadata": {
  "kernelspec": {
   "display_name": "Python 3 (ipykernel)",
   "language": "python",
   "name": "python3"
  },
  "language_info": {
   "codemirror_mode": {
    "name": "ipython",
    "version": 3
   },
   "file_extension": ".py",
   "mimetype": "text/x-python",
   "name": "python",
   "nbconvert_exporter": "python",
   "pygments_lexer": "ipython3",
   "version": "3.9.13"
  }
 },
 "nbformat": 4,
 "nbformat_minor": 5
}
