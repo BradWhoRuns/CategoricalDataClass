{
 "cells": [
  {
   "cell_type": "markdown",
   "id": "195d693f",
   "metadata": {},
   "source": [
    "# The Confusion Matrix"
   ]
  },
  {
   "cell_type": "code",
   "execution_count": 23,
   "id": "5c977fab",
   "metadata": {},
   "outputs": [
    {
     "name": "stdout",
     "output_type": "stream",
     "text": [
      "Optimization terminated successfully.\n",
      "         Current function value: 0.213110\n",
      "         Iterations 8\n",
      "Optimization terminated successfully.\n",
      "         Current function value: 0.046569\n",
      "         Iterations 12\n",
      "Optimization terminated successfully.\n",
      "         Current function value: 0.152364\n",
      "         Iterations 8\n",
      "Optimization terminated successfully.\n",
      "         Current function value: 0.592395\n",
      "         Iterations 5\n"
     ]
    }
   ],
   "source": [
    "from datascience import *\n",
    "import numpy as np\n",
    "import pandas as pd \n",
    "\n",
    "%matplotlib inline\n",
    "import matplotlib.pyplot as plots\n",
    "plots.style.use('fivethirtyeight')\n",
    "\n",
    "import scipy.stats as stats\n",
    "import statsmodels.api as sm \n",
    "\n",
    "\n",
    "import warnings\n",
    "warnings.simplefilter(action=\"ignore\", category=FutureWarning)\n",
    "warnings.simplefilter(action=\"ignore\", category=np.VisibleDeprecationWarning)\n",
    "\n",
    "## We already covered logistic regression. But we want\n",
    "## to go over follow ups to logistic regression\n",
    "## so we need to reload those logistic regression models.  \n",
    "\n",
    "divorce = pd.read_csv(\"divorce2.csv\")\n",
    "\n",
    "x_vars = sm.add_constant(divorce[[ \"Atr1\"]])\n",
    "\n",
    "y_var = divorce[[\"Class\"]]\n",
    "\n",
    "log_reg1 = sm.Logit(y_var, x_vars).fit()\n",
    "\n",
    "y_hat1 = log_reg1.predict()\n",
    "\n",
    "x_vars = sm.add_constant(divorce[[\"Positive Scale\"]])\n",
    "\n",
    "log_reg_pos_scale = sm.Logit(y_var, x_vars).fit()\n",
    "\n",
    "y_hat2 = log_reg_pos_scale.predict()\n",
    "\n",
    "x_vars = divorce[[\"Intercept\", \"Atr39\"]]\n",
    "y_var = divorce[[\"Class\"]]\n",
    "\n",
    "log_reg3 = sm.Logit(y_var, x_vars).fit()\n",
    "\n",
    "y_hat3 = log_reg3.predict()\n",
    "\n",
    "alz = pd.read_csv(\"alzheimers_disease_data.csv\")\n",
    "\n",
    "name = \"ADL\"\n",
    "\n",
    "x_vars = sm.add_constant(alz[[name]])\n",
    "y_var = alz[[\"Diagnosis\"]]\n",
    "\n",
    "log_reg4 = sm.Logit(y_var, x_vars).fit()\n",
    "\n",
    "y_hat4 = log_reg4.predict()\n",
    "\n",
    "#Table().with_columns(\"Predictions\", y_hat4, name, alz[name].to_numpy()).plot(name)\n",
    "#plots.scatter(alz[[name]].to_numpy(), alz[[\"Diagnosis\"]].to_numpy());\n",
    "\n",
    "## When we first discussed Sens. Spec and all thot\n",
    "## we defined this custom function, let's use it again.\n",
    "\n",
    "def TwoWaySummary(x):\n",
    "    \"\"\" x must be a 2x2 table arranged T+ F-, F+ T-\"\"\"\n",
    "    a = x[[0],[0]][0]\n",
    "    b = x[[0],[1]][0]\n",
    "    c = x[[1],[0]][0]\n",
    "    d = x[[1],[1]][0]\n",
    "    \n",
    "    print(f\"sensitivity = {a/(a+c)}\\nspecificity = {d/(b+d)}\\nrelative risk = {a*(c+d)/(c*(a+b))}\\nodds ratio = {a*d/(b*c)}\\naccuracy = {(a+d)/(a+d+c+b)}\")\n",
    "    \n",
    "\n",
    "\n",
    "\n",
    "\n"
   ]
  },
  {
   "cell_type": "code",
   "execution_count": 24,
   "id": "719a5f83",
   "metadata": {},
   "outputs": [],
   "source": [
    "prediction_threshold = 0.5\n",
    "\n",
    "pred = (y_hat1 > prediction_threshold)"
   ]
  },
  {
   "cell_type": "code",
   "execution_count": 25,
   "id": "ebe99800",
   "metadata": {},
   "outputs": [
    {
     "data": {
      "text/plain": [
       "array([1, 1, 1, 1, 1, 0, 1, 1, 1, 0, 1, 1, 1, 1, 1, 1, 1, 1, 1, 1, 1, 1, 1,\n",
       "       1, 1, 1, 1, 1, 1, 1, 1, 1, 1, 1, 1, 1, 1, 1, 1, 1, 1, 1, 1, 1, 1, 1,\n",
       "       1, 1, 1, 1, 1, 1, 1, 1, 1, 1, 1, 1, 1, 1, 1, 1, 1, 1, 1, 1, 1, 1, 1,\n",
       "       1, 1, 1, 1, 1, 1, 1, 1, 1, 1, 1, 1, 1, 1, 1, 0, 0, 0, 0, 1, 0, 0, 0,\n",
       "       0, 0, 0, 0, 0, 0, 0, 0, 0, 0, 0, 0, 0, 0, 0, 0, 0, 0, 0, 0, 0, 0, 0,\n",
       "       0, 0, 0, 0, 0, 0, 0, 0, 0, 0, 0, 0, 0, 0, 0, 0, 0, 0, 0, 0, 0, 0, 0,\n",
       "       0, 1, 0, 0, 1, 1, 0, 0, 1, 0, 0, 0, 0, 0, 0, 1, 0, 1, 0, 0, 0, 0, 1,\n",
       "       0, 0, 1, 1, 0, 0, 0, 0, 0])"
      ]
     },
     "execution_count": 25,
     "metadata": {},
     "output_type": "execute_result"
    }
   ],
   "source": [
    "pred = pred.astype(\"int\")\n",
    "\n",
    "pred"
   ]
  },
  {
   "cell_type": "code",
   "execution_count": 26,
   "id": "3d376013",
   "metadata": {},
   "outputs": [
    {
     "data": {
      "text/plain": [
       "array([1, 1, 1, 1, 1, 1, 1, 1, 1, 1, 1, 1, 1, 1, 1, 1, 1, 1, 1, 1, 1, 1, 1,\n",
       "       1, 1, 1, 1, 1, 1, 1, 1, 1, 1, 1, 1, 1, 1, 1, 1, 1, 1, 1, 1, 1, 1, 1,\n",
       "       1, 1, 1, 1, 1, 1, 1, 1, 1, 1, 1, 1, 1, 1, 1, 1, 1, 1, 1, 1, 1, 1, 1,\n",
       "       1, 1, 1, 1, 1, 1, 1, 1, 1, 1, 1, 1, 1, 1, 1, 0, 0, 0, 0, 0, 0, 0, 0,\n",
       "       0, 0, 0, 0, 0, 0, 0, 0, 0, 0, 0, 0, 0, 0, 0, 0, 0, 0, 0, 0, 0, 0, 0,\n",
       "       0, 0, 0, 0, 0, 0, 0, 0, 0, 0, 0, 0, 0, 0, 0, 0, 0, 0, 0, 0, 0, 0, 0,\n",
       "       0, 0, 0, 0, 0, 0, 0, 0, 0, 0, 0, 0, 0, 0, 0, 0, 0, 0, 0, 0, 0, 0, 0,\n",
       "       0, 0, 0, 0, 0, 0, 0, 0, 0], dtype=int64)"
      ]
     },
     "execution_count": 26,
     "metadata": {},
     "output_type": "execute_result"
    }
   ],
   "source": [
    "actual = divorce[\"Class\"].to_numpy()\n",
    "\n",
    "actual"
   ]
  },
  {
   "cell_type": "code",
   "execution_count": 27,
   "id": "6540c4ca",
   "metadata": {},
   "outputs": [
    {
     "data": {
      "text/html": [
       "<table border=\"1\" class=\"dataframe\">\n",
       "    <thead>\n",
       "        <tr>\n",
       "            <th>Actual</th> <th>0</th> <th>1</th>\n",
       "        </tr>\n",
       "    </thead>\n",
       "    <tbody>\n",
       "        <tr>\n",
       "            <td>0     </td> <td>76  </td> <td>10  </td>\n",
       "        </tr>\n",
       "        <tr>\n",
       "            <td>1     </td> <td>2   </td> <td>82  </td>\n",
       "        </tr>\n",
       "    </tbody>\n",
       "</table>"
      ],
      "text/plain": [
       "Actual | 0    | 1\n",
       "0      | 76   | 10\n",
       "1      | 2    | 82"
      ]
     },
     "execution_count": 27,
     "metadata": {},
     "output_type": "execute_result"
    }
   ],
   "source": [
    "Table().with_columns(\"Pred\", pred, \"Actual\", actual).pivot(\"Pred\", \"Actual\")"
   ]
  },
  {
   "cell_type": "code",
   "execution_count": 28,
   "id": "bc1d93c4",
   "metadata": {},
   "outputs": [
    {
     "name": "stdout",
     "output_type": "stream",
     "text": [
      "sensitivity = 0.8837209302325582\n",
      "specificity = 0.9761904761904762\n",
      "relative risk = 37.116279069767444\n",
      "odds ratio = 311.6\n",
      "accuracy = 0.9294117647058824\n"
     ]
    }
   ],
   "source": [
    "x = np.array([[76,10],[2,82]])\n",
    "\n",
    "TwoWaySummary(x)"
   ]
  },
  {
   "cell_type": "code",
   "execution_count": 42,
   "id": "c2566bae",
   "metadata": {},
   "outputs": [
    {
     "name": "stdout",
     "output_type": "stream",
     "text": [
      "sensitivity = 0.9534883720930233\n",
      "specificity = 0.8809523809523809\n",
      "relative risk = 8.009302325581395\n",
      "odds ratio = 151.7\n",
      "accuracy = 0.9176470588235294\n"
     ]
    }
   ],
   "source": [
    "prediction_threshold = 0.8\n",
    "\n",
    "pred = (y_hat1 > prediction_threshold)\n",
    "pred = pred.astype(\"int\")\n",
    "actual = divorce[\"Class\"].to_numpy()\n",
    "\n",
    "con_table = Table().with_columns(\"Pred\", pred, \"Actual\", actual).pivot(\"Actual\", \"Pred\")\n",
    "\n",
    "row1 = con_table.column(1).tolist()\n",
    "row2 = con_table.column(2).tolist()\n",
    "\n",
    "TwoWaySummary(np.array([row1, row2]))\n"
   ]
  },
  {
   "cell_type": "code",
   "execution_count": 43,
   "id": "a808c37b",
   "metadata": {},
   "outputs": [
    {
     "name": "stdout",
     "output_type": "stream",
     "text": [
      "sensitivity = 0.8837209302325582\n",
      "specificity = 0.9761904761904762\n",
      "relative risk = 37.116279069767444\n",
      "odds ratio = 311.6\n",
      "accuracy = 0.9294117647058824\n"
     ]
    }
   ],
   "source": [
    "prediction_threshold = 0.3\n",
    "\n",
    "pred = (y_hat1 > prediction_threshold)\n",
    "pred = pred.astype(\"int\")\n",
    "actual = divorce[\"Class\"].to_numpy()\n",
    "\n",
    "con_table = Table().with_columns(\"Pred\", pred, \"Actual\", actual).pivot(\"Actual\", \"Pred\")\n",
    "\n",
    "row1 = con_table.column(1).tolist()\n",
    "row2 = con_table.column(2).tolist()\n",
    "\n",
    "TwoWaySummary(np.array([row1, row2]))"
   ]
  },
  {
   "cell_type": "code",
   "execution_count": null,
   "id": "e995de5c",
   "metadata": {},
   "outputs": [],
   "source": []
  }
 ],
 "metadata": {
  "kernelspec": {
   "display_name": "Python 3 (ipykernel)",
   "language": "python",
   "name": "python3"
  },
  "language_info": {
   "codemirror_mode": {
    "name": "ipython",
    "version": 3
   },
   "file_extension": ".py",
   "mimetype": "text/x-python",
   "name": "python",
   "nbconvert_exporter": "python",
   "pygments_lexer": "ipython3",
   "version": "3.9.13"
  }
 },
 "nbformat": 4,
 "nbformat_minor": 5
}
