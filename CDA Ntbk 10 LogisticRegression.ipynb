{
 "cells": [
  {
   "cell_type": "markdown",
   "id": "d8f72b74",
   "metadata": {},
   "source": [
    "# Logistic Regression\n",
    "\n",
    "## A prediction for binary response using a quantitative predictor.\n",
    "\n",
    "\n",
    "If you have a binary response and a quantitative predictor (we'll also be able to do logistic regression with categorical predictors too, but first let's do it with quantitative predictors).  \n",
    "\n",
    "![Logistic Curve](LogCurve.gif)\n"
   ]
  },
  {
   "cell_type": "code",
   "execution_count": 2,
   "id": "a55aede7",
   "metadata": {},
   "outputs": [],
   "source": [
    "from datascience import *\n",
    "import numpy as np\n",
    "import pandas as pd\n",
    "\n",
    "%matplotlib inline\n",
    "import matplotlib.pyplot as plots\n",
    "plots.style.use('fivethirtyeight')\n",
    "\n",
    "import scipy.stats as stats\n",
    "import statsmodels.api as sm \n",
    "\n",
    "import warnings\n",
    "warnings.simplefilter(action=\"ignore\", category=FutureWarning)\n",
    "warnings.simplefilter(action=\"ignore\", category=np.VisibleDeprecationWarning)\n"
   ]
  },
  {
   "cell_type": "code",
   "execution_count": 3,
   "id": "4b5fefe5",
   "metadata": {},
   "outputs": [
    {
     "data": {
      "text/html": [
       "<div>\n",
       "<style scoped>\n",
       "    .dataframe tbody tr th:only-of-type {\n",
       "        vertical-align: middle;\n",
       "    }\n",
       "\n",
       "    .dataframe tbody tr th {\n",
       "        vertical-align: top;\n",
       "    }\n",
       "\n",
       "    .dataframe thead th {\n",
       "        text-align: right;\n",
       "    }\n",
       "</style>\n",
       "<table border=\"1\" class=\"dataframe\">\n",
       "  <thead>\n",
       "    <tr style=\"text-align: right;\">\n",
       "      <th></th>\n",
       "      <th>Atr1</th>\n",
       "      <th>Atr2</th>\n",
       "      <th>Atr3</th>\n",
       "      <th>Atr4</th>\n",
       "      <th>Atr5</th>\n",
       "      <th>Atr6</th>\n",
       "      <th>Atr7</th>\n",
       "      <th>Atr8</th>\n",
       "      <th>Atr9</th>\n",
       "      <th>Atr10</th>\n",
       "      <th>...</th>\n",
       "      <th>Atr51</th>\n",
       "      <th>Atr52</th>\n",
       "      <th>Atr53</th>\n",
       "      <th>Atr54</th>\n",
       "      <th>Class</th>\n",
       "      <th>Positive Sum</th>\n",
       "      <th>Negative Sum</th>\n",
       "      <th>Intercept</th>\n",
       "      <th>Positive Scale</th>\n",
       "      <th>Negative Scale</th>\n",
       "    </tr>\n",
       "  </thead>\n",
       "  <tbody>\n",
       "    <tr>\n",
       "      <th>0</th>\n",
       "      <td>2</td>\n",
       "      <td>2</td>\n",
       "      <td>4</td>\n",
       "      <td>1</td>\n",
       "      <td>0</td>\n",
       "      <td>0</td>\n",
       "      <td>0</td>\n",
       "      <td>0</td>\n",
       "      <td>0</td>\n",
       "      <td>0</td>\n",
       "      <td>...</td>\n",
       "      <td>2</td>\n",
       "      <td>3</td>\n",
       "      <td>2</td>\n",
       "      <td>1</td>\n",
       "      <td>1</td>\n",
       "      <td>15</td>\n",
       "      <td>44</td>\n",
       "      <td>1</td>\n",
       "      <td>0.500000</td>\n",
       "      <td>1.833333</td>\n",
       "    </tr>\n",
       "    <tr>\n",
       "      <th>1</th>\n",
       "      <td>4</td>\n",
       "      <td>4</td>\n",
       "      <td>4</td>\n",
       "      <td>4</td>\n",
       "      <td>4</td>\n",
       "      <td>0</td>\n",
       "      <td>0</td>\n",
       "      <td>4</td>\n",
       "      <td>4</td>\n",
       "      <td>4</td>\n",
       "      <td>...</td>\n",
       "      <td>4</td>\n",
       "      <td>4</td>\n",
       "      <td>2</td>\n",
       "      <td>2</td>\n",
       "      <td>1</td>\n",
       "      <td>75</td>\n",
       "      <td>62</td>\n",
       "      <td>1</td>\n",
       "      <td>2.500000</td>\n",
       "      <td>2.583333</td>\n",
       "    </tr>\n",
       "    <tr>\n",
       "      <th>2</th>\n",
       "      <td>2</td>\n",
       "      <td>2</td>\n",
       "      <td>2</td>\n",
       "      <td>2</td>\n",
       "      <td>1</td>\n",
       "      <td>3</td>\n",
       "      <td>2</td>\n",
       "      <td>1</td>\n",
       "      <td>1</td>\n",
       "      <td>2</td>\n",
       "      <td>...</td>\n",
       "      <td>1</td>\n",
       "      <td>2</td>\n",
       "      <td>2</td>\n",
       "      <td>2</td>\n",
       "      <td>1</td>\n",
       "      <td>64</td>\n",
       "      <td>47</td>\n",
       "      <td>1</td>\n",
       "      <td>2.133333</td>\n",
       "      <td>1.958333</td>\n",
       "    </tr>\n",
       "    <tr>\n",
       "      <th>3</th>\n",
       "      <td>3</td>\n",
       "      <td>2</td>\n",
       "      <td>3</td>\n",
       "      <td>2</td>\n",
       "      <td>3</td>\n",
       "      <td>3</td>\n",
       "      <td>3</td>\n",
       "      <td>3</td>\n",
       "      <td>3</td>\n",
       "      <td>3</td>\n",
       "      <td>...</td>\n",
       "      <td>3</td>\n",
       "      <td>2</td>\n",
       "      <td>2</td>\n",
       "      <td>2</td>\n",
       "      <td>1</td>\n",
       "      <td>74</td>\n",
       "      <td>57</td>\n",
       "      <td>1</td>\n",
       "      <td>2.466667</td>\n",
       "      <td>2.375000</td>\n",
       "    </tr>\n",
       "    <tr>\n",
       "      <th>4</th>\n",
       "      <td>2</td>\n",
       "      <td>2</td>\n",
       "      <td>1</td>\n",
       "      <td>1</td>\n",
       "      <td>1</td>\n",
       "      <td>1</td>\n",
       "      <td>0</td>\n",
       "      <td>0</td>\n",
       "      <td>0</td>\n",
       "      <td>0</td>\n",
       "      <td>...</td>\n",
       "      <td>2</td>\n",
       "      <td>2</td>\n",
       "      <td>1</td>\n",
       "      <td>0</td>\n",
       "      <td>1</td>\n",
       "      <td>25</td>\n",
       "      <td>29</td>\n",
       "      <td>1</td>\n",
       "      <td>0.833333</td>\n",
       "      <td>1.208333</td>\n",
       "    </tr>\n",
       "    <tr>\n",
       "      <th>...</th>\n",
       "      <td>...</td>\n",
       "      <td>...</td>\n",
       "      <td>...</td>\n",
       "      <td>...</td>\n",
       "      <td>...</td>\n",
       "      <td>...</td>\n",
       "      <td>...</td>\n",
       "      <td>...</td>\n",
       "      <td>...</td>\n",
       "      <td>...</td>\n",
       "      <td>...</td>\n",
       "      <td>...</td>\n",
       "      <td>...</td>\n",
       "      <td>...</td>\n",
       "      <td>...</td>\n",
       "      <td>...</td>\n",
       "      <td>...</td>\n",
       "      <td>...</td>\n",
       "      <td>...</td>\n",
       "      <td>...</td>\n",
       "      <td>...</td>\n",
       "    </tr>\n",
       "    <tr>\n",
       "      <th>165</th>\n",
       "      <td>0</td>\n",
       "      <td>0</td>\n",
       "      <td>0</td>\n",
       "      <td>0</td>\n",
       "      <td>0</td>\n",
       "      <td>0</td>\n",
       "      <td>0</td>\n",
       "      <td>0</td>\n",
       "      <td>0</td>\n",
       "      <td>0</td>\n",
       "      <td>...</td>\n",
       "      <td>4</td>\n",
       "      <td>2</td>\n",
       "      <td>2</td>\n",
       "      <td>2</td>\n",
       "      <td>0</td>\n",
       "      <td>0</td>\n",
       "      <td>36</td>\n",
       "      <td>1</td>\n",
       "      <td>0.000000</td>\n",
       "      <td>1.500000</td>\n",
       "    </tr>\n",
       "    <tr>\n",
       "      <th>166</th>\n",
       "      <td>0</td>\n",
       "      <td>0</td>\n",
       "      <td>0</td>\n",
       "      <td>0</td>\n",
       "      <td>0</td>\n",
       "      <td>0</td>\n",
       "      <td>0</td>\n",
       "      <td>0</td>\n",
       "      <td>0</td>\n",
       "      <td>0</td>\n",
       "      <td>...</td>\n",
       "      <td>2</td>\n",
       "      <td>3</td>\n",
       "      <td>2</td>\n",
       "      <td>2</td>\n",
       "      <td>0</td>\n",
       "      <td>0</td>\n",
       "      <td>36</td>\n",
       "      <td>1</td>\n",
       "      <td>0.000000</td>\n",
       "      <td>1.500000</td>\n",
       "    </tr>\n",
       "    <tr>\n",
       "      <th>167</th>\n",
       "      <td>1</td>\n",
       "      <td>1</td>\n",
       "      <td>0</td>\n",
       "      <td>0</td>\n",
       "      <td>0</td>\n",
       "      <td>0</td>\n",
       "      <td>0</td>\n",
       "      <td>0</td>\n",
       "      <td>0</td>\n",
       "      <td>1</td>\n",
       "      <td>...</td>\n",
       "      <td>1</td>\n",
       "      <td>3</td>\n",
       "      <td>0</td>\n",
       "      <td>0</td>\n",
       "      <td>0</td>\n",
       "      <td>11</td>\n",
       "      <td>27</td>\n",
       "      <td>1</td>\n",
       "      <td>0.366667</td>\n",
       "      <td>1.125000</td>\n",
       "    </tr>\n",
       "    <tr>\n",
       "      <th>168</th>\n",
       "      <td>0</td>\n",
       "      <td>0</td>\n",
       "      <td>0</td>\n",
       "      <td>0</td>\n",
       "      <td>0</td>\n",
       "      <td>0</td>\n",
       "      <td>0</td>\n",
       "      <td>0</td>\n",
       "      <td>0</td>\n",
       "      <td>0</td>\n",
       "      <td>...</td>\n",
       "      <td>2</td>\n",
       "      <td>4</td>\n",
       "      <td>3</td>\n",
       "      <td>1</td>\n",
       "      <td>0</td>\n",
       "      <td>1</td>\n",
       "      <td>37</td>\n",
       "      <td>1</td>\n",
       "      <td>0.033333</td>\n",
       "      <td>1.541667</td>\n",
       "    </tr>\n",
       "    <tr>\n",
       "      <th>169</th>\n",
       "      <td>0</td>\n",
       "      <td>0</td>\n",
       "      <td>0</td>\n",
       "      <td>0</td>\n",
       "      <td>0</td>\n",
       "      <td>0</td>\n",
       "      <td>0</td>\n",
       "      <td>1</td>\n",
       "      <td>0</td>\n",
       "      <td>0</td>\n",
       "      <td>...</td>\n",
       "      <td>3</td>\n",
       "      <td>3</td>\n",
       "      <td>3</td>\n",
       "      <td>1</td>\n",
       "      <td>0</td>\n",
       "      <td>8</td>\n",
       "      <td>30</td>\n",
       "      <td>1</td>\n",
       "      <td>0.266667</td>\n",
       "      <td>1.250000</td>\n",
       "    </tr>\n",
       "  </tbody>\n",
       "</table>\n",
       "<p>170 rows × 60 columns</p>\n",
       "</div>"
      ],
      "text/plain": [
       "     Atr1  Atr2  Atr3  Atr4  Atr5  Atr6  Atr7  Atr8  Atr9  Atr10  ...  Atr51  \\\n",
       "0       2     2     4     1     0     0     0     0     0      0  ...      2   \n",
       "1       4     4     4     4     4     0     0     4     4      4  ...      4   \n",
       "2       2     2     2     2     1     3     2     1     1      2  ...      1   \n",
       "3       3     2     3     2     3     3     3     3     3      3  ...      3   \n",
       "4       2     2     1     1     1     1     0     0     0      0  ...      2   \n",
       "..    ...   ...   ...   ...   ...   ...   ...   ...   ...    ...  ...    ...   \n",
       "165     0     0     0     0     0     0     0     0     0      0  ...      4   \n",
       "166     0     0     0     0     0     0     0     0     0      0  ...      2   \n",
       "167     1     1     0     0     0     0     0     0     0      1  ...      1   \n",
       "168     0     0     0     0     0     0     0     0     0      0  ...      2   \n",
       "169     0     0     0     0     0     0     0     1     0      0  ...      3   \n",
       "\n",
       "     Atr52  Atr53  Atr54  Class  Positive Sum  Negative Sum  Intercept  \\\n",
       "0        3      2      1      1            15            44          1   \n",
       "1        4      2      2      1            75            62          1   \n",
       "2        2      2      2      1            64            47          1   \n",
       "3        2      2      2      1            74            57          1   \n",
       "4        2      1      0      1            25            29          1   \n",
       "..     ...    ...    ...    ...           ...           ...        ...   \n",
       "165      2      2      2      0             0            36          1   \n",
       "166      3      2      2      0             0            36          1   \n",
       "167      3      0      0      0            11            27          1   \n",
       "168      4      3      1      0             1            37          1   \n",
       "169      3      3      1      0             8            30          1   \n",
       "\n",
       "     Positive Scale  Negative Scale  \n",
       "0          0.500000        1.833333  \n",
       "1          2.500000        2.583333  \n",
       "2          2.133333        1.958333  \n",
       "3          2.466667        2.375000  \n",
       "4          0.833333        1.208333  \n",
       "..              ...             ...  \n",
       "165        0.000000        1.500000  \n",
       "166        0.000000        1.500000  \n",
       "167        0.366667        1.125000  \n",
       "168        0.033333        1.541667  \n",
       "169        0.266667        1.250000  \n",
       "\n",
       "[170 rows x 60 columns]"
      ]
     },
     "execution_count": 3,
     "metadata": {},
     "output_type": "execute_result"
    }
   ],
   "source": [
    "divorce = pd.read_csv(\"divorce2.csv\")\n",
    "\n",
    "divorce"
   ]
  },
  {
   "cell_type": "markdown",
   "id": "6090160a",
   "metadata": {},
   "source": [
    "I found this [Split or Stay: Divorce Predictor Dataset](https://www.kaggle.com/datasets/rabieelkharoua/split-or-stay-divorce-predictor-dataset/data) on Kaggle.  I copied the rest of this Markdown cell directly from the description of the data set on the webpage.  \n",
    "\n",
    "There are 54 questions, labeled Atr1 to Atr54, corresponding to Question 1 to Question 54.\n",
    "\n",
    "The last column is the status column, which indicates whether the individual is 'Married' or 'Divorced'. It is represented by a Boolean variable, where 'Married' is represented as '1' and 'Divorced' as '0'.\"\n",
    "\n",
    "Survey questions:\n",
    "1.  When one of our apologies apologizes when our discussions go in a bad direction, the issue does not extend.\n",
    "2.  I know we can ignore our differences, even if things get hard sometimes.\n",
    "3.  When we need it, we can take our discussions with my wife from the beginning and correct it.\n",
    "4.  When I argue with my wife, it will eventually work for me to contact him.\n",
    "5.  The time I spent with my wife is special for us.\n",
    "6.  We don't have time at home as partners.\n",
    "7.  We are like two strangers who share the same environment at home rather than family.\n",
    "8.  I enjoy our holidays with my wife.\n",
    "9.  I enjoy traveling with my wife.\n",
    "10.  My wife and most of our goals are common.\n",
    "11.  I think that one day in the future, when I look back, I see that my wife and I are in harmony with each other.\n",
    "12.  My wife and I have similar values in terms of personal freedom.\n",
    "13.  My husband and I have similar entertainment.\n",
    "14.  Most of our goals for people (children, friends, etc.) are the same.\n",
    "15.  Our dreams of living with my wife are similar and harmonious\n",
    "16.  We're compatible with my wife about what love should be\n",
    "17.  We share the same views with my wife about being happy in your life\n",
    "18.  My wife and I have similar ideas about how marriage should be\n",
    "19.  My wife and I have similar ideas about how roles should be in marriage\n",
    "20.  My wife and I have similar values in trust\n",
    "21.  I know exactly what my wife likes.\n",
    "22.  I know how my wife wants to be taken care of when she's sick.\n",
    "23.  I know my wife's favorite food.\n",
    "24.  I can tell you what kind of stress my wife is facing in her life.\n",
    "25.  I have knowledge of my wife's inner world.\n",
    "26.  I know my wife's basic concerns.\n",
    "27.  I know what my wife's current sources of stress are.\n",
    "28.  I know my wife's hopes and wishes.\n",
    "29.  I know my wife very well.\n",
    "30.  I know my wife's friends and their social relationships.\n",
    "31.  I feel aggressive when I argue with my wife.\n",
    "32.  When discussing with my wife, I usually use expressions such as …..\n",
    "33.  I can use negative statements about my wife's personality during our discussions.\n",
    "34.  I can use offensive expressions during our discussions.\n",
    "35.  I can insult our discussions.\n",
    "36.  I can be humiliating when we argue.\n",
    "37.  My argument with my wife is not calm.\n",
    "38.  I hate my wife's way of bringing it up.\n",
    "39.  Fights often occur suddenly.\n",
    "40.  We're just starting a fight before I know what's going on.\n",
    "41.  When I talk to my wife about something, my calm suddenly breaks.\n",
    "42.  When I argue with my wife, it only snaps in and I don't say a word.\n",
    "43.  I'm mostly thirsty to calm the environment a little bit.\n",
    "44.  Sometimes I think it's good for me to leave home for a while.\n",
    "45.  I'd rather stay silent than argue with my wife.\n",
    "46.  Even if I'm right in the argument, I'm thirsty not to upset the other side.\n",
    "47.  When I argue with my wife, I remain silent because I am afraid of not being able to control my anger.\n",
    "48.  I feel right in our discussions.\n",
    "49.  I have nothing to do with what I've been accused of.\n",
    "50.  I'm not actually the one who's guilty about what I'm accused of.\n",
    "51.  I'm not the one who's wrong about problems at home.\n",
    "52.  I wouldn't hesitate to tell her about my wife's inadequacy.\n",
    "53.  When I discuss it, I remind her of my wife's inadequate issues.\n",
    "54.  I'm not afraid to tell her about my wife's incompetence."
   ]
  },
  {
   "cell_type": "markdown",
   "id": "af3ae2e4",
   "metadata": {},
   "source": [
    "We can run a logistic regression using this code below.  "
   ]
  },
  {
   "cell_type": "code",
   "execution_count": 111,
   "id": "b085e8f2",
   "metadata": {},
   "outputs": [
    {
     "name": "stdout",
     "output_type": "stream",
     "text": [
      "Optimization terminated successfully.\n",
      "         Current function value: 0.213110\n",
      "         Iterations 8\n"
     ]
    },
    {
     "data": {
      "text/html": [
       "<table class=\"simpletable\">\n",
       "<caption>Logit Regression Results</caption>\n",
       "<tr>\n",
       "  <th>Dep. Variable:</th>         <td>Class</td>      <th>  No. Observations:  </th>  <td>   170</td>  \n",
       "</tr>\n",
       "<tr>\n",
       "  <th>Model:</th>                 <td>Logit</td>      <th>  Df Residuals:      </th>  <td>   168</td>  \n",
       "</tr>\n",
       "<tr>\n",
       "  <th>Method:</th>                 <td>MLE</td>       <th>  Df Model:          </th>  <td>     1</td>  \n",
       "</tr>\n",
       "<tr>\n",
       "  <th>Date:</th>            <td>Sun, 30 Jun 2024</td> <th>  Pseudo R-squ.:     </th>  <td>0.6925</td>  \n",
       "</tr>\n",
       "<tr>\n",
       "  <th>Time:</th>                <td>17:38:26</td>     <th>  Log-Likelihood:    </th> <td> -36.229</td> \n",
       "</tr>\n",
       "<tr>\n",
       "  <th>converged:</th>             <td>True</td>       <th>  LL-Null:           </th> <td> -117.82</td> \n",
       "</tr>\n",
       "<tr>\n",
       "  <th>Covariance Type:</th>     <td>nonrobust</td>    <th>  LLR p-value:       </th> <td>2.274e-37</td>\n",
       "</tr>\n",
       "</table>\n",
       "<table class=\"simpletable\">\n",
       "<tr>\n",
       "    <td></td>       <th>coef</th>     <th>std err</th>      <th>z</th>      <th>P>|z|</th>  <th>[0.025</th>    <th>0.975]</th>  \n",
       "</tr>\n",
       "<tr>\n",
       "  <th>const</th> <td>   -3.8786</td> <td>    0.680</td> <td>   -5.702</td> <td> 0.000</td> <td>   -5.212</td> <td>   -2.546</td>\n",
       "</tr>\n",
       "<tr>\n",
       "  <th>Atr1</th>  <td>    2.0682</td> <td>    0.291</td> <td>    7.110</td> <td> 0.000</td> <td>    1.498</td> <td>    2.638</td>\n",
       "</tr>\n",
       "</table>"
      ],
      "text/plain": [
       "<class 'statsmodels.iolib.summary.Summary'>\n",
       "\"\"\"\n",
       "                           Logit Regression Results                           \n",
       "==============================================================================\n",
       "Dep. Variable:                  Class   No. Observations:                  170\n",
       "Model:                          Logit   Df Residuals:                      168\n",
       "Method:                           MLE   Df Model:                            1\n",
       "Date:                Sun, 30 Jun 2024   Pseudo R-squ.:                  0.6925\n",
       "Time:                        17:38:26   Log-Likelihood:                -36.229\n",
       "converged:                       True   LL-Null:                       -117.82\n",
       "Covariance Type:            nonrobust   LLR p-value:                 2.274e-37\n",
       "==============================================================================\n",
       "                 coef    std err          z      P>|z|      [0.025      0.975]\n",
       "------------------------------------------------------------------------------\n",
       "const         -3.8786      0.680     -5.702      0.000      -5.212      -2.546\n",
       "Atr1           2.0682      0.291      7.110      0.000       1.498       2.638\n",
       "==============================================================================\n",
       "\"\"\""
      ]
     },
     "execution_count": 111,
     "metadata": {},
     "output_type": "execute_result"
    }
   ],
   "source": [
    "x_vars = sm.add_constant(divorce[[ \"Atr1\"]])\n",
    "\n",
    "y_var = divorce[[\"Class\"]]\n",
    "\n",
    "log_reg1 = sm.Logit(y_var, x_vars).fit()\n",
    "\n",
    "log_reg1.summary()"
   ]
  },
  {
   "cell_type": "code",
   "execution_count": 166,
   "id": "ef0b91df",
   "metadata": {
    "scrolled": true
   },
   "outputs": [
    {
     "data": {
      "text/plain": [
       "array([ 0.56409872,  0.98780247,  0.56409872,  0.91101012,  0.56409872,\n",
       "        0.02026033,  0.91101012,  0.56409872,  0.56409872,  0.14058926,\n",
       "        0.98780247,  0.98780247,  0.91101012,  0.91101012,  0.91101012,\n",
       "        0.98780247,  0.98780247,  0.98780247,  0.91101012,  0.98780247,\n",
       "        0.98780247,  0.98780247,  0.91101012,  0.91101012,  0.98780247,\n",
       "        0.91101012,  0.91101012,  0.91101012,  0.91101012,  0.98780247,\n",
       "        0.91101012,  0.98780247,  0.98780247,  0.91101012,  0.91101012,\n",
       "        0.91101012,  0.98780247,  0.91101012,  0.91101012,  0.98780247,\n",
       "        0.91101012,  0.98780247,  0.91101012,  0.91101012,  0.98780247,\n",
       "        0.91101012,  0.91101012,  0.91101012,  0.98780247,  0.91101012,\n",
       "        0.98780247,  0.91101012,  0.98780247,  0.91101012,  0.98780247,\n",
       "        0.98780247,  0.91101012,  0.91101012,  0.91101012,  0.91101012,\n",
       "        0.91101012,  0.91101012,  0.91101012,  0.91101012,  0.91101012,\n",
       "        0.91101012,  0.91101012,  0.98780247,  0.91101012,  0.98780247,\n",
       "        0.91101012,  0.56409872,  0.91101012,  0.98780247,  0.91101012,\n",
       "        0.98780247,  0.91101012,  0.56409872,  0.91101012,  0.98780247,\n",
       "        0.56409872,  0.98780247,  0.98780247,  0.91101012,  0.02026033,\n",
       "        0.02026033,  0.02026033,  0.02026033,  0.98780247,  0.02026033,\n",
       "        0.02026033,  0.02026033,  0.14058926,  0.02026033,  0.02026033,\n",
       "        0.02026033,  0.02026033,  0.02026033,  0.02026033,  0.02026033,\n",
       "        0.02026033,  0.02026033,  0.02026033,  0.02026033,  0.02026033,\n",
       "        0.02026033,  0.02026033,  0.02026033,  0.02026033,  0.02026033,\n",
       "        0.02026033,  0.14058926,  0.02026033,  0.02026033,  0.02026033,\n",
       "        0.02026033,  0.02026033,  0.02026033,  0.02026033,  0.02026033,\n",
       "        0.02026033,  0.02026033,  0.02026033,  0.02026033,  0.02026033,\n",
       "        0.02026033,  0.02026033,  0.02026033,  0.02026033,  0.02026033,\n",
       "        0.02026033,  0.02026033,  0.02026033,  0.14058926,  0.14058926,\n",
       "        0.02026033,  0.02026033,  0.02026033,  0.02026033,  0.91101012,\n",
       "        0.02026033,  0.02026033,  0.98780247,  0.91101012,  0.02026033,\n",
       "        0.02026033,  0.56409872,  0.02026033,  0.02026033,  0.02026033,\n",
       "        0.02026033,  0.02026033,  0.14058926,  0.56409872,  0.14058926,\n",
       "        0.56409872,  0.02026033,  0.02026033,  0.02026033,  0.02026033,\n",
       "        0.56409872,  0.14058926,  0.02026033,  0.56409872,  0.56409872,\n",
       "        0.02026033,  0.02026033,  0.14058926,  0.02026033,  0.02026033])"
      ]
     },
     "execution_count": 166,
     "metadata": {},
     "output_type": "execute_result"
    }
   ],
   "source": [
    "y_hat1 = log_reg1.predict()\n",
    "\n",
    "y_hat1"
   ]
  },
  {
   "cell_type": "code",
   "execution_count": 167,
   "id": "813f37d0",
   "metadata": {},
   "outputs": [
    {
     "data": {
      "image/png": "[encoded data removed]",
      "text/plain": [
       "<Figure size 600x600 with 1 Axes>"
      ]
     },
     "metadata": {},
     "output_type": "display_data"
    }
   ],
   "source": [
    "Table().with_columns(\"Predictions\", y_hat, \"Attribute 1\", divorce[\"Atr1\"].to_numpy()).plot(\"Attribute 1\")\n",
    "plots.scatter(divorce[\"Atr1\"].to_numpy(), divorce[\"Class\"].to_numpy());"
   ]
  },
  {
   "cell_type": "markdown",
   "id": "3681b831",
   "metadata": {},
   "source": [
    "If you read the items it would seem that items 1-30 are mostly positively coded and the rest are negatively coded.  So, we created four new variables, the sums and averages of the positively and negatively coded variables.  "
   ]
  },
  {
   "cell_type": "code",
   "execution_count": 127,
   "id": "75733bfb",
   "metadata": {},
   "outputs": [
    {
     "name": "stdout",
     "output_type": "stream",
     "text": [
      "Optimization terminated successfully.\n",
      "         Current function value: 0.046569\n",
      "         Iterations 12\n"
     ]
    },
    {
     "data": {
      "text/html": [
       "<table class=\"simpletable\">\n",
       "<caption>Logit Regression Results</caption>\n",
       "<tr>\n",
       "  <th>Dep. Variable:</th>         <td>Class</td>      <th>  No. Observations:  </th>  <td>   170</td>  \n",
       "</tr>\n",
       "<tr>\n",
       "  <th>Model:</th>                 <td>Logit</td>      <th>  Df Residuals:      </th>  <td>   168</td>  \n",
       "</tr>\n",
       "<tr>\n",
       "  <th>Method:</th>                 <td>MLE</td>       <th>  Df Model:          </th>  <td>     1</td>  \n",
       "</tr>\n",
       "<tr>\n",
       "  <th>Date:</th>            <td>Sun, 30 Jun 2024</td> <th>  Pseudo R-squ.:     </th>  <td>0.9328</td>  \n",
       "</tr>\n",
       "<tr>\n",
       "  <th>Time:</th>                <td>17:47:15</td>     <th>  Log-Likelihood:    </th> <td> -7.9166</td> \n",
       "</tr>\n",
       "<tr>\n",
       "  <th>converged:</th>             <td>True</td>       <th>  LL-Null:           </th> <td> -117.82</td> \n",
       "</tr>\n",
       "<tr>\n",
       "  <th>Covariance Type:</th>     <td>nonrobust</td>    <th>  LLR p-value:       </th> <td>9.934e-50</td>\n",
       "</tr>\n",
       "</table>\n",
       "<table class=\"simpletable\">\n",
       "<tr>\n",
       "         <td></td>           <th>coef</th>     <th>std err</th>      <th>z</th>      <th>P>|z|</th>  <th>[0.025</th>    <th>0.975]</th>  \n",
       "</tr>\n",
       "<tr>\n",
       "  <th>const</th>          <td>   -7.3300</td> <td>    1.921</td> <td>   -3.815</td> <td> 0.000</td> <td>  -11.096</td> <td>   -3.564</td>\n",
       "</tr>\n",
       "<tr>\n",
       "  <th>Positive Scale</th> <td>    9.7004</td> <td>    3.214</td> <td>    3.018</td> <td> 0.003</td> <td>    3.401</td> <td>   16.000</td>\n",
       "</tr>\n",
       "</table><br/><br/>Possibly complete quasi-separation: A fraction 0.46 of observations can be<br/>perfectly predicted. This might indicate that there is complete<br/>quasi-separation. In this case some parameters will not be identified."
      ],
      "text/plain": [
       "<class 'statsmodels.iolib.summary.Summary'>\n",
       "\"\"\"\n",
       "                           Logit Regression Results                           \n",
       "==============================================================================\n",
       "Dep. Variable:                  Class   No. Observations:                  170\n",
       "Model:                          Logit   Df Residuals:                      168\n",
       "Method:                           MLE   Df Model:                            1\n",
       "Date:                Sun, 30 Jun 2024   Pseudo R-squ.:                  0.9328\n",
       "Time:                        17:47:15   Log-Likelihood:                -7.9166\n",
       "converged:                       True   LL-Null:                       -117.82\n",
       "Covariance Type:            nonrobust   LLR p-value:                 9.934e-50\n",
       "==================================================================================\n",
       "                     coef    std err          z      P>|z|      [0.025      0.975]\n",
       "----------------------------------------------------------------------------------\n",
       "const             -7.3300      1.921     -3.815      0.000     -11.096      -3.564\n",
       "Positive Scale     9.7004      3.214      3.018      0.003       3.401      16.000\n",
       "==================================================================================\n",
       "\n",
       "Possibly complete quasi-separation: A fraction 0.46 of observations can be\n",
       "perfectly predicted. This might indicate that there is complete\n",
       "quasi-separation. In this case some parameters will not be identified.\n",
       "\"\"\""
      ]
     },
     "execution_count": 127,
     "metadata": {},
     "output_type": "execute_result"
    }
   ],
   "source": [
    "x_vars = sm.add_constant(divorce[[\"Positive Scale\"]])\n",
    "\n",
    "log_reg_pos_scale = sm.Logit(y_var, x_vars).fit()\n",
    "\n",
    "log_reg_pos_scale.summary()"
   ]
  },
  {
   "cell_type": "code",
   "execution_count": 134,
   "id": "d4fa3729",
   "metadata": {},
   "outputs": [],
   "source": [
    "y_hat2 = log_reg_pos_scale.predict()\n",
    "\n",
    "#y_hat2"
   ]
  },
  {
   "cell_type": "code",
   "execution_count": 168,
   "id": "30f023cb",
   "metadata": {},
   "outputs": [
    {
     "data": {
      "image/png": "[encoded data removed]",
      "text/plain": [
       "<Figure size 600x600 with 1 Axes>"
      ]
     },
     "metadata": {},
     "output_type": "display_data"
    }
   ],
   "source": [
    "Table().with_columns(\"Prob. Stay Married\", y_hat2, \"Positive Scale\", divorce[\"Positive Scale\"].to_numpy()).plot(\"Positive Scale\")\n",
    "plots.scatter(divorce[\"Positive Scale\"].to_numpy(), divorce[\"Class\"].to_numpy());"
   ]
  },
  {
   "cell_type": "markdown",
   "id": "72e04f2d",
   "metadata": {},
   "source": [
    "Recall, in this divorce data set a 1 under Class means that the couple did not divorce, they stayed married.  So this data shows that if you and your spouse rate high on first set of questions (1 to 30), you are very likely to stay married.  \n",
    "\n",
    "In a homework, you'll look into using some of the other variables in a logistic regression.  \n"
   ]
  },
  {
   "cell_type": "code",
   "execution_count": 93,
   "id": "982fa5f9",
   "metadata": {},
   "outputs": [
    {
     "name": "stdout",
     "output_type": "stream",
     "text": [
      "Optimization terminated successfully.\n",
      "         Current function value: 0.152364\n",
      "         Iterations 8\n"
     ]
    }
   ],
   "source": [
    "x_vars = divorce[[\"Intercept\", \"Atr39\"]]\n",
    "y_var = divorce[[\"Class\"]]\n",
    "\n",
    "log_reg3 = sm.Logit(y_var, x_vars).fit()"
   ]
  },
  {
   "cell_type": "code",
   "execution_count": 94,
   "id": "9cfcfc62",
   "metadata": {},
   "outputs": [
    {
     "data": {
      "text/html": [
       "<table class=\"simpletable\">\n",
       "<caption>Logit Regression Results</caption>\n",
       "<tr>\n",
       "  <th>Dep. Variable:</th>         <td>Class</td>      <th>  No. Observations:  </th>  <td>   170</td>  \n",
       "</tr>\n",
       "<tr>\n",
       "  <th>Model:</th>                 <td>Logit</td>      <th>  Df Residuals:      </th>  <td>   168</td>  \n",
       "</tr>\n",
       "<tr>\n",
       "  <th>Method:</th>                 <td>MLE</td>       <th>  Df Model:          </th>  <td>     1</td>  \n",
       "</tr>\n",
       "<tr>\n",
       "  <th>Date:</th>            <td>Sun, 30 Jun 2024</td> <th>  Pseudo R-squ.:     </th>  <td>0.7802</td>  \n",
       "</tr>\n",
       "<tr>\n",
       "  <th>Time:</th>                <td>16:54:28</td>     <th>  Log-Likelihood:    </th> <td> -25.902</td> \n",
       "</tr>\n",
       "<tr>\n",
       "  <th>converged:</th>             <td>True</td>       <th>  LL-Null:           </th> <td> -117.82</td> \n",
       "</tr>\n",
       "<tr>\n",
       "  <th>Covariance Type:</th>     <td>nonrobust</td>    <th>  LLR p-value:       </th> <td>7.022e-42</td>\n",
       "</tr>\n",
       "</table>\n",
       "<table class=\"simpletable\">\n",
       "<tr>\n",
       "      <td></td>         <th>coef</th>     <th>std err</th>      <th>z</th>      <th>P>|z|</th>  <th>[0.025</th>    <th>0.975]</th>  \n",
       "</tr>\n",
       "<tr>\n",
       "  <th>Intercept</th> <td>   -5.1489</td> <td>    0.879</td> <td>   -5.859</td> <td> 0.000</td> <td>   -6.871</td> <td>   -3.426</td>\n",
       "</tr>\n",
       "<tr>\n",
       "  <th>Atr39</th>     <td>    2.4311</td> <td>    0.389</td> <td>    6.247</td> <td> 0.000</td> <td>    1.668</td> <td>    3.194</td>\n",
       "</tr>\n",
       "</table>"
      ],
      "text/plain": [
       "<class 'statsmodels.iolib.summary.Summary'>\n",
       "\"\"\"\n",
       "                           Logit Regression Results                           \n",
       "==============================================================================\n",
       "Dep. Variable:                  Class   No. Observations:                  170\n",
       "Model:                          Logit   Df Residuals:                      168\n",
       "Method:                           MLE   Df Model:                            1\n",
       "Date:                Sun, 30 Jun 2024   Pseudo R-squ.:                  0.7802\n",
       "Time:                        16:54:28   Log-Likelihood:                -25.902\n",
       "converged:                       True   LL-Null:                       -117.82\n",
       "Covariance Type:            nonrobust   LLR p-value:                 7.022e-42\n",
       "==============================================================================\n",
       "                 coef    std err          z      P>|z|      [0.025      0.975]\n",
       "------------------------------------------------------------------------------\n",
       "Intercept     -5.1489      0.879     -5.859      0.000      -6.871      -3.426\n",
       "Atr39          2.4311      0.389      6.247      0.000       1.668       3.194\n",
       "==============================================================================\n",
       "\"\"\""
      ]
     },
     "execution_count": 94,
     "metadata": {},
     "output_type": "execute_result"
    }
   ],
   "source": [
    "log_reg3.summary()"
   ]
  },
  {
   "cell_type": "code",
   "execution_count": null,
   "id": "4669728e",
   "metadata": {},
   "outputs": [],
   "source": [
    "y_hat3 = log_reg3.predict()"
   ]
  },
  {
   "cell_type": "code",
   "execution_count": null,
   "id": "be7e2050",
   "metadata": {},
   "outputs": [],
   "source": []
  },
  {
   "cell_type": "markdown",
   "id": "f4bb35af",
   "metadata": {},
   "source": [
    "# Interpreting the coefficient(s) and p-values\n",
    "\n",
    "\n"
   ]
  },
  {
   "cell_type": "markdown",
   "id": "0c3d53b5",
   "metadata": {},
   "source": [
    "## Alzheimer's Data\n",
    "\n",
    "Consider this data on Alzheimers, where a Diagnosis of 1 means that the person was diagnosed with alzheimers.  \n",
    "\n"
   ]
  },
  {
   "cell_type": "code",
   "execution_count": 1,
   "id": "de7f3000",
   "metadata": {},
   "outputs": [
    {
     "ename": "NameError",
     "evalue": "name 'pd' is not defined",
     "output_type": "error",
     "traceback": [
      "\u001b[1;31m---------------------------------------------------------------------------\u001b[0m",
      "\u001b[1;31mNameError\u001b[0m                                 Traceback (most recent call last)",
      "\u001b[1;32m~\\AppData\\Local\\Temp\\ipykernel_26384\\1339548735.py\u001b[0m in \u001b[0;36m<module>\u001b[1;34m\u001b[0m\n\u001b[1;32m----> 1\u001b[1;33m \u001b[0malz\u001b[0m \u001b[1;33m=\u001b[0m \u001b[0mpd\u001b[0m\u001b[1;33m.\u001b[0m\u001b[0mread_csv\u001b[0m\u001b[1;33m(\u001b[0m\u001b[1;34m\"alzheimers_disease_data_train.csv\"\u001b[0m\u001b[1;33m)\u001b[0m\u001b[1;33m\u001b[0m\u001b[1;33m\u001b[0m\u001b[0m\n\u001b[0m\u001b[0;32m      2\u001b[0m \u001b[1;33m\u001b[0m\u001b[0m\n\u001b[0;32m      3\u001b[0m \u001b[0malz\u001b[0m\u001b[1;33m\u001b[0m\u001b[1;33m\u001b[0m\u001b[0m\n",
      "\u001b[1;31mNameError\u001b[0m: name 'pd' is not defined"
     ]
    }
   ],
   "source": [
    "alz = pd.read_csv(\"alzheimers_disease_data_train.csv\")\n",
    "\n",
    "alz"
   ]
  },
  {
   "cell_type": "code",
   "execution_count": 169,
   "id": "636e9a8b",
   "metadata": {},
   "outputs": [
    {
     "name": "stdout",
     "output_type": "stream",
     "text": [
      "Optimization terminated successfully.\n",
      "         Current function value: 0.592395\n",
      "         Iterations 5\n",
      "                           Logit Regression Results                           \n",
      "==============================================================================\n",
      "Dep. Variable:              Diagnosis   No. Observations:                 2149\n",
      "Model:                          Logit   Df Residuals:                     2147\n",
      "Method:                           MLE   Df Model:                            1\n",
      "Date:                Mon, 01 Jul 2024   Pseudo R-squ.:                 0.08817\n",
      "Time:                        18:44:49   Log-Likelihood:                -1273.1\n",
      "converged:                       True   LL-Null:                       -1396.2\n",
      "Covariance Type:            nonrobust   LLR p-value:                 1.747e-55\n",
      "==============================================================================\n",
      "                 coef    std err          z      P>|z|      [0.025      0.975]\n",
      "------------------------------------------------------------------------------\n",
      "const          0.5845      0.089      6.559      0.000       0.410       0.759\n",
      "ADL           -0.2543      0.017    -14.804      0.000      -0.288      -0.221\n",
      "==============================================================================\n"
     ]
    },
    {
     "data": {
      "image/png": "[encoded data removed]",
      "text/plain": [
       "<Figure size 600x600 with 1 Axes>"
      ]
     },
     "metadata": {},
     "output_type": "display_data"
    }
   ],
   "source": [
    "name = \"ADL\"\n",
    "\n",
    "x_vars = sm.add_constant(alz[[name]])\n",
    "y_var = alz[[\"Diagnosis\"]]\n",
    "\n",
    "log_reg4 = sm.Logit(y_var, x_vars).fit()\n",
    "print(log_reg4.summary())\n",
    "\n",
    "y_hat4 = log_reg4.predict()\n",
    "\n",
    "Table().with_columns(\"Predictions\", y_hat4, name, alz[name].to_numpy()).plot(name)\n",
    "plots.scatter(alz[[name]].to_numpy(), alz[[\"Diagnosis\"]].to_numpy());\n"
   ]
  },
  {
   "cell_type": "code",
   "execution_count": null,
   "id": "ab92f7ee",
   "metadata": {},
   "outputs": [],
   "source": []
  },
  {
   "cell_type": "code",
   "execution_count": null,
   "id": "f8c9ec17",
   "metadata": {},
   "outputs": [],
   "source": []
  },
  {
   "cell_type": "code",
   "execution_count": null,
   "id": "0e5f7468",
   "metadata": {},
   "outputs": [],
   "source": []
  },
  {
   "cell_type": "code",
   "execution_count": 164,
   "id": "b9574910",
   "metadata": {},
   "outputs": [
    {
     "name": "stdout",
     "output_type": "stream",
     "text": [
      "Optimization terminated successfully.\n",
      "         Current function value: 0.649661\n",
      "         Iterations 4\n",
      "                           Logit Regression Results                           \n",
      "==============================================================================\n",
      "Dep. Variable:              Diagnosis   No. Observations:                 2149\n",
      "Model:                          Logit   Df Residuals:                     2147\n",
      "Method:                           MLE   Df Model:                            1\n",
      "Date:                Sun, 30 Jun 2024   Pseudo R-squ.:               2.720e-05\n",
      "Time:                        18:50:23   Log-Likelihood:                -1396.1\n",
      "converged:                       True   LL-Null:                       -1396.2\n",
      "Covariance Type:            nonrobust   LLR p-value:                    0.7829\n",
      "====================================================================================\n",
      "                       coef    std err          z      P>|z|      [0.025      0.975]\n",
      "------------------------------------------------------------------------------------\n",
      "const               -0.6245      0.090     -6.938      0.000      -0.801      -0.448\n",
      "PhysicalActivity     0.0044      0.016      0.276      0.783      -0.027       0.035\n",
      "====================================================================================\n"
     ]
    },
    {
     "data": {
      "image/png": "[encoded data removed]",
      "text/plain": [
       "<Figure size 600x600 with 1 Axes>"
      ]
     },
     "metadata": {},
     "output_type": "display_data"
    }
   ],
   "source": [
    "name = \"PhysicalActivity\"\n",
    "\n",
    "x_vars = sm.add_constant(alz[[name]])\n",
    "y_var = alz[[\"Diagnosis\"]]\n",
    "\n",
    "log_reg3 = sm.Logit(y_var, x_vars).fit()\n",
    "print(log_reg3.summary())\n",
    "\n",
    "y_hat3 = log_reg3.predict()\n",
    "\n",
    "Table().with_columns(\"Predictions\", y_hat3, name, alz[name].to_numpy()).plot(name)\n",
    "plots.scatter(alz[[name]].to_numpy(), alz[[\"Diagnosis\"]].to_numpy());"
   ]
  },
  {
   "cell_type": "code",
   "execution_count": 163,
   "id": "87fba0f4",
   "metadata": {},
   "outputs": [
    {
     "name": "stdout",
     "output_type": "stream",
     "text": [
      "Optimization terminated successfully.\n",
      "         Current function value: 0.649642\n",
      "         Iterations 4\n",
      "                           Logit Regression Results                           \n",
      "==============================================================================\n",
      "Dep. Variable:              Diagnosis   No. Observations:                 2149\n",
      "Model:                          Logit   Df Residuals:                     2147\n",
      "Method:                           MLE   Df Model:                            1\n",
      "Date:                Sun, 30 Jun 2024   Pseudo R-squ.:               5.568e-05\n",
      "Time:                        18:41:28   Log-Likelihood:                -1396.1\n",
      "converged:                       True   LL-Null:                       -1396.2\n",
      "Covariance Type:            nonrobust   LLR p-value:                    0.6933\n",
      "===============================================================================\n",
      "                  coef    std err          z      P>|z|      [0.025      0.975]\n",
      "-------------------------------------------------------------------------------\n",
      "const          -0.6336      0.090     -7.052      0.000      -0.810      -0.458\n",
      "DietQuality     0.0061      0.016      0.394      0.693      -0.024       0.037\n",
      "===============================================================================\n"
     ]
    },
    {
     "data": {
      "image/png": "[encoded data removed]",
      "text/plain": [
       "<Figure size 600x600 with 1 Axes>"
      ]
     },
     "metadata": {},
     "output_type": "display_data"
    }
   ],
   "source": [
    "name = \"DietQuality\"\n",
    "\n",
    "x_vars = sm.add_constant(alz[[name]])\n",
    "y_var = alz[[\"Diagnosis\"]]\n",
    "\n",
    "log_reg3 = sm.Logit(y_var, x_vars).fit()\n",
    "print(log_reg3.summary())\n",
    "\n",
    "y_hat3 = log_reg3.predict()\n",
    "\n",
    "Table().with_columns(\"Predictions\", y_hat3, name, alz[name].to_numpy()).plot(name)\n",
    "plots.scatter(alz[[name]].to_numpy(), alz[[\"Diagnosis\"]].to_numpy());"
   ]
  },
  {
   "cell_type": "code",
   "execution_count": null,
   "id": "1dcfc814",
   "metadata": {},
   "outputs": [],
   "source": []
  },
  {
   "cell_type": "code",
   "execution_count": 160,
   "id": "4317a22b",
   "metadata": {},
   "outputs": [
    {
     "name": "stdout",
     "output_type": "stream",
     "text": [
      "Optimization terminated successfully.\n",
      "         Current function value: 0.649664\n",
      "         Iterations 4\n",
      "                           Logit Regression Results                           \n",
      "==============================================================================\n",
      "Dep. Variable:              Diagnosis   No. Observations:                 2149\n",
      "Model:                          Logit   Df Residuals:                     2147\n",
      "Method:                           MLE   Df Model:                            1\n",
      "Date:                Sun, 30 Jun 2024   Pseudo R-squ.:               2.318e-05\n",
      "Time:                        18:12:41   Log-Likelihood:                -1396.1\n",
      "converged:                       True   LL-Null:                       -1396.2\n",
      "Covariance Type:            nonrobust   LLR p-value:                    0.7992\n",
      "==============================================================================\n",
      "                 coef    std err          z      P>|z|      [0.025      0.975]\n",
      "------------------------------------------------------------------------------\n",
      "const         -0.5074      0.379     -1.340      0.180      -1.249       0.235\n",
      "Age           -0.0013      0.005     -0.254      0.799      -0.011       0.009\n",
      "==============================================================================\n"
     ]
    },
    {
     "data": {
      "image/png": "[encoded data removed]",
      "text/plain": [
       "<Figure size 600x600 with 1 Axes>"
      ]
     },
     "metadata": {},
     "output_type": "display_data"
    }
   ],
   "source": [
    "name = \"Age\"\n",
    "\n",
    "x_vars = sm.add_constant(alz[[name]])\n",
    "y_var = alz[[\"Diagnosis\"]]\n",
    "\n",
    "log_reg3 = sm.Logit(y_var, x_vars).fit()\n",
    "print(log_reg3.summary())\n",
    "\n",
    "y_hat3 = log_reg3.predict()\n",
    "\n",
    "Table().with_columns(\"Predictions\", y_hat3, name, alz[name].to_numpy()).plot(name)\n",
    "plots.scatter(alz[[name]].to_numpy(), alz[[\"Diagnosis\"]].to_numpy());\n"
   ]
  },
  {
   "cell_type": "code",
   "execution_count": 159,
   "id": "a4786bcb",
   "metadata": {},
   "outputs": [
    {
     "name": "stdout",
     "output_type": "stream",
     "text": [
      "Optimization terminated successfully.\n",
      "         Current function value: 0.649332\n",
      "         Iterations 4\n",
      "                           Logit Regression Results                           \n",
      "==============================================================================\n",
      "Dep. Variable:              Diagnosis   No. Observations:                 2149\n",
      "Model:                          Logit   Df Residuals:                     2147\n",
      "Method:                           MLE   Df Model:                            1\n",
      "Date:                Sun, 30 Jun 2024   Pseudo R-squ.:               0.0005343\n",
      "Time:                        18:10:38   Log-Likelihood:                -1395.4\n",
      "converged:                       True   LL-Null:                       -1396.2\n",
      "Covariance Type:            nonrobust   LLR p-value:                    0.2219\n",
      "==============================================================================\n",
      "                 coef    std err          z      P>|z|      [0.025      0.975]\n",
      "------------------------------------------------------------------------------\n",
      "const         -0.8148      0.180     -4.537      0.000      -1.167      -0.463\n",
      "BMI            0.0076      0.006      1.221      0.222      -0.005       0.020\n",
      "==============================================================================\n"
     ]
    },
    {
     "data": {
      "image/png": "[encoded data removed]",
      "text/plain": [
       "<Figure size 600x600 with 1 Axes>"
      ]
     },
     "metadata": {},
     "output_type": "display_data"
    }
   ],
   "source": [
    "name = \"BMI\"\n",
    "\n",
    "x_vars = sm.add_constant(alz[[name]])\n",
    "y_var = alz[[\"Diagnosis\"]]\n",
    "\n",
    "log_reg3 = sm.Logit(y_var, x_vars).fit()\n",
    "print(log_reg3.summary())\n",
    "\n",
    "y_hat3 = log_reg3.predict()\n",
    "\n",
    "Table().with_columns(\"Predictions\", y_hat3, name, alz[name].to_numpy()).plot(name)\n",
    "plots.scatter(alz[[name]].to_numpy(), alz[[\"Diagnosis\"]].to_numpy());\n"
   ]
  },
  {
   "cell_type": "code",
   "execution_count": 150,
   "id": "50ea92d3",
   "metadata": {},
   "outputs": [
    {
     "data": {
      "text/plain": [
       "array([ 0.35420596,  0.34954518,  0.35420596, ...,  0.35303812,\n",
       "        0.35274644,  0.35449819])"
      ]
     },
     "execution_count": 150,
     "metadata": {},
     "output_type": "execute_result"
    }
   ],
   "source": [
    "y_hat3 = log_reg3.predict()\n",
    "\n",
    "y_hat3"
   ]
  },
  {
   "cell_type": "code",
   "execution_count": 154,
   "id": "1bc48b8f",
   "metadata": {},
   "outputs": [
    {
     "data": {
      "image/png": "[encoded data removed]",
      "text/plain": [
       "<Figure size 600x600 with 1 Axes>"
      ]
     },
     "metadata": {},
     "output_type": "display_data"
    }
   ],
   "source": [
    "Table().with_columns(\"Predictions\", y_hat3, \"Age\", alz[\"Age\"].to_numpy()).plot(\"Age\")\n",
    "plots.scatter(alz[[\"Age\"]].to_numpy(), alz[[\"Diagnosis\"]].to_numpy());"
   ]
  },
  {
   "cell_type": "code",
   "execution_count": null,
   "id": "1a1a79d1",
   "metadata": {},
   "outputs": [],
   "source": []
  },
  {
   "cell_type": "markdown",
   "id": "0cc9b46b",
   "metadata": {},
   "source": [
    "## Multiple Logistic Regression  \n",
    "\n",
    "\n",
    "\n"
   ]
  },
  {
   "cell_type": "code",
   "execution_count": 90,
   "id": "28db9ebc",
   "metadata": {},
   "outputs": [
    {
     "data": {
      "text/html": [
       "<table class=\"simpletable\">\n",
       "<caption>Logit Regression Results</caption>\n",
       "<tr>\n",
       "  <th>Dep. Variable:</th>         <td>Class</td>      <th>  No. Observations:  </th>  <td>   170</td>  \n",
       "</tr>\n",
       "<tr>\n",
       "  <th>Model:</th>                 <td>Logit</td>      <th>  Df Residuals:      </th>  <td>   165</td>  \n",
       "</tr>\n",
       "<tr>\n",
       "  <th>Method:</th>                 <td>MLE</td>       <th>  Df Model:          </th>  <td>     4</td>  \n",
       "</tr>\n",
       "<tr>\n",
       "  <th>Date:</th>            <td>Sun, 30 Jun 2024</td> <th>  Pseudo R-squ.:     </th>  <td>0.8418</td>  \n",
       "</tr>\n",
       "<tr>\n",
       "  <th>Time:</th>                <td>16:52:57</td>     <th>  Log-Likelihood:    </th> <td> -18.638</td> \n",
       "</tr>\n",
       "<tr>\n",
       "  <th>converged:</th>             <td>True</td>       <th>  LL-Null:           </th> <td> -117.82</td> \n",
       "</tr>\n",
       "<tr>\n",
       "  <th>Covariance Type:</th>     <td>nonrobust</td>    <th>  LLR p-value:       </th> <td>8.421e-42</td>\n",
       "</tr>\n",
       "</table>\n",
       "<table class=\"simpletable\">\n",
       "<tr>\n",
       "      <td></td>         <th>coef</th>     <th>std err</th>      <th>z</th>      <th>P>|z|</th>  <th>[0.025</th>    <th>0.975]</th>  \n",
       "</tr>\n",
       "<tr>\n",
       "  <th>Intercept</th> <td>   -6.3264</td> <td>    1.180</td> <td>   -5.362</td> <td> 0.000</td> <td>   -8.639</td> <td>   -4.014</td>\n",
       "</tr>\n",
       "<tr>\n",
       "  <th>Atr1</th>      <td>    1.2470</td> <td>    0.427</td> <td>    2.924</td> <td> 0.003</td> <td>    0.411</td> <td>    2.083</td>\n",
       "</tr>\n",
       "<tr>\n",
       "  <th>Atr2</th>      <td>    0.6687</td> <td>    0.504</td> <td>    1.327</td> <td> 0.185</td> <td>   -0.319</td> <td>    1.657</td>\n",
       "</tr>\n",
       "<tr>\n",
       "  <th>Atr32</th>     <td>    1.2574</td> <td>    0.381</td> <td>    3.296</td> <td> 0.001</td> <td>    0.510</td> <td>    2.005</td>\n",
       "</tr>\n",
       "<tr>\n",
       "  <th>Atr50</th>     <td>    0.4267</td> <td>    0.457</td> <td>    0.935</td> <td> 0.350</td> <td>   -0.468</td> <td>    1.321</td>\n",
       "</tr>\n",
       "</table>"
      ],
      "text/plain": [
       "<class 'statsmodels.iolib.summary.Summary'>\n",
       "\"\"\"\n",
       "                           Logit Regression Results                           \n",
       "==============================================================================\n",
       "Dep. Variable:                  Class   No. Observations:                  170\n",
       "Model:                          Logit   Df Residuals:                      165\n",
       "Method:                           MLE   Df Model:                            4\n",
       "Date:                Sun, 30 Jun 2024   Pseudo R-squ.:                  0.8418\n",
       "Time:                        16:52:57   Log-Likelihood:                -18.638\n",
       "converged:                       True   LL-Null:                       -117.82\n",
       "Covariance Type:            nonrobust   LLR p-value:                 8.421e-42\n",
       "==============================================================================\n",
       "                 coef    std err          z      P>|z|      [0.025      0.975]\n",
       "------------------------------------------------------------------------------\n",
       "Intercept     -6.3264      1.180     -5.362      0.000      -8.639      -4.014\n",
       "Atr1           1.2470      0.427      2.924      0.003       0.411       2.083\n",
       "Atr2           0.6687      0.504      1.327      0.185      -0.319       1.657\n",
       "Atr32          1.2574      0.381      3.296      0.001       0.510       2.005\n",
       "Atr50          0.4267      0.457      0.935      0.350      -0.468       1.321\n",
       "==============================================================================\n",
       "\"\"\""
      ]
     },
     "execution_count": 90,
     "metadata": {},
     "output_type": "execute_result"
    }
   ],
   "source": [
    "log_reg_multiple1.summary()"
   ]
  },
  {
   "cell_type": "code",
   "execution_count": null,
   "id": "5e2d6b6a",
   "metadata": {},
   "outputs": [],
   "source": []
  },
  {
   "cell_type": "code",
   "execution_count": null,
   "id": "b2eb6d15",
   "metadata": {},
   "outputs": [],
   "source": []
  },
  {
   "cell_type": "code",
   "execution_count": null,
   "id": "9daa3028",
   "metadata": {},
   "outputs": [],
   "source": []
  },
  {
   "cell_type": "code",
   "execution_count": null,
   "id": "9aefe0ae",
   "metadata": {},
   "outputs": [],
   "source": []
  },
  {
   "cell_type": "code",
   "execution_count": null,
   "id": "955b14bf",
   "metadata": {},
   "outputs": [],
   "source": []
  },
  {
   "cell_type": "code",
   "execution_count": null,
   "id": "1048fd1d",
   "metadata": {},
   "outputs": [],
   "source": []
  },
  {
   "cell_type": "code",
   "execution_count": null,
   "id": "c4a80f92",
   "metadata": {},
   "outputs": [],
   "source": []
  },
  {
   "cell_type": "code",
   "execution_count": null,
   "id": "2d6c281e",
   "metadata": {},
   "outputs": [],
   "source": []
  }
 ],
 "metadata": {
  "kernelspec": {
   "display_name": "Python 3 (ipykernel)",
   "language": "python",
   "name": "python3"
  },
  "language_info": {
   "codemirror_mode": {
    "name": "ipython",
    "version": 3
   },
   "file_extension": ".py",
   "mimetype": "text/x-python",
   "name": "python",
   "nbconvert_exporter": "python",
   "pygments_lexer": "ipython3",
   "version": "3.9.13"
  }
 },
 "nbformat": 4,
 "nbformat_minor": 5
}
