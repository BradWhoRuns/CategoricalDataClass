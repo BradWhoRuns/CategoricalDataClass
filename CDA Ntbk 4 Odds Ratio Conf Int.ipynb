{
 "cells": [
  {
   "cell_type": "markdown",
   "id": "cee6ecd7",
   "metadata": {},
   "source": [
    "# Confidence intervals for Odds Ratios\n",
    "\n",
    "We learned about the odds ratio when we learned about relative risk, accuracy, sensitivity and specificity.  In this notebook, the odds ratio gets some special attention.  \n",
    "\n",
    "The odds ratio is what they call log-normal. To explain what that means, a random variable or probabilty distribution, $Y$,  is called log-normal if $\\log(Y)$ is normal.  We know a lot about normal distributions, and so-far very little about log-normal distributions.  We'll exploit our existing knowledge of normal distributions to find confidence intervals for the odds ratio.  \n",
    "\n",
    "Here's a rough outline of the steps:\n",
    "\n",
    "|               |             |         |             |               |            |       |\n",
    "|:--|:-:|---|:-:|---|:-:|---|\n",
    "|Find Odds Ratio|$\\rightarrow$|Take natural log |$\\rightarrow$|Becomes Normal|$\\rightarrow$|Use normality to find C% interval for log-odds|\n",
    "|               |             |         |             |              |             |    $\\downarrow$                |\n",
    "| $(e^{lb}, e^{ub})$              |$\\leftarrow$ |No longer normal |  $\\leftarrow$  | Put bounds into $f(x) = e^x$   |$\\leftarrow$  |$(lb, ub)$ |\n",
    "\n",
    "If your two way table summarizing the data is \n",
    "\n",
    "|   |  |\n",
    "|:-:|:-:|\n",
    "|a  |b|\n",
    "|c  |d|\n",
    "\n",
    "\n",
    "Then the standard error of the log-odds is $\\displaystyle  SE =  \\sqrt{ \\frac{1}{a} + \\frac{1}{b} + \\frac{1}{c} + \\frac{1}{d} }$\n",
    "\n",
    "\n",
    "Confidence interval for log-odds, $\\ln\\left(OR \\right) \\pm z^* SE $\n",
    "\n",
    "The value of $z^*$ depends upon the level of confidence.  For a 95% confidence, that means we want to capture the middle 95% of the standard normal distribution between $-z^*$ and $+z^*$.  The value of $z^*$ that does that is close to 1.9599, or about 1.96.\n",
    "\n",
    "\n",
    "Then $e^{\\ln\\left(OR \\right) \\pm z_{\\alpha/2} SE} = \\left(e^{\\ln\\left(OR \\right) - z^* SE}, e^{\\ln\\left(OR \\right) + z^* SE}  \\right) $ is the confidence interval for the odds ratio. \n",
    "\n",
    "Odds ratio confidence intervals are NOT symmetric around their estimate, the confidence interval for the log-odds is, but that symmetry is destroyed by using the exponential function.  So, it's important to also reference the actual value of the odds ratio when describing the confidence interval. "
   ]
  },
  {
   "cell_type": "code",
   "execution_count": 43,
   "id": "53c637b4",
   "metadata": {},
   "outputs": [],
   "source": [
    "# Here's some code that will likely appear near the top of every homework or lecture this semester.\n",
    "\n",
    "from datascience import *\n",
    "import numpy as np\n",
    "\n",
    "%matplotlib inline\n",
    "import matplotlib.pyplot as plots\n",
    "plots.style.use('fivethirtyeight')\n",
    "\n",
    "import scipy.stats as stats\n",
    "\n",
    "import scipy\n",
    "\n",
    "import warnings\n",
    "warnings.simplefilter(action=\"ignore\", category=FutureWarning)\n",
    "warnings.simplefilter(action=\"ignore\", category=np.VisibleDeprecationWarning)\n",
    "\n",
    "# To add text, referred to as comments to a code cell\n",
    "# just put a hashtag a the beginning of the comment\n",
    "# Comments are ignored by the computer when executing the code\n",
    "\n",
    "mort22 = Table.read_table(\"SmallMort2022.csv\")"
   ]
  },
  {
   "cell_type": "markdown",
   "id": "66258d34",
   "metadata": {},
   "source": [
    "Find a 95% confidence interval for the odds ratio from this azt2 table.  "
   ]
  },
  {
   "cell_type": "code",
   "execution_count": 44,
   "id": "0781d42b",
   "metadata": {},
   "outputs": [
    {
     "data": {
      "text/html": [
       "<table border=\"1\" class=\"dataframe\">\n",
       "    <thead>\n",
       "        <tr>\n",
       "            <th>azt</th> <th>Yes</th> <th>No</th>\n",
       "        </tr>\n",
       "    </thead>\n",
       "    <tbody>\n",
       "        <tr>\n",
       "            <td>no  </td> <td>44  </td> <td>124 </td>\n",
       "        </tr>\n",
       "        <tr>\n",
       "            <td>yes </td> <td>25  </td> <td>145 </td>\n",
       "        </tr>\n",
       "    </tbody>\n",
       "</table>"
      ],
      "text/plain": [
       "azt  | Yes  | No\n",
       "no   | 44   | 124\n",
       "yes  | 25   | 145"
      ]
     },
     "execution_count": 44,
     "metadata": {},
     "output_type": "execute_result"
    }
   ],
   "source": [
    "azt = Table.read_table(\"AIDS.csv\" )\n",
    "\n",
    "azt2 = azt.drop(\"race\").group(\"azt\", sum).relabel(1,\"Yes\").relabel(2, \"No\")\n",
    "\n",
    "azt2"
   ]
  },
  {
   "cell_type": "code",
   "execution_count": 45,
   "id": "dca35d76",
   "metadata": {},
   "outputs": [],
   "source": [
    "#recall this from before\n",
    "\n",
    "OR = 3.33"
   ]
  },
  {
   "cell_type": "code",
   "execution_count": 46,
   "id": "3a56e740",
   "metadata": {},
   "outputs": [],
   "source": [
    "SE = (1/44 + 1/124 + 1/25 + 1/145)**0.5"
   ]
  },
  {
   "cell_type": "markdown",
   "id": "5dd7d020",
   "metadata": {},
   "source": [
    "The value of $z^*$ depends upon the level of confidence.  For a 95% confidence, that means we want to capture the middle 95% of the standard normal distribution between $-z^*$ and $+z^*$.  The value of $z^*$ that does that is close to 1.9599, or about 1.96."
   ]
  },
  {
   "cell_type": "code",
   "execution_count": 47,
   "id": "f00ac937",
   "metadata": {},
   "outputs": [
    {
     "data": {
      "text/plain": [
       "(1.928357858475813, 5.7504368036567355)"
      ]
     },
     "execution_count": 47,
     "metadata": {},
     "output_type": "execute_result"
    }
   ],
   "source": [
    "lb = np.log(3.33) - 1.96*SE\n",
    "ub = np.log(3.33) + 1.96*SE\n",
    "\n",
    "(np.exp(lb), np.exp(ub))"
   ]
  },
  {
   "cell_type": "code",
   "execution_count": 48,
   "id": "b7d10f37",
   "metadata": {},
   "outputs": [
    {
     "data": {
      "text/plain": [
       "array([ 1.92835786,  5.7504368 ])"
      ]
     },
     "execution_count": 48,
     "metadata": {},
     "output_type": "execute_result"
    }
   ],
   "source": [
    "np.exp((lb, ub))"
   ]
  },
  {
   "cell_type": "markdown",
   "id": "5ac1216b",
   "metadata": {},
   "source": [
    "For other levels of confidence, use the inverse norm function (`scipy.stats.norm.ppf`) and plug in $\\frac{1-C}{2}$.  This will calculate $-z^*$.  "
   ]
  },
  {
   "cell_type": "code",
   "execution_count": 49,
   "id": "e5f474de",
   "metadata": {},
   "outputs": [
    {
     "data": {
      "text/plain": [
       "-1.9599639845400545"
      ]
     },
     "execution_count": 49,
     "metadata": {},
     "output_type": "execute_result"
    }
   ],
   "source": [
    "# z^* for 95% confidence\n",
    "scipy.stats.norm.ppf(0.025)"
   ]
  },
  {
   "cell_type": "code",
   "execution_count": 50,
   "id": "37025228",
   "metadata": {},
   "outputs": [
    {
     "data": {
      "text/plain": [
       "-1.959963984540054"
      ]
     },
     "execution_count": 50,
     "metadata": {},
     "output_type": "execute_result"
    }
   ],
   "source": [
    "# z^* for 95% confidence\n",
    "scipy.stats.norm.ppf((1-0.95)/2)"
   ]
  },
  {
   "cell_type": "code",
   "execution_count": 51,
   "id": "302b106d",
   "metadata": {},
   "outputs": [
    {
     "data": {
      "text/plain": [
       "-2.5758293035489004"
      ]
     },
     "execution_count": 51,
     "metadata": {},
     "output_type": "execute_result"
    }
   ],
   "source": [
    "# z^* for 99% confidence\n",
    "\n",
    "C = 0.99\n",
    "\n",
    "scipy.stats.norm.ppf((1-C)/2)"
   ]
  },
  {
   "cell_type": "code",
   "execution_count": 52,
   "id": "81198f89",
   "metadata": {},
   "outputs": [
    {
     "data": {
      "text/plain": [
       "-1.6448536269514729"
      ]
     },
     "execution_count": 52,
     "metadata": {},
     "output_type": "execute_result"
    }
   ],
   "source": [
    "# z^* for 90% confidence\n",
    "\n",
    "C = 0.90\n",
    "\n",
    "scipy.stats.norm.ppf((1-C)/2)"
   ]
  },
  {
   "cell_type": "code",
   "execution_count": 53,
   "id": "62fdfb69",
   "metadata": {},
   "outputs": [
    {
     "data": {
      "text/html": [
       "<table border=\"1\" class=\"dataframe\">\n",
       "    <thead>\n",
       "        <tr>\n",
       "            <th>Father</th> <th>No</th> <th>Yes</th>\n",
       "        </tr>\n",
       "    </thead>\n",
       "    <tbody>\n",
       "        <tr>\n",
       "            <td>No    </td> <td>11329</td> <td>185 </td>\n",
       "        </tr>\n",
       "        <tr>\n",
       "            <td>Yes   </td> <td>0    </td> <td>37  </td>\n",
       "        </tr>\n",
       "    </tbody>\n",
       "</table>"
      ],
      "text/plain": [
       "Father | No    | Yes\n",
       "No     | 11329 | 185\n",
       "Yes    | 0     | 37"
      ]
     },
     "execution_count": 53,
     "metadata": {},
     "output_type": "execute_result"
    }
   ],
   "source": [
    "asthma = Table.read_table(\"asthma.csv\")\n",
    "\n",
    "asthma.select(\"Asthma\", \"Father\")\n",
    "\n",
    "asthma.pivot(\"Asthma\", \"Father\")"
   ]
  },
  {
   "cell_type": "markdown",
   "id": "4d892e71",
   "metadata": {},
   "source": [
    "Use this data to compute the odds ratio approximating how many times more likely a child is to have asthma if his father had or has it.  "
   ]
  },
  {
   "cell_type": "code",
   "execution_count": 54,
   "id": "6544d240",
   "metadata": {},
   "outputs": [
    {
     "ename": "ZeroDivisionError",
     "evalue": "division by zero",
     "output_type": "error",
     "traceback": [
      "\u001b[1;31m---------------------------------------------------------------------------\u001b[0m",
      "\u001b[1;31mZeroDivisionError\u001b[0m                         Traceback (most recent call last)",
      "\u001b[1;32m~\\AppData\\Local\\Temp\\ipykernel_31768\\679864394.py\u001b[0m in \u001b[0;36m<module>\u001b[1;34m\u001b[0m\n\u001b[1;32m----> 1\u001b[1;33m \u001b[0mOR\u001b[0m \u001b[1;33m=\u001b[0m \u001b[1;36m37\u001b[0m\u001b[1;33m*\u001b[0m\u001b[1;36m11329\u001b[0m\u001b[1;33m/\u001b[0m\u001b[1;33m(\u001b[0m\u001b[1;36m185\u001b[0m\u001b[1;33m*\u001b[0m\u001b[1;36m0\u001b[0m\u001b[1;33m)\u001b[0m\u001b[1;33m\u001b[0m\u001b[1;33m\u001b[0m\u001b[0m\n\u001b[0m",
      "\u001b[1;31mZeroDivisionError\u001b[0m: division by zero"
     ]
    }
   ],
   "source": [
    "OR = 37*11329/(185*0)"
   ]
  },
  {
   "cell_type": "markdown",
   "id": "98f041a4",
   "metadata": {},
   "source": [
    "This data has a problem, but like in real life this problem is *our* opportunity.  It gives me an excuse to introduce the so-called Plus-2 adjustment.  How does it work?  Simply add $\\frac{1}{2}$ to every cell in the 2x2 two-way table.  "
   ]
  },
  {
   "cell_type": "code",
   "execution_count": 35,
   "id": "5d6c23cf",
   "metadata": {},
   "outputs": [
    {
     "data": {
      "text/plain": [
       "4580.66037735849"
      ]
     },
     "execution_count": 35,
     "metadata": {},
     "output_type": "execute_result"
    }
   ],
   "source": [
    "OR = 37.5*11329.5/(185.5*0.5)\n",
    "\n",
    "OR"
   ]
  },
  {
   "cell_type": "markdown",
   "id": "66a89d78",
   "metadata": {},
   "source": [
    "Wow, so if your father had asthma, you are approximately 4600 times more likely to have asthma too (compared to children whose fathers do not and did not have asthma).  Is that reasonable?  Let's see what 95% confidence interval says.  "
   ]
  },
  {
   "cell_type": "code",
   "execution_count": 36,
   "id": "375da45b",
   "metadata": {},
   "outputs": [
    {
     "data": {
      "text/plain": [
       "array([   280.21377348,  74880.15036684])"
      ]
     },
     "execution_count": 36,
     "metadata": {},
     "output_type": "execute_result"
    }
   ],
   "source": [
    "z_star_array = np.array([-1.96, 1.96])\n",
    "\n",
    "SE = (1/11329.5 +1/185.5 + 1/0.5 + 1/37.5)**0.5\n",
    "\n",
    "np.exp(np.log(OR) + SE*z_star_array)\n"
   ]
  },
  {
   "cell_type": "code",
   "execution_count": 65,
   "id": "cdc51303",
   "metadata": {},
   "outputs": [],
   "source": [
    "## Let's add a conf interval to our TwoWaySummary function\n",
    "\n",
    "def TwoWaySummary(x, C=0.95):\n",
    "    \"\"\" x must be a 2x2 table arranged T+ F-, F+ T-\"\"\"\n",
    "    \"\"\" C must be a positive number less than 1\"\"\"\n",
    "    a = x[[0],[0]][0]\n",
    "    b = x[[0],[1]][0]\n",
    "    c = x[[1],[0]][0]\n",
    "    d = x[[1],[1]][0]\n",
    "    \n",
    "    z_star = scipy.stats.norm.ppf((1-C)/2)\n",
    "    z_star_array = np.array([z_star, -1*z_star])\n",
    "    SE = (1/a + 1/b + 1/c + 1/d)**0.5\n",
    "    \n",
    "    c_int = np.exp(np.log((a*d)/(b*c)) + SE*z_star_array)\n",
    "    \n",
    "    print(f\"sensitivity = {a/(a+c)}\\nspecificity = {d/(b+d)}\\nrelative risk = {a*(c+d)/(c*(a+b))}\\nodds ratio = {a*d/(b*c)}\\naccuracy = {(a+d)/(a+d+c+b)}\")\n",
    "    print(f\"The {C*100}% Confidence Interval for the odds ratio is {c_int}.\")\n"
   ]
  },
  {
   "cell_type": "code",
   "execution_count": 66,
   "id": "ce702b21",
   "metadata": {},
   "outputs": [
    {
     "name": "stdout",
     "output_type": "stream",
     "text": [
      "sensitivity = 0.16666666666666666\n",
      "specificity = 1.0\n",
      "relative risk = inf\n",
      "odds ratio = inf\n",
      "accuracy = 0.9839840706432343\n",
      "The 95.0% Confidence Interval for the odds ratio is [ nan  inf].\n"
     ]
    },
    {
     "name": "stderr",
     "output_type": "stream",
     "text": [
      "C:\\Users\\baile\\AppData\\Local\\Temp\\ipykernel_31768\\3196837830.py:13: RuntimeWarning: divide by zero encountered in long_scalars\n",
      "  SE = (1/a + 1/b + 1/c + 1/d)**0.5\n",
      "C:\\Users\\baile\\AppData\\Local\\Temp\\ipykernel_31768\\3196837830.py:15: RuntimeWarning: divide by zero encountered in long_scalars\n",
      "  c_int = np.exp(np.log((a*d)/(b*c)) + SE*z_star_array)\n",
      "C:\\Users\\baile\\AppData\\Local\\Temp\\ipykernel_31768\\3196837830.py:15: RuntimeWarning: invalid value encountered in add\n",
      "  c_int = np.exp(np.log((a*d)/(b*c)) + SE*z_star_array)\n",
      "C:\\Users\\baile\\AppData\\Local\\Temp\\ipykernel_31768\\3196837830.py:17: RuntimeWarning: divide by zero encountered in long_scalars\n",
      "  print(f\"sensitivity = {a/(a+b)}\\nspecificity = {d/(c+d)}\\nrelative risk = {a*(c+d)/(c*(a+b))}\\nodds ratio = {a*d/(b*c)}\\naccuracy = {(a+d)/(a+d+c+b)}\")\n"
     ]
    }
   ],
   "source": [
    "obs_asthma_tab = np.array([[37, 185], [0, 11329 ]])  # T+ F- then F+ T-\n",
    "\n",
    "\n",
    "TwoWaySummary(obs_asthma_tab)"
   ]
  },
  {
   "cell_type": "code",
   "execution_count": 67,
   "id": "4002fd10",
   "metadata": {},
   "outputs": [
    {
     "name": "stdout",
     "output_type": "stream",
     "text": [
      "sensitivity = 0.1681614349775785\n",
      "specificity = 0.9999558693733451\n",
      "relative risk = 3810.5381165919284\n",
      "odds ratio = 4580.66037735849\n",
      "accuracy = 0.9839002856400935\n",
      "The 95.0% Confidence Interval for the odds ratio is [   280.22816037  74876.3060254 ].\n"
     ]
    }
   ],
   "source": [
    "obs_asthma_tab = np.array([[37.5, 185.5], [0.5, 11329.5 ]])  # T+ F- then F+ T-\n",
    "\n",
    "\n",
    "TwoWaySummary(obs_asthma_tab)"
   ]
  },
  {
   "cell_type": "code",
   "execution_count": 68,
   "id": "609a62d5",
   "metadata": {},
   "outputs": [
    {
     "name": "stdout",
     "output_type": "stream",
     "text": [
      "sensitivity = 0.1681614349775785\n",
      "specificity = 0.9999558693733451\n",
      "relative risk = 3810.5381165919284\n",
      "odds ratio = 4580.66037735849\n",
      "accuracy = 0.9839002856400935\n",
      "The 99.0% Confidence Interval for the odds ratio is [  1.16473932e+02   1.80147173e+05].\n"
     ]
    }
   ],
   "source": [
    "TwoWaySummary( obs_asthma_tab , C=0.99)"
   ]
  },
  {
   "cell_type": "code",
   "execution_count": 71,
   "id": "ce93781f",
   "metadata": {},
   "outputs": [],
   "source": [
    "## Let's add a conf interval to our TwoWaySummary function\n",
    "## Let's add something to automatically use the Plus 2 correction\n",
    "## and print a warning about it.\n",
    "\n",
    "def TwoWaySummary(x, C=0.95):\n",
    "    \"\"\" x must be a 2x2 table arranged T+ F-, F+ T-\"\"\"\n",
    "    \"\"\" C must be a positive number less than 1\"\"\"\n",
    "    a = int(x[[0],[0]][0])\n",
    "    b = int(x[[0],[1]][0])\n",
    "    c = int(x[[1],[0]][0])\n",
    "    d = int(x[[1],[1]][0])\n",
    "    \n",
    "    if(a == 0 or b == 0 or c == 0 or d==0):\n",
    "        print(\"At least one entry is 0; using the Plus 2 correction\")\n",
    "        a = a + 0.5\n",
    "        b = b + 0.5\n",
    "        c = c + 0.5\n",
    "        d = d + 0.5\n",
    "    \n",
    "    z_star = scipy.stats.norm.ppf((1-C)/2)\n",
    "    z_star_array = np.array([z_star, -1*z_star])\n",
    "    SE = (1/a + 1/b + 1/c + 1/d)**0.5\n",
    "    \n",
    "    c_int = np.exp(np.log((a*d)/(b*c)) + SE*z_star_array)\n",
    "    \n",
    "    print(f\"sensitivity = {a/(a+b)}\\nspecificity = {d/(c+d)}\\nrelative risk = {a*(c+d)/(c*(a+b))}\\nodds ratio = {a*d/(b*c)}\\naccuracy = {(a+d)/(a+d+c+b)}\")\n",
    "    print(f\"The {C*100}% Confidence Interval for the odds ratio is {c_int}.\")\n"
   ]
  },
  {
   "cell_type": "code",
   "execution_count": 72,
   "id": "ad4f1388",
   "metadata": {},
   "outputs": [
    {
     "name": "stdout",
     "output_type": "stream",
     "text": [
      "At least one entry is 0; using the Plus 2 correction\n",
      "sensitivity = 0.1681614349775785\n",
      "specificity = 0.9999558693733451\n",
      "relative risk = 3810.5381165919284\n",
      "odds ratio = 4580.66037735849\n",
      "accuracy = 0.9839002856400935\n",
      "The 95.0% Confidence Interval for the odds ratio is [   280.22816037  74876.3060254 ].\n"
     ]
    }
   ],
   "source": [
    "obs_asthma_tab = np.array([[37, 185], [0, 11329 ]])  # T+ F- then F+ T-\n",
    "\n",
    "\n",
    "TwoWaySummary(obs_asthma_tab)"
   ]
  },
  {
   "cell_type": "code",
   "execution_count": null,
   "id": "f42e1ed8",
   "metadata": {},
   "outputs": [],
   "source": []
  }
 ],
 "metadata": {
  "kernelspec": {
   "display_name": "Python 3 (ipykernel)",
   "language": "python",
   "name": "python3"
  },
  "language_info": {
   "codemirror_mode": {
    "name": "ipython",
    "version": 3
   },
   "file_extension": ".py",
   "mimetype": "text/x-python",
   "name": "python",
   "nbconvert_exporter": "python",
   "pygments_lexer": "ipython3",
   "version": "3.9.13"
  }
 },
 "nbformat": 4,
 "nbformat_minor": 5
}
