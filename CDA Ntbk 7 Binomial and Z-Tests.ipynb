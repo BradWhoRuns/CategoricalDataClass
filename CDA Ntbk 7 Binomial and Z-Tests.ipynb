{
 "cells": [
  {
   "cell_type": "markdown",
   "id": "a5251ce9",
   "metadata": {},
   "source": [
    "# Binomial Tests and Z-Tests for Proportions\n"
   ]
  },
  {
   "cell_type": "code",
   "execution_count": 95,
   "id": "cbe3b861",
   "metadata": {},
   "outputs": [],
   "source": [
    "from datascience import *\n",
    "import numpy as np\n",
    "\n",
    "%matplotlib inline\n",
    "import matplotlib.pyplot as plots\n",
    "plots.style.use('fivethirtyeight')\n",
    "\n",
    "import scipy.stats as stats\n",
    "\n",
    "import scipy\n",
    "\n",
    "import warnings\n",
    "warnings.simplefilter(action=\"ignore\", category=FutureWarning)\n",
    "warnings.simplefilter(action=\"ignore\", category=np.VisibleDeprecationWarning)\n",
    "\n",
    "mort22 = Table.read_table(\"ThinMort2022.csv\")\n"
   ]
  },
  {
   "cell_type": "markdown",
   "id": "c518b56a",
   "metadata": {},
   "source": [
    "According to [World Population Review](https://worldpopulationreview.com/country-rankings/percentage-of-redheads-by-country), the country with the highest proportion of redheads is Scotland, with 13% of that population having natural red hair.  If we gathered a random sample of 50 Scots and found that 8 of them have red hair is that sufficient evidence that the true proportion is actually greater than 13 percent?\n",
    "\n",
    "$H_o: \\pi = 0.13$\n",
    "\n",
    "$H_a: \\pi > 0.13$\n",
    "\n",
    "The test we'd need to run to test this is called a Binomial Test.  It uses the so-called Binomial Distribution.  Let's talk about that.   \n"
   ]
  },
  {
   "cell_type": "markdown",
   "id": "76f0e962",
   "metadata": {},
   "source": [
    "### The Binomial Distributions\n",
    "\n",
    "Suppose a standard 6-sided die is going to rolled 10 times and we're going to count the number of times the die shows a 1.  For the values 0 to 10, we can calculate the theoretical probability of seeing that number of 1's in these 10 rolls.  \n",
    "\n",
    "This is an example of the so-called *binomial distribution*.  \n",
    "\n",
    "In the example used above the probability mass function, the function that tells us the probability, is:\n",
    "\n",
    "$$ f(k) = {10 \\choose k}  \\left(\\frac{1}{6}\\right)^k \\left(\\frac{5}{6}\\right)^{10-k}$$\n",
    "\n",
    "\n",
    "| k | f(k) = Pr(X = k) |\n",
    "|:-:| :-:|\n",
    "|0|0.16 |\n",
    "|1|0.32 |\n",
    "|2|0.29 |\n",
    "|3|0.15 |\n",
    "|4|0.054 |\n",
    "|5|0.013 |\n",
    "|6|0.0022 |\n",
    "|7|0.00024 |\n",
    "|8|0.000019 |\n",
    "|9|0.00000082 |\n",
    "|10|0.000000016 |\n",
    "\n",
    "\n",
    "The general formula is:\n",
    "\n",
    "$$f(k) = {n \\choose k } p^k (1-p)^{n-k}$$\n",
    "\n",
    "Where $n$ is the number of trials and $p$ is the probability of success on each individual trial.  \n",
    "\n",
    "\n",
    "Suppose a particular country has a large population and 13% of that population has red hair.  If we sample 50 people, what is the probability of finding exactly 8 that have red hair?\n",
    "\n",
    "Because the population is large and the sample size is not close to the population size, we can use the binomial distribution as an approximation.  \n",
    "\n",
    "$$p(k) = {50 \\choose k } 0.13^k (1-0.13)^{50-k}$$\n",
    "\n",
    "|k  | p(k)|\n",
    "|---|---|\n",
    "|0  | 0.000946156|\n",
    "|1  | 0.00706898 |\n",
    "|2  | 0.025879   |\n",
    "|3  | 0.0618716  |\n",
    "|4  | 0.108631   |\n",
    "|5  | 0.149336   |\n",
    "|6  | 0.167359   |\n",
    "|7  | 0.157191   |\n",
    "|8  | 0.12625    |\n",
    "| ...  |...    |\n",
    "\n",
    "\n",
    "\n",
    "\n",
    "\n",
    "So, $p(8) \\approx 0.126$.  See the cells below with these calculations in Python code.  \n",
    "\n",
    "\n",
    "Next, what would the probability of 8 or more people having red hair?  Now, we are starting to get closer to the binomial test, at least the mathematics of the test are the same or similar to the answer to this question.  \n"
   ]
  },
  {
   "cell_type": "code",
   "execution_count": 96,
   "id": "2395dd00",
   "metadata": {},
   "outputs": [
    {
     "data": {
      "text/plain": [
       "array([   1.,   10.,   45.,  120.,  210.,  252.,  210.,  120.,   45.,\n",
       "         10.,    1.])"
      ]
     },
     "execution_count": 96,
     "metadata": {},
     "output_type": "execute_result"
    }
   ],
   "source": [
    "chooses = scipy.special.comb(10, np.arange(11))\n",
    "\n",
    "chooses"
   ]
  },
  {
   "cell_type": "code",
   "execution_count": 97,
   "id": "4089712f",
   "metadata": {},
   "outputs": [
    {
     "data": {
      "text/html": [
       "<table border=\"1\" class=\"dataframe\">\n",
       "    <thead>\n",
       "        <tr>\n",
       "            <th>k</th> <th>f(k)</th>\n",
       "        </tr>\n",
       "    </thead>\n",
       "    <tbody>\n",
       "        <tr>\n",
       "            <td>0   </td> <td>0.161506   </td>\n",
       "        </tr>\n",
       "        <tr>\n",
       "            <td>1   </td> <td>0.323011   </td>\n",
       "        </tr>\n",
       "        <tr>\n",
       "            <td>2   </td> <td>0.29071    </td>\n",
       "        </tr>\n",
       "        <tr>\n",
       "            <td>3   </td> <td>0.155045   </td>\n",
       "        </tr>\n",
       "        <tr>\n",
       "            <td>4   </td> <td>0.0542659  </td>\n",
       "        </tr>\n",
       "        <tr>\n",
       "            <td>5   </td> <td>0.0130238  </td>\n",
       "        </tr>\n",
       "        <tr>\n",
       "            <td>6   </td> <td>0.00217064 </td>\n",
       "        </tr>\n",
       "        <tr>\n",
       "            <td>7   </td> <td>0.000248073</td>\n",
       "        </tr>\n",
       "        <tr>\n",
       "            <td>8   </td> <td>1.86054e-05</td>\n",
       "        </tr>\n",
       "        <tr>\n",
       "            <td>9   </td> <td>8.26909e-07</td>\n",
       "        </tr>\n",
       "    </tbody>\n",
       "</table>\n",
       "<p>... (1 rows omitted)</p>"
      ],
      "text/plain": [
       "k    | f(k)\n",
       "0    | 0.161506\n",
       "1    | 0.323011\n",
       "2    | 0.29071\n",
       "3    | 0.155045\n",
       "4    | 0.0542659\n",
       "5    | 0.0130238\n",
       "6    | 0.00217064\n",
       "7    | 0.000248073\n",
       "8    | 1.86054e-05\n",
       "9    | 8.26909e-07\n",
       "... (1 rows omitted)"
      ]
     },
     "execution_count": 97,
     "metadata": {},
     "output_type": "execute_result"
    }
   ],
   "source": [
    "## Work to support the first example above\n",
    "\n",
    "i = np.arange(11)\n",
    "\n",
    "Table().with_columns(\"k\",i,\"f(k)\", chooses * (1/6)**i * (5/6)**(10-i))"
   ]
  },
  {
   "cell_type": "code",
   "execution_count": 98,
   "id": "1bf5e0ec",
   "metadata": {},
   "outputs": [
    {
     "data": {
      "text/plain": [
       "0.12625005099107481"
      ]
     },
     "execution_count": 98,
     "metadata": {},
     "output_type": "execute_result"
    }
   ],
   "source": [
    "## p(8)\n",
    "\n",
    "scipy.special.comb(50, 8)*0.13**8 * (1-0.13)**(50-8)"
   ]
  },
  {
   "cell_type": "code",
   "execution_count": 99,
   "id": "2212faf1",
   "metadata": {},
   "outputs": [
    {
     "data": {
      "text/html": [
       "<table border=\"1\" class=\"dataframe\">\n",
       "    <thead>\n",
       "        <tr>\n",
       "            <th>k</th> <th>f(k)</th>\n",
       "        </tr>\n",
       "    </thead>\n",
       "    <tbody>\n",
       "        <tr>\n",
       "            <td>0   </td> <td>0.000946156</td>\n",
       "        </tr>\n",
       "        <tr>\n",
       "            <td>1   </td> <td>0.00706898 </td>\n",
       "        </tr>\n",
       "        <tr>\n",
       "            <td>2   </td> <td>0.025879   </td>\n",
       "        </tr>\n",
       "        <tr>\n",
       "            <td>3   </td> <td>0.0618716  </td>\n",
       "        </tr>\n",
       "        <tr>\n",
       "            <td>4   </td> <td>0.108631   </td>\n",
       "        </tr>\n",
       "        <tr>\n",
       "            <td>5   </td> <td>0.149336   </td>\n",
       "        </tr>\n",
       "        <tr>\n",
       "            <td>6   </td> <td>0.167359   </td>\n",
       "        </tr>\n",
       "        <tr>\n",
       "            <td>7   </td> <td>0.157191   </td>\n",
       "        </tr>\n",
       "        <tr>\n",
       "            <td>8   </td> <td>0.12625    </td>\n",
       "        </tr>\n",
       "        <tr>\n",
       "            <td>9   </td> <td>0.0880364  </td>\n",
       "        </tr>\n",
       "    </tbody>\n",
       "</table>\n",
       "<p>... (41 rows omitted)</p>"
      ],
      "text/plain": [
       "k    | f(k)\n",
       "0    | 0.000946156\n",
       "1    | 0.00706898\n",
       "2    | 0.025879\n",
       "3    | 0.0618716\n",
       "4    | 0.108631\n",
       "5    | 0.149336\n",
       "6    | 0.167359\n",
       "7    | 0.157191\n",
       "8    | 0.12625\n",
       "9    | 0.0880364\n",
       "... (41 rows omitted)"
      ]
     },
     "execution_count": 99,
     "metadata": {},
     "output_type": "execute_result"
    }
   ],
   "source": [
    "## Work to support the second example above\n",
    "chooses = scipy.special.comb(50, np.arange(51))\n",
    "\n",
    "chooses\n",
    "\n",
    "i = np.arange(51)\n",
    "\n",
    "Table().with_columns(\"k\",i,\"f(k)\", chooses * .13**i * (1-.13)**(50-i))"
   ]
  },
  {
   "cell_type": "markdown",
   "id": "0b21fa3a",
   "metadata": {},
   "source": [
    "We won't do many in depth calculations like these, but they are a nice distraction at the beginning of the class.   "
   ]
  },
  {
   "cell_type": "code",
   "execution_count": 100,
   "id": "90ef8fe7",
   "metadata": {},
   "outputs": [
    {
     "data": {
      "text/plain": [
       "BinomTestResult(k=8, n=50, alternative='greater', proportion_estimate=0.16, pvalue=0.32171648607831266)"
      ]
     },
     "execution_count": 100,
     "metadata": {},
     "output_type": "execute_result"
    }
   ],
   "source": [
    "scipy.stats.binomtest(8, 50, p = 0.13, alternative = \"greater\")"
   ]
  },
  {
   "cell_type": "markdown",
   "id": "c95590d3",
   "metadata": {},
   "source": [
    "Suppose that overall redheads comprise only 3% of the population of a country (like the United States, for example).  But, different regions of that country were founded by people from different parts of the world.  One particular part is believed to have been populated by Scottish and Irish immigrants (those countries are currently 10% and 10% redheaded).  Suppose a sample of size 30 was gathered from this region and it was discovered that 5 of them had naturally red hair.  Would that support the hypothesis that, in that specific region, the proportion of natural redheads is greater than 3%? "
   ]
  },
  {
   "cell_type": "code",
   "execution_count": 101,
   "id": "76761191",
   "metadata": {},
   "outputs": [
    {
     "data": {
      "text/plain": [
       "BinomTestResult(k=5, n=30, alternative='greater', proportion_estimate=0.16666666666666666, pvalue=0.0018496925517689966)"
      ]
     },
     "execution_count": 101,
     "metadata": {},
     "output_type": "execute_result"
    }
   ],
   "source": [
    "scipy.stats.binomtest(5, 30, 0.03, alternative=\"greater\")"
   ]
  },
  {
   "cell_type": "markdown",
   "id": "97532357",
   "metadata": {},
   "source": [
    "## 1-Sample z-test for proportions ##\n",
    "\n",
    "There was a long period of time when statisticians did their work without the aid of a computer.  At that time computations like \n",
    "\n",
    "$$ \\sum_{k = 160}^{200} \\left( \\begin{array}{c} 200 \\\\ k \\end{array} \\right) 0.7^k (1-0.7)^{200-k} $$\n",
    "\n",
    "would have taken a **very** long time.  \n",
    "\n",
    "The statisticians of that time period realized that under certain conditions, the binomial distribution could be closely approximated by the normal distribution.  This approximation gave rise to what we know as the z-test for population proportions.  It serves the same purpose as the binomial test. \n",
    "\n",
    "How is it done?  First, find $\\displaystyle \\hat{p} = \\frac{\\mathrm{successes}}{\\mathrm{trials}}$.\n",
    "\n",
    "Then find $\\displaystyle z = \\frac{\\hat{p} - p_o}{\\sqrt{\\frac{p_o(1-p_o)}{n}}}$.\n",
    "\n",
    "This value of $z$ is from the standard normal distribution, $N(0, 1)$, so find the p-value from that.\n",
    "\n",
    "\n",
    "### Why discuss this when we already have the binomial test? ##\n",
    "\n",
    "There are at least three good reasons to discuss this test.\n",
    "\n",
    "1. The wheels of change can turn very slowly in some fields.  If you go on to use statistics in another academic area, you may encounter people who have not heard of the binomial test, and instead *prefer* the less exact z-test.  Don't argue with them, just use the z-test.\n",
    "\n",
    "2. As our computers are improving, that also means that the data sets we may be asked to analyze are getting bigger.  When you have a data set with millions of entries in it, we can run into essentially the same problem the statisticians had before computers were being used.  That is, it's still possible to have numbers involved are too big for a binomial test.  When they are that large, the z-test is faster and just as accurate.  \n",
    "\n",
    "3. The 1-proportion z-test does extend to a 2-proportions z-test, which we will eventually discuss.  \n",
    "\n",
    "Unfortunately, the scipy.stats module that houses most of the statistical functions we're using does not have a traditional 1-sample z-test for proportions, so we'll just have to write our own.  \n"
   ]
  },
  {
   "cell_type": "code",
   "execution_count": 102,
   "id": "f47cc650",
   "metadata": {},
   "outputs": [],
   "source": [
    "def z_prop_test(x, n, p, alternative =\"not equal\"):\n",
    "    \"\"\"x = successes, n = trials, p = null proportion\"\"\"\n",
    "    z = (x/n - p)/(p*(1-p)/n)**0.5\n",
    "    prob = scipy.stats.norm.sf(z)\n",
    "    \n",
    "    if alternative == \"greater\":\n",
    "        p_val = prob\n",
    "    elif alternative == \"less\":\n",
    "        p_val = 1 - prob\n",
    "    else:\n",
    "        p_val = 2 * min(prob, 1-prob)\n",
    "    \n",
    "    print(\"The test stat is z = {} with a p-value of {}.\".format(np.round(z,5), np.round(p_val, 8)))"
   ]
  },
  {
   "cell_type": "code",
   "execution_count": 103,
   "id": "674af126",
   "metadata": {},
   "outputs": [
    {
     "name": "stdout",
     "output_type": "stream",
     "text": [
      "The test stat is z = 1.54303 with a p-value of 0.12282265.\n"
     ]
    }
   ],
   "source": [
    "z_prop_test(150, 200, 0.7)"
   ]
  },
  {
   "cell_type": "markdown",
   "id": "886828d2",
   "metadata": {},
   "source": [
    "## Optional: Continuity Correction ##\n",
    "\n",
    "It is possible to slightly improve the accuracy of the z-test.  \n",
    "\n",
    "When $\\displaystyle \\frac{\\mathrm{successes}}{\\mathrm{trials}} > p_o$, let $\\displaystyle \\hat{p} = \\frac{\\mathrm{successes-0.5}}{\\mathrm{trials}}$ instead.\n",
    "\n",
    "When $\\displaystyle \\frac{\\mathrm{successes}}{\\mathrm{trials}} < p_o$, let $\\displaystyle \\hat{p} = \\frac{\\mathrm{successes+0.5}}{\\mathrm{trials}}$."
   ]
  },
  {
   "cell_type": "code",
   "execution_count": 104,
   "id": "2bf6feb5",
   "metadata": {},
   "outputs": [
    {
     "name": "stdout",
     "output_type": "stream",
     "text": [
      "The test stat is z = 1.62019 with a p-value of 0.10519251.\n"
     ]
    }
   ],
   "source": [
    "z_prop_test(150.5, 200, 0.7)"
   ]
  },
  {
   "cell_type": "markdown",
   "id": "9610aaa4",
   "metadata": {},
   "source": [
    "We can use a canned 1-proportion z-test from the `statsmodels.stats.proportion` module.  It's called `proportions_ztest` but that's too long, so we change it's name to `Z_test`.  (Hey, did you notice the \"s\" on proportions?  In the English department they call this foreshadowing.)"
   ]
  },
  {
   "cell_type": "code",
   "execution_count": 105,
   "id": "4126fd12",
   "metadata": {},
   "outputs": [
    {
     "data": {
      "text/plain": [
       "(1.6329931618554536, 0.1024704348597491)"
      ]
     },
     "execution_count": 105,
     "metadata": {},
     "output_type": "execute_result"
    }
   ],
   "source": [
    "from statsmodels.stats.proportion import proportions_ztest as Z_test\n",
    "\n",
    "Z_test(150, 200, value = 0.7)"
   ]
  },
  {
   "cell_type": "code",
   "execution_count": null,
   "id": "c4db491a",
   "metadata": {},
   "outputs": [],
   "source": []
  },
  {
   "cell_type": "markdown",
   "id": "7a093484",
   "metadata": {},
   "source": [
    "## Revisit the Mort22 data\n",
    "\n",
    "Recall this data set from earlier in the semester.  "
   ]
  },
  {
   "cell_type": "code",
   "execution_count": 106,
   "id": "62001bdc",
   "metadata": {},
   "outputs": [
    {
     "data": {
      "text/html": [
       "<table border=\"1\" class=\"dataframe\">\n",
       "    <thead>\n",
       "        <tr>\n",
       "            <th>Sex</th> <th>Race</th> <th>Month_of_Death</th> <th>Heart</th> <th>Suicide</th>\n",
       "        </tr>\n",
       "    </thead>\n",
       "    <tbody>\n",
       "        <tr>\n",
       "            <td>M   </td> <td>Black</td> <td>1             </td> <td>No   </td> <td>No     </td>\n",
       "        </tr>\n",
       "        <tr>\n",
       "            <td>M   </td> <td>White</td> <td>1             </td> <td>No   </td> <td>No     </td>\n",
       "        </tr>\n",
       "        <tr>\n",
       "            <td>M   </td> <td>AIAN </td> <td>1             </td> <td>Yes  </td> <td>No     </td>\n",
       "        </tr>\n",
       "        <tr>\n",
       "            <td>M   </td> <td>White</td> <td>1             </td> <td>No   </td> <td>No     </td>\n",
       "        </tr>\n",
       "        <tr>\n",
       "            <td>F   </td> <td>API  </td> <td>1             </td> <td>No   </td> <td>No     </td>\n",
       "        </tr>\n",
       "    </tbody>\n",
       "</table>\n",
       "<p>... (3289563 rows omitted)</p>"
      ],
      "text/plain": [
       "<IPython.core.display.HTML object>"
      ]
     },
     "metadata": {},
     "output_type": "display_data"
    }
   ],
   "source": [
    "mort22.show(5)\n"
   ]
  },
  {
   "cell_type": "code",
   "execution_count": 107,
   "id": "d5bd7601",
   "metadata": {},
   "outputs": [
    {
     "data": {
      "text/html": [
       "<table border=\"1\" class=\"dataframe\">\n",
       "    <thead>\n",
       "        <tr>\n",
       "            <th>Sex</th> <th>count</th>\n",
       "        </tr>\n",
       "    </thead>\n",
       "    <tbody>\n",
       "        <tr>\n",
       "            <td>F   </td> <td>1563268</td>\n",
       "        </tr>\n",
       "        <tr>\n",
       "            <td>M   </td> <td>1726300</td>\n",
       "        </tr>\n",
       "    </tbody>\n",
       "</table>"
      ],
      "text/plain": [
       "Sex  | count\n",
       "F    | 1563268\n",
       "M    | 1726300"
      ]
     },
     "execution_count": 107,
     "metadata": {},
     "output_type": "execute_result"
    }
   ],
   "source": [
    "table1 = mort22.group(\"Sex\")\n",
    "\n",
    "table1"
   ]
  },
  {
   "cell_type": "code",
   "execution_count": 108,
   "id": "e9c83ece",
   "metadata": {
    "scrolled": true
   },
   "outputs": [
    {
     "data": {
      "image/png": "[encoded data removed]",
      "text/plain": [
       "<Figure size 600x400 with 1 Axes>"
      ]
     },
     "metadata": {},
     "output_type": "display_data"
    }
   ],
   "source": [
    "table2 = mort22.pivot(\"Sex\", \"Suicide\")\n",
    "\n",
    "table2.barh(\"Suicide\")"
   ]
  },
  {
   "cell_type": "code",
   "execution_count": 109,
   "id": "567027d6",
   "metadata": {},
   "outputs": [
    {
     "data": {
      "text/html": [
       "<table border=\"1\" class=\"dataframe\">\n",
       "    <thead>\n",
       "        <tr>\n",
       "            <th>Suicide</th> <th>F</th> <th>M</th>\n",
       "        </tr>\n",
       "    </thead>\n",
       "    <tbody>\n",
       "        <tr>\n",
       "            <td>No     </td> <td>1553005</td> <td>1686831</td>\n",
       "        </tr>\n",
       "        <tr>\n",
       "            <td>Yes    </td> <td>10263  </td> <td>39469  </td>\n",
       "        </tr>\n",
       "    </tbody>\n",
       "</table>"
      ],
      "text/plain": [
       "<IPython.core.display.HTML object>"
      ]
     },
     "metadata": {},
     "output_type": "display_data"
    }
   ],
   "source": [
    "table2.show()"
   ]
  },
  {
   "cell_type": "markdown",
   "id": "761fa056",
   "metadata": {},
   "source": [
    "Two Proportions Z-test\n",
    "\n",
    "How is it done?  First, find $\\displaystyle \\hat{p}_1 = \\frac{\\mathrm{x_1}}{\\mathrm{n_1}}$.\n",
    "\n",
    "Then find $\\displaystyle z = \\frac{\\hat{p}_1 - \\hat{p}_2}{\\sqrt{\\frac{\\hat{p}_1(1-\\hat{p}_1)}{n_1}  + \\frac{\\hat{p}_2(1-\\hat{p}_2)}{n_2}}}$.\n",
    "\n",
    "This is the UNpooled standard error, $\\displaystyle \\sqrt{\\frac{\\hat{p}_1(1-\\hat{p}_1)}{n_1}  + \\frac{\\hat{p}_2(1-\\hat{p}_2)}{n_2}}$, which I prefer.\n",
    "\n",
    "\n",
    "The pooled standard error is found by first letting $\\displaystyle \\hat{p} = \\frac{x_1+x_2}{n_1+n_2}$ then $\\displaystyle \\sqrt{\\hat{p}(1-\\hat{p}) \\left( \\frac{1}{n_1} + \\frac{1}{n_2}\\right)}$\n",
    "\n",
    "\n",
    "\n",
    "This value of $z$ is from the standard normal distribution, $N(0, 1)$, so find the p-value from that.\n",
    "\n",
    "Is the proportion of male suicides greater than the proportion of female suicides.  \n",
    "\n"
   ]
  },
  {
   "cell_type": "code",
   "execution_count": 110,
   "id": "dd7777a7",
   "metadata": {},
   "outputs": [
    {
     "data": {
      "text/plain": [
       "(125.93796401938832, 0.0, 122.80322328144432, 0.0)"
      ]
     },
     "execution_count": 110,
     "metadata": {},
     "output_type": "execute_result"
    }
   ],
   "source": [
    "x1 = 10263\n",
    "n1 = 1553005\n",
    "\n",
    "x2 = 39469\n",
    "n2 = 1686831\n",
    "\n",
    "p1 = x1/n1\n",
    "p2 = x2/n2\n",
    "\n",
    "z_unpooled = (p2 - p1)/(p1*(1-p1)/n1 + p2*(1-p2)/n2)**0.5\n",
    "\n",
    "p_value_un = 1-scipy.stats.norm.cdf(z_unpooled)\n",
    "\n",
    "pooled = (x1+x2)/(n1+n2)\n",
    "\n",
    "z_pooled = (p2-p1)/(pooled*(1-pooled)*(1/n1 +1/n2))**0.5\n",
    "p_value_po = 1-scipy.stats.norm.cdf(z_unpooled)\n",
    "\n",
    "\n",
    "(z_unpooled, p_value_un, z_pooled, p_value_po)"
   ]
  },
  {
   "cell_type": "markdown",
   "id": "f9b31110",
   "metadata": {},
   "source": [
    "The `statsmodels.stats.proportion.proportions_ztest` will do a 2-proportion z-test.  You just have to put the successes into an array and the trials into a separate array.  See:"
   ]
  },
  {
   "cell_type": "code",
   "execution_count": 111,
   "id": "6f961382",
   "metadata": {},
   "outputs": [
    {
     "data": {
      "text/plain": [
       "(122.80322328144432, 0.0)"
      ]
     },
     "execution_count": 111,
     "metadata": {},
     "output_type": "execute_result"
    }
   ],
   "source": [
    "suic = np.array([39469, 10263])\n",
    "\n",
    "totals = np.array([ 1686831, 1553005])\n",
    "\n",
    "Z_test(suic, totals)"
   ]
  },
  {
   "cell_type": "code",
   "execution_count": 112,
   "id": "a4950682",
   "metadata": {},
   "outputs": [
    {
     "data": {
      "text/plain": [
       "array([ 0.02339831,  0.00660848])"
      ]
     },
     "execution_count": 112,
     "metadata": {},
     "output_type": "execute_result"
    }
   ],
   "source": [
    "suic/totals"
   ]
  },
  {
   "cell_type": "markdown",
   "id": "0b1b4371",
   "metadata": {},
   "source": [
    "As you can see, this test uses the pooled standard error.  That' okay, I'm not mad about it, just as long as you know that's what it's doing.  If you ever realize that this test is not appropriate, you may have use the code from above to run the unpooled test on your own.  We'll use this pooled test.\n",
    "\n",
    "**Reporting out:** With the proportion of male deaths that are suicides being 2% while the proportion of female deaths that are suicides is 0.7% and the $p$-value from the binomial test is essentially 0, so we conclude that the proportion of male deaths due to suicide is much higher.  "
   ]
  },
  {
   "cell_type": "code",
   "execution_count": 113,
   "id": "121123ca",
   "metadata": {},
   "outputs": [
    {
     "data": {
      "image/png": "[encoded data removed]",
      "text/plain": [
       "<Figure size 600x400 with 1 Axes>"
      ]
     },
     "metadata": {},
     "output_type": "display_data"
    }
   ],
   "source": [
    "table1.barh(\"Sex\")"
   ]
  },
  {
   "cell_type": "code",
   "execution_count": 114,
   "id": "90f5365c",
   "metadata": {},
   "outputs": [
    {
     "data": {
      "text/html": [
       "<table border=\"1\" class=\"dataframe\">\n",
       "    <thead>\n",
       "        <tr>\n",
       "            <th>Race</th> <th>count</th>\n",
       "        </tr>\n",
       "    </thead>\n",
       "    <tbody>\n",
       "        <tr>\n",
       "            <td>AIAN       </td> <td>25490  </td>\n",
       "        </tr>\n",
       "        <tr>\n",
       "            <td>API        </td> <td>100239 </td>\n",
       "        </tr>\n",
       "        <tr>\n",
       "            <td>Black      </td> <td>420430 </td>\n",
       "        </tr>\n",
       "        <tr>\n",
       "            <td>Other/Mixed</td> <td>16015  </td>\n",
       "        </tr>\n",
       "        <tr>\n",
       "            <td>White      </td> <td>2727394</td>\n",
       "        </tr>\n",
       "    </tbody>\n",
       "</table>"
      ],
      "text/plain": [
       "Race        | count\n",
       "AIAN        | 25490\n",
       "API         | 100239\n",
       "Black       | 420430\n",
       "Other/Mixed | 16015\n",
       "White       | 2727394"
      ]
     },
     "execution_count": 114,
     "metadata": {},
     "output_type": "execute_result"
    }
   ],
   "source": [
    "table3 = mort22.group(\"Race\")\n",
    "table3"
   ]
  },
  {
   "cell_type": "code",
   "execution_count": 115,
   "id": "cc167e3a",
   "metadata": {},
   "outputs": [
    {
     "data": {
      "image/png": "[encoded data removed]",
      "text/plain": [
       "<Figure size 600x400 with 1 Axes>"
      ]
     },
     "metadata": {},
     "output_type": "display_data"
    }
   ],
   "source": [
    "table3.sort(\"count\", True).barh(\"Race\")"
   ]
  },
  {
   "cell_type": "code",
   "execution_count": 116,
   "id": "a099263e",
   "metadata": {},
   "outputs": [
    {
     "data": {
      "text/html": [
       "<table border=\"1\" class=\"dataframe\">\n",
       "    <thead>\n",
       "        <tr>\n",
       "            <th>Race</th> <th>No</th> <th>Yes</th>\n",
       "        </tr>\n",
       "    </thead>\n",
       "    <tbody>\n",
       "        <tr>\n",
       "            <td>AIAN       </td> <td>24786  </td> <td>704  </td>\n",
       "        </tr>\n",
       "        <tr>\n",
       "            <td>API        </td> <td>98413  </td> <td>1826 </td>\n",
       "        </tr>\n",
       "        <tr>\n",
       "            <td>Black      </td> <td>416444 </td> <td>3986 </td>\n",
       "        </tr>\n",
       "        <tr>\n",
       "            <td>Other/Mixed</td> <td>15454  </td> <td>561  </td>\n",
       "        </tr>\n",
       "        <tr>\n",
       "            <td>White      </td> <td>2684739</td> <td>42655</td>\n",
       "        </tr>\n",
       "    </tbody>\n",
       "</table>"
      ],
      "text/plain": [
       "Race        | No      | Yes\n",
       "AIAN        | 24786   | 704\n",
       "API         | 98413   | 1826\n",
       "Black       | 416444  | 3986\n",
       "Other/Mixed | 15454   | 561\n",
       "White       | 2684739 | 42655"
      ]
     },
     "execution_count": 116,
     "metadata": {},
     "output_type": "execute_result"
    }
   ],
   "source": [
    "table4 = mort22.pivot( \"Suicide\", \"Race\")\n",
    "\n",
    "table4"
   ]
  },
  {
   "cell_type": "markdown",
   "id": "c147c4ee",
   "metadata": {},
   "source": [
    "Suicide is rare event, so in most groups the bar representing the number of suicides is not visible.  \n",
    "\n",
    "See below. "
   ]
  },
  {
   "cell_type": "code",
   "execution_count": 117,
   "id": "79de6a15",
   "metadata": {},
   "outputs": [
    {
     "data": {
      "image/png": "[encoded data removed]",
      "text/plain": [
       "<Figure size 600x400 with 1 Axes>"
      ]
     },
     "metadata": {},
     "output_type": "display_data"
    }
   ],
   "source": [
    "table4.barh(\"Race\")"
   ]
  },
  {
   "cell_type": "markdown",
   "id": "c67335a7",
   "metadata": {},
   "source": [
    "Obviously, there are **more** White suicides than Black suicides.  But, there are also more white people too.  The real question is this: is the *proportion* of suicides among the white people higher than the same among the black people?  Using the 2-proportion z-test and the data available to us, we can answer this question.  "
   ]
  },
  {
   "cell_type": "code",
   "execution_count": 118,
   "id": "92519901",
   "metadata": {},
   "outputs": [
    {
     "data": {
      "text/plain": [
       "array([ 0.01563947,  0.00948077])"
      ]
     },
     "execution_count": 118,
     "metadata": {},
     "output_type": "execute_result"
    }
   ],
   "source": [
    "np.array([42655, 3986])/np.array([42655+2684739, 3986+416444])"
   ]
  },
  {
   "cell_type": "code",
   "execution_count": 119,
   "id": "fd94fe21",
   "metadata": {},
   "outputs": [
    {
     "data": {
      "text/plain": [
       "(30.765752694639012, 7.5284012177971535e-208)"
      ]
     },
     "execution_count": 119,
     "metadata": {},
     "output_type": "execute_result"
    }
   ],
   "source": [
    "Z_test(np.array([42655, 3986]), np.array([42655+2684739, 3986+416444]))"
   ]
  },
  {
   "cell_type": "markdown",
   "id": "6a7d10bf",
   "metadata": {},
   "source": [
    "**Reporting:** The proportion of White deaths that are suicides is 1.6% while the proportion of Black deaths is 0.9%. With $p \\approx 0$, we conclude that this difference in proportions is statistically significant.  "
   ]
  },
  {
   "cell_type": "code",
   "execution_count": 120,
   "id": "4d515d98",
   "metadata": {},
   "outputs": [
    {
     "data": {
      "image/png": "[encoded data removed]",
      "text/plain": [
       "<Figure size 600x400 with 1 Axes>"
      ]
     },
     "metadata": {},
     "output_type": "display_data"
    }
   ],
   "source": [
    "table4.drop(\"No\").relabel(\"Yes\", \"Number\").sort(\"Number\", True).barh(\"Race\")"
   ]
  },
  {
   "cell_type": "code",
   "execution_count": 121,
   "id": "058ee39e",
   "metadata": {},
   "outputs": [
    {
     "data": {
      "text/html": [
       "<table border=\"1\" class=\"dataframe\">\n",
       "    <thead>\n",
       "        <tr>\n",
       "            <th>Sex</th> <th>Race</th> <th>Month_of_Death</th> <th>Heart</th> <th>Suicide</th>\n",
       "        </tr>\n",
       "    </thead>\n",
       "    <tbody>\n",
       "        <tr>\n",
       "            <td>M   </td> <td>White      </td> <td>1             </td> <td>No   </td> <td>Yes    </td>\n",
       "        </tr>\n",
       "        <tr>\n",
       "            <td>M   </td> <td>Other/Mixed</td> <td>1             </td> <td>No   </td> <td>Yes    </td>\n",
       "        </tr>\n",
       "        <tr>\n",
       "            <td>F   </td> <td>AIAN       </td> <td>1             </td> <td>No   </td> <td>Yes    </td>\n",
       "        </tr>\n",
       "        <tr>\n",
       "            <td>F   </td> <td>White      </td> <td>1             </td> <td>No   </td> <td>Yes    </td>\n",
       "        </tr>\n",
       "        <tr>\n",
       "            <td>M   </td> <td>AIAN       </td> <td>1             </td> <td>No   </td> <td>Yes    </td>\n",
       "        </tr>\n",
       "        <tr>\n",
       "            <td>M   </td> <td>White      </td> <td>1             </td> <td>No   </td> <td>Yes    </td>\n",
       "        </tr>\n",
       "        <tr>\n",
       "            <td>M   </td> <td>White      </td> <td>1             </td> <td>No   </td> <td>Yes    </td>\n",
       "        </tr>\n",
       "        <tr>\n",
       "            <td>M   </td> <td>AIAN       </td> <td>1             </td> <td>No   </td> <td>Yes    </td>\n",
       "        </tr>\n",
       "        <tr>\n",
       "            <td>M   </td> <td>White      </td> <td>1             </td> <td>No   </td> <td>Yes    </td>\n",
       "        </tr>\n",
       "        <tr>\n",
       "            <td>M   </td> <td>White      </td> <td>2             </td> <td>No   </td> <td>Yes    </td>\n",
       "        </tr>\n",
       "    </tbody>\n",
       "</table>\n",
       "<p>... (49722 rows omitted)</p>"
      ],
      "text/plain": [
       "Sex  | Race        | Month_of_Death | Heart | Suicide\n",
       "M    | White       | 1              | No    | Yes\n",
       "M    | Other/Mixed | 1              | No    | Yes\n",
       "F    | AIAN        | 1              | No    | Yes\n",
       "F    | White       | 1              | No    | Yes\n",
       "M    | AIAN        | 1              | No    | Yes\n",
       "M    | White       | 1              | No    | Yes\n",
       "M    | White       | 1              | No    | Yes\n",
       "M    | AIAN        | 1              | No    | Yes\n",
       "M    | White       | 1              | No    | Yes\n",
       "M    | White       | 2              | No    | Yes\n",
       "... (49722 rows omitted)"
      ]
     },
     "execution_count": 121,
     "metadata": {},
     "output_type": "execute_result"
    }
   ],
   "source": [
    "suicide22 = mort22.where(\"Suicide\", \"Yes\")\n",
    "\n",
    "suicide22"
   ]
  },
  {
   "cell_type": "code",
   "execution_count": 122,
   "id": "24d11feb",
   "metadata": {},
   "outputs": [
    {
     "data": {
      "image/png": "[encoded data removed]",
      "text/plain": [
       "<Figure size 600x400 with 1 Axes>"
      ]
     },
     "metadata": {},
     "output_type": "display_data"
    }
   ],
   "source": [
    "suicide22.group(\"Race\").sort(\"count\", True).barh(\"Race\")"
   ]
  },
  {
   "cell_type": "code",
   "execution_count": 123,
   "id": "847dc323",
   "metadata": {},
   "outputs": [],
   "source": [
    "table5 = mort22.pivot( \"Suicide\", \"Month_of_Death\")"
   ]
  },
  {
   "cell_type": "code",
   "execution_count": 124,
   "id": "ce2f48a0",
   "metadata": {},
   "outputs": [
    {
     "data": {
      "image/png": "[encoded data removed]",
      "text/plain": [
       "<Figure size 600x600 with 1 Axes>"
      ]
     },
     "metadata": {},
     "output_type": "display_data"
    }
   ],
   "source": [
    "#table5.relabel(\"Yes\", \"Number\").drop(\"No\").relabel(\"Month_of_Death\", \"Month of Death\").barh(\"Month of Death\")\n",
    "\n",
    "table5.drop(\"No\").relabel(\"Month_of_Death\", \"Month of Death\").barh(\"Month of Death\")"
   ]
  },
  {
   "cell_type": "code",
   "execution_count": 125,
   "id": "7b8cd0fe",
   "metadata": {},
   "outputs": [
    {
     "data": {
      "text/html": [
       "<table border=\"1\" class=\"dataframe\">\n",
       "    <thead>\n",
       "        <tr>\n",
       "            <th>Month_of_Death</th> <th>No</th> <th>Yes</th>\n",
       "        </tr>\n",
       "    </thead>\n",
       "    <tbody>\n",
       "        <tr>\n",
       "            <td>1             </td> <td>366222</td> <td>4160</td>\n",
       "        </tr>\n",
       "        <tr>\n",
       "            <td>2             </td> <td>287220</td> <td>3830</td>\n",
       "        </tr>\n",
       "        <tr>\n",
       "            <td>3             </td> <td>264809</td> <td>4128</td>\n",
       "        </tr>\n",
       "        <tr>\n",
       "            <td>4             </td> <td>242727</td> <td>4040</td>\n",
       "        </tr>\n",
       "        <tr>\n",
       "            <td>5             </td> <td>250707</td> <td>4418</td>\n",
       "        </tr>\n",
       "        <tr>\n",
       "            <td>6             </td> <td>244719</td> <td>4292</td>\n",
       "        </tr>\n",
       "        <tr>\n",
       "            <td>7             </td> <td>256628</td> <td>4387</td>\n",
       "        </tr>\n",
       "        <tr>\n",
       "            <td>8             </td> <td>255428</td> <td>4363</td>\n",
       "        </tr>\n",
       "        <tr>\n",
       "            <td>9             </td> <td>247520</td> <td>4129</td>\n",
       "        </tr>\n",
       "        <tr>\n",
       "            <td>10            </td> <td>261622</td> <td>4096</td>\n",
       "        </tr>\n",
       "        <tr>\n",
       "            <td>11            </td> <td>264902</td> <td>3923</td>\n",
       "        </tr>\n",
       "        <tr>\n",
       "            <td>12            </td> <td>297332</td> <td>3966</td>\n",
       "        </tr>\n",
       "    </tbody>\n",
       "</table>"
      ],
      "text/plain": [
       "<IPython.core.display.HTML object>"
      ]
     },
     "metadata": {},
     "output_type": "display_data"
    }
   ],
   "source": [
    "table5.show()"
   ]
  },
  {
   "cell_type": "markdown",
   "id": "9a25efa9",
   "metadata": {},
   "source": [
    "Are people more likely to commit suicide in December?\n",
    "\n",
    "First, we could assume that suicides are evenly distributed throughout the year, that is that $\\frac{1}{12}^{th}$ of those that will occur during the year will occur in each month.  \n",
    "\n",
    "If we do that, then we can easily run 1-proportion z-test.  \n"
   ]
  },
  {
   "cell_type": "code",
   "execution_count": 126,
   "id": "e327a98a",
   "metadata": {},
   "outputs": [
    {
     "data": {
      "text/plain": [
       "(-2.9519069037022492, 0.99842090933674599)"
      ]
     },
     "execution_count": 126,
     "metadata": {},
     "output_type": "execute_result"
    }
   ],
   "source": [
    "total = np.sum(table5.column(\"Yes\") )\n",
    "\n",
    "december = table5.where(\"Month_of_Death\", 12).column(\"Yes\").item(0)\n",
    "\n",
    "Z_test(december, total, 1/12, alternative = \"larger\")\n"
   ]
  },
  {
   "cell_type": "markdown",
   "id": "85388e8e",
   "metadata": {},
   "source": [
    "Are people more likely to commit suicide in December than in November?  \n",
    "\n",
    "To answer this question, let's consider the proportion of deaths in each month that are due to suicide.  "
   ]
  },
  {
   "cell_type": "code",
   "execution_count": 127,
   "id": "4a4ca6f5",
   "metadata": {},
   "outputs": [
    {
     "data": {
      "text/plain": [
       "array([ 0.01459314,  0.01316305])"
      ]
     },
     "metadata": {},
     "output_type": "display_data"
    },
    {
     "data": {
      "text/plain": [
       "(4.6143522397907342, 1.9716159374202999e-06)"
      ]
     },
     "execution_count": 127,
     "metadata": {},
     "output_type": "execute_result"
    }
   ],
   "source": [
    "suic = np.array([3923, 3966])\n",
    "\n",
    "total = suic + np.array([264902, 297332])\n",
    "\n",
    "display(suic/total)\n",
    "\n",
    "Z_test(suic, total, alternative = \"larger\")"
   ]
  },
  {
   "cell_type": "markdown",
   "id": "64387d06",
   "metadata": {},
   "source": [
    "*BE CAREFUL*.  We asked a question with a particular direction and we got a small $p$-value, so at first you're tempted to conclude that the suicide rate is higher in December.  But it's 1.4% in November and goes down to 1.3% in December.  What happened?  I listed November's numbers first because it's earlier in the year!  Either, I put the data into the arrays in the wrong order or I need to change my alternative."
   ]
  },
  {
   "cell_type": "code",
   "execution_count": 128,
   "id": "bda2e888",
   "metadata": {},
   "outputs": [
    {
     "data": {
      "text/plain": [
       "(4.6143522397907342, 0.9999980283840626)"
      ]
     },
     "execution_count": 128,
     "metadata": {},
     "output_type": "execute_result"
    }
   ],
   "source": [
    "Z_test(suic, total, alternative = \"smaller\")"
   ]
  },
  {
   "cell_type": "markdown",
   "id": "bedf9cea",
   "metadata": {},
   "source": [
    "Again, the results may be confusing, a large $p$-value usually means that there's no difference.  But remember, no 1-tailed p-value is ever really greater than 1.  The result here is this: not only is my prejudice that the suicide rate goes up in December WRONG but actually November has a statistically higher suicide rate.  \n",
    "\n",
    "Given that there are 12 months, we should probably be running a $\\chi^2$ Goodness-of-Fitness test.\n",
    "\n",
    "We already covered this test.  This would be a good review, and it also points out something that is a fact about statistical analysis--that you don't just run one type of test at a time when working with real data.  "
   ]
  },
  {
   "cell_type": "code",
   "execution_count": 147,
   "id": "27e2ac64",
   "metadata": {},
   "outputs": [
    {
     "data": {
      "text/plain": [
       "0.08333333333333333"
      ]
     },
     "execution_count": 147,
     "metadata": {},
     "output_type": "execute_result"
    }
   ],
   "source": [
    "1/12"
   ]
  },
  {
   "cell_type": "code",
   "execution_count": 150,
   "id": "2570bc49",
   "metadata": {},
   "outputs": [
    {
     "data": {
      "text/plain": [
       "array([ 0.084,  0.077,  0.083,  0.081,  0.089,  0.086,  0.088,  0.088,\n",
       "        0.083,  0.082,  0.079,  0.08 ])"
      ]
     },
     "metadata": {},
     "output_type": "display_data"
    },
    {
     "data": {
      "text/plain": [
       "Power_divergenceResult(statistic=95.785409796509299, pvalue=1.2152977854867073e-15)"
      ]
     },
     "execution_count": 150,
     "metadata": {},
     "output_type": "execute_result"
    }
   ],
   "source": [
    "null_proportions = np.repeat(1/12, 12)\n",
    "\n",
    "yeses = table5.column(\"Yes\")\n",
    "\n",
    "total = sum(yeses)\n",
    "\n",
    "proportions = yeses/total\n",
    "display(np.round(proportions, 3))\n",
    "\n",
    "scipy.stats.chisquare(yeses, null_proportions*total )\n"
   ]
  },
  {
   "cell_type": "markdown",
   "id": "ccb7866a",
   "metadata": {},
   "source": [
    "So, 8% of the suicides in the year occured in February, this is the lowest percent and it nearly ties with December.  Meanwhile, 8.9% of the suicides occur in May.  The assumption that 8.3% of the suicides occur in each month is most likely not true, and the $p$-value of the relevant hypothesis test is essentially 0.  \n",
    "\n",
    "\n",
    "\n",
    "## Bigfoot!"
   ]
  },
  {
   "cell_type": "code",
   "execution_count": 151,
   "id": "a86fb97d",
   "metadata": {
    "scrolled": true
   },
   "outputs": [
    {
     "data": {
      "text/html": [
       "<table border=\"1\" class=\"dataframe\">\n",
       "    <thead>\n",
       "        <tr>\n",
       "            <th>season</th> <th>Midwest</th> <th>Northeast</th> <th>Southeast</th> <th>West</th>\n",
       "        </tr>\n",
       "    </thead>\n",
       "    <tbody>\n",
       "        <tr>\n",
       "            <td>Fall   </td> <td>362    </td> <td>70       </td> <td>376      </td> <td>399 </td>\n",
       "        </tr>\n",
       "        <tr>\n",
       "            <td>Spring </td> <td>197    </td> <td>39       </td> <td>212      </td> <td>220 </td>\n",
       "        </tr>\n",
       "        <tr>\n",
       "            <td>Summer </td> <td>407    </td> <td>76       </td> <td>418      </td> <td>586 </td>\n",
       "        </tr>\n",
       "        <tr>\n",
       "            <td>Unknown</td> <td>17     </td> <td>1        </td> <td>29       </td> <td>17  </td>\n",
       "        </tr>\n",
       "        <tr>\n",
       "            <td>Winter </td> <td>164    </td> <td>35       </td> <td>249      </td> <td>171 </td>\n",
       "        </tr>\n",
       "    </tbody>\n",
       "</table>"
      ],
      "text/plain": [
       "<IPython.core.display.HTML object>"
      ]
     },
     "metadata": {},
     "output_type": "display_data"
    },
    {
     "data": {
      "text/html": [
       "<table border=\"1\" class=\"dataframe\">\n",
       "    <thead>\n",
       "        <tr>\n",
       "            <th>region</th> <th>count</th>\n",
       "        </tr>\n",
       "    </thead>\n",
       "    <tbody>\n",
       "        <tr>\n",
       "            <td>Midwest  </td> <td>1147 </td>\n",
       "        </tr>\n",
       "        <tr>\n",
       "            <td>Northeast</td> <td>221  </td>\n",
       "        </tr>\n",
       "        <tr>\n",
       "            <td>Southeast</td> <td>1284 </td>\n",
       "        </tr>\n",
       "        <tr>\n",
       "            <td>West     </td> <td>1393 </td>\n",
       "        </tr>\n",
       "    </tbody>\n",
       "</table>"
      ],
      "text/plain": [
       "<IPython.core.display.HTML object>"
      ]
     },
     "metadata": {},
     "output_type": "display_data"
    }
   ],
   "source": [
    "bigfoot = Table.read_table(\"bfro_fixed.csv\")\n",
    "\n",
    "formap = bigfoot.select(\"lat\", \"lon\")\n",
    "\n",
    "#Circle.map_table(formap, area = 3)\n",
    "\n",
    "col = np.repeat(\"orange\", formap.num_rows)\n",
    "\n",
    "season = bigfoot.column(\"season\")\n",
    "\n",
    "for i in np.arange(formap.num_rows):\n",
    "    if season.item(i)== \"Spring\":\n",
    "        col[i] = \"green\"\n",
    "    elif season.item(i)== \"Winter\":\n",
    "        col[i] = \"blue\"\n",
    "    elif season.item(i)== \"Summer\":\n",
    "        col[i] = \"red\"\n",
    "\n",
    "#formap = formap.with_column(\"color\", col)\n",
    "\n",
    "#Circle.map_table(formap, area = 3)\n",
    "region = np.repeat(\"Southeast\", formap.num_rows)\n",
    "\n",
    "\n",
    "state = bigfoot.column(\"state\")\n",
    "\n",
    "for i in np.arange(formap.num_rows):\n",
    "    if state.item(i) in make_array(\"New York\", \"Pennsylvania\", \"New Jersey\", \"Maine\", \"Vermont\", \"New Hampshire\", \"Rhode Island\"\n",
    "                                   , \"Connecticut\", \"Massachusetts\", \"Delaware\", \"Maryland\"):\n",
    "        region[i] = \"Northeast\"\n",
    "    elif state.item(i) in make_array(\"California\", \"Alaska\", \"Washington\", \"Oregon\", \"Montana\", \"Idaho\",\n",
    "                                    \"Nevada\", \"Utah\", \"Arizona\", \"New Mexico\", \"Colorado\", \"Wyoming\",):\n",
    "        region[i] = \"West\"\n",
    "    elif state.item(i) in make_array(\"Oklahoma\", \"Kansas\", \"Missouri\", \"Iowa\", \"Nebraska\", \"South Dakota\", \"North Dakota\",\n",
    "                                    \"Minnesota\", \"Wisconsin\", \"Illinois\", \"Indiana\", \"Ohio\", \"Michigan\"):\n",
    "        region[i] = \"Midwest\"\n",
    "\n",
    "bigfoot = bigfoot.with_column(\"region\", region)\n",
    "\n",
    "\n",
    "bigfoot.pivot(\"region\", \"season\").show()\n",
    "\n",
    "bigfoot.group(\"region\").show()\n",
    "\n",
    "col = np.repeat(\"orange\", formap.num_rows)\n",
    "\n",
    "season = bigfoot.column(\"season\")\n",
    "\n",
    "for i in np.arange(formap.num_rows):\n",
    "    if season.item(i)== \"Spring\":\n",
    "        col[i] = \"green\"\n",
    "    elif season.item(i)== \"Winter\":\n",
    "        col[i] = \"blue\"\n",
    "    elif season.item(i)== \"Summer\":\n",
    "        col[i] = \"red\"\n",
    "\n",
    "formap = formap.with_column(\"color\", col)\n",
    "\n",
    "Circle.map_table(formap, area = 3)\n",
    "\n",
    "Table.to_csv(bigfoot, \"bf_region_season.csv\")"
   ]
  },
  {
   "cell_type": "markdown",
   "id": "90c5f8c2",
   "metadata": {},
   "source": [
    "Is the proportion of Summer bigfoot sightings in the West different from the proportion of summer bigfoot sightings in the Southeast.  "
   ]
  },
  {
   "cell_type": "code",
   "execution_count": 130,
   "id": "db585527",
   "metadata": {},
   "outputs": [
    {
     "data": {
      "text/plain": [
       "(5.0790588163592725, 3.7930927769689418e-07)"
      ]
     },
     "execution_count": 130,
     "metadata": {},
     "output_type": "execute_result"
    }
   ],
   "source": [
    "summer_west = 586\n",
    "west = 1393\n",
    "\n",
    "summer_south = 418\n",
    "south = 1284\n",
    "\n",
    "summer = np.array([summer_west, summer_south])\n",
    "totals = np.array([west, south])\n",
    "\n",
    "Z_test(summer, totals)"
   ]
  },
  {
   "cell_type": "code",
   "execution_count": 131,
   "id": "b64dcfd7",
   "metadata": {},
   "outputs": [
    {
     "data": {
      "text/plain": [
       "array([ 0.4206748 ,  0.32554517])"
      ]
     },
     "execution_count": 131,
     "metadata": {},
     "output_type": "execute_result"
    }
   ],
   "source": [
    "summer/ totals"
   ]
  },
  {
   "cell_type": "markdown",
   "id": "119a2866",
   "metadata": {},
   "source": [
    "**Reporting out:** In the West, 42% of Bigfoot sightings take place in the summer but in the Southeast only 33% of sightings occur in the summer.  This difference in proportions is statistically significant ($Z = 5.079$, $p = 0.000$)."
   ]
  },
  {
   "cell_type": "code",
   "execution_count": null,
   "id": "243068e5",
   "metadata": {},
   "outputs": [],
   "source": []
  }
 ],
 "metadata": {
  "kernelspec": {
   "display_name": "Python 3 (ipykernel)",
   "language": "python",
   "name": "python3"
  },
  "language_info": {
   "codemirror_mode": {
    "name": "ipython",
    "version": 3
   },
   "file_extension": ".py",
   "mimetype": "text/x-python",
   "name": "python",
   "nbconvert_exporter": "python",
   "pygments_lexer": "ipython3",
   "version": "3.9.13"
  }
 },
 "nbformat": 4,
 "nbformat_minor": 5
}
