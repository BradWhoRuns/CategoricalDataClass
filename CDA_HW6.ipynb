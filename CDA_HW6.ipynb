{
 "cells": [
  {
   "cell_type": "markdown",
   "id": "a5251ce9",
   "metadata": {},
   "source": [
    "# HW 6: Binomial Tests, Z-Tests for Proportions\n"
   ]
  },
  {
   "cell_type": "code",
   "execution_count": null,
   "id": "cbe3b861",
   "metadata": {},
   "outputs": [],
   "source": [
    "from datascience import *\n",
    "import numpy as np\n",
    "\n",
    "%matplotlib inline\n",
    "import matplotlib.pyplot as plots\n",
    "plots.style.use('fivethirtyeight')\n",
    "\n",
    "import scipy.stats as stats\n",
    "import scipy\n",
    "from statsmodels.stats.proportion import proportions_ztest as Z_test\n",
    "\n",
    "import warnings\n",
    "warnings.simplefilter(action=\"ignore\", category=FutureWarning)\n",
    "warnings.simplefilter(action=\"ignore\", category=np.VisibleDeprecationWarning)"
   ]
  },
  {
   "cell_type": "markdown",
   "id": "136a2d47",
   "metadata": {},
   "source": [
    "## Section 1: Male Suicide\n",
    "\n",
    "In this section, we will use the *suicide_summary* data set, which is a summary of the suicide information from the *mort22* dataset.  After looking at the overall data, we will next focus on suicides among Black males in the US.  "
   ]
  },
  {
   "cell_type": "markdown",
   "id": "7c10a043",
   "metadata": {},
   "source": [
    "**Question 1.1** Use `Table.read_table` to read in a data set called *suicide_summary.csv*"
   ]
  },
  {
   "cell_type": "code",
   "execution_count": null,
   "id": "4ea684a4",
   "metadata": {},
   "outputs": [],
   "source": [
    "suicide = ...\n",
    "\n",
    "suicide"
   ]
  },
  {
   "cell_type": "markdown",
   "id": "b38154d2",
   "metadata": {},
   "source": [
    "**Question 1.2** What percent of these deaths are due to suicide?  You can do this via simple arithmetic or with a combination of Table methods and the sum function.  "
   ]
  },
  {
   "cell_type": "code",
   "execution_count": null,
   "id": "f674ad76",
   "metadata": {},
   "outputs": [],
   "source": [
    "overall_suicide_percent = ...\n",
    "overall_suicide_percent"
   ]
  },
  {
   "cell_type": "markdown",
   "id": "2608b340",
   "metadata": {},
   "source": [
    "**Question 1.3** Run a z-test for population proportion to see if Black Males commit suicide at a rate different than the overall rate.  "
   ]
  },
  {
   "cell_type": "code",
   "execution_count": null,
   "id": "56410281",
   "metadata": {},
   "outputs": [],
   "source": [
    "..."
   ]
  },
  {
   "cell_type": "markdown",
   "id": "e8bedce6",
   "metadata": {},
   "source": [
    "The test statistic, if you did that problem correctly, the test statistic is negative.  What does that mean?\n",
    "\n",
    "1. That the proportion of suicides amongst Black male deaths is less than 1.5%.\n",
    "\n",
    "2. That the proportion of suicides amongst Black male deaths is exactly 1.5%.\n",
    "\n",
    "3. That the proportion of suicides amongst Black male deaths is greater than 1.5%."
   ]
  },
  {
   "cell_type": "code",
   "execution_count": null,
   "id": "a32a55eb",
   "metadata": {},
   "outputs": [],
   "source": [
    "answer_to_1_3 = ..."
   ]
  },
  {
   "cell_type": "markdown",
   "id": "9f62259d",
   "metadata": {},
   "source": [
    "**Question 1.4** Run a z-test for population proportion to see if Black Males commit suicide at a rate that is significantly lower than the general population.  "
   ]
  },
  {
   "cell_type": "code",
   "execution_count": null,
   "id": "12bef483",
   "metadata": {},
   "outputs": [],
   "source": [
    "..."
   ]
  },
  {
   "cell_type": "markdown",
   "id": "4f3502ec",
   "metadata": {},
   "source": [
    "**Question 1.5** What percent of Black Male deaths are suicides?"
   ]
  },
  {
   "cell_type": "code",
   "execution_count": null,
   "id": "a1c93ff3",
   "metadata": {},
   "outputs": [],
   "source": [
    "..."
   ]
  },
  {
   "cell_type": "markdown",
   "id": "f5786ade",
   "metadata": {},
   "source": [
    "**Question 1.6** State your conclusion to the question, \"Do Black Males commit suicide at a rate lower than the general public?\"  Be sure to reference what the rate in the general public is, what the rate among Black Males is, and the $p$-value in your response.  "
   ]
  },
  {
   "cell_type": "markdown",
   "id": "65f33127",
   "metadata": {},
   "source": [
    "*Write your conclusion to 1.5 here.*"
   ]
  },
  {
   "cell_type": "markdown",
   "id": "21ed41df",
   "metadata": {},
   "source": [
    "## Section 2\n",
    "\n",
    "In this section, we'll compare White Males to both the general population and Black Males.  \n",
    "\n",
    "\n",
    "**Question 2.1** Run a z-test for popoulation proportions to see if White males commit suicide at a rate higher than the general population.  "
   ]
  },
  {
   "cell_type": "code",
   "execution_count": null,
   "id": "d8a78ce4",
   "metadata": {},
   "outputs": [],
   "source": [
    "..."
   ]
  },
  {
   "cell_type": "markdown",
   "id": "ef7fb64f",
   "metadata": {},
   "source": [
    "**Question 2.2** What percentage of White Male deaths are suicides?"
   ]
  },
  {
   "cell_type": "code",
   "execution_count": null,
   "id": "4b10dbc9",
   "metadata": {},
   "outputs": [],
   "source": [
    "..."
   ]
  },
  {
   "cell_type": "markdown",
   "id": "46c523ec",
   "metadata": {},
   "source": [
    "**Question 2.3** State your conclusion to the question, \"Do White males commit suicide at a rate higher than the overall population?\""
   ]
  },
  {
   "cell_type": "markdown",
   "id": "4d6b406c",
   "metadata": {},
   "source": [
    "*Write your answer to 2.3 here*"
   ]
  },
  {
   "cell_type": "markdown",
   "id": "70fd6852",
   "metadata": {},
   "source": [
    "**Question 2.4** Run a 2-sample z-test for population proportions to see if White males commit suicide at a rate higher than Black males. "
   ]
  },
  {
   "cell_type": "code",
   "execution_count": null,
   "id": "e30caa11",
   "metadata": {},
   "outputs": [],
   "source": [
    "..."
   ]
  },
  {
   "cell_type": "markdown",
   "id": "f659ef1c",
   "metadata": {},
   "source": [
    "**Question 2.5** Make a bar graph showing the percentages of suicides for both White and Black males on the same graph.  "
   ]
  },
  {
   "cell_type": "code",
   "execution_count": null,
   "id": "e9c83ece",
   "metadata": {
    "scrolled": true
   },
   "outputs": [],
   "source": [
    "..."
   ]
  },
  {
   "cell_type": "markdown",
   "id": "761fa056",
   "metadata": {},
   "source": [
    "## Section 3: Two Two Proportions Z-test\n",
    "\n",
    "You of course remember from the lecture that there are two ways of running a 2-proportion z-test.  The standard error can either be pooled or unpooled.  \n",
    "\n",
    "How is it done?  First, find $\\displaystyle \\hat{p}_1 = \\frac{\\mathrm{x_1}}{\\mathrm{n_1}}$.\n",
    "\n",
    "Then find $\\displaystyle z = \\frac{\\hat{p}_1 - \\hat{p}_2}{\\sqrt{\\frac{\\hat{p}_1(1-\\hat{p}_1)}{n_1}  + \\frac{\\hat{p}_2(1-\\hat{p}_2)}{n_2}}}$.\n",
    "\n",
    "This is the UNpooled standard error, $\\displaystyle \\sqrt{\\frac{\\hat{p}_1(1-\\hat{p}_1)}{n_1}  + \\frac{\\hat{p}_2(1-\\hat{p}_2)}{n_2}}$, which I prefer.\n",
    "\n",
    "\n",
    "**Question 3.1** Use your knowledge of arithmetic in Python to calculate the unpooled standard error for the z-test."
   ]
  },
  {
   "cell_type": "code",
   "execution_count": null,
   "id": "dd7777a7",
   "metadata": {},
   "outputs": [],
   "source": [
    "x1 = ...\n",
    "n1 = ...\n",
    "\n",
    "x2 = ...\n",
    "n2 = ...\n",
    "\n",
    "p1 = x1/n1\n",
    "p2 = x2/n2\n",
    "\n",
    "unpooled_SE = ...\n",
    "\n",
    "unpooled_SE"
   ]
  },
  {
   "cell_type": "markdown",
   "id": "b7dd971b",
   "metadata": {},
   "source": [
    "You likely recall from class that I told you that the z-test function we can use from `statsmodels` uses the pooled standard error.\n",
    "\n",
    "The pooled standard error is found by first letting $\\displaystyle \\hat{p} = \\frac{x_1+x_2}{n_1+n_2}$ then $\\displaystyle \\sqrt{\\hat{p}(1-\\hat{p}) \\left( \\frac{1}{n_1} + \\frac{1}{n_2}\\right)}$\n",
    "\n",
    "**Question 3.2** Calculate the pooled standard error in this situation.  "
   ]
  },
  {
   "cell_type": "code",
   "execution_count": null,
   "id": "8641ee0a",
   "metadata": {},
   "outputs": [],
   "source": [
    "pooled_prop = (x1+x2)/(n1+n2)\n",
    "\n",
    "pooled_SE = ...\n",
    "\n",
    "pooled_SE"
   ]
  },
  {
   "cell_type": "code",
   "execution_count": null,
   "id": "bfbbf1b0",
   "metadata": {},
   "outputs": [],
   "source": [
    "## Just run this cell.  \n",
    "\n",
    "z_unpooled = (p2 - p1)/unpooled_SE\n",
    "\n",
    "p_value_unpooled = 1-scipy.stats.norm.cdf(z_unpooled)\n",
    "\n",
    "\n",
    "\n",
    "z_pooled = (p2-p1)/pooled_SE\n",
    "p_value_pooled = 1-scipy.stats.norm.cdf(z_unpooled)\n",
    "\n",
    "\n",
    "(z_unpooled, p_value_unpooled, z_pooled, p_value_pooled)"
   ]
  },
  {
   "cell_type": "markdown",
   "id": "86889bff",
   "metadata": {},
   "source": [
    "**Question 3.3** In your opinion, does it make any difference if we pool or unpool the data when calculating the standard error. The cell just above this one might help you decide.  It shows the value of the test statistics and p-values when using the pooled or unpooled standard errors.  "
   ]
  },
  {
   "cell_type": "markdown",
   "id": "f9b31110",
   "metadata": {},
   "source": [
    "*Write your answer to 3.3 here*"
   ]
  },
  {
   "cell_type": "markdown",
   "id": "04775206",
   "metadata": {},
   "source": [
    "## Section 4: Monthly Trends\n",
    "\n",
    "We processed *mort22* data more to find the percentage of deaths due to suicide among just the males.  It's called *MonthPercentageSuicide.csv*.  \n",
    "\n",
    "**Question 4.1**  Read in *MonthPercentageSuicide.csv* and call it `monthly_trends`.\n"
   ]
  },
  {
   "cell_type": "code",
   "execution_count": null,
   "id": "531c9866",
   "metadata": {},
   "outputs": [],
   "source": [
    "monthly_trends = ...\n",
    "\n",
    "monthly_trends"
   ]
  },
  {
   "cell_type": "markdown",
   "id": "b2bf2da7",
   "metadata": {},
   "source": [
    "**Question 4.2** Make a bar chart of `montly_trends` showing the Percent each month.  "
   ]
  },
  {
   "cell_type": "code",
   "execution_count": null,
   "id": "ce2f48a0",
   "metadata": {},
   "outputs": [],
   "source": [
    "..."
   ]
  },
  {
   "cell_type": "markdown",
   "id": "9a25efa9",
   "metadata": {},
   "source": [
    "**Question 4.3** There appears to be a relationship where the percent of suicides among males increases in the summer time.  To see if that's true we could run a Chi-squared goodness of fit test to start.  Run the test assuming that 1/12th of all suicides occur in each month.  \n"
   ]
  },
  {
   "cell_type": "code",
   "execution_count": null,
   "id": "e327a98a",
   "metadata": {},
   "outputs": [],
   "source": [
    "null_proportions = np.repeat(1/12, 12)\n",
    "\n",
    "yes = monthly_trends.column(\"Yes\")\n",
    "\n",
    "total = sum(yes)\n",
    "\n",
    "proportions = yes/total\n",
    "display(np.round(proportions, 3))\n",
    "\n",
    "scipy.stats.chisquare(..., ... )\n"
   ]
  },
  {
   "cell_type": "markdown",
   "id": "85388e8e",
   "metadata": {},
   "source": [
    "**Question 4.4** Is the rate of suicides amongst males constant throughout the year?  If not, when is the suicide rate the highest?  In your answer, cite a $p$-value and some relevant percentages.  "
   ]
  },
  {
   "cell_type": "markdown",
   "id": "a631f434",
   "metadata": {},
   "source": [
    "*Write your answer to 4.4 here*"
   ]
  },
  {
   "cell_type": "markdown",
   "id": "ccb7866a",
   "metadata": {},
   "source": [
    "## Section 5:  Biology (sort of)\n",
    "\n",
    "According to [VeryWellHealth.com](https://www.verywellhealth.com/what-is-the-rarest-eye-color-5087302) approximately 27% of the Americans have blue eyes.  \n",
    "\n",
    "Suppose 5 people out of 6 have blue eyes, is that reasonable?  Let's work our way through a binomial test.  \n",
    "\n",
    "Why the binomial test?  Recall, the z-test is just an approximation, and what it's meant to approximate is the results of the binomial test.  Like many z-procedures, mathematically it depends upon the Central Limit Theorem.  Well, guess what?  The Central Limit Theorem does NOT apply to a sample of such small size.  So, because the sample size is too small to jump to the conclusion that the CLT would force the z-test to work and since the size is small enough that the we can compute the exact values in the binomial distribution, it really is more appropriate to use the Binomial Test.  \n",
    "\n",
    "\n",
    "**Question 5.1** Assume that the 27% estimate is correct.  Calculate the probability that 5 out of 6 people would have blue eyes.  Assume independence, that's a requirement of the binomial distribution.  \n",
    "\n",
    "*Hint:* The function `scipy.special.comb` may be useful.  "
   ]
  },
  {
   "cell_type": "code",
   "execution_count": null,
   "id": "d5dacc5d",
   "metadata": {},
   "outputs": [],
   "source": [
    "..."
   ]
  },
  {
   "cell_type": "markdown",
   "id": "6935a874",
   "metadata": {},
   "source": [
    "**Question 5.2** Assume that the 27% estimate is correct.  Calculate the probability that 7 out of 7 people would have blue eyes.  Again assume independence, else we can't use the binomial distribution. "
   ]
  },
  {
   "cell_type": "code",
   "execution_count": null,
   "id": "ca6db21f",
   "metadata": {},
   "outputs": [],
   "source": [
    "..."
   ]
  },
  {
   "cell_type": "markdown",
   "id": "90c5f8c2",
   "metadata": {},
   "source": [
    "**Question 5.3** Add together these last two probabilities.  "
   ]
  },
  {
   "cell_type": "code",
   "execution_count": null,
   "id": "10d85892",
   "metadata": {},
   "outputs": [],
   "source": [
    "..."
   ]
  },
  {
   "cell_type": "markdown",
   "id": "108c5868",
   "metadata": {},
   "source": [
    "**Question 5.4** Run a binomial test using `scipy.stats.binomtest` to see if it's reasonable to assume that the proportion of a population with blue eyes is 27% based on this data (6 of 7 people with blue eyes)."
   ]
  },
  {
   "cell_type": "code",
   "execution_count": null,
   "id": "3a73b2b1",
   "metadata": {},
   "outputs": [],
   "source": [
    "..."
   ]
  },
  {
   "cell_type": "markdown",
   "id": "e6c79b45",
   "metadata": {},
   "source": [
    "If you've done the last three problems correctly, the probability you found in 5.3 is the same as the p-value from 5.4.  That's because the steps that I made you follow on the first few problems here are what the Binomial Test is doing.  You'll recall that from class.  \n",
    "\n",
    "Now, confession time.  The 6 people involved in this problem were members of the same family, a husband, wife and their children.  \n",
    "\n",
    "**Question 5.5**  Was the assumption of independence valid in this case?"
   ]
  },
  {
   "cell_type": "markdown",
   "id": "c9e732ba",
   "metadata": {},
   "source": [
    "*Write your answer here*"
   ]
  },
  {
   "cell_type": "markdown",
   "id": "3871f6da",
   "metadata": {},
   "source": [
    "The small $p$-value in the case above does not really prove that people are more than 27% likely to have blue eyes.  Eye color is genetic and if both parents have blue eyes then [this optometrist](https://www.johnoconnor.co.nz/eye-colour/) claims that each child has a 99% of being blue eyed too.  Therefore, if both parents are blue eyed then the probability that at least 3 of their 4 children would be blue eyed is closer to 99%.  \n",
    "\n",
    "A tragic real-world example of something like this, is the story of Sally Clark.  If you've never heard her story you can read it [here](https://en.wikipedia.org/wiki/Sally_Clark).  But here's an extremely short-version.  She had two children die of Sudden Infanct Death Syndrom (SIDS), but was convicted of murdering them partly based on [Roy Meadow's](https://en.wikipedia.org/wiki/Roy_Meadow) miscalculated probability. Quote, \"He claimed that, for an affluent non-smoking family like the Clarks, the probability of a single cot death was 1 in 8543\" then he assumed that he could use the assumption of independence when calculating the probability of two sons dying that way.  \n",
    "\n",
    "**Question 5.6** KNOWING FULL WELL that this is not correct, what probability did he produce?"
   ]
  },
  {
   "cell_type": "code",
   "execution_count": null,
   "id": "9d5ad656",
   "metadata": {},
   "outputs": [],
   "source": [
    "miscalculated_probability = ...\n",
    "\n",
    "miscalculated_probability"
   ]
  },
  {
   "cell_type": "markdown",
   "id": "ce730f44",
   "metadata": {},
   "source": [
    "Because her children were both boys, and were related, calculating the exact probability that they'd both die of SIDS is difficult and complicated.  But, some experts estimate it could be higher than 1%, and that once her first son died of SIDS it became very likely that her second son might.  \n",
    "\n",
    "Sally Clark's wrongful conviction ruined her life, obviously.  She died rather young and never psychologically recovered from the two-fold tragedy of losing her children and then spending years in prison.  Meadow's dreadful error hurt his career and reputation, and his misuse of statistics and probability have also been cited as an examples of the fallacies such as the [Prosecutors Fallacy](https://en.wikipedia.org/wiki/Base_rate_fallacy).  Their story is cautionary tale about the dangers of assuming independence when it does not apply.\n",
    "\n",
    "## Congratulations.  \n",
    "\n",
    "You're done with HW 6. Download it as HTML or pdf and upload that file to D2L.  \n"
   ]
  }
 ],
 "metadata": {
  "kernelspec": {
   "display_name": "Python 3 (ipykernel)",
   "language": "python",
   "name": "python3"
  },
  "language_info": {
   "codemirror_mode": {
    "name": "ipython",
    "version": 3
   },
   "file_extension": ".py",
   "mimetype": "text/x-python",
   "name": "python",
   "nbconvert_exporter": "python",
   "pygments_lexer": "ipython3",
   "version": "3.9.13"
  }
 },
 "nbformat": 4,
 "nbformat_minor": 5
}
