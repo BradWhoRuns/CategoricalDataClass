{
 "cells": [
  {
   "cell_type": "markdown",
   "id": "b547282d",
   "metadata": {},
   "source": [
    "# Sensitivity, Specificity, Odd Ratios and other measures"
   ]
  },
  {
   "cell_type": "code",
   "execution_count": 1,
   "id": "91c1f1c0",
   "metadata": {},
   "outputs": [],
   "source": [
    "# This cell is a code cell.  In cells like this\n",
    "# we run Python code\n",
    "\n",
    "# Here's some code that will likely appear near the top of every homework or lecture this semester.\n",
    "\n",
    "from datascience import *\n",
    "import numpy as np\n",
    "\n",
    "%matplotlib inline\n",
    "import matplotlib.pyplot as plots\n",
    "plots.style.use('fivethirtyeight')\n",
    "\n",
    "import scipy.stats as stats\n",
    "\n",
    "import scipy\n",
    "\n",
    "import warnings\n",
    "warnings.simplefilter(action=\"ignore\", category=FutureWarning)\n",
    "warnings.simplefilter(action=\"ignore\", category=np.VisibleDeprecationWarning)\n",
    "\n",
    "# To add text, referred to as comments to a code cell\n",
    "# just put a hashtag a the beginning of the comment\n",
    "# Comments are ignored by the computer when executing the code\n",
    "\n",
    "\n",
    "mort22 = Table.read_table(\"SmallMort2022.csv\")"
   ]
  },
  {
   "cell_type": "markdown",
   "id": "507bb936",
   "metadata": {},
   "source": [
    "## Sensitivity vs Specificity\n",
    "\n",
    "Imagine a test to determine if a person is sick.  The sickness is such that eventually it will be obvious without the test whether the peron truly has it or not.  \n",
    "\n",
    "Suppose for a reasonably sized group of people the following two-way table shows how many people were or were not sick split by their test results.  \n",
    "\n",
    "\n",
    "|        |Test Pos. | Test Neg. |\n",
    "|---     |:-:       |:-:        |\n",
    "|Sick    |a        |b         |\n",
    "|Not Sick|c        |d          |\n",
    "\n",
    "\n",
    "Sensitivity is the True positive rate.  That is, if the test reads positive, what is the probability the person is sick.  \n",
    "\n",
    "$$ Sensitivity = \\frac{a}{a+c}$$\n",
    "\n",
    "\n",
    "Specificity is the True negative rate.  That is, if the test reads negative, what is the probablity the person is NOT sick?\n",
    "\n",
    "$$Specificity = \\frac{d}{b+d}$$\n",
    "\n",
    "\n",
    "Another way of defining these is as conditional probabilities.  Let $X = 1$ mean that the test is positive and $Y = 1$ mean that the person really is sick.  In both cases, 0 is used for the opposite.  Then,\n",
    "\n",
    "$$ Sensitivity = Pr\\left(Y = 1 | X = 1\\right)$$\n",
    "\n",
    "$$ Specificity = Pr\\left(Y = 0 | X = 0 \\right)$$\n",
    "\n",
    "\n",
    "Consider this data about childrens health.  The Asthma variable records whether the child has been diagnosed with asthma and the Father variable records whether the childs father ever has.  \n"
   ]
  },
  {
   "cell_type": "code",
   "execution_count": 2,
   "id": "accurate-directive",
   "metadata": {},
   "outputs": [
    {
     "data": {
      "text/html": [
       "<table border=\"1\" class=\"dataframe\">\n",
       "    <thead>\n",
       "        <tr>\n",
       "            <th>Asthma</th> <th>Father</th>\n",
       "        </tr>\n",
       "    </thead>\n",
       "    <tbody>\n",
       "        <tr>\n",
       "            <td>No    </td> <td>No    </td>\n",
       "        </tr>\n",
       "        <tr>\n",
       "            <td>No    </td> <td>No    </td>\n",
       "        </tr>\n",
       "        <tr>\n",
       "            <td>No    </td> <td>No    </td>\n",
       "        </tr>\n",
       "        <tr>\n",
       "            <td>No    </td> <td>No    </td>\n",
       "        </tr>\n",
       "        <tr>\n",
       "            <td>No    </td> <td>No    </td>\n",
       "        </tr>\n",
       "        <tr>\n",
       "            <td>No    </td> <td>No    </td>\n",
       "        </tr>\n",
       "        <tr>\n",
       "            <td>No    </td> <td>No    </td>\n",
       "        </tr>\n",
       "        <tr>\n",
       "            <td>No    </td> <td>No    </td>\n",
       "        </tr>\n",
       "        <tr>\n",
       "            <td>No    </td> <td>No    </td>\n",
       "        </tr>\n",
       "        <tr>\n",
       "            <td>No    </td> <td>No    </td>\n",
       "        </tr>\n",
       "    </tbody>\n",
       "</table>\n",
       "<p>... (11541 rows omitted)</p>"
      ],
      "text/plain": [
       "Asthma | Father\n",
       "No     | No\n",
       "No     | No\n",
       "No     | No\n",
       "No     | No\n",
       "No     | No\n",
       "No     | No\n",
       "No     | No\n",
       "No     | No\n",
       "No     | No\n",
       "No     | No\n",
       "... (11541 rows omitted)"
      ]
     },
     "execution_count": 2,
     "metadata": {},
     "output_type": "execute_result"
    }
   ],
   "source": [
    "asthma = Table.read_table(\"asthma.csv\")\n",
    "\n",
    "asthma.select(\"Asthma\", \"Father\")"
   ]
  },
  {
   "cell_type": "code",
   "execution_count": 3,
   "id": "1cf60cf1",
   "metadata": {},
   "outputs": [
    {
     "data": {
      "text/html": [
       "<table border=\"1\" class=\"dataframe\">\n",
       "    <thead>\n",
       "        <tr>\n",
       "            <th>Asthma</th> <th>No</th> <th>Yes</th>\n",
       "        </tr>\n",
       "    </thead>\n",
       "    <tbody>\n",
       "        <tr>\n",
       "            <td>No    </td> <td>11329</td> <td>0   </td>\n",
       "        </tr>\n",
       "        <tr>\n",
       "            <td>Yes   </td> <td>185  </td> <td>37  </td>\n",
       "        </tr>\n",
       "    </tbody>\n",
       "</table>"
      ],
      "text/plain": [
       "Asthma | No    | Yes\n",
       "No     | 11329 | 0\n",
       "Yes    | 185   | 37"
      ]
     },
     "execution_count": 3,
     "metadata": {},
     "output_type": "execute_result"
    }
   ],
   "source": [
    "asthma = Table.read_table(\"asthma.csv\")\n",
    "\n",
    "asthma.select(\"Asthma\", \"Father\")\n",
    "\n",
    "asthma.pivot(\"Father\", \"Asthma\")"
   ]
  },
  {
   "cell_type": "markdown",
   "id": "1dcf0af6",
   "metadata": {},
   "source": [
    "## False and True Positives and Negatives\n",
    "\n",
    "You may encounter a source that defines sensitivity in terms of true positive and false negatives, and specificity in term of false positive and true negatives.  If those notions make more sense to you, please feel free to use them.  \n",
    "\n",
    "\n",
    "|        |Test Pos. | Test Neg. |\n",
    "|---     |:-:       |:-:        |\n",
    "|Sick    |True Pos. |False Neg. |\n",
    "|Not Sick|False Pos.|True Neg.   |\n",
    "\n",
    "\n",
    "\n",
    "If, as a crude test, we simply used whether the father has asthma as a predictor for whether the child will, what would the specificity and sensitivity of that \"test\" be, according to these data?\n",
    "\n",
    "In theory, we should be able to rearrange the numbers in our minds, but for our very first example, let's reorganize the so-called *confusion matrix* so that its format matches the layout we used in the defintions above.  \n",
    "\n",
    "|      | Test Pos.  | Test Neg.  |\n",
    "|--- |:-:|:-:|\n",
    "|sick|37 | 185 |\n",
    "|not | 0 |11329 |\n",
    "\n",
    "So, \n",
    "\n",
    "$$ Sens. = \\frac{a}{a+c} = \\frac{37}{37+0} = \\frac{37}{37} = 1$$\n",
    "\n",
    "But,\n",
    "\n",
    "$$ Spec. = \\frac{d}{c+d} = \\frac{11329}{11329 + 185} \\approx 0.984 $$\n",
    "\n",
    "So, as a crude test to determine whether a child may develop asthma just knowing if the father did is not that useful.  If the father did not, then it would seem that the child won't.  \n",
    "\n",
    "This \"test\" has no False Positives, but it has a lot of False Negatives.  This example illustrates something that is often true; there is a trade-off between these things.  Usually, as Sensitivity goes up Specificity goes down (or vice versa).  \n",
    "\n",
    "Next, consider this older data set relating whether an HIV positive patient took the drug AZT and whether that patient developed AIDS.  \n",
    "\n"
   ]
  },
  {
   "cell_type": "code",
   "execution_count": 4,
   "id": "documented-monkey",
   "metadata": {},
   "outputs": [
    {
     "data": {
      "text/plain": [
       "0.9839326037866944"
      ]
     },
     "execution_count": 4,
     "metadata": {},
     "output_type": "execute_result"
    }
   ],
   "source": [
    "11329/(185+11329)"
   ]
  },
  {
   "cell_type": "code",
   "execution_count": 57,
   "id": "2d7a44ee",
   "metadata": {},
   "outputs": [
    {
     "data": {
      "text/html": [
       "<table border=\"1\" class=\"dataframe\">\n",
       "    <thead>\n",
       "        <tr>\n",
       "            <th>race</th> <th>azt</th> <th>yes</th> <th>no</th>\n",
       "        </tr>\n",
       "    </thead>\n",
       "    <tbody>\n",
       "        <tr>\n",
       "            <td>white</td> <td>yes </td> <td>14  </td> <td>93  </td>\n",
       "        </tr>\n",
       "        <tr>\n",
       "            <td>white</td> <td>no  </td> <td>32  </td> <td>81  </td>\n",
       "        </tr>\n",
       "        <tr>\n",
       "            <td>black</td> <td>yes </td> <td>11  </td> <td>52  </td>\n",
       "        </tr>\n",
       "        <tr>\n",
       "            <td>black</td> <td>no  </td> <td>12  </td> <td>43  </td>\n",
       "        </tr>\n",
       "    </tbody>\n",
       "</table>"
      ],
      "text/plain": [
       "race  | azt  | yes  | no\n",
       "white | yes  | 14   | 93\n",
       "white | no   | 32   | 81\n",
       "black | yes  | 11   | 52\n",
       "black | no   | 12   | 43"
      ]
     },
     "execution_count": 57,
     "metadata": {},
     "output_type": "execute_result"
    }
   ],
   "source": [
    "azt = Table.read_table(\"AIDS.csv\" )\n",
    "\n",
    "azt"
   ]
  },
  {
   "cell_type": "code",
   "execution_count": 58,
   "id": "c855bc8b",
   "metadata": {},
   "outputs": [
    {
     "data": {
      "text/html": [
       "<table border=\"1\" class=\"dataframe\">\n",
       "    <thead>\n",
       "        <tr>\n",
       "            <th>azt</th> <th>Yes</th> <th>No</th>\n",
       "        </tr>\n",
       "    </thead>\n",
       "    <tbody>\n",
       "        <tr>\n",
       "            <td>no  </td> <td>44  </td> <td>124 </td>\n",
       "        </tr>\n",
       "        <tr>\n",
       "            <td>yes </td> <td>25  </td> <td>145 </td>\n",
       "        </tr>\n",
       "    </tbody>\n",
       "</table>"
      ],
      "text/plain": [
       "azt  | Yes  | No\n",
       "no   | 44   | 124\n",
       "yes  | 25   | 145"
      ]
     },
     "execution_count": 58,
     "metadata": {},
     "output_type": "execute_result"
    }
   ],
   "source": [
    "azt2 = azt.drop(\"race\").group(\"azt\", sum).relabel(1,\"Yes\").relabel(2, \"No\")\n",
    "\n",
    "azt2"
   ]
  },
  {
   "cell_type": "code",
   "execution_count": 6,
   "id": "operational-large",
   "metadata": {},
   "outputs": [
    {
     "data": {
      "text/plain": [
       "0.5390334572490706"
      ]
     },
     "execution_count": 6,
     "metadata": {},
     "output_type": "execute_result"
    }
   ],
   "source": [
    "145/(145+124)"
   ]
  },
  {
   "cell_type": "markdown",
   "id": "e32f0a1f",
   "metadata": {},
   "source": [
    "If we use whether the person accepted AZT as the \"test\" for whether he or she developed AIDS, what is the sensitivity and specificity of that \"test\"?\n",
    "\n",
    "\n",
    "|      |Test Pos. (No AZT)|Test Neg. (Yes AZT)|\n",
    "|---   |:-:      |:-:      |\n",
    "|sick  |44       |124      |\n",
    "|not   |25      |145       |\n",
    "\n",
    "\n",
    "$$ Sens = \\frac{44 }{25+44 }  \\approx 0.638 $$\n",
    "\n",
    "\n",
    "$$ Spec = \\frac{145}{145+124} \\approx 0.539 $$\n",
    "\n",
    "## Other related and relevant terms\n",
    "\n",
    "Of course, the terms \"sensitivity\" and \"specificity\" come from the medical industry, as such might not seem appropriate measures in some cases.  \n",
    "\n",
    "The *relative risk* and *odds ratios* might be better measures.  \n",
    "\n",
    "Let's see those defined first.\n",
    "\n",
    "|        | Get's sick  | Does Not  |\n",
    "|---     |:-:          | :-:|\n",
    "|Not Treated | a           | b  |\n",
    "|Treated     | c           | d  |\n",
    "\n",
    "\n",
    "$$ Relative Risk = \\frac{ \\frac{a}{a+b} }{ \\frac{c}{c+d}    }$$\n",
    "\n",
    "\n",
    "$$ Odds Ratio = \\frac{ \\frac{a}{b}    }{\\frac{c}{d}    } = \\frac{ad}{bc} $$\n",
    "\n",
    "\n",
    "Let's calculate both of those for the AZT data.  (Notice that the columns and rows have been transposed in this example, so we have to think carefully about what values should be used; this is one reason why considering terms like *false positive*, *true positive*, *false negative* and *true negative* can be helpful.)\n",
    "\n",
    "\n",
    "\n",
    "|      |AZT : Yes |AZT : No  |\n",
    "|---   |:-:      |:-:      |\n",
    "|sick  |25       |124      |\n",
    "|not   |145      |44       |\n",
    "\n",
    "\n",
    "$$Rel. Risk = \\frac{ \\frac{124}{124+44}  }{ \\frac{25}{25+145}}   \\approx 5.02  $$\n",
    "\n",
    "So, *if* a person had HIV and choose not to take AZT, then that person was apparently 5 times more likely to develop AIDS.  \n",
    "\n",
    "\n",
    "$$ Odds Ratio = \\frac{124 \\cdot 145}{25 \\cdot 44} \\approx 16.34 $$\n",
    "\n",
    "Now, the *odds* of developing AIDS when not taking AZT are 16 times higher then when taking AZT.  Odds are not as useful, or as easy to understand, as the relative risk.  That being said, the odds ratio (OR) is more standard in many fields.  \n",
    "\n",
    "With large populations and rare diseases, the odds ratio and relative risk are approximately equal.   \n",
    "\n",
    "Consider this fictious example\n",
    "\n",
    "|      |Trmt : Yes |Trmt : No  |\n",
    "|---   |:-:      |:-:          |\n",
    "|sick  |40       |10           |\n",
    "|not   |600      |500          |\n",
    "\n",
    "\n",
    "$$RR = \\frac{\\frac{40}{40+600} }{\\frac{10}{10+500}} \\approx 3.19 $$\n",
    "\n",
    "$$OR = \\frac{40 \\cdot 600}{10 \\cdot 500} \\approx 3.33 $$\n",
    "\n",
    "\n",
    "Notice that the relative risk and the odds ratio are similar.  The fact that the odds ratio is often used to approximate the relative risk is one of the reasons that people will occassionally misstate the definition of the odds ratio (stating the correct definition of the relative risk instead).  \n",
    "\n",
    "\n",
    "If $\\pi_1$ is the probability becoming sick without treatment and $\\pi_2$ is the probability of becoming sick with the treatment.  Then $$ RR = \\frac{\\pi_1}{\\pi_2} ,$$ and is interpretted as how many times more likely a person is to become sick if he or she foregoes the treatment.  \n",
    "\n",
    "In the same terms, the odds ratio is \n",
    "\n",
    "$$ OR = \\frac{\\frac{\\pi_1}{1-\\pi_1}}{\\frac{\\pi_2}{1-\\pi_2}}$$\n",
    "\n",
    "$$ OR = \\frac{\\pi_1/(1-\\pi_1)}{\\pi_2/(1-\\pi_2)}=\\frac{\\pi_1 \\cdot (1-\\pi_2)}{\\pi_2 \\cdot (1-\\pi_1)}$$\n",
    "\n",
    "Notice this:\n",
    "\n",
    "$$ OR = RR \\cdot \\frac{(1-\\pi_2)}{(1-\\pi_1)}$$\n",
    "\n",
    "\n",
    "\n",
    "In a future notebook, we will learn other interesting facts about the odds ratio.  \n",
    "\n",
    "\n",
    "\n",
    "## Rates, Trues, Falses, Positives and Negatives\n",
    "\n",
    "|        |Test Pos. | Test Neg. |\n",
    "|---     |:-:       |:-:        |\n",
    "|Sick    |a        |b         |\n",
    "|Not Sick|c        |d          |\n",
    "\n",
    "\n",
    "Or\n",
    "\n",
    "|        |Test Pos. | Test Neg. |\n",
    "|---     |:-:       |:-:        |\n",
    "|Sick    |True Pos. |False Neg. |\n",
    "|Not Sick|False Pos.|True Neg.   |\n",
    "\n",
    "\n",
    "\n",
    "\n",
    "The False Positive Rate is $$ FP = \\frac{c}{a+c} = \\frac{False\\ Pos.}{All\\ Pos.}$$\n",
    "\n",
    "The True Positive Rate is $$ TP = 1- FP = \\frac{a}{a+c} = \\frac{True\\ Pos.}{All\\ Pos.}$$\n",
    "\n",
    "The False Negative Rate is $$ FP = \\frac{b}{b+d} = \\frac{False\\ Neg.}{All\\ Neg.}$$\n",
    "\n",
    "The True Negative Rate is $$ TP = 1- FP = \\frac{d}{b+d} = \\frac{True\\ Neg.}{All\\ Neg.}$$\n",
    "\n",
    "\n",
    "Accuracy is $$Acc = \\frac{a + d}{a+b+c+d} = \\frac{Trues}{Total}$$\n",
    "\n",
    "Consider this data on mushrooms, where under Poisonous the response of p means poisonous and e means edible.  \n",
    "\n",
    "\n"
   ]
  },
  {
   "cell_type": "code",
   "execution_count": 59,
   "id": "aaa03b6c",
   "metadata": {
    "scrolled": false
   },
   "outputs": [
    {
     "data": {
      "text/html": [
       "<table border=\"1\" class=\"dataframe\">\n",
       "    <thead>\n",
       "        <tr>\n",
       "            <th>Poisonous</th> <th>Cap Shape</th> <th>Cap Surface</th> <th>Cap Color</th> <th>Bruises</th> <th>Odor</th> <th>Gill Attachment</th> <th>Gill Spacing</th> <th>Gill Size</th> <th>Gill Color</th> <th>Stalk Shape</th> <th>Stalk Root</th> <th>Stalk surface above ring</th> <th>Stalk surface below ring</th> <th>Stalk color above ring</th> <th>Stalk color below ring</th> <th>Veil type</th> <th>Veil color</th> <th>Ring number</th> <th>Ring type</th> <th>Spore print color</th> <th>Population</th> <th>Habit</th>\n",
       "        </tr>\n",
       "    </thead>\n",
       "    <tbody>\n",
       "        <tr>\n",
       "            <td>p        </td> <td>x        </td> <td>s          </td> <td>n        </td> <td>t      </td> <td>p   </td> <td>f              </td> <td>c           </td> <td>n        </td> <td>k         </td> <td>e          </td> <td>e         </td> <td>s                       </td> <td>s                       </td> <td>w                     </td> <td>w                     </td> <td>p        </td> <td>w         </td> <td>o          </td> <td>p        </td> <td>k                </td> <td>s         </td> <td>u    </td>\n",
       "        </tr>\n",
       "        <tr>\n",
       "            <td>e        </td> <td>x        </td> <td>s          </td> <td>y        </td> <td>t      </td> <td>a   </td> <td>f              </td> <td>c           </td> <td>b        </td> <td>k         </td> <td>e          </td> <td>c         </td> <td>s                       </td> <td>s                       </td> <td>w                     </td> <td>w                     </td> <td>p        </td> <td>w         </td> <td>o          </td> <td>p        </td> <td>n                </td> <td>n         </td> <td>g    </td>\n",
       "        </tr>\n",
       "        <tr>\n",
       "            <td>e        </td> <td>b        </td> <td>s          </td> <td>w        </td> <td>t      </td> <td>l   </td> <td>f              </td> <td>c           </td> <td>b        </td> <td>n         </td> <td>e          </td> <td>c         </td> <td>s                       </td> <td>s                       </td> <td>w                     </td> <td>w                     </td> <td>p        </td> <td>w         </td> <td>o          </td> <td>p        </td> <td>n                </td> <td>n         </td> <td>m    </td>\n",
       "        </tr>\n",
       "        <tr>\n",
       "            <td>p        </td> <td>x        </td> <td>y          </td> <td>w        </td> <td>t      </td> <td>p   </td> <td>f              </td> <td>c           </td> <td>n        </td> <td>n         </td> <td>e          </td> <td>e         </td> <td>s                       </td> <td>s                       </td> <td>w                     </td> <td>w                     </td> <td>p        </td> <td>w         </td> <td>o          </td> <td>p        </td> <td>k                </td> <td>s         </td> <td>u    </td>\n",
       "        </tr>\n",
       "        <tr>\n",
       "            <td>e        </td> <td>x        </td> <td>s          </td> <td>g        </td> <td>f      </td> <td>n   </td> <td>f              </td> <td>w           </td> <td>b        </td> <td>k         </td> <td>t          </td> <td>e         </td> <td>s                       </td> <td>s                       </td> <td>w                     </td> <td>w                     </td> <td>p        </td> <td>w         </td> <td>o          </td> <td>e        </td> <td>n                </td> <td>a         </td> <td>g    </td>\n",
       "        </tr>\n",
       "    </tbody>\n",
       "</table>\n",
       "<p>... (8119 rows omitted)</p>"
      ],
      "text/plain": [
       "<IPython.core.display.HTML object>"
      ]
     },
     "metadata": {},
     "output_type": "display_data"
    }
   ],
   "source": [
    "mushrooms =Table.read_table(\"mushrooms.csv\")\n",
    "\n",
    "mushrooms.show(5)"
   ]
  },
  {
   "cell_type": "code",
   "execution_count": 7,
   "id": "threatened-nickel",
   "metadata": {},
   "outputs": [
    {
     "data": {
      "text/plain": [
       "0.8151658767772512"
      ]
     },
     "execution_count": 7,
     "metadata": {},
     "output_type": "execute_result"
    }
   ],
   "source": [
    "2752/(2752+ 624)"
   ]
  },
  {
   "cell_type": "code",
   "execution_count": 8,
   "id": "quantitative-firmware",
   "metadata": {},
   "outputs": [
    {
     "data": {
      "text/plain": [
       "0.6933445661331087"
      ]
     },
     "execution_count": 8,
     "metadata": {},
     "output_type": "execute_result"
    }
   ],
   "source": [
    "3292/(1456+3292)"
   ]
  },
  {
   "cell_type": "code",
   "execution_count": 60,
   "id": "69da6538",
   "metadata": {},
   "outputs": [
    {
     "data": {
      "text/html": [
       "<table border=\"1\" class=\"dataframe\">\n",
       "    <thead>\n",
       "        <tr>\n",
       "            <th>Bruises</th> <th>e</th> <th>p</th>\n",
       "        </tr>\n",
       "    </thead>\n",
       "    <tbody>\n",
       "        <tr>\n",
       "            <td>f      </td> <td>1456</td> <td>3292</td>\n",
       "        </tr>\n",
       "        <tr>\n",
       "            <td>t      </td> <td>2752</td> <td>624 </td>\n",
       "        </tr>\n",
       "    </tbody>\n",
       "</table>"
      ],
      "text/plain": [
       "Bruises | e    | p\n",
       "f       | 1456 | 3292\n",
       "t       | 2752 | 624"
      ]
     },
     "execution_count": 60,
     "metadata": {},
     "output_type": "execute_result"
    }
   ],
   "source": [
    "mushrooms.pivot(\"Poisonous\", \"Bruises\")"
   ]
  },
  {
   "cell_type": "markdown",
   "id": "fbfe2b93",
   "metadata": {},
   "source": [
    "This is a **very bad idea** (do not eat wild mushrooms unless you really know what they are) but suppose we used Bruises as a predictor for whether the mushroom was edible.  (So, bruises means we'll label it edible.)\n",
    "\n",
    "a) What is the Sensitivity of this?\n",
    "\n",
    "b) Specificity?\n",
    "\n",
    "c) Relative risk?  For this, to make it make sense, let's compute the risk of eating a poisonous mushroom if bruises were your only test.  \n",
    "\n",
    "d) Odd ratio?  Same as RR  \n",
    "\n",
    "e) False positive rate?\n",
    "\n",
    "d) Accuracy?\n",
    "\n",
    "|Test | Edible |Poisonous|Total|\n",
    "|:-:|:-:|:-:|--:|\n",
    "| F |1456|3292|4748|\n",
    "| T |2752|624|3376|\n",
    "|Total|4208|3916|8124|\n",
    "\n",
    "Look at it this way:\n",
    "\n",
    "|Test | Edible |Poisonous|\n",
    "|:-:|:-:|:-:|\n",
    "| F |False Neg|True Neg|\n",
    "| T |True Pos|False Pos|\n",
    "\n",
    "It helps to stop and relabel the confusion matrix just to be certain that we are all considering the same outcomes in the same way.\n"
   ]
  },
  {
   "cell_type": "code",
   "execution_count": 61,
   "id": "d55a21ec",
   "metadata": {},
   "outputs": [
    {
     "data": {
      "text/plain": [
       "Ellipsis"
      ]
     },
     "execution_count": 61,
     "metadata": {},
     "output_type": "execute_result"
    }
   ],
   "source": [
    "sens = ...  \n",
    "\n",
    "sens"
   ]
  },
  {
   "cell_type": "code",
   "execution_count": 62,
   "id": "1c4da5db",
   "metadata": {},
   "outputs": [
    {
     "data": {
      "text/plain": [
       "Ellipsis"
      ]
     },
     "execution_count": 62,
     "metadata": {},
     "output_type": "execute_result"
    }
   ],
   "source": [
    "spec = ...\n",
    "\n",
    "spec"
   ]
  },
  {
   "cell_type": "code",
   "execution_count": 63,
   "id": "605be53f",
   "metadata": {},
   "outputs": [
    {
     "data": {
      "text/plain": [
       "Ellipsis"
      ]
     },
     "execution_count": 63,
     "metadata": {},
     "output_type": "execute_result"
    }
   ],
   "source": [
    "RR = ...\n",
    "\n",
    "RR"
   ]
  },
  {
   "cell_type": "code",
   "execution_count": 64,
   "id": "7d71b955",
   "metadata": {},
   "outputs": [
    {
     "data": {
      "text/plain": [
       "Ellipsis"
      ]
     },
     "execution_count": 64,
     "metadata": {},
     "output_type": "execute_result"
    }
   ],
   "source": [
    "OR = ...\n",
    "\n",
    "OR"
   ]
  },
  {
   "cell_type": "code",
   "execution_count": 65,
   "id": "109b236e",
   "metadata": {},
   "outputs": [
    {
     "data": {
      "text/plain": [
       "Ellipsis"
      ]
     },
     "execution_count": 65,
     "metadata": {},
     "output_type": "execute_result"
    }
   ],
   "source": [
    "FP = ...\n",
    "\n",
    "FP"
   ]
  },
  {
   "cell_type": "code",
   "execution_count": 66,
   "id": "79895c5e",
   "metadata": {},
   "outputs": [
    {
     "data": {
      "text/plain": [
       "Ellipsis"
      ]
     },
     "execution_count": 66,
     "metadata": {},
     "output_type": "execute_result"
    }
   ],
   "source": [
    "Acc = ...\n",
    "\n",
    "Acc"
   ]
  },
  {
   "cell_type": "code",
   "execution_count": 67,
   "id": "05434c04",
   "metadata": {},
   "outputs": [
    {
     "name": "stdout",
     "output_type": "stream",
     "text": [
      "sens = 0.6539923954372624\n",
      "spec = 0.8406537282941777 \n",
      "RR = 2.6582469663038384 \n",
      "OR = 9.971541279233586 \n",
      "FP = 0.1966824644549763 \n",
      "Acc = 0.7439684884293452\n"
     ]
    }
   ],
   "source": [
    "## Cheating a little and working them out ahead of time.  \n",
    "\n",
    "sens = 2752/4208\n",
    "spec = 3292/3916\n",
    "pi1 = 2752/(2752+624)\n",
    "pi2 = 1456/(1456+3292)\n",
    "\n",
    "RR = pi1/pi2\n",
    "\n",
    "OR = RR *(1-pi2)/(1-pi1)\n",
    "\n",
    "FP = 664/3376\n",
    "\n",
    "Acc = (3292 + 2752)/8124\n",
    "\n",
    "print(f\"sens = {sens}\\nspec = {spec} \\nRR = {RR} \\nOR = {OR} \\nFP = {FP} \\nAcc = {Acc}\")\n"
   ]
  },
  {
   "cell_type": "markdown",
   "id": "d093e6a5",
   "metadata": {},
   "source": [
    "Are there any other variables in this data set that are \"better\" predictors for whether a mushroom is edible?\n",
    "\n",
    "There are other, binary variables in this data set.  We will revisit this data set when we study classification.  \n",
    "\n",
    "\n",
    "### Defining a function we can copy and use whenever needed.  \n",
    "\n",
    "Arrange your input table in this order.  \n",
    "\n",
    "|        |Test Pos. | Test Neg. |\n",
    "|---     |:-:       |:-:        |\n",
    "|Sick    |a        |b         |\n",
    "|Not Sick|c        |d          |\n",
    "\n",
    "Or,\n",
    "\n",
    "|        |Test Pos. | Test Neg. |\n",
    "|---     |:-:       |:-:        |\n",
    "|Sick    |True Pos. |False Neg. |\n",
    "|Not Sick|False Pos.|True Neg.   |"
   ]
  },
  {
   "cell_type": "code",
   "execution_count": 16,
   "id": "22e2a6a2",
   "metadata": {},
   "outputs": [],
   "source": [
    "def TwoWaySummary(x):\n",
    "    \"\"\" x must be a 2x2 table arranged T+ F-, F+ T-\"\"\"\n",
    "    a = x[[0],[0]][0]\n",
    "    b = x[[0],[1]][0]\n",
    "    c = x[[1],[0]][0]\n",
    "    d = x[[1],[1]][0]\n",
    "    \n",
    "    print(f\"sensitivity = {a/(a+b)}\\nspecificity = {d/(c+d)}\\nrelative risk = {a*(c+d)/(c*(a+b))}\\nodds ratio = {a*d/(b*c)}\\naccuracy = {(a+d)/(a+d+c+b)}\")\n",
    "    \n"
   ]
  },
  {
   "cell_type": "code",
   "execution_count": 17,
   "id": "ecf1a490",
   "metadata": {},
   "outputs": [
    {
     "name": "stdout",
     "output_type": "stream",
     "text": [
      "sensitivity = 0.3333333333333333\n",
      "specificity = 0.5714285714285714\n",
      "relative risk = 0.7777777777777778\n",
      "odds ratio = 0.6666666666666666\n",
      "accuracy = 0.5\n"
     ]
    }
   ],
   "source": [
    "TwoWaySummary(np.array([[1, 2], [3, 4]]))"
   ]
  },
  {
   "cell_type": "code",
   "execution_count": null,
   "id": "20219c82",
   "metadata": {},
   "outputs": [],
   "source": []
  }
 ],
 "metadata": {
  "kernelspec": {
   "display_name": "Python 3",
   "language": "python",
   "name": "python3"
  },
  "language_info": {
   "codemirror_mode": {
    "name": "ipython",
    "version": 3
   },
   "file_extension": ".py",
   "mimetype": "text/x-python",
   "name": "python",
   "nbconvert_exporter": "python",
   "pygments_lexer": "ipython3",
   "version": "3.8.6"
  }
 },
 "nbformat": 4,
 "nbformat_minor": 5
}
