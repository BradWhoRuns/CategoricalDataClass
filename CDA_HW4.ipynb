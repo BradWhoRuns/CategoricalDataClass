{
 "cells": [
  {
   "cell_type": "markdown",
   "id": "2228fa60",
   "metadata": {},
   "source": [
    "# Homework 4"
   ]
  },
  {
   "cell_type": "code",
   "execution_count": 10,
   "id": "fd9adbcb",
   "metadata": {},
   "outputs": [],
   "source": [
    "from datascience import *\n",
    "import numpy as np\n",
    "\n",
    "%matplotlib inline\n",
    "import matplotlib.pyplot as plots\n",
    "plots.style.use('fivethirtyeight')\n",
    "\n",
    "import scipy.stats as stats\n",
    "\n",
    "import scipy\n",
    "\n",
    "import warnings\n",
    "warnings.simplefilter(action=\"ignore\", category=FutureWarning)\n",
    "warnings.simplefilter(action=\"ignore\", category=np.VisibleDeprecationWarning)\n",
    "\n",
    "\n",
    "\n",
    "def TwoWaySummary(x, C=0.95):\n",
    "    \"\"\" x must be a 2x2 table arranged T+ F-, F+ T-\"\"\"\n",
    "    \"\"\" C must be a positive number less than 1\"\"\"\n",
    "    a = int(x[[0],[0]][0])\n",
    "    b = int(x[[0],[1]][0])\n",
    "    c = int(x[[1],[0]][0])\n",
    "    d = int(x[[1],[1]][0])\n",
    "    \n",
    "    if(a == 0 or b == 0 or c == 0 or d==0):\n",
    "        print(\"At least one entry is 0; using the Plus 2 correction\")\n",
    "        a = a + 0.5\n",
    "        b = b + 0.5\n",
    "        c = c + 0.5\n",
    "        d = d + 0.5\n",
    "    \n",
    "    z_star = scipy.stats.norm.ppf((1-C)/2)\n",
    "    z_star_array = np.array([z_star, -1*z_star])\n",
    "    SE = (1/a + 1/b + 1/c + 1/d)**0.5\n",
    "    \n",
    "    c_int = np.exp(np.log((a*d)/(b*c)) + SE*z_star_array)\n",
    "    \n",
    "    print(f\"sensitivity = {a/(a+c)}\\nspecificity = {d/(b+d)}\\nrelative risk = {a*(c+d)/(c*(a+b))}\\nodds ratio = {a*d/(b*c)}\\naccuracy = {(a+d)/(a+d+c+b)}\")\n",
    "    print(f\"The {C*100}% Confidence Interval for the odds ratio is {c_int}.\")"
   ]
  },
  {
   "cell_type": "markdown",
   "id": "a233fa0e",
   "metadata": {},
   "source": [
    "## Section 1: Goodness of Fit Test.\n",
    "\n",
    "We found some election data on a state website that we'll use for this homework.  "
   ]
  },
  {
   "cell_type": "code",
   "execution_count": 11,
   "id": "9982d1a3",
   "metadata": {},
   "outputs": [
    {
     "data": {
      "text/html": [
       "<table border=\"1\" class=\"dataframe\">\n",
       "    <thead>\n",
       "        <tr>\n",
       "            <th>line number</th> <th>contest name</th> <th>choice name</th> <th>party name</th> <th>total votes</th> <th>percent of votes</th> <th>registered voters</th> <th>ballots cast</th> <th>num Precinct total</th> <th>num Precinct rptg</th> <th>over votes</th> <th>under votes</th>\n",
       "        </tr>\n",
       "    </thead>\n",
       "    <tbody>\n",
       "        <tr>\n",
       "            <td>1          </td> <td>President of the US - Rep (Vote For 1)</td> <td>Ryan L. Binkley         </td> <td>REP       </td> <td>377        </td> <td>0.06            </td> <td>6154169          </td> <td>589722      </td> <td>159               </td> <td>159              </td> <td>0         </td> <td>3          </td>\n",
       "        </tr>\n",
       "        <tr>\n",
       "            <td>2          </td> <td>President of the US - Rep (Vote For 1)</td> <td>Doug Burgum             </td> <td>REP       </td> <td>161        </td> <td>0.03            </td> <td>6154169          </td> <td>589722      </td> <td>159               </td> <td>159              </td> <td>0         </td> <td>3          </td>\n",
       "        </tr>\n",
       "        <tr>\n",
       "            <td>3          </td> <td>President of the US - Rep (Vote For 1)</td> <td>Chris Christie          </td> <td>REP       </td> <td>2054       </td> <td>0.35            </td> <td>6154169          </td> <td>589722      </td> <td>159               </td> <td>159              </td> <td>0         </td> <td>3          </td>\n",
       "        </tr>\n",
       "        <tr>\n",
       "            <td>4          </td> <td>President of the US - Rep (Vote For 1)</td> <td>Ron DeSantis            </td> <td>REP       </td> <td>7457       </td> <td>1.27            </td> <td>6154169          </td> <td>589722      </td> <td>159               </td> <td>159              </td> <td>0         </td> <td>3          </td>\n",
       "        </tr>\n",
       "        <tr>\n",
       "            <td>5          </td> <td>President of the US - Rep (Vote For 1)</td> <td>Nikki Haley             </td> <td>REP       </td> <td>77902      </td> <td>13.23           </td> <td>6154169          </td> <td>589722      </td> <td>159               </td> <td>159              </td> <td>0         </td> <td>3          </td>\n",
       "        </tr>\n",
       "        <tr>\n",
       "            <td>6          </td> <td>President of the US - Rep (Vote For 1)</td> <td>Asa Hutchinson          </td> <td>REP       </td> <td>383        </td> <td>0.07            </td> <td>6154169          </td> <td>589722      </td> <td>159               </td> <td>159              </td> <td>0         </td> <td>3          </td>\n",
       "        </tr>\n",
       "        <tr>\n",
       "            <td>7          </td> <td>President of the US - Rep (Vote For 1)</td> <td>Perry Johnson           </td> <td>REP       </td> <td>134        </td> <td>0.02            </td> <td>6154169          </td> <td>589722      </td> <td>159               </td> <td>159              </td> <td>0         </td> <td>3          </td>\n",
       "        </tr>\n",
       "        <tr>\n",
       "            <td>8          </td> <td>President of the US - Rep (Vote For 1)</td> <td>Vivek Ramaswamy         </td> <td>REP       </td> <td>1244       </td> <td>0.21            </td> <td>6154169          </td> <td>589722      </td> <td>159               </td> <td>159              </td> <td>0         </td> <td>3          </td>\n",
       "        </tr>\n",
       "        <tr>\n",
       "            <td>9          </td> <td>President of the US - Rep (Vote For 1)</td> <td>Tim Scott               </td> <td>REP       </td> <td>1398       </td> <td>0.24            </td> <td>6154169          </td> <td>589722      </td> <td>159               </td> <td>159              </td> <td>0         </td> <td>3          </td>\n",
       "        </tr>\n",
       "        <tr>\n",
       "            <td>10         </td> <td>President of the US - Rep (Vote For 1)</td> <td>David Stuckenberg       </td> <td>REP       </td> <td>243        </td> <td>0.04            </td> <td>6154169          </td> <td>589722      </td> <td>159               </td> <td>159              </td> <td>0         </td> <td>3          </td>\n",
       "        </tr>\n",
       "        <tr>\n",
       "            <td>11         </td> <td>President of the US - Rep (Vote For 1)</td> <td>Donald J. Trump         </td> <td>REP       </td> <td>497594     </td> <td>84.49           </td> <td>6154169          </td> <td>589722      </td> <td>159               </td> <td>159              </td> <td>0         </td> <td>3          </td>\n",
       "        </tr>\n",
       "        <tr>\n",
       "            <td>12         </td> <td>President of the US - Dem (Vote For 1)</td> <td>Joseph R. Biden, Jr. (I)</td> <td>DEM       </td> <td>276141     </td> <td>95.19           </td> <td>6154169          </td> <td>589722      </td> <td>159               </td> <td>159              </td> <td>0         </td> <td>0          </td>\n",
       "        </tr>\n",
       "        <tr>\n",
       "            <td>13         </td> <td>President of the US - Dem (Vote For 1)</td> <td>Dean Phillips           </td> <td>DEM       </td> <td>5271       </td> <td>1.82            </td> <td>6154169          </td> <td>589722      </td> <td>159               </td> <td>159              </td> <td>0         </td> <td>0          </td>\n",
       "        </tr>\n",
       "        <tr>\n",
       "            <td>14         </td> <td>President of the US - Dem (Vote For 1)</td> <td>Marianne Williamson     </td> <td>DEM       </td> <td>8673       </td> <td>2.99            </td> <td>6154169          </td> <td>589722      </td> <td>159               </td> <td>159              </td> <td>0         </td> <td>0          </td>\n",
       "        </tr>\n",
       "    </tbody>\n",
       "</table>"
      ],
      "text/plain": [
       "<IPython.core.display.HTML object>"
      ]
     },
     "metadata": {},
     "output_type": "display_data"
    }
   ],
   "source": [
    "primary = Table.read_table(\"GAPrimary2024.csv\")\n",
    "\n",
    "primary.show()"
   ]
  },
  {
   "cell_type": "markdown",
   "id": "049e1560",
   "metadata": {},
   "source": [
    "In the 2024 General Primary, there were 11 candidates for President on the Republican Ballot.  If we naively assumed that each candidate would get the same percent of the vote, we can use this real data from the [Secretary of State](https://results.enr.clarityelections.com/GA/120015/web.317647/#/summary) to see if that's true.  \n",
    "\n",
    "$\\displaystyle H_o: \\pi = \\left(\\frac{1}{11}, \\frac{1}{11}, \\cdots ,\\frac{1}{11}\\right)$ \n",
    "\n",
    "$\\displaystyle H_a:$ One of these $\\displaystyle \\pi_i \\not= \\frac{1}{11}$\n",
    "\n",
    "**Question 1.1** Create an array that contains the number of votes each REP got in the 2024 Georgia Primary.  \n"
   ]
  },
  {
   "cell_type": "code",
   "execution_count": 12,
   "id": "eff1b28b",
   "metadata": {},
   "outputs": [
    {
     "data": {
      "text/plain": [
       "Ellipsis"
      ]
     },
     "execution_count": 12,
     "metadata": {},
     "output_type": "execute_result"
    }
   ],
   "source": [
    "rep_votes = ...\n",
    "\n",
    "rep_votes"
   ]
  },
  {
   "cell_type": "markdown",
   "id": "c8178773",
   "metadata": {},
   "source": [
    "**Question 1.2** Create an array of expected counts (not necessarily whole numbers) if we naively assumed that each of them would get 1/11th of the votes.  Call it `expected_votes`.  "
   ]
  },
  {
   "cell_type": "code",
   "execution_count": 13,
   "id": "c2d47dbe",
   "metadata": {},
   "outputs": [],
   "source": [
    "expected_votes = ..."
   ]
  },
  {
   "cell_type": "markdown",
   "id": "1d80cc79",
   "metadata": {},
   "source": [
    "**Question 1.3** Run a Goodness-of-Fit test, using `stats.chisquare` to see if it is reasonable to assume everyone got an equal share of the votes.  "
   ]
  },
  {
   "cell_type": "code",
   "execution_count": 14,
   "id": "f9589167",
   "metadata": {},
   "outputs": [
    {
     "data": {
      "text/plain": [
       "Ellipsis"
      ]
     },
     "execution_count": 14,
     "metadata": {},
     "output_type": "execute_result"
    }
   ],
   "source": [
    "..."
   ]
  },
  {
   "cell_type": "markdown",
   "id": "8f5f3a76",
   "metadata": {},
   "source": [
    "**Question 1.4** Does the real data support the claim that one candidate was significantly more/less popular than the others?\n",
    "\n",
    "1. Yes, this data suggests that one candidate was more popular.\n",
    "\n",
    "2. No, this data suggests that everyone was equally popular.  "
   ]
  },
  {
   "cell_type": "code",
   "execution_count": 15,
   "id": "7e89cc08",
   "metadata": {},
   "outputs": [
    {
     "data": {
      "text/plain": [
       "Ellipsis"
      ]
     },
     "execution_count": 15,
     "metadata": {},
     "output_type": "execute_result"
    }
   ],
   "source": [
    "naive_poll = ...\n",
    "\n",
    "naive_poll"
   ]
  },
  {
   "cell_type": "markdown",
   "id": "17f7be0f",
   "metadata": {},
   "source": [
    "Obviously, in a presidential primary some candidates will be more popular than others.  Suppose that *prior* to the primary election a pollster believed that Trump would garner 84.4% of the vote, Haley would get 13.2% of the vote, DeSantis would get 1.3%, Ramaswamy would get 0.2%  and the rest of the candidates would collect the remaining 0.9%.\n",
    "\n",
    "**Question 1.5** You will have to add together some of the entries, but create an array that contains the actual votes for\n",
    "\n",
    "\\[Trump, Haley, DeSantis, Ramaswamy, Everyone Else\\] in that order.  "
   ]
  },
  {
   "cell_type": "code",
   "execution_count": 16,
   "id": "79cce15c",
   "metadata": {},
   "outputs": [
    {
     "data": {
      "text/plain": [
       "Ellipsis"
      ]
     },
     "execution_count": 16,
     "metadata": {},
     "output_type": "execute_result"
    }
   ],
   "source": [
    "trump = primary.where(\"choice name\", are.containing(\"Trump\")).column(\"total votes\").item(0)\n",
    "haley = primary.where(\"choice name\", are.containing(\"Haley\")).column(\"total votes\").item(0)\n",
    "desantis = primary.where(\"choice name\", are.containing(\"DeSantis\")).column(\"total votes\").item(0)\n",
    "ramaswamy = primary.where(\"choice name\", are.containing(\"Ramaswamy\")).column(\"total votes\").item(0)\n",
    "the_rest = sum(primary.where(\"party name\", \"REP\").column(\"total votes\"))-trump-haley-desantis-ramaswamy\n",
    "\n",
    "actual_votes = ...\n",
    "\n",
    "actual_votes"
   ]
  },
  {
   "cell_type": "markdown",
   "id": "8cb80490",
   "metadata": {},
   "source": [
    "**Question 1.6** Use the `prior_pi` given to you below and the array you just created to make an array showing the *predicted_votes* in the primary.   "
   ]
  },
  {
   "cell_type": "code",
   "execution_count": 17,
   "id": "20433ccc",
   "metadata": {},
   "outputs": [
    {
     "data": {
      "text/plain": [
       "Ellipsis"
      ]
     },
     "execution_count": 17,
     "metadata": {},
     "output_type": "execute_result"
    }
   ],
   "source": [
    "prior_pi = np.array([0.844, 0.132, 0.013, 0.003, 0.008])\n",
    "\n",
    "predicted_votes = ...\n",
    "\n",
    "predicted_votes"
   ]
  },
  {
   "cell_type": "markdown",
   "id": "90bf0395",
   "metadata": {},
   "source": [
    "**Question 1.7** Run the Goodness-of-Fit test to see if the actual votes are similar to this prediction.  (By the way, the vote counts are real but the polling prediction is hypothetical.)"
   ]
  },
  {
   "cell_type": "code",
   "execution_count": 18,
   "id": "86b6202c",
   "metadata": {},
   "outputs": [
    {
     "data": {
      "text/plain": [
       "Ellipsis"
      ]
     },
     "execution_count": 18,
     "metadata": {},
     "output_type": "execute_result"
    }
   ],
   "source": [
    "..."
   ]
  },
  {
   "cell_type": "markdown",
   "id": "00fab87b",
   "metadata": {},
   "source": [
    "**Question 1.8** Interpret these results.  Did any of the top four candidates get MORE votes than this poll predicted?"
   ]
  },
  {
   "cell_type": "code",
   "execution_count": null,
   "id": "cd98e90d",
   "metadata": {},
   "outputs": [],
   "source": []
  },
  {
   "cell_type": "markdown",
   "id": "64209690",
   "metadata": {},
   "source": [
    "## Section 2.  Odds Ratio Confidence Intervals\n",
    "\n",
    "\n",
    "From a survey at Pew Research Center, we find the following:\n",
    "\n",
    "\n",
    "|     |Right/Leans Right  |  Left/Leans Left  |\n",
    "|:-:  |  :-:              |  :-:              |\n",
    "|Men  |2343|2073|\n",
    "|Women|2444|2833|\n",
    "\n",
    "Our goal is to create and interpret an odds ratio confidence interval.  \n"
   ]
  },
  {
   "cell_type": "markdown",
   "id": "a0101c43",
   "metadata": {},
   "source": [
    "**Question 2.1** Use `np.array` to re-create our two-way table.  Call it *lean_tab*.  "
   ]
  },
  {
   "cell_type": "code",
   "execution_count": 19,
   "id": "8a698c6d",
   "metadata": {},
   "outputs": [
    {
     "data": {
      "text/plain": [
       "Ellipsis"
      ]
     },
     "execution_count": 19,
     "metadata": {},
     "output_type": "execute_result"
    }
   ],
   "source": [
    "lean_tab = ...\n",
    "\n",
    "lean_tab"
   ]
  },
  {
   "cell_type": "markdown",
   "id": "ae45a74d",
   "metadata": {},
   "source": [
    "**Question 2.2**  Compute the odds ratio that estimates how many times more likely a male is to lean right than a female is to learn right.  "
   ]
  },
  {
   "cell_type": "code",
   "execution_count": 20,
   "id": "af3af915",
   "metadata": {},
   "outputs": [],
   "source": [
    "odds_ratio = ..."
   ]
  },
  {
   "cell_type": "markdown",
   "id": "3e7a30e6",
   "metadata": {},
   "source": [
    "**Question 2.3** The odds ratio is often used to estimate the relative risk.  Use this data to compute the relative risk that our odds ratio estimates.  "
   ]
  },
  {
   "cell_type": "code",
   "execution_count": 21,
   "id": "104dc2c5",
   "metadata": {},
   "outputs": [],
   "source": [
    "rel_risk = ..."
   ]
  },
  {
   "cell_type": "markdown",
   "id": "ef7406e9",
   "metadata": {},
   "source": [
    "**Question 2.4** Find a 90% confidence interval for the odds ratio.  As you know, a confidence interval has a start and an end.  Record the start as *lower_bd_90* and the end as *upper_bd_90*.  "
   ]
  },
  {
   "cell_type": "code",
   "execution_count": 22,
   "id": "e1144a4c",
   "metadata": {},
   "outputs": [],
   "source": [
    "lower_bd_90 = ...\n",
    "\n",
    "upper_bd_90 = ...\n",
    "\n"
   ]
  },
  {
   "cell_type": "markdown",
   "id": "1e8224d8",
   "metadata": {},
   "source": [
    "**Question 2.5** Find a 95% confidence interval for the odds ratio.  Record the start as *lower_bd_95* and the end as *upper_bd_95*.  "
   ]
  },
  {
   "cell_type": "code",
   "execution_count": 25,
   "id": "2483d41d",
   "metadata": {},
   "outputs": [],
   "source": [
    "lower_bd_95 = ...\n",
    "\n",
    "upper_bd_95 = ..."
   ]
  },
  {
   "cell_type": "markdown",
   "id": "633c1f76",
   "metadata": {},
   "source": [
    "If two groups are equally like to engage in some activity, then the odds ratio measuring those propensities would be equal to 1.  When an odds ratio confidence interval contains the value of 1 that means that it's possible that the two groups are equally like to do the thing.  \n",
    "\n",
    "**Question 2.6** Does the 95% confidence interval include the value of 1?  This is a \"Yes\"/\"No\" question.  \n",
    "\n"
   ]
  },
  {
   "cell_type": "code",
   "execution_count": 26,
   "id": "43d35ab9",
   "metadata": {},
   "outputs": [
    {
     "data": {
      "text/plain": [
       "Ellipsis"
      ]
     },
     "execution_count": 26,
     "metadata": {},
     "output_type": "execute_result"
    }
   ],
   "source": [
    "contains_1_Yes_or_No = ...\n",
    "\n",
    "contains_1_Yes_or_No"
   ]
  },
  {
   "cell_type": "markdown",
   "id": "9c63cebd",
   "metadata": {},
   "source": [
    "**Question 2.7** What's the conclusion we draw from these intervals?\n",
    "\n",
    "1. Men are more likely to be on the political right or lean right.\n",
    "\n",
    "2. Women are more likely to be on the political right or lean right.\n",
    "\n",
    "3. Everyone is more likely to be on the political right or lean right.\n",
    "\n",
    "4. Everyone is more likely to be on the political left or lean left.\n",
    "\n",
    "Just enter the number for your answer choice below.  "
   ]
  },
  {
   "cell_type": "code",
   "execution_count": null,
   "id": "eeafbeab",
   "metadata": {},
   "outputs": [],
   "source": [
    "answer2_7 = ..."
   ]
  },
  {
   "cell_type": "markdown",
   "id": "26df135a",
   "metadata": {},
   "source": [
    "## Congratulations.  \n",
    "\n",
    "You're done.  Download it as HTML and submit that to D2L.  "
   ]
  },
  {
   "cell_type": "code",
   "execution_count": null,
   "id": "2c6e784a",
   "metadata": {},
   "outputs": [],
   "source": []
  }
 ],
 "metadata": {
  "kernelspec": {
   "display_name": "Python 3 (ipykernel)",
   "language": "python",
   "name": "python3"
  },
  "language_info": {
   "codemirror_mode": {
    "name": "ipython",
    "version": 3
   },
   "file_extension": ".py",
   "mimetype": "text/x-python",
   "name": "python",
   "nbconvert_exporter": "python",
   "pygments_lexer": "ipython3",
   "version": "3.9.13"
  }
 },
 "nbformat": 4,
 "nbformat_minor": 5
}
