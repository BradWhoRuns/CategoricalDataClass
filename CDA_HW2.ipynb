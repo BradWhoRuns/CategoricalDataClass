{
 "cells": [
  {
   "cell_type": "markdown",
   "id": "d8f72b74",
   "metadata": {},
   "source": [
    "# Categorical Data Analysis\n",
    "\n",
    "## Homework 2"
   ]
  },
  {
   "cell_type": "code",
   "execution_count": null,
   "id": "a55aede7",
   "metadata": {},
   "outputs": [],
   "source": [
    "from datascience import *\n",
    "import numpy as np\n",
    "\n",
    "%matplotlib inline\n",
    "import matplotlib.pyplot as plots\n",
    "plots.style.use('fivethirtyeight')\n",
    "\n",
    "import scipy.stats as stats\n",
    "\n",
    "import warnings\n",
    "warnings.simplefilter(action=\"ignore\", category=FutureWarning)\n",
    "warnings.simplefilter(action=\"ignore\", category=np.VisibleDeprecationWarning)\n",
    "\n",
    "mushrooms =Table.read_table(\"mushrooms.csv\")"
   ]
  },
  {
   "cell_type": "markdown",
   "id": "50f0e603",
   "metadata": {},
   "source": [
    "### Section 1:  Mushrooms and .pivot\n",
    "\n",
    "\n",
    "Suppose someone was convinced that you can tell if a mushroom is poisonous just by looking at the gills.  If the gills are \"f\" then we'll consider the mushroom edible or \"e\".  This [mushroom](https://archive.ics.uci.edu/dataset/73/mushroom) data set came from the UCI Machine Learning Repository.  "
   ]
  },
  {
   "cell_type": "code",
   "execution_count": null,
   "id": "be638c51",
   "metadata": {},
   "outputs": [],
   "source": [
    "mushrooms.show(5)"
   ]
  },
  {
   "cell_type": "markdown",
   "id": "cf088bc1",
   "metadata": {},
   "source": [
    "**Question 1.1** Use `.pivot` create a two-way table showing whether or not a mushroom is poisonous and whether the gills are attached.  Call it *mush_gill_tab* and make sure to arrange the rows and columns so that the GillAttachment variable is the columns.   \n"
   ]
  },
  {
   "cell_type": "code",
   "execution_count": null,
   "id": "1f8cb233",
   "metadata": {},
   "outputs": [],
   "source": [
    "mush_gill_tab = ...\n",
    "\n",
    "mush_gill_tab"
   ]
  },
  {
   "cell_type": "markdown",
   "id": "b7916660",
   "metadata": {},
   "source": [
    "**Question 1.2** Suppose someone was convinced that you can tell if a mushroom is poisonous just by looking at the gills.  If the gills are \"f\" then we'll consider the mushroom edible or \"e\".  In this context, what would a False Negative be?  This is a multiple choice question.\n",
    "\n",
    "    1. A false negative would be declaring a poisonous mushroom edible.\n",
    "\n",
    "    2. A false negative would be declaring an edible mushroomm poisonous.  \n",
    "\n",
    "    3. A false negative would be declaring an edible mushroom edible.\n",
    "\n",
    "    4. A false negative would be declaring a poisonous mushroom poisonous.  "
   ]
  },
  {
   "cell_type": "code",
   "execution_count": null,
   "id": "41798302",
   "metadata": {},
   "outputs": [],
   "source": [
    "# Enter your answer to 1.2 here by just replacing the ... with the number for your answer, no extra spaces or periods\n",
    "\n",
    "false_neg_ans = ...\n",
    "\n",
    "false_neg_ans\n"
   ]
  },
  {
   "cell_type": "markdown",
   "id": "c8c49b08",
   "metadata": {},
   "source": [
    "**Question 1.3** In this dataset, how many false negatives would this generate?  For this one, you'll be entering an integer that you should be able to find in the two-way table above.  "
   ]
  },
  {
   "cell_type": "code",
   "execution_count": null,
   "id": "c5479aa1",
   "metadata": {},
   "outputs": [],
   "source": [
    "false_neg_num = ...\n",
    "\n",
    "false_neg_num"
   ]
  },
  {
   "cell_type": "markdown",
   "id": "9a746e3d",
   "metadata": {},
   "source": [
    "**Question 1.4** Suppose someone was convinced that you can tell if a mushroom is poisonous just by looking at the gills.  If the gills are \"f\" then we'll consider the mushroom edible or \"e\".  \n",
    "\n",
    "What would the sensitivity of this be?  Call it *mush_sens*.\n",
    "\n"
   ]
  },
  {
   "cell_type": "code",
   "execution_count": null,
   "id": "3620e4b0",
   "metadata": {},
   "outputs": [],
   "source": [
    "mush_sens = ...\n",
    "\n",
    "mush_sens"
   ]
  },
  {
   "cell_type": "markdown",
   "id": "794e9445",
   "metadata": {},
   "source": [
    "**Question 1.5** Suppose someone was convinced that you can tell if a mushroom is poisonous just by looking at the gills.  If the gills are \"f\" then we'll consider the mushroom edible or \"e\".  \n",
    "\n",
    "What would the specificity of this be?  Call it *mush_sens*."
   ]
  },
  {
   "cell_type": "code",
   "execution_count": null,
   "id": "38f169a0",
   "metadata": {},
   "outputs": [],
   "source": [
    "mush_spec = ...\n",
    "\n",
    "mush_spec"
   ]
  },
  {
   "cell_type": "markdown",
   "id": "d9e5977d",
   "metadata": {},
   "source": [
    "**Question 1.6** What would the accuracy of this be? "
   ]
  },
  {
   "cell_type": "code",
   "execution_count": null,
   "id": "1f67c307",
   "metadata": {},
   "outputs": [],
   "source": [
    "mush_acc = ...\n",
    "\n",
    "mush_acc"
   ]
  },
  {
   "cell_type": "markdown",
   "id": "232a3dc9",
   "metadata": {},
   "source": [
    "**Question 1.7**  What would the relative risk of this be?"
   ]
  },
  {
   "cell_type": "code",
   "execution_count": null,
   "id": "39868c2a",
   "metadata": {},
   "outputs": [],
   "source": [
    "mush_rel_risk = ...\n",
    "\n",
    "mush_rel_risk"
   ]
  },
  {
   "cell_type": "markdown",
   "id": "cb8836e9",
   "metadata": {},
   "source": [
    "**Question 1.8**  What is the odds ratio here?"
   ]
  },
  {
   "cell_type": "code",
   "execution_count": null,
   "id": "c80385ff",
   "metadata": {},
   "outputs": [],
   "source": [
    "mush_odds_rat = ...\n",
    "\n",
    "mush_odds_rat "
   ]
  },
  {
   "cell_type": "markdown",
   "id": "5070db4a",
   "metadata": {},
   "source": [
    "### Section 2: Sex and Heart with .pivot\n",
    "\n",
    "In the cell below, we use `.pivot` to create what is known as a two-way table.  There are obviously other ways of creating two-way tables, including going through the data \"manually\" and counting the responses, and other automated methods too, but `.pivot` is particularly nice for us.  \n",
    "\n",
    "\n"
   ]
  },
  {
   "cell_type": "markdown",
   "id": "0cff64d8",
   "metadata": {},
   "source": [
    "**Question 2.1** Use Table.read_table to read in *Heart2019.csv* and call it `mort19`"
   ]
  },
  {
   "cell_type": "code",
   "execution_count": null,
   "id": "01c2d045",
   "metadata": {},
   "outputs": [],
   "source": [
    "mort19 = ...\n",
    "\n",
    "mort19"
   ]
  },
  {
   "cell_type": "markdown",
   "id": "9f57f7ea",
   "metadata": {},
   "source": [
    "**Question 2.2** Use `.pivot` to create a two-way table showing Sex and Heart.  Call it `heart_sex19`.  "
   ]
  },
  {
   "cell_type": "code",
   "execution_count": null,
   "id": "4c28c82c",
   "metadata": {},
   "outputs": [],
   "source": [
    "heart_sex19 = ...\n",
    "heart_sex19"
   ]
  },
  {
   "cell_type": "markdown",
   "id": "29e548f8",
   "metadata": {},
   "source": [
    "This two-way table shows the counts for these two categorical variables cross-tabulated.  \n",
    "\n",
    "**Question 2.3** It's \"well-known\" or conventional wisdom that men are at a greater risk of heart disease than women.  Is that true, and if yes, to what degree is that true.  For the rest of this section, consider being Male as the indicator for whether the cause of death was classified \"Yes\" under Heart.  \n",
    "\n",
    "For 2.3, find the sensitivity of this test.  Call it *heart_sens*."
   ]
  },
  {
   "cell_type": "code",
   "execution_count": null,
   "id": "2c7238b7",
   "metadata": {},
   "outputs": [],
   "source": [
    "heart_sens = ...\n",
    "\n",
    "heart_sens"
   ]
  },
  {
   "cell_type": "markdown",
   "id": "2c83cceb",
   "metadata": {},
   "source": [
    "**Question 2.4** Find the specificity of the test using Male to indicate \"Yes\" for Heart.  Call it *heart_spec*."
   ]
  },
  {
   "cell_type": "code",
   "execution_count": null,
   "id": "18fd37a3",
   "metadata": {},
   "outputs": [],
   "source": [
    "heart_spec = ...\n",
    "\n",
    "heart_spec "
   ]
  },
  {
   "cell_type": "markdown",
   "id": "06eba4ab",
   "metadata": {},
   "source": [
    "**Question 2.5** Find the accuracy here."
   ]
  },
  {
   "cell_type": "code",
   "execution_count": null,
   "id": "626bb571",
   "metadata": {},
   "outputs": [],
   "source": [
    "heart_acc = ...\n",
    "\n",
    "heart_acc "
   ]
  },
  {
   "cell_type": "markdown",
   "id": "5e65c181",
   "metadata": {},
   "source": [
    "**Question 2.6** Find the relative risk here (by the way, this is the actually important statistic that you'll hear reported).  "
   ]
  },
  {
   "cell_type": "code",
   "execution_count": null,
   "id": "e776763d",
   "metadata": {},
   "outputs": [],
   "source": [
    "heart_rel_risk = ...\n",
    "\n",
    "heart_rel_risk"
   ]
  },
  {
   "cell_type": "markdown",
   "id": "b4697a86",
   "metadata": {},
   "source": [
    "**Question 2.7** Find the odds ratio here. (This you might also hear reported.) "
   ]
  },
  {
   "cell_type": "code",
   "execution_count": null,
   "id": "9a1ee727",
   "metadata": {},
   "outputs": [],
   "source": [
    "heart_odds_rat = ...\n",
    "\n",
    "heart_odds_rat "
   ]
  },
  {
   "cell_type": "markdown",
   "id": "95f4df32",
   "metadata": {},
   "source": [
    "### Section 3: Summary\n",
    "\n",
    "Just run the next cell, it will pull all your answers from above and summarize them nicely."
   ]
  },
  {
   "cell_type": "code",
   "execution_count": null,
   "id": "979f883d",
   "metadata": {},
   "outputs": [],
   "source": [
    "mylist = [\"a false negative would be declaring a poisonous mushroom edible.\", \"a false negative would be declaring an edible mushroomm poisonous.\",  \"a false negative would be declaring an edible mushroom edible.\", \"a false negative would be declaring a poisonous mushroom poisonous.\" ]\n",
    "\n",
    "\n",
    "print(f\"The two-way table showing the cross tabulation of gill attachment with poisonousness:\")\n",
    "\n",
    "mush_gill_tab.show()\n",
    "\n",
    "print(f\"This table includes {false_neg_num} false negatives, and in this case, {mylist[false_neg_ans - 1]}\")\n",
    "\n",
    "print(f\"This has:\\nsensitivity = {mush_sens} \\nspecificity = {mush_spec} \\naccuracy = {mush_acc} \\nrelative risk = {mush_rel_risk} \\nodds ratio = {mush_odds_rat}\")\n",
    "\n",
    "\n",
    "print(f\"The two-way table showing the relationship between heart and sex is:\")\n",
    "\n",
    "heart_sex19.show()\n",
    "\n",
    "print(f\"This has:\\nsensitivity = {heart_sens} \\nspecificity = {heart_spec} \\naccuracy = {heart_acc} \\nrelative risk = {heart_rel_risk} \\nodds ratio = {heart_odds_rat}\")"
   ]
  },
  {
   "cell_type": "markdown",
   "id": "4f4ccf16",
   "metadata": {},
   "source": [
    "# Congratulations. You're done with the second homework for this semester!\n",
    "\n",
    "+ Make sure you run every cell, without an error message\n",
    "\n",
    "+ Save it (unless it autosaved already) then download it as HTML\n",
    "\n",
    "+ Submit that HTML file to **D2L** in the appropriate Assignment folder.  "
   ]
  }
 ],
 "metadata": {
  "kernelspec": {
   "display_name": "Python 3 (ipykernel)",
   "language": "python",
   "name": "python3"
  },
  "language_info": {
   "codemirror_mode": {
    "name": "ipython",
    "version": 3
   },
   "file_extension": ".py",
   "mimetype": "text/x-python",
   "name": "python",
   "nbconvert_exporter": "python",
   "pygments_lexer": "ipython3",
   "version": "3.9.13"
  }
 },
 "nbformat": 4,
 "nbformat_minor": 5
}
