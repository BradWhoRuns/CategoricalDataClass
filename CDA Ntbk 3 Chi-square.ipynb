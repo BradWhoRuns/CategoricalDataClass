{
 "cells": [
  {
   "cell_type": "markdown",
   "id": "1ff54edf",
   "metadata": {},
   "source": [
    "# The Chi-square Tests\n",
    "\n",
    "In this notebook we will learn about two types of Chi-square tests.  The Goodness-of-Fit test and the Test for Independence.  This may be an overgeneralization but in my opinion the biggest difference between the two is how many categorical variables are involved.  The goodness-of-fit test uses just one categorical variable, but the test for independence uses two categorical variables.  "
   ]
  },
  {
   "cell_type": "code",
   "execution_count": 1,
   "id": "22e2a6a2",
   "metadata": {},
   "outputs": [],
   "source": [
    "# This cell is a code cell.  In cells like this\n",
    "# we run Python code\n",
    "\n",
    "# Here's some code that will likely appear near the top of every homework or lecture this semester.\n",
    "\n",
    "from datascience import *\n",
    "import numpy as np\n",
    "\n",
    "%matplotlib inline\n",
    "import matplotlib.pyplot as plots\n",
    "plots.style.use('fivethirtyeight')\n",
    "\n",
    "import scipy.stats as stats\n",
    "\n",
    "import scipy\n",
    "\n",
    "import warnings\n",
    "warnings.simplefilter(action=\"ignore\", category=FutureWarning)\n",
    "warnings.simplefilter(action=\"ignore\", category=np.VisibleDeprecationWarning)\n",
    "\n",
    "# To add text, referred to as comments to a code cell\n",
    "# just put a hashtag a the beginning of the comment\n",
    "# Comments are ignored by the computer when executing the code\n",
    "\n",
    "mort22 = Table.read_table(\"SmallMort2022.csv\")"
   ]
  },
  {
   "cell_type": "markdown",
   "id": "50ae5d8a",
   "metadata": {},
   "source": [
    "From a survey at Pew Research Center, we find the following:\n",
    "\n",
    "\n",
    "|     |Right/Leans Right  |  Left/Leans Left  |\n",
    "|:-:  |  :-:              |  :-:              |\n",
    "|Men  |2343|2073|\n",
    "|Women|2444|2833|\n"
   ]
  },
  {
   "cell_type": "markdown",
   "id": "a12820fd",
   "metadata": {},
   "source": [
    "# Goodness-of-Fit\n",
    "\n",
    "Is it the case that roughly 50% of the country leans each way, politically?\n",
    "\n",
    "We can use this Pew Research Center data and the chi-square goodness-of-fit test to address that question.  \n",
    "\n",
    "The null hypothesis is that, Yes, 50% will lean Right and 50% will lean left.\n",
    "\n",
    "$H_o: \\pi = \\left(0.5, 0.5\\right) $\n",
    "\n",
    "$H_a: \\pi \\not= \\left(0.5, 0.5\\right) $\n",
    "\n",
    "Unless we discuss it ahead of time and decide to change our $\\alpha$, let's always assume that $\\alpha = 0.05$.\n",
    "\n",
    "The reason we may change $\\alpha$ would be to limit our exposure to either Type I or Type II Error.  But that's not relevant now, let's move on.  \n",
    "\n",
    "\n",
    "The command is `chisquare` and is included in the `scipy.stats` package.  In the cell below, we access it by it's full name, but as you know, we can also give it a new, shorter name as part of an import statement.  \n",
    "\n",
    "The `chisquare` function needs us to give the observed data followed by what we'd expect the data to look like if the null hypothesis is true.  \n",
    "\n",
    "For the observed, use the counts found in your real data.  For the expected, first, let $\\pi$ be the vector of proportions/probabilities that are a mathematical representation of the null hypothesis.  In this case, $\\pi = \\left(\\frac{1}{2}, \\frac{1}{2} \\right)$.  We always need that $\\sum \\pi = 1$, by the way.  Then, use the observed data again, but just to get the total sample size, $N$.  Then expected $ = N\\pi$.\n"
   ]
  },
  {
   "cell_type": "code",
   "execution_count": 2,
   "id": "24e5334f",
   "metadata": {},
   "outputs": [
    {
     "data": {
      "text/plain": [
       "Power_divergenceResult(statistic=1.4609512018982771, pvalue=0.22677883522068867)"
      ]
     },
     "execution_count": 2,
     "metadata": {},
     "output_type": "execute_result"
    }
   ],
   "source": [
    "observed = np.array([2343+2444, 2073+2833])\n",
    "\n",
    "expected = np.array([0.5, 0.5]) * (2343+2444+2073+2833)\n",
    "\n",
    "scipy.stats.chisquare(observed, expected)"
   ]
  },
  {
   "cell_type": "code",
   "execution_count": 3,
   "id": "161a815d",
   "metadata": {},
   "outputs": [
    {
     "data": {
      "text/plain": [
       "array([4787, 4906])"
      ]
     },
     "execution_count": 3,
     "metadata": {},
     "output_type": "execute_result"
    }
   ],
   "source": [
    "observed"
   ]
  },
  {
   "cell_type": "code",
   "execution_count": 4,
   "id": "c958498a",
   "metadata": {},
   "outputs": [
    {
     "data": {
      "text/plain": [
       "array([ 4846.5,  4846.5])"
      ]
     },
     "execution_count": 4,
     "metadata": {},
     "output_type": "execute_result"
    }
   ],
   "source": [
    "expected"
   ]
  },
  {
   "cell_type": "markdown",
   "id": "c00ae67b",
   "metadata": {},
   "source": [
    "**Report** We see that the p-value is 0.2268, which is larger than our preselected $\\alpha = 0.05$.  Therefore, at the 5% level of significance, we conclude that this data does NOT support the claim that either political leaning is more popular than the other.  Essentially, this data supports the claim that 50% leans right and 50% leans left.  \n",
    "\n",
    "What is this test doing?\n",
    "\n",
    "$\\displaystyle \\chi^2 = \\sum_{i=1}^n \\frac{\\left(O_i-E_i\\right)^2}{E_i}$\n",
    "\n",
    "$\\displaystyle \\frac{(4787 - 4846.5)^2}{4846.5} + \\frac{(4906 - 4846.5)^2}{4846.5} \\approx 1.46095$\n",
    "\n",
    "Then the p-value comes from the $\\chi^2$ distribution with degrees of freedom equal to one less than the number of groups involved; so in this case, the degrees of freedom are just 1.  \n"
   ]
  },
  {
   "cell_type": "code",
   "execution_count": 5,
   "id": "97d2cdc8",
   "metadata": {},
   "outputs": [
    {
     "data": {
      "text/plain": [
       "1.460951201898277"
      ]
     },
     "execution_count": 5,
     "metadata": {},
     "output_type": "execute_result"
    }
   ],
   "source": [
    "(4787 - 4846.5)**2/4846.5 + (4906 - 4846.5)**2 / 4846.5"
   ]
  },
  {
   "cell_type": "code",
   "execution_count": 6,
   "id": "af6cbedf",
   "metadata": {},
   "outputs": [
    {
     "data": {
      "text/plain": [
       "0.22677883552248579"
      ]
     },
     "execution_count": 6,
     "metadata": {},
     "output_type": "execute_result"
    }
   ],
   "source": [
    "1 - scipy.stats.chi2.cdf(1.4609512, 1)"
   ]
  },
  {
   "cell_type": "markdown",
   "id": "5f1f35e0",
   "metadata": {},
   "source": [
    "Let's look at the Pew data split by gender.  Are men equally likely to lean left as to right?  Are women?"
   ]
  },
  {
   "cell_type": "code",
   "execution_count": 7,
   "id": "a12ec165",
   "metadata": {},
   "outputs": [
    {
     "data": {
      "text/plain": [
       "Power_divergenceResult(statistic=16.508152173913043, pvalue=4.8441349580536515e-05)"
      ]
     },
     "execution_count": 7,
     "metadata": {},
     "output_type": "execute_result"
    }
   ],
   "source": [
    "observed = np.array([2343, 2073])\n",
    "\n",
    "expected = np.array([0.5, 0.5]) * (2343+2073)\n",
    "\n",
    "\n",
    "scipy.stats.chisquare(observed, expected)"
   ]
  },
  {
   "cell_type": "markdown",
   "id": "fe61543e",
   "metadata": {},
   "source": [
    "**Reporting out:** With a p-value of approximately $4.8\\times 10^{-5}$ or $p = 0.000$, we conclude that men do not split evenly between leaning left and right.  Because there are only two categories in this data, it is a simple matter to look closer at the numbers and realize that men have a tendency to lean right.  Depending upon the audience, you may include the statistic and p-value in your concluding statement.  Men tend to lean politically right ($\\chi^2 = 16.51$, $p = 0.000$). "
   ]
  },
  {
   "cell_type": "code",
   "execution_count": 8,
   "id": "bf22fd50",
   "metadata": {},
   "outputs": [
    {
     "data": {
      "text/plain": [
       "Power_divergenceResult(statistic=28.675573242372561, pvalue=8.5576378371485734e-08)"
      ]
     },
     "execution_count": 8,
     "metadata": {},
     "output_type": "execute_result"
    }
   ],
   "source": [
    "observed = np.array([2444, 2833])\n",
    "\n",
    "expected = np.array([0.5, 0.5]) * (2444+2833)\n",
    "\n",
    "\n",
    "scipy.stats.chisquare(observed, expected)"
   ]
  },
  {
   "cell_type": "markdown",
   "id": "5db2d84e",
   "metadata": {},
   "source": [
    "**Reporting out:** With a p-value of approximately $p = 0.000$, we conclude that women do not split evenly between leaning left and right.  Women tend to lean politically left ($\\chi^2 = 28.68$, $p = 0.000$). \n",
    "\n",
    "### Another Example\n",
    "\n",
    "Are people dying their hair different colors?  According to [World Population Review](https://worldpopulationreview.com/country-rankings/hair-color-by-country), 85% of Americans naturally have black hair, 11% have naturally brown hair, 2% have naturally blonde hair and 1% have naturally red hair.  Ahem, I'm sure you noticed that these values only sum to 99%; while we're not certain this could be due to rounding error or omitting certain very rare colors--or most likely, a combination of both factors.  \n",
    "\n",
    "Let's divide that extra 1% between the four groups.\n",
    "\n",
    "$\\pi = \\left(0.8525, 0.1125, 0.0225, 0.0125\\right)$\n",
    "\n",
    "Suppose we look around a crowded room of college students and (by our own judgement) count the following hair colors:\n",
    "\n",
    "|Color|Number|\n",
    "|---|:-:|\n",
    "|Black |20 |\n",
    "|Brown | 4|\n",
    "|Blonde|10|\n",
    "|Red   |6|\n",
    "\n",
    "Is there evidence that, for one reason or another, this distribution of hair colors does not conform to the prediction from World Review?\n",
    "\n",
    "We'll run the goodness-of-fit test below.  \n"
   ]
  },
  {
   "cell_type": "code",
   "execution_count": 37,
   "id": "be0cdeef",
   "metadata": {},
   "outputs": [
    {
     "data": {
      "text/plain": [
       "Power_divergenceResult(statistic=158.39687194525902, pvalue=4.0652377672889614e-34)"
      ]
     },
     "execution_count": 37,
     "metadata": {},
     "output_type": "execute_result"
    }
   ],
   "source": [
    "observed = np.array([20, 4, 10, 6])\n",
    "\n",
    "pi = np.array([0.8525, 0.1125, 0.0225, 0.0125])\n",
    "\n",
    "expected = pi * sum(observed)\n",
    "\n",
    "\n",
    "scipy.stats.chisquare(observed, expected)"
   ]
  },
  {
   "cell_type": "code",
   "execution_count": 38,
   "id": "0d097332",
   "metadata": {},
   "outputs": [
    {
     "data": {
      "text/plain": [
       "array([ 50.,  10.,  25.,  15.])"
      ]
     },
     "execution_count": 38,
     "metadata": {},
     "output_type": "execute_result"
    }
   ],
   "source": [
    "100*observed/sum(observed)"
   ]
  },
  {
   "cell_type": "markdown",
   "id": "47fee4e6",
   "metadata": {},
   "source": [
    "**Reporting out:** Based on this data, this group of people does not fit the predicted distribution of hair colors, ($\\chi^2 = 158.40$, $p = 0.000$). Looking at the actual percentage in the considered data we see that only 50% of the people have black hair which is less than predicted, while blonde and red hair are both greatly overrepresented at 25% and 15%, respectively.  "
   ]
  },
  {
   "cell_type": "markdown",
   "id": "4fdb4dd1",
   "metadata": {},
   "source": [
    "# Independence \n",
    "\n",
    "$\\chi^2$ Test for independence\n",
    "\n",
    "To test for a relationship of some pair of categorical variables, we can use this test for independence."
   ]
  },
  {
   "cell_type": "code",
   "execution_count": 9,
   "id": "82cda48d",
   "metadata": {},
   "outputs": [
    {
     "data": {
      "text/html": [
       "<table border=\"1\" class=\"dataframe\">\n",
       "    <thead>\n",
       "        <tr>\n",
       "            <th>Sex</th> <th>No</th> <th>Yes</th>\n",
       "        </tr>\n",
       "    </thead>\n",
       "    <tbody>\n",
       "        <tr>\n",
       "            <td>F   </td> <td>620928</td> <td>4138 </td>\n",
       "        </tr>\n",
       "        <tr>\n",
       "            <td>M   </td> <td>674905</td> <td>15856</td>\n",
       "        </tr>\n",
       "    </tbody>\n",
       "</table>"
      ],
      "text/plain": [
       "Sex  | No     | Yes\n",
       "F    | 620928 | 4138\n",
       "M    | 674905 | 15856"
      ]
     },
     "execution_count": 9,
     "metadata": {},
     "output_type": "execute_result"
    }
   ],
   "source": [
    "mort22.pivot(\"Suicide\", \"Sex\")"
   ]
  },
  {
   "cell_type": "code",
   "execution_count": 10,
   "id": "1370fccf",
   "metadata": {},
   "outputs": [
    {
     "data": {
      "text/plain": [
       "(5849.5627113705341,\n",
       " 0.0,\n",
       " 1,\n",
       " array([[ 615568.11798056,    9497.88201944],\n",
       "        [ 680264.88201944,   10496.11798056]]))"
      ]
     },
     "execution_count": 10,
     "metadata": {},
     "output_type": "execute_result"
    }
   ],
   "source": [
    "obs = np.array([[620928, 4138],[674905, 15856]])\n",
    "\n",
    "stats.chi2_contingency(obs)"
   ]
  },
  {
   "cell_type": "code",
   "execution_count": 11,
   "id": "ecf1a490",
   "metadata": {},
   "outputs": [
    {
     "data": {
      "text/plain": [
       "0.007218184472156906"
      ]
     },
     "execution_count": 11,
     "metadata": {},
     "output_type": "execute_result"
    }
   ],
   "source": [
    "(19994 *625066 )/ 1315827**2"
   ]
  },
  {
   "cell_type": "markdown",
   "id": "7f6405aa",
   "metadata": {},
   "source": [
    "The expected matrix (despite being the final part of the output) is actually the first thing created.  How?  First, the margins are summed.\n",
    "\n",
    "|Sex|  No|Yes| |\n",
    "|--:| --:|--:|--|\n",
    "|F|620928 |4138|620928 + 4138|\n",
    "|M|674905 |15856|674905 + 15856 |        \n",
    "| |620928+674905 |4138+15856|       |\n",
    "\n",
    "\n",
    "\n",
    "|Sex|  No|Yes| |\n",
    "|--:| --:|--:|--|\n",
    "|F|620928 |4138|625066|\n",
    "|M|674905 |15856|690761 |        \n",
    "| |1295833 |19994|    |\n",
    "\n",
    "Then the table total is computed too.  \n",
    "\n",
    "$N = 620928+674905 + 4138+15856 = 1315827$\n",
    "\n",
    "Then these marginal totals and the table total are used to compute the probability of landing in each cell of the table, assuming that these are independent.  \n",
    "\n",
    "\n",
    "|Sex|  No|Yes|\n",
    "|--:| --:|--:|\n",
    "|F|$$\\frac{1295833}{1315827} \\cdot \\frac{625066}{1315827}$$ |$$\\frac{19994}{1315827} \\cdot \\frac{625066}{1315827}$$|\n",
    "|M|$$\\frac{1295833}{1315827} \\cdot \\frac{690761}{1315827}$$ |$$\\frac{19994}{1315827} \\cdot \\frac{690761}{1315827}$$ |        \n",
    "\n",
    "|Sex|  No|Yes|\n",
    "|--:| --:|--:|\n",
    "|F|0.4678 |0.0072 |\n",
    "|M|0.5170 |0.0079 |        \n",
    "\n",
    "\n",
    "Then, these probabilities are converted back into counts by multiplying by N.\n",
    "\n",
    "|Sex|  No|Yes|\n",
    "|--:| --:|--:|\n",
    "|F|615568.12 |9497.88 |\n",
    "|M|680264.88 |10496.12| \n",
    "\n",
    "\n",
    "Then the observed values are $O_i$ and these expected values are denoted $E_i$.  \n",
    "\n",
    "\n",
    "Then $\\displaystyle \\chi^2 = \\sum_{i=1}^n \\frac{\\left(O_i-E_i\\right)^2}{E_i}$\n",
    "\n",
    "In this case, $n = 4$, but it's the product of the number of row and the number of columns in your two-way table. \n",
    "\n",
    "It's not necessary, but in the cell below we'll rerun the test so we can examine the output without having to scroll back up.  \n"
   ]
  },
  {
   "cell_type": "code",
   "execution_count": 12,
   "id": "b27b5e7e",
   "metadata": {},
   "outputs": [
    {
     "data": {
      "text/plain": [
       "(5849.5627113705341,\n",
       " 0.0,\n",
       " 1,\n",
       " array([[ 615568.11798056,    9497.88201944],\n",
       "        [ 680264.88201944,   10496.11798056]]))"
      ]
     },
     "execution_count": 12,
     "metadata": {},
     "output_type": "execute_result"
    }
   ],
   "source": [
    "stats.chi2_contingency(obs)"
   ]
  },
  {
   "cell_type": "markdown",
   "id": "0cc59979",
   "metadata": {},
   "source": [
    "How can we access the individual parts of this output?\n",
    "\n",
    "There are (at least) two ways.  That is, there are two ways that I typically use.\n",
    "\n",
    "**Method 1:** Name an array and set it equal to the test results, then pull the individual parts by position number.  \n",
    "\n",
    "\n",
    "**Method 2:** Create a tuple with the names you want to use and set that tuple equal to the test, then call the parts by the name you gave.  "
   ]
  },
  {
   "cell_type": "code",
   "execution_count": 13,
   "id": "3acc809c",
   "metadata": {},
   "outputs": [],
   "source": [
    "results = stats.chi2_contingency(obs)"
   ]
  },
  {
   "cell_type": "code",
   "execution_count": 14,
   "id": "9e667208",
   "metadata": {},
   "outputs": [
    {
     "data": {
      "text/plain": [
       "5849.5627113705341"
      ]
     },
     "execution_count": 14,
     "metadata": {},
     "output_type": "execute_result"
    }
   ],
   "source": [
    "results[0]"
   ]
  },
  {
   "cell_type": "code",
   "execution_count": 15,
   "id": "82c2162f",
   "metadata": {},
   "outputs": [
    {
     "data": {
      "text/plain": [
       "0.0"
      ]
     },
     "execution_count": 15,
     "metadata": {},
     "output_type": "execute_result"
    }
   ],
   "source": [
    "results[1]"
   ]
  },
  {
   "cell_type": "code",
   "execution_count": 16,
   "id": "ac3f79f9",
   "metadata": {},
   "outputs": [
    {
     "data": {
      "text/plain": [
       "1"
      ]
     },
     "execution_count": 16,
     "metadata": {},
     "output_type": "execute_result"
    }
   ],
   "source": [
    "results[2]"
   ]
  },
  {
   "cell_type": "code",
   "execution_count": 17,
   "id": "42de98c4",
   "metadata": {},
   "outputs": [
    {
     "data": {
      "text/plain": [
       "array([[ 615568.11798056,    9497.88201944],\n",
       "       [ 680264.88201944,   10496.11798056]])"
      ]
     },
     "execution_count": 17,
     "metadata": {},
     "output_type": "execute_result"
    }
   ],
   "source": [
    "results[3]"
   ]
  },
  {
   "cell_type": "code",
   "execution_count": 18,
   "id": "667ade2b",
   "metadata": {},
   "outputs": [],
   "source": [
    "(X2, p, df, exp_tab) = stats.chi2_contingency(obs)"
   ]
  },
  {
   "cell_type": "code",
   "execution_count": 19,
   "id": "ab4c2e23",
   "metadata": {},
   "outputs": [
    {
     "data": {
      "text/plain": [
       "5849.5627113705341"
      ]
     },
     "execution_count": 19,
     "metadata": {},
     "output_type": "execute_result"
    }
   ],
   "source": [
    "X2"
   ]
  },
  {
   "cell_type": "code",
   "execution_count": 20,
   "id": "c987eea8",
   "metadata": {},
   "outputs": [
    {
     "data": {
      "text/plain": [
       "0.0"
      ]
     },
     "execution_count": 20,
     "metadata": {},
     "output_type": "execute_result"
    }
   ],
   "source": [
    "p"
   ]
  },
  {
   "cell_type": "code",
   "execution_count": 21,
   "id": "0b6b86fc",
   "metadata": {},
   "outputs": [
    {
     "data": {
      "text/plain": [
       "1"
      ]
     },
     "execution_count": 21,
     "metadata": {},
     "output_type": "execute_result"
    }
   ],
   "source": [
    "df"
   ]
  },
  {
   "cell_type": "code",
   "execution_count": 22,
   "id": "4aaab1f3",
   "metadata": {},
   "outputs": [
    {
     "data": {
      "text/plain": [
       "array([[ 615568.11798056,    9497.88201944],\n",
       "       [ 680264.88201944,   10496.11798056]])"
      ]
     },
     "execution_count": 22,
     "metadata": {},
     "output_type": "execute_result"
    }
   ],
   "source": [
    "exp_tab"
   ]
  },
  {
   "cell_type": "code",
   "execution_count": 23,
   "id": "4d7a0e6a",
   "metadata": {},
   "outputs": [
    {
     "data": {
      "text/html": [
       "<table border=\"1\" class=\"dataframe\">\n",
       "    <thead>\n",
       "        <tr>\n",
       "            <th>season</th> <th>Midwest</th> <th>Northeast</th> <th>Southeast</th> <th>West</th>\n",
       "        </tr>\n",
       "    </thead>\n",
       "    <tbody>\n",
       "        <tr>\n",
       "            <td>Fall   </td> <td>362    </td> <td>70       </td> <td>376      </td> <td>399 </td>\n",
       "        </tr>\n",
       "        <tr>\n",
       "            <td>Spring </td> <td>197    </td> <td>39       </td> <td>212      </td> <td>220 </td>\n",
       "        </tr>\n",
       "        <tr>\n",
       "            <td>Summer </td> <td>407    </td> <td>76       </td> <td>418      </td> <td>586 </td>\n",
       "        </tr>\n",
       "        <tr>\n",
       "            <td>Unknown</td> <td>17     </td> <td>1        </td> <td>29       </td> <td>17  </td>\n",
       "        </tr>\n",
       "        <tr>\n",
       "            <td>Winter </td> <td>164    </td> <td>35       </td> <td>249      </td> <td>171 </td>\n",
       "        </tr>\n",
       "    </tbody>\n",
       "</table>"
      ],
      "text/plain": [
       "season  | Midwest | Northeast | Southeast | West\n",
       "Fall    | 362     | 70        | 376       | 399\n",
       "Spring  | 197     | 39        | 212       | 220\n",
       "Summer  | 407     | 76        | 418       | 586\n",
       "Unknown | 17      | 1         | 29        | 17\n",
       "Winter  | 164     | 35        | 249       | 171"
      ]
     },
     "execution_count": 23,
     "metadata": {},
     "output_type": "execute_result"
    }
   ],
   "source": [
    "bf = Table.read_table(\"bf_summary_table.csv\")\n",
    "\n",
    "bf"
   ]
  },
  {
   "cell_type": "code",
   "execution_count": 24,
   "id": "eb2ce91c",
   "metadata": {},
   "outputs": [
    {
     "data": {
      "text/plain": [
       "(43.920754335935875,\n",
       " 1.4596890966788743e-06,\n",
       " 9,\n",
       " array([[ 342.60487315,   66.70183371,  380.5036423 ,  417.18965084],\n",
       "        [ 189.61065059,   36.9153479 ,  210.58528008,  230.88872143],\n",
       "        [ 422.08239136,   82.17533283,  468.77292138,  513.96935443],\n",
       "        [ 175.7020849 ,   34.20748556,  195.13815624,  213.9522733 ]]))"
      ]
     },
     "execution_count": 24,
     "metadata": {},
     "output_type": "execute_result"
    }
   ],
   "source": [
    "bf_table = np.array([[362, 70, 376, 399],\n",
    "                    [197,  39, 212, 220],\n",
    "                    [407,  76, 418, 586],\n",
    "                    [164,  35, 249, 171]])\n",
    "\n",
    "\n",
    "stats.chi2_contingency(bf_table)"
   ]
  },
  {
   "cell_type": "code",
   "execution_count": 25,
   "id": "89374d1f",
   "metadata": {},
   "outputs": [],
   "source": [
    "(x2, p, df, exp_tab) = stats.chi2_contingency(bf_table)"
   ]
  },
  {
   "cell_type": "markdown",
   "id": "d4476532",
   "metadata": {},
   "source": [
    "## The residuals\n",
    "\n",
    "Just like with linear regression, the difference between observed and expected/predicted is the residual. So the $(i, j)^{th}$ residual is $o_{ij} - e_{ij}$.  \n",
    "\n"
   ]
  },
  {
   "cell_type": "code",
   "execution_count": 26,
   "id": "0dd523e5",
   "metadata": {},
   "outputs": [
    {
     "data": {
      "text/plain": [
       "array([[ 19.39512685,   3.29816629,  -4.5036423 , -18.18965084],\n",
       "       [  7.38934941,   2.0846521 ,   1.41471992, -10.88872143],\n",
       "       [-15.08239136,  -6.17533283, -50.77292138,  72.03064557],\n",
       "       [-11.7020849 ,   0.79251444,  53.86184376, -42.9522733 ]])"
      ]
     },
     "execution_count": 26,
     "metadata": {},
     "output_type": "execute_result"
    }
   ],
   "source": [
    "residuals = bf_table - exp_tab\n",
    "\n",
    "residuals"
   ]
  },
  {
   "cell_type": "markdown",
   "id": "9bcec1bf",
   "metadata": {},
   "source": [
    "If we divide the residuals by the standard deviation of the observations, we get what is known as the Pearson residuals.  \n",
    "\n",
    "If we divide the residuals by their own standard deviations, we get the standardized residuals.  What is their own standard deviation?\n",
    "\n",
    "$$\\sqrt{e_{ij}(1-p_i)(1-p_j)}$$ where $p_i$ and $p_j$ are the marginal probabilities.  \n",
    "\n",
    "Unfortunately, `scipy.stats` does not currently have a built-in function for computing these more advanced residuals, but `statsmodels` does, so we'll use theirs.  "
   ]
  },
  {
   "cell_type": "code",
   "execution_count": 53,
   "id": "7a981a4f",
   "metadata": {},
   "outputs": [
    {
     "data": {
      "text/plain": [
       "array([[ 1.48332459,  0.49772671, -0.3342416 , -1.31884174],\n",
       "       [ 0.69511665,  0.3869545 ,  0.12914423, -0.97107578],\n",
       "       [-1.0960161 , -0.88548645, -3.58040308,  4.9623659 ],\n",
       "       [-1.13519247,  0.15170094,  5.07038007, -3.9501825 ]])"
      ]
     },
     "execution_count": 53,
     "metadata": {},
     "output_type": "execute_result"
    }
   ],
   "source": [
    "import statsmodels.api as sm                                                                         \n",
    "\n",
    "table = sm.stats.Table(bf_table)                                                                            \n",
    "\n",
    "table.resid_pearson  # Pearson's residuals"
   ]
  },
  {
   "cell_type": "code",
   "execution_count": 54,
   "id": "72eca087",
   "metadata": {},
   "outputs": [
    {
     "data": {
      "text/plain": [
       "array([[ 1.48332459,  0.49772671, -0.3342416 , -1.31884174],\n",
       "       [ 0.69511665,  0.3869545 ,  0.12914423, -0.97107578],\n",
       "       [-1.0960161 , -0.88548645, -3.58040308,  4.9623659 ],\n",
       "       [-1.13519247,  0.15170094,  5.07038007, -3.9501825 ]])"
      ]
     },
     "execution_count": 54,
     "metadata": {},
     "output_type": "execute_result"
    }
   ],
   "source": [
    "table.standardized_resids  # Standardized residuals"
   ]
  },
  {
   "cell_type": "markdown",
   "id": "35f572db",
   "metadata": {},
   "source": [
    "Those look the same! And, and which one should I use in practice.  First, of all they do look the same, which is actually okay because they are trying to serve the same purpose.  If they were radically different, that would put us in an awkward situation.\n",
    "\n",
    "Because the code is somewhat \"blackbox\", I don't always know what math the computer is doing.  In particular, I don't know what how the computer is finding the standard error for the Pearson residuals, I could try find out, but I'm not going to do that now.  I do know how the standardized residuals are found, so we can talk about that.    \n",
    "\n",
    "\n",
    "Since they are standardized, that is divided by something similar to their own standard deviations, that means when one of them is smaller than -3 or larger than +3, that indicates that it is unusually small (or large).  \n",
    "\n",
    "Which one should I use?  Since they are probably roughly the same, from one point of view it doesn't matter which one you use.  However, I personally prefer to be able to explain my work, if I'm ever challenged by a peer or other stakeholder, so I would tend to use the standardized residual for the simple reason that if I had to, I could walk someone through the math of how they are calculated.\n",
    "\n",
    "Having stated that, let's try to recreate just some of those calculations in the cells below.  First, do the easiest one to find, the top left corner.  Later, we can try the residual of 53.86, which has the highest standardized residual despite not being the largest residual.  \n",
    "\n",
    "**By the way!!** I will not be asking you to do these by-hand calculations.  You just need to know how to look at a set of standardized residuals and pick out which ones are unusually large or small.  (Small sometimes means near 0, but in this case by small we mean large-but-negative.)\n"
   ]
  },
  {
   "cell_type": "code",
   "execution_count": 56,
   "id": "4fbc22c0",
   "metadata": {},
   "outputs": [
    {
     "data": {
      "text/plain": [
       "[array([[1207],\n",
       "        [ 668],\n",
       "        [1487],\n",
       "        [ 619]]),\n",
       " array([[1130,  220, 1255, 1376]])]"
      ]
     },
     "execution_count": 56,
     "metadata": {},
     "output_type": "execute_result"
    }
   ],
   "source": [
    "# First, we'll calculate the margin totals, there's a command for that\n",
    "\n",
    "margins = scipy.stats.contingency.margins(bf_table)\n",
    "\n",
    "margins"
   ]
  },
  {
   "cell_type": "code",
   "execution_count": 64,
   "id": "87fae736",
   "metadata": {},
   "outputs": [
    {
     "data": {
      "text/plain": [
       "array([[1207],\n",
       "       [ 668],\n",
       "       [1487],\n",
       "       [ 619]])"
      ]
     },
     "execution_count": 64,
     "metadata": {},
     "output_type": "execute_result"
    }
   ],
   "source": [
    "margins[0]"
   ]
  },
  {
   "cell_type": "code",
   "execution_count": 81,
   "id": "403330a4",
   "metadata": {},
   "outputs": [
    {
     "data": {
      "text/plain": [
       "array([[ 0.69680985],\n",
       "       [ 0.83220296],\n",
       "       [ 0.62647576],\n",
       "       [ 0.84451143]])"
      ]
     },
     "execution_count": 81,
     "metadata": {},
     "output_type": "execute_result"
    }
   ],
   "source": [
    "#Get the (1-p_i)\n",
    "\n",
    "Q_0 = 1 - margins[0]/sum(sum(margins[0]))\n",
    "\n",
    "\n",
    "Q_0"
   ]
  },
  {
   "cell_type": "code",
   "execution_count": 82,
   "id": "cfb8ffef",
   "metadata": {},
   "outputs": [
    {
     "data": {
      "text/plain": [
       "array([[ 0.71615172,  0.9447375 ,  0.68475257,  0.6543582 ]])"
      ]
     },
     "execution_count": 82,
     "metadata": {},
     "output_type": "execute_result"
    }
   ],
   "source": [
    "# Get the (1-p_j)\n",
    "\n",
    "Q_1 = 1-margins[1]/sum(sum(margins[1]))\n",
    "\n",
    "Q_1"
   ]
  },
  {
   "cell_type": "code",
   "execution_count": 79,
   "id": "8c030256",
   "metadata": {},
   "outputs": [
    {
     "data": {
      "text/plain": [
       "(362, 342.60487314745041, 19.395126852549595)"
      ]
     },
     "execution_count": 79,
     "metadata": {},
     "output_type": "execute_result"
    }
   ],
   "source": [
    "o_11 = bf_table[[0],[0]][0]\n",
    "\n",
    "e_11 = exp_tab[[0],[0]][0]\n",
    "\n",
    "r_11 = o_11 - e_11\n",
    "\n",
    "(o_11, e_11, r_11)"
   ]
  },
  {
   "cell_type": "code",
   "execution_count": 89,
   "id": "a873581d",
   "metadata": {},
   "outputs": [
    {
     "data": {
      "text/plain": [
       "13.075443470258701"
      ]
     },
     "execution_count": 89,
     "metadata": {},
     "output_type": "execute_result"
    }
   ],
   "source": [
    "# Then the standard deviation\n",
    "\n",
    "res_sd = (exp_tab[[0],[0]][0]* Q_0[[0],[0]][0]*Q_1[[0],[0]][0])**0.5\n",
    "\n",
    "res_sd"
   ]
  },
  {
   "cell_type": "code",
   "execution_count": 91,
   "id": "66c52194",
   "metadata": {},
   "outputs": [
    {
     "data": {
      "text/plain": [
       "array([ 0.71615172])"
      ]
     },
     "execution_count": 91,
     "metadata": {},
     "output_type": "execute_result"
    }
   ],
   "source": [
    "Q_1[[0],[0]]"
   ]
  },
  {
   "cell_type": "code",
   "execution_count": 90,
   "id": "8b721fbc",
   "metadata": {},
   "outputs": [
    {
     "data": {
      "text/plain": [
       "1.4833245921383542"
      ]
     },
     "execution_count": 90,
     "metadata": {},
     "output_type": "execute_result"
    }
   ],
   "source": [
    "# Last, do the division and see if we get the same residual as above\n",
    "\n",
    "r_11/ res_sd\n"
   ]
  },
  {
   "cell_type": "markdown",
   "id": "35a410f7",
   "metadata": {},
   "source": [
    "Let's do it again, more quickly for the two highest residuals, the ones in positions (2, 3) and (3, 2).  "
   ]
  },
  {
   "cell_type": "code",
   "execution_count": 93,
   "id": "f02bd642",
   "metadata": {},
   "outputs": [
    {
     "data": {
      "text/plain": [
       "4.9623659007898935"
      ]
     },
     "execution_count": 93,
     "metadata": {},
     "output_type": "execute_result"
    }
   ],
   "source": [
    "o_23 = bf_table[[2],[3]][0]\n",
    "\n",
    "e_23 = exp_tab[[2],[3]][0]\n",
    "\n",
    "r_23 = o_23 - e_23\n",
    "\n",
    "sd_23 = (exp_tab[[2],[3]][0]* Q_0[[2],[0]][0]*Q_1[[0],[3]][0])**0.5\n",
    "\n",
    "r_23 / sd_23"
   ]
  },
  {
   "cell_type": "code",
   "execution_count": 96,
   "id": "40185ae5",
   "metadata": {},
   "outputs": [
    {
     "data": {
      "text/plain": [
       "5.070380065864633"
      ]
     },
     "execution_count": 96,
     "metadata": {},
     "output_type": "execute_result"
    }
   ],
   "source": [
    "o_32 = bf_table[[3],[2]][0]\n",
    "\n",
    "e_32 = exp_tab[[3],[2]][0]\n",
    "\n",
    "r_32 = o_32 - e_32\n",
    "\n",
    "sd_32 = (exp_tab[[3],[2]][0]* Q_0[[3],[0]][0]*Q_1[[0],[2]][0])**0.5\n",
    "\n",
    "r_32 / sd_32"
   ]
  }
 ],
 "metadata": {
  "kernelspec": {
   "display_name": "Python 3 (ipykernel)",
   "language": "python",
   "name": "python3"
  },
  "language_info": {
   "codemirror_mode": {
    "name": "ipython",
    "version": 3
   },
   "file_extension": ".py",
   "mimetype": "text/x-python",
   "name": "python",
   "nbconvert_exporter": "python",
   "pygments_lexer": "ipython3",
   "version": "3.9.13"
  }
 },
 "nbformat": 4,
 "nbformat_minor": 5
}
