{
 "cells": [
  {
   "cell_type": "markdown",
   "id": "449421ee",
   "metadata": {},
   "source": [
    "# M-squared Test"
   ]
  },
  {
   "cell_type": "code",
   "execution_count": 73,
   "id": "8c5ad4a4",
   "metadata": {},
   "outputs": [],
   "source": [
    "# This cell is a code cell.  In cells like this\n",
    "# we run Python code\n",
    "\n",
    "# Here's some code that will likely appear near the top of every homework or lecture this semester.\n",
    "\n",
    "from datascience import *\n",
    "import numpy as np\n",
    "\n",
    "%matplotlib inline\n",
    "import matplotlib.pyplot as plots\n",
    "plots.style.use('fivethirtyeight')\n",
    "\n",
    "import scipy.stats as stats\n",
    "\n",
    "import scipy\n",
    "\n",
    "import warnings\n",
    "warnings.simplefilter(action=\"ignore\", category=FutureWarning)\n",
    "warnings.simplefilter(action=\"ignore\", category=np.VisibleDeprecationWarning)\n",
    "\n",
    "# To add text, referred to as comments to a code cell\n",
    "# just put a hashtag a the beginning of the comment\n",
    "# Comments are ignored by the computer when executing the code"
   ]
  },
  {
   "cell_type": "markdown",
   "id": "ccbe85cd",
   "metadata": {},
   "source": [
    "When the categorical data are both ordinal, you can assign values to the different categories and run what's called an $M^2$ test.   \n",
    "\n",
    "Recall that we can use `scipy.stats.pearsonr` to calculate the Pearson correlation coefficient, called $r$.  Then, \n",
    "\n",
    "$M^2 = (n-1)r^2$\n",
    "\n",
    "When the sample size, $n$, is large, $M^2$ follows a Chi-squared distribution with degrees of freedom 1.  \n",
    "\n",
    "$H_o$: There is a trend between these two variables\n",
    "\n",
    "$H_a$: There is NO trend between these two variables.  \n",
    "\n",
    "Notice that the alternative does not accept directions.  We will return to this discussion later.  \n",
    "\n",
    "\n",
    "The numbers that you attach to the ordered categories **DO matter**.  Let's look at some examples using this data from our book.  This looks at the number of servings of alcohol a mother has on average while pregnant and whether her baby has any malformations.    \n",
    "\n",
    "|Alcohol|  Malformation Absent  | Present |\n",
    "|---|---|---|\n",
    "|0 |17066  |48|\n",
    "|<1 |14464 |38|\n",
    "|1-2|788   |5|\n",
    "|3-5|126   |1|\n",
    "|6+ |37    |1|\n",
    "\n",
    "The numbers you give the labels are supposed to reflect how \"far apart\" you feel these categories are.  For the first example, let's use the reasonable choice of 1, 2, 3, and 4 for the labels.  \n",
    "\n",
    "\n"
   ]
  },
  {
   "cell_type": "code",
   "execution_count": null,
   "id": "3c8249b3",
   "metadata": {},
   "outputs": [],
   "source": []
  },
  {
   "cell_type": "code",
   "execution_count": 74,
   "id": "67720b40",
   "metadata": {},
   "outputs": [
    {
     "name": "stdout",
     "output_type": "stream",
     "text": [
      "With these values for the categories, the M-square is 1.828, which has a p-value of 0.1183.\n",
      "This comes from an r of 0.007490842429343666\n"
     ]
    }
   ],
   "source": [
    "a = 0\n",
    "b = 1\n",
    "c = 2\n",
    "d = 3\n",
    "e = 4\n",
    "\n",
    "zero = np.repeat(a, 17114)\n",
    "one = np.repeat(b, 14502)\n",
    "two = np.repeat(c, 793)\n",
    "thr = np.repeat(d, 127)\n",
    "four = np.repeat(e, 38)\n",
    "\n",
    "consumption = np.append(zero, np.append(one, np.append(two, np.append(thr, four))))\n",
    "\n",
    "i = 0\n",
    "j = 1\n",
    "\n",
    "mal_zero = np.append(np.repeat(i, 17066), np.repeat(j, 48))\n",
    "mal_one = np.append(np.repeat(i, 14464), np.repeat(j, 38))\n",
    "mal_two = np.append(np.repeat(i, 788), np.repeat(j, 5))\n",
    "mal_thr = np.append(np.repeat(i, 126), np.repeat(j, 1))\n",
    "mal_four = np.append(np.repeat(i, 37), np.repeat(j, 1))\n",
    "\n",
    "malformation = np.append(mal_zero, np.append(mal_one, np.append(mal_two, np.append(mal_thr, mal_four))))\n",
    "\n",
    "(r, p) = stats.pearsonr(malformation, consumption)\n",
    "\n",
    "M2 = r**2 * (len(consumption)-1)\n",
    "\n",
    "pval = scipy.stats.chi2.pdf(M2, df = 1)\n",
    "\n",
    "print(f\"With these values for the categories, the M-square is {np.round(M2, 3)}, which has a p-value of {np.round(pval, 4)}.\")\n",
    "print(f\"This comes from an r of {r}\")\n"
   ]
  },
  {
   "cell_type": "markdown",
   "id": "4658b0fb",
   "metadata": {},
   "source": [
    "Next, let's use the midpoint of the interval for the label.  That is, 0 servings of alcohol will be paired with 0.  Between 0 and 1 serving will be paired with 0.5.  Then, 1 to 2 has a midpoint of 1.5 while 3 to 5 has a midpoint of 4.  The last interval has no midpoint, but we don't want to choose an extreme value.  The choice of 7 was arbitrary, but that doesn't mean that it would change the results.  "
   ]
  },
  {
   "cell_type": "code",
   "execution_count": 75,
   "id": "685528bd",
   "metadata": {},
   "outputs": [
    {
     "name": "stdout",
     "output_type": "stream",
     "text": [
      "With these values for the categories, the M-square is 6.57, which has a p-value of 0.0058.\n",
      "This comes from an r of 0.014202067281577017\n"
     ]
    }
   ],
   "source": [
    "a = 0\n",
    "b = .5\n",
    "c = 1.5\n",
    "d = 4\n",
    "e = 7  # change to 6, 70 or some other value to demonstrat statement about\n",
    "\n",
    "\n",
    "zero = np.repeat(a, 17114)\n",
    "one = np.repeat(b, 14502)\n",
    "two = np.repeat(c, 793)\n",
    "thr = np.repeat(d, 127)\n",
    "four = np.repeat(e, 38)\n",
    "\n",
    "consumption = np.append(zero, np.append(one, np.append(two, np.append(thr, four))))\n",
    "\n",
    "i = 0\n",
    "j = 1\n",
    "\n",
    "mal_zero = np.append(np.repeat(i, 17066), np.repeat(j, 48))\n",
    "mal_one = np.append(np.repeat(i, 14464), np.repeat(j, 38))\n",
    "mal_two = np.append(np.repeat(i, 788), np.repeat(j, 5))\n",
    "mal_thr = np.append(np.repeat(i, 126), np.repeat(j, 1))\n",
    "mal_four = np.append(np.repeat(i, 37), np.repeat(j, 1))\n",
    "\n",
    "\n",
    "malformation = np.append(mal_zero, np.append(mal_one, np.append(mal_two, np.append(mal_thr, mal_four))))\n",
    "\n",
    "(r, p) = stats.pearsonr(malformation, consumption)\n",
    "\n",
    "M2 = r**2 * (len(consumption)-1)\n",
    "\n",
    "pval = scipy.stats.chi2.pdf(M2, df = 1)\n",
    "\n",
    "\n",
    "print(f\"With these values for the categories, the M-square is {np.round(M2, 3)}, which has a p-value of {np.round(pval, 4)}.\")\n",
    "print(f\"This comes from an r of {r}\")"
   ]
  },
  {
   "cell_type": "markdown",
   "id": "9bc9dea8",
   "metadata": {},
   "source": [
    "What if we used the Spearman's rho, the non-parametric version of correlation?\n",
    "\n",
    "\n",
    "`scipy.stats.spearmanr`"
   ]
  },
  {
   "cell_type": "code",
   "execution_count": 76,
   "id": "bcad8edd",
   "metadata": {},
   "outputs": [
    {
     "data": {
      "text/plain": [
       "PearsonRResult(statistic=0.014202067281577017, pvalue=0.010369491709263002)"
      ]
     },
     "execution_count": 76,
     "metadata": {},
     "output_type": "execute_result"
    }
   ],
   "source": [
    "stats.pearsonr(consumption, malformation)"
   ]
  },
  {
   "cell_type": "code",
   "execution_count": 77,
   "id": "8fd90602",
   "metadata": {},
   "outputs": [
    {
     "data": {
      "text/plain": [
       "SpearmanrResult(correlation=0.0032846493413217063, pvalue=0.5533142141720796)"
      ]
     },
     "execution_count": 77,
     "metadata": {},
     "output_type": "execute_result"
    }
   ],
   "source": [
    "stats.spearmanr(consumption, malformation)"
   ]
  },
  {
   "cell_type": "code",
   "execution_count": 78,
   "id": "ad1451fa",
   "metadata": {},
   "outputs": [
    {
     "name": "stdout",
     "output_type": "stream",
     "text": [
      "With these values for the categories, the M-square from Pearson's r is 1.828, which has a p-value of 0.1183.\n",
      "This comes from a Pearson r of 0.007490842429343666\n",
      "With these values for the categories, the M-square from Spearman's rho is 0.351, which has a p-value of 0.5645.\n",
      "This comes from a rho of 0.003284649341321706\n"
     ]
    }
   ],
   "source": [
    "a = 0\n",
    "b = 1\n",
    "c = 2\n",
    "d = 3\n",
    "e = 4\n",
    "\n",
    "\n",
    "zero = np.repeat(a, 17114)\n",
    "one = np.repeat(b, 14502)\n",
    "two = np.repeat(c, 793)\n",
    "thr = np.repeat(d, 127)\n",
    "four = np.repeat(e, 38)\n",
    "\n",
    "consumption = np.append(zero, np.append(one, np.append(two, np.append(thr, four))))\n",
    "\n",
    "i = 0\n",
    "j = 1\n",
    "\n",
    "mal_zero = np.append(np.repeat(i, 17066), np.repeat(j, 48))\n",
    "mal_one = np.append(np.repeat(i, 14464), np.repeat(j, 38))\n",
    "mal_two = np.append(np.repeat(i, 788), np.repeat(j, 5))\n",
    "mal_thr = np.append(np.repeat(i, 126), np.repeat(j, 1))\n",
    "mal_four = np.append(np.repeat(i, 37), np.repeat(j, 1))\n",
    "\n",
    "\n",
    "malformation = np.append(mal_zero, np.append(mal_one, np.append(mal_two, np.append(mal_thr, mal_four))))\n",
    "\n",
    "(r, p) = stats.pearsonr(malformation, consumption)\n",
    "\n",
    "(rho, p_2) = stats.spearmanr(malformation, consumption)\n",
    "\n",
    "M2 = r**2 * (len(consumption)-1)\n",
    "\n",
    "pval = scipy.stats.chi2.pdf(M2, df = 1)\n",
    "\n",
    "pval2 = scipy.stats.chi2.pdf(rho**2 *(len(consumption)-1),  df = 1)\n",
    "\n",
    "\n",
    "print(f\"With these values for the categories, the M-square from Pearson's r is {np.round(M2, 3)}, which has a p-value of {np.round(pval, 4)}.\")\n",
    "print(f\"This comes from a Pearson r of {r}\")\n",
    "\n",
    "print(f\"With these values for the categories, the M-square from Spearman's rho is {np.round(rho**2 *(len(consumption)-1), 3)}, which has a p-value of {np.round(pval2, 4)}.\")\n",
    "print(f\"This comes from a rho of {rho}\")"
   ]
  },
  {
   "cell_type": "code",
   "execution_count": 79,
   "id": "3dec18e4",
   "metadata": {},
   "outputs": [
    {
     "name": "stdout",
     "output_type": "stream",
     "text": [
      "With these values for the categories, the M-square from Pearson's r is 6.57, which has a p-value of 0.0058.\n",
      "This comes from a Pearson r of 0.014202067281577017\n",
      "With these values for the categories, the M-square from Spearman's rho is 0.351, which has a p-value of 0.5645.\n",
      "This comes from a rho of 0.003284649341321706\n"
     ]
    }
   ],
   "source": [
    "a = 0\n",
    "b = .5\n",
    "c = 1.5\n",
    "d = 4\n",
    "e = 7\n",
    "\n",
    "\n",
    "zero = np.repeat(a, 17114)\n",
    "one = np.repeat(b, 14502)\n",
    "two = np.repeat(c, 793)\n",
    "thr = np.repeat(d, 127)\n",
    "four = np.repeat(e, 38)\n",
    "\n",
    "consumption = np.append(zero, np.append(one, np.append(two, np.append(thr, four))))\n",
    "\n",
    "i = 0\n",
    "j = 1\n",
    "\n",
    "mal_zero = np.append(np.repeat(i, 17066), np.repeat(j, 48))\n",
    "mal_one = np.append(np.repeat(i, 14464), np.repeat(j, 38))\n",
    "mal_two = np.append(np.repeat(i, 788), np.repeat(j, 5))\n",
    "mal_thr = np.append(np.repeat(i, 126), np.repeat(j, 1))\n",
    "mal_four = np.append(np.repeat(i, 37), np.repeat(j, 1))\n",
    "\n",
    "\n",
    "malformation = np.append(mal_zero, np.append(mal_one, np.append(mal_two, np.append(mal_thr, mal_four))))\n",
    "\n",
    "(r, p) = stats.pearsonr(malformation, consumption)\n",
    "\n",
    "(rho, p_2) = stats.spearmanr(malformation, consumption)\n",
    "\n",
    "M2 = r**2 * (len(consumption)-1)\n",
    "\n",
    "\n",
    "pval = scipy.stats.chi2.pdf(M2, df = 1)\n",
    "\n",
    "pval2 = scipy.stats.chi2.pdf(rho**2 *(len(consumption)-1),  df = 1)\n",
    "\n",
    "\n",
    "print(f\"With these values for the categories, the M-square from Pearson's r is {np.round(M2, 3)}, which has a p-value of {np.round(pval, 4)}.\")\n",
    "print(f\"This comes from a Pearson r of {r}\")\n",
    "\n",
    "print(f\"With these values for the categories, the M-square from Spearman's rho is {np.round(rho**2 *(len(consumption)-1), 3)}, which has a p-value of {np.round(pval2, 4)}.\")\n",
    "print(f\"This comes from a rho of {rho}\")\n",
    "\n",
    "save_for_later = r *(len(consumption)-1)**0.5"
   ]
  },
  {
   "cell_type": "code",
   "execution_count": 80,
   "id": "50a0a867",
   "metadata": {},
   "outputs": [
    {
     "name": "stdout",
     "output_type": "stream",
     "text": [
      "With these values for the categories, the M-square from Pearson's r is 1.895, which has a p-value of 0.1124.\n",
      "This comes from a Pearson r of 0.0076274892663406955\n",
      "With these values for the categories, the M-square from Spearman's rho is 0.351, which has a p-value of 0.5645.\n",
      "This comes from a rho of 0.003284649341321706\n"
     ]
    }
   ],
   "source": [
    "a = (17114+1)/2\n",
    "b = (17114*2 + 14502)/2\n",
    "c = (17114*3+14502*2+793)/2\n",
    "d = (17114*4+14502*3+793*2+127)/2\n",
    "e = (17114*5+14502*4+793*3+127*2+38)/2\n",
    "\n",
    "\n",
    "zero = np.repeat(a, 17114)\n",
    "one = np.repeat(b, 14502)\n",
    "two = np.repeat(c, 793)\n",
    "thr = np.repeat(d, 127)\n",
    "four = np.repeat(e, 38)\n",
    "\n",
    "consumption = np.append(zero, np.append(one, np.append(two, np.append(thr, four))))\n",
    "\n",
    "i = 0\n",
    "j = 1\n",
    "\n",
    "mal_zero = np.append(np.repeat(i, 17066), np.repeat(j, 48))\n",
    "mal_one = np.append(np.repeat(i, 14464), np.repeat(j, 38))\n",
    "mal_two = np.append(np.repeat(i, 788), np.repeat(j, 5))\n",
    "mal_thr = np.append(np.repeat(i, 126), np.repeat(j, 1))\n",
    "mal_four = np.append(np.repeat(i, 37), np.repeat(j, 1))\n",
    "\n",
    "\n",
    "malformation = np.append(mal_zero, np.append(mal_one, np.append(mal_two, np.append(mal_thr, mal_four))))\n",
    "\n",
    "(r, p) = stats.pearsonr(malformation, consumption)\n",
    "\n",
    "(rho, p_2) = stats.spearmanr(malformation, consumption)\n",
    "\n",
    "M2 = r**2 * (len(consumption)-1)\n",
    "\n",
    "pval = scipy.stats.chi2.pdf(M2, df = 1)\n",
    "\n",
    "pval2 = scipy.stats.chi2.pdf(rho**2 *(len(consumption)-1),  df = 1)\n",
    "\n",
    "\n",
    "print(f\"With these values for the categories, the M-square from Pearson's r is {np.round(M2, 3)}, which has a p-value of {np.round(pval, 4)}.\")\n",
    "print(f\"This comes from a Pearson r of {r}\")\n",
    "\n",
    "print(f\"With these values for the categories, the M-square from Spearman's rho is {np.round(rho**2 *(len(consumption)-1), 3)}, which has a p-value of {np.round(pval2, 4)}.\")\n",
    "print(f\"This comes from a rho of {rho}\")"
   ]
  },
  {
   "cell_type": "markdown",
   "id": "29121cc8",
   "metadata": {},
   "source": [
    "As you can see, if we use the non-parametric correlation, known as Spearman's rho or $\\rho$, then the labels don't matter.  However, in this case the $M^2$ test based on that is not significant.\n",
    "\n",
    "If the data is balanced (meaning group sizes within the larger sample are the same or at least very similar), then the number values on the labels don't matter as much.  \n",
    "\n",
    "Let's examine these fictitious data."
   ]
  },
  {
   "cell_type": "code",
   "execution_count": 81,
   "id": "0abc0b37",
   "metadata": {},
   "outputs": [
    {
     "name": "stdout",
     "output_type": "stream",
     "text": [
      "With these values for the categories, the M-square from Pearson's r is 31.421, which has a p-value of 0.0.\n",
      "This comes from a Pearson r of -0.10235793797163036\n",
      "With these values for the categories, the M-square from Spearman's rho is 31.421, which has a p-value of 0.0.\n",
      "This comes from a rho of -0.10235793797162661\n"
     ]
    }
   ],
   "source": [
    "a = 0\n",
    "b = 1\n",
    "c = 2\n",
    "\n",
    "\n",
    "zero = np.repeat(a, 1000)\n",
    "one = np.repeat(b, 1000)\n",
    "two = np.repeat(c, 1000)\n",
    "\n",
    "\n",
    "consumption = np.append(zero, np.append(one, two))\n",
    "\n",
    "i = 0\n",
    "j = 1\n",
    "\n",
    "mal_zero = np.append(np.repeat(i, 1000-48), np.repeat(j, 48))\n",
    "mal_one = np.append(np.repeat(i, 1000-38), np.repeat(j, 38))\n",
    "mal_two = np.append(np.repeat(i, 1000-5), np.repeat(j, 5))\n",
    "\n",
    "\n",
    "\n",
    "malformation = np.append(mal_zero, np.append(mal_one, mal_two))\n",
    "\n",
    "(r, p) = stats.pearsonr(malformation, consumption)\n",
    "\n",
    "(rho, p_2) = stats.spearmanr(malformation, consumption)\n",
    "\n",
    "M2 = r**2 * (len(consumption)-1)\n",
    "\n",
    "pval = scipy.stats.chi2.pdf(M2, df = 1)\n",
    "\n",
    "pval2 = scipy.stats.chi2.pdf(rho**2 *(len(consumption)-1),  df = 1)\n",
    "\n",
    "\n",
    "print(f\"With these values for the categories, the M-square from Pearson's r is {np.round(M2, 3)}, which has a p-value of {np.round(pval, 4)}.\")\n",
    "print(f\"This comes from a Pearson r of {r}\")\n",
    "\n",
    "print(f\"With these values for the categories, the M-square from Spearman's rho is {np.round(rho**2 *(len(consumption)-1), 3)}, which has a p-value of {np.round(pval2, 4)}.\")\n",
    "print(f\"This comes from a rho of {rho}\")"
   ]
  },
  {
   "cell_type": "code",
   "execution_count": 82,
   "id": "c4a3a8e9",
   "metadata": {},
   "outputs": [
    {
     "name": "stdout",
     "output_type": "stream",
     "text": [
      "With these values for the categories, the M-square from Pearson's r is 31.558, which has a p-value of 0.0.\n",
      "This comes from a Pearson r of -0.10258163601545953\n",
      "With these values for the categories, the M-square from Spearman's rho is 31.421, which has a p-value of 0.0.\n",
      "This comes from a rho of -0.10235793797162661\n"
     ]
    }
   ],
   "source": [
    "a = (17114+1)/2\n",
    "b = (17114*2 + 14502)/2\n",
    "c = (17114*3+14502*2+793)/2\n",
    "\n",
    "\n",
    "zero = np.repeat(a, 1000)\n",
    "one = np.repeat(b, 1000)\n",
    "two = np.repeat(c, 1000)\n",
    "\n",
    "\n",
    "consumption = np.append(zero, np.append(one, two))\n",
    "\n",
    "i = 0\n",
    "j = 2\n",
    "\n",
    "mal_zero = np.append(np.repeat(i, 1000-48), np.repeat(j, 48))\n",
    "mal_one = np.append(np.repeat(i, 1000-38), np.repeat(j, 38))\n",
    "mal_two = np.append(np.repeat(i, 1000-5), np.repeat(j, 5))\n",
    "\n",
    "\n",
    "\n",
    "malformation = np.append(mal_zero, np.append(mal_one, mal_two))\n",
    "\n",
    "(r, p) = stats.pearsonr(malformation, consumption)\n",
    "\n",
    "(rho, p_2) = stats.spearmanr(malformation, consumption)\n",
    "\n",
    "M2 = r**2 * (len(consumption)-1)\n",
    "\n",
    "pval = scipy.stats.chi2.pdf(M2, df = 1)\n",
    "\n",
    "pval2 = scipy.stats.chi2.pdf(rho**2 *(len(consumption)-1),  df = 1)\n",
    "\n",
    "\n",
    "print(f\"With these values for the categories, the M-square from Pearson's r is {np.round(M2, 3)}, which has a p-value of {np.round(pval, 4)}.\")\n",
    "print(f\"This comes from a Pearson r of {r}\")\n",
    "\n",
    "print(f\"With these values for the categories, the M-square from Spearman's rho is {np.round(rho**2 *(len(consumption)-1), 3)}, which has a p-value of {np.round(pval2, 4)}.\")\n",
    "print(f\"This comes from a rho of {rho}\")"
   ]
  },
  {
   "cell_type": "markdown",
   "id": "495cefb5",
   "metadata": {},
   "source": [
    "# Response labels?\n",
    "\n",
    "What about the numbers used to define the responses?  Do they matter?  Maybe.  When the response is binary, the labels can change without changing $M^2$. In the code above, I left it easy to change the values of the labels on the response, those were `i` and `j` in the code.  Change them and you'll see that $M^2$ does not change.   \n",
    "\n",
    "\n",
    "When the response has 3 or more ordered levels, the labels matter in much the same way they did with the predictor.  \n",
    "\n",
    "\n",
    "Speaking of this, $M^2$ is like $\\chi^2$ in that it does not care which variable is the response and which is the predictor.  Recall, $r$ doesn't care about that either.  \n",
    "\n",
    "\n",
    "# M and directions\n",
    "\n",
    "\n",
    "\n",
    "So, if the statistic for the $M^2$ test is $M^2$ what is $M$?  \n",
    "\n",
    "Take the square root of $M^2$ or let $M = r \\sqrt{n-1}$, then $M$ follows the standard normal distribution, and can accept a directed alternative hypothesis.  \n",
    "\n",
    "Let $\\rho$ represent the correlation, then \n",
    "\n",
    "$H_o: \\rho = 0$\n",
    "\n",
    "$H_a: \\rho > 0$\n",
    "\n",
    "If you're going to use the undirected alternative, $H_a: \\rho \\not= 0$, then use the $M^2$ test instead. \n",
    "\n",
    "\n",
    "If we go back to the example where we used the interval midpoints for the interval labels, we see that $M = 2.563$ and the p-value associated with that is $p = 0.0052$.  Using these, we could conclude that not only is there a relationship between malformed babies and mother alcohol consumption, but the relationship is that likelihood of a malformation increases as the mothers consumption increases.  \n",
    "\n",
    "\n"
   ]
  },
  {
   "cell_type": "code",
   "execution_count": 83,
   "id": "9c711729",
   "metadata": {},
   "outputs": [
    {
     "data": {
      "text/plain": [
       "2.5631879068826491"
      ]
     },
     "execution_count": 83,
     "metadata": {},
     "output_type": "execute_result"
    }
   ],
   "source": [
    "M = save_for_later\n",
    "\n",
    "M"
   ]
  },
  {
   "cell_type": "code",
   "execution_count": 86,
   "id": "b48b695b",
   "metadata": {},
   "outputs": [
    {
     "data": {
      "text/plain": [
       "0.0052336081635557807"
      ]
     },
     "execution_count": 86,
     "metadata": {},
     "output_type": "execute_result"
    }
   ],
   "source": [
    "1-stats.norm.cdf(2.56)"
   ]
  }
 ],
 "metadata": {
  "kernelspec": {
   "display_name": "Python 3 (ipykernel)",
   "language": "python",
   "name": "python3"
  },
  "language_info": {
   "codemirror_mode": {
    "name": "ipython",
    "version": 3
   },
   "file_extension": ".py",
   "mimetype": "text/x-python",
   "name": "python",
   "nbconvert_exporter": "python",
   "pygments_lexer": "ipython3",
   "version": "3.9.13"
  }
 },
 "nbformat": 4,
 "nbformat_minor": 5
}
