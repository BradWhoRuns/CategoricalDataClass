{
 "cells": [
  {
   "cell_type": "markdown",
   "id": "c21ed8c3",
   "metadata": {},
   "source": [
    "# HW 5 Ordinal Data Tests\n"
   ]
  },
  {
   "cell_type": "code",
   "execution_count": null,
   "id": "1ed4dfb2",
   "metadata": {},
   "outputs": [],
   "source": [
    "# Don't change this cell; just run it.\n",
    "# When you log-in please hit return (not shift + return) after typing in your email\n",
    "import numpy as np\n",
    "from datascience import *\n",
    "\n",
    "import scipy.stats as stats\n",
    "import scipy\n",
    "\n",
    "# These lines do some fancy plotting magic.\\n\",\n",
    "import matplotlib\n",
    "%matplotlib inline\n",
    "import matplotlib.pyplot as plots\n",
    "plots.style.use('fivethirtyeight')\n"
   ]
  },
  {
   "cell_type": "markdown",
   "id": "c6a9ea88",
   "metadata": {},
   "source": [
    "## Spearman's Rho and Smoking\n",
    "\n",
    "For this one particular homework, we will use an $\\alpha$ of 0.1.  That is, we'll use a 10% level of significance for this assignment.  We're going to use this interesting [history of smoking](https://www.kaggle.com/datasets/mitul1999/100-years-of-smoking-global-trends-1924-2023) dataset found on Kaggle.  \n"
   ]
  },
  {
   "cell_type": "markdown",
   "id": "e36cf110",
   "metadata": {},
   "source": [
    "**Question 1.1** Use `Table.read_table` to read in *world_smoking_history_1924_2023.csv* and call it smoking.  "
   ]
  },
  {
   "cell_type": "code",
   "execution_count": null,
   "id": "e1504338",
   "metadata": {
    "scrolled": true
   },
   "outputs": [],
   "source": [
    "smoking = ...\n",
    "\n",
    "smoking"
   ]
  },
  {
   "cell_type": "markdown",
   "id": "6a83c753",
   "metadata": {},
   "source": [
    "**Question 1.2** Create a scatterplot with *Year* on the x-axis and *Average_Cigarettes_Per_Day* on the y-axis.  "
   ]
  },
  {
   "cell_type": "code",
   "execution_count": null,
   "id": "94cc0bf4",
   "metadata": {
    "scrolled": true
   },
   "outputs": [],
   "source": [
    "..."
   ]
  },
  {
   "cell_type": "markdown",
   "id": "6de6862e",
   "metadata": {},
   "source": [
    "**Question 1.3** Compute the Spearman's $\\rho$ (rho) between *Year* and *Average_Cigarettes_Per_Day*."
   ]
  },
  {
   "cell_type": "code",
   "execution_count": null,
   "id": "f4e3bf60",
   "metadata": {},
   "outputs": [],
   "source": [
    "..."
   ]
  },
  {
   "cell_type": "markdown",
   "id": "cb088ef8",
   "metadata": {},
   "source": [
    "**Question 1.4** Using an $\\alpha = 0.10$, what conclusion do you draw from this analysis?"
   ]
  },
  {
   "cell_type": "markdown",
   "id": "415cf3b1",
   "metadata": {},
   "source": [
    "*Put your answer here.*"
   ]
  },
  {
   "cell_type": "markdown",
   "id": "0e407374",
   "metadata": {},
   "source": [
    "**Question 1.5** Create a scatterplot with *Year* on the x-axis and *Average_Cigarettes_Per_Day* on the y-axis but include group = \"Country\""
   ]
  },
  {
   "cell_type": "code",
   "execution_count": null,
   "id": "e6d430c1",
   "metadata": {},
   "outputs": [],
   "source": [
    "..."
   ]
  },
  {
   "cell_type": "markdown",
   "id": "4478f296",
   "metadata": {},
   "source": [
    "### Whoa!\n",
    "\n",
    "That's a lot of countries, from around the world.  Is it possible that government regulations, propoganda, culture and other factors makes a difference?  And that lumping together countries on five different continents may not be appropriate?\n",
    "\n",
    "**Question 1.5**  Should we consider pulling out specific countries and analyzing them separately?"
   ]
  },
  {
   "cell_type": "markdown",
   "id": "14c0fa39",
   "metadata": {},
   "source": [
    "*Put your answer to 1.5 here*"
   ]
  },
  {
   "cell_type": "markdown",
   "id": "8477fe8f",
   "metadata": {},
   "source": [
    "## Section 2: France\n",
    "\n",
    "**Question 2.1** Create a data set from the `smoking` data called `france` that contains only the data from the country of France.  "
   ]
  },
  {
   "cell_type": "code",
   "execution_count": null,
   "id": "a83cf1db",
   "metadata": {},
   "outputs": [],
   "source": [
    "france = ...\n",
    "\n",
    "france"
   ]
  },
  {
   "cell_type": "markdown",
   "id": "c445bda5",
   "metadata": {},
   "source": [
    "**Question 2.2** Create the same scatterplot as in **1.2** but for only the country of France. "
   ]
  },
  {
   "cell_type": "code",
   "execution_count": null,
   "id": "2dde54bb",
   "metadata": {},
   "outputs": [],
   "source": [
    "..."
   ]
  },
  {
   "cell_type": "markdown",
   "id": "f51ba6d7",
   "metadata": {},
   "source": [
    "**Question 2.3** Compute the Spearman's $\\rho$ (rho) between *Year* and *Average_Cigarettes_Per_Day* but just for France."
   ]
  },
  {
   "cell_type": "code",
   "execution_count": null,
   "id": "9f95df4e",
   "metadata": {},
   "outputs": [],
   "source": [
    "..."
   ]
  },
  {
   "cell_type": "markdown",
   "id": "4eb8d9af",
   "metadata": {},
   "source": [
    "Recall that we can use `scipy.stats.pearsonr` to calculate the Pearson correlation coefficient, called $r$.  Then, \n",
    "\n",
    "$M^2 = (n-1)r^2$\n",
    "\n",
    "**Question 2.4**  Compute the $M^2$ for the relationship between *Year* and *Average_Cigarettes_Per_Day* without modifying the *Year* or *Average_Cigarettes_Per_Day variables*.  "
   ]
  },
  {
   "cell_type": "code",
   "execution_count": null,
   "id": "4ce919ac",
   "metadata": {},
   "outputs": [],
   "source": [
    "M2 = ...\n",
    "\n",
    "M2"
   ]
  },
  {
   "cell_type": "markdown",
   "id": "1a88d6a2",
   "metadata": {},
   "source": [
    "Recall that an $M^2$ statistic follows a $\\chi^2$ distribution with 1 degree of freedom.  \n",
    "\n",
    "**Question 2.5**  Use this fact to compute the $p$-value for the $M^2$-test.  "
   ]
  },
  {
   "cell_type": "code",
   "execution_count": null,
   "id": "7bcfe84f",
   "metadata": {},
   "outputs": [],
   "source": [
    "..."
   ]
  },
  {
   "cell_type": "markdown",
   "id": "aea5d0cd",
   "metadata": {},
   "source": [
    "**Question 2.6** Using a 10% level of significance, what conclusion do you draw here?"
   ]
  },
  {
   "cell_type": "markdown",
   "id": "ea7f8299",
   "metadata": {},
   "source": [
    "*Write your conclusions here.*"
   ]
  },
  {
   "cell_type": "markdown",
   "id": "9c258f95",
   "metadata": {},
   "source": [
    "## Section 3: Australia\n",
    "\n",
    "Did smoking actually increase in Australia over the same time period that it decreased in France?\n",
    "\n",
    "**Question 3.1** Create an australia data set that contains only the data for Australia.\n",
    "\n",
    "**Question 3.2** Make a scatterplot showing *Year* and *Average_Cigarettes_Per_Day*.\n",
    "\n",
    "**Question 3.3** Compute the $M^2$ statistic.\n",
    "\n",
    "**Question 3.4** Compute the $p$-value.\n",
    "\n",
    "**Question 3.5** Answer the original question.  Did smoking increase in Australia during this time period?"
   ]
  },
  {
   "cell_type": "code",
   "execution_count": null,
   "id": "f9c9e5e6",
   "metadata": {},
   "outputs": [],
   "source": [
    "# 3.1 here #"
   ]
  },
  {
   "cell_type": "code",
   "execution_count": null,
   "id": "4128765f",
   "metadata": {},
   "outputs": [],
   "source": [
    "# 3.2 here #"
   ]
  },
  {
   "cell_type": "code",
   "execution_count": null,
   "id": "0d0b3dca",
   "metadata": {},
   "outputs": [],
   "source": [
    "# 3.3 here #"
   ]
  },
  {
   "cell_type": "code",
   "execution_count": null,
   "id": "e651d34c",
   "metadata": {},
   "outputs": [],
   "source": [
    "# 3.4 here #"
   ]
  },
  {
   "cell_type": "markdown",
   "id": "ce5775d3",
   "metadata": {},
   "source": [
    "*Answer 3.5 here*"
   ]
  },
  {
   "cell_type": "markdown",
   "id": "dcf589f3",
   "metadata": {},
   "source": [
    "## Congratulations.  \n",
    "\n",
    "You're done with HW 5.  Download the HTML version and submit it on D2L to the appropriate folder. "
   ]
  },
  {
   "cell_type": "code",
   "execution_count": null,
   "id": "50b508a3",
   "metadata": {},
   "outputs": [],
   "source": []
  }
 ],
 "metadata": {
  "kernelspec": {
   "display_name": "Python 3 (ipykernel)",
   "language": "python",
   "name": "python3"
  },
  "language_info": {
   "codemirror_mode": {
    "name": "ipython",
    "version": 3
   },
   "file_extension": ".py",
   "mimetype": "text/x-python",
   "name": "python",
   "nbconvert_exporter": "python",
   "pygments_lexer": "ipython3",
   "version": "3.9.13"
  }
 },
 "nbformat": 4,
 "nbformat_minor": 5
}
